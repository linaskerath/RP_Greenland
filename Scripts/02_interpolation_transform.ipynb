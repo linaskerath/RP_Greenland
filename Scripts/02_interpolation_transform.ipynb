{
 "cells": [
  {
   "cell_type": "markdown",
   "metadata": {},
   "source": [
    "# Interpolation transform"
   ]
  },
  {
   "cell_type": "markdown",
   "metadata": {},
   "source": [
    "**Purpose of script:**\n",
    "\n",
    "Interpolate the microwave data (Data/microwave-rs/mw-tif) to match the resoltion of the optical dataset using the xarray.interp() method\n",
    "\n",
    "- In: \n",
    "    - mw-tif data \n",
    "    - opt data (for resolution reference)\n",
    "- Out: mw data upscaled (tif) \n"
   ]
  },
  {
   "cell_type": "code",
   "execution_count": 1,
   "metadata": {},
   "outputs": [],
   "source": [
    "import matplotlib.pyplot as plt\n",
    "import numpy as np\n",
    "import xarray\n",
    "\n",
    "from os import listdir\n",
    "from os.path import isfile, join"
   ]
  },
  {
   "cell_type": "markdown",
   "metadata": {},
   "source": [
    "Relevant paths"
   ]
  },
  {
   "cell_type": "code",
   "execution_count": 2,
   "metadata": {},
   "outputs": [],
   "source": [
    "mw_path = r\"../Data/microwave-rs/mw-tif/\"\n",
    "opt_path = r\"../Data/optical-rs/2019-07-01_grain_diameter.tif\"\n",
    "mw_interpolated_out =  r\"../Data/microwave-rs/mw_interpolated/\""
   ]
  },
  {
   "cell_type": "markdown",
   "metadata": {},
   "source": [
    "## Data Preparation"
   ]
  },
  {
   "cell_type": "markdown",
   "metadata": {},
   "source": [
    "Data load"
   ]
  },
  {
   "cell_type": "code",
   "execution_count": 3,
   "metadata": {},
   "outputs": [],
   "source": [
    "# load one opt file for shape reference:\n",
    "data_opt = xarray.open_dataarray(opt_path)"
   ]
  },
  {
   "cell_type": "code",
   "execution_count": 4,
   "metadata": {},
   "outputs": [],
   "source": [
    "# list all mw tif files:\n",
    "mw_files = [f for f in listdir(mw_path) if isfile(join(mw_path, f))]"
   ]
  },
  {
   "cell_type": "markdown",
   "metadata": {},
   "source": [
    "## Interpolation"
   ]
  },
  {
   "cell_type": "markdown",
   "metadata": {},
   "source": [
    "Define new size"
   ]
  },
  {
   "cell_type": "code",
   "execution_count": 5,
   "metadata": {},
   "outputs": [],
   "source": [
    "x_new = data_opt['x']\n",
    "y_new = data_opt['y']"
   ]
  },
  {
   "cell_type": "markdown",
   "metadata": {},
   "source": [
    "Main"
   ]
  },
  {
   "cell_type": "code",
   "execution_count": 6,
   "metadata": {},
   "outputs": [],
   "source": [
    "for file in mw_files:\n",
    "    # Open:\n",
    "    mw_file =xarray.open_dataarray(mw_path + file)\n",
    "    # Interpolate:\n",
    "    mw_interpolated = mw_file.interp(x=x_new, y=y_new, method=\"nearest\")\n",
    "    # Drop nan border:\n",
    "    mw_interpolated_cut = mw_interpolated[0][:-24, :-25] # detemined by examination\n",
    "    # np.isnan(mw_interpolated_cut).sum() # print error if na not 0?\n",
    "    # Write:\n",
    "    mw_interpolated_cut.rio.to_raster(mw_interpolated_out + file)"
   ]
  },
  {
   "cell_type": "code",
   "execution_count": null,
   "metadata": {},
   "outputs": [],
   "source": []
  }
 ],
 "metadata": {
  "kernelspec": {
   "display_name": "Python 3.9.14 ('.venv': poetry)",
   "language": "python",
   "name": "python3"
  },
  "language_info": {
   "codemirror_mode": {
    "name": "ipython",
    "version": 3
   },
   "file_extension": ".py",
   "mimetype": "text/x-python",
   "name": "python",
   "nbconvert_exporter": "python",
   "pygments_lexer": "ipython3",
   "version": "3.9.14"
  },
  "orig_nbformat": 4,
  "vscode": {
   "interpreter": {
    "hash": "c1c6eaedbd5b3fcd114378d998a879d4f50715202363f6507059361ed549ecef"
   }
  }
 },
 "nbformat": 4,
 "nbformat_minor": 2
}
