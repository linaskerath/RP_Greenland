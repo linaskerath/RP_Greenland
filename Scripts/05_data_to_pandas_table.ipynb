{
 "cells": [
  {
   "cell_type": "markdown",
   "metadata": {},
   "source": [
    "# Data to Pandas table"
   ]
  },
  {
   "cell_type": "markdown",
   "metadata": {},
   "source": [
    "**Purpose of script:**\n",
    "\n",
    "Put mw and opt data to one pandas dataframe, create features. One row per pixel.\n",
    "\n",
    "- In: opt and mw data, all files\n",
    "- Out: one file (maybe several due to size constraints) (csv or parquet) with table of features prepared to be used in model"
   ]
  },
  {
   "cell_type": "markdown",
   "metadata": {},
   "source": [
    "## Data Load"
   ]
  },
  {
   "cell_type": "code",
   "execution_count": 2,
   "metadata": {},
   "outputs": [],
   "source": [
    "# import rioxarray\n",
    "import xarray\n",
    "# import rasterio\n",
    "\n",
    "# from os import listdir\n",
    "# from os.path import isfile, join\n",
    "\n",
    "import pandas as pd\n",
    "from datetime import datetime\n",
    "import numpy as np\n",
    "from tqdm import tqdm"
   ]
  },
  {
   "cell_type": "markdown",
   "metadata": {},
   "source": [
    "Relevant paths:"
   ]
  },
  {
   "cell_type": "code",
   "execution_count": 3,
   "metadata": {},
   "outputs": [],
   "source": [
    "mw_path = r\"../Data/microwave-rs/mw_interpolated/2019-07-01_mw.tif\"\n",
    "opt_path = r\"../Data/optical-rs/2019-07-01_grain_diameter.tif\""
   ]
  },
  {
   "cell_type": "code",
   "execution_count": 4,
   "metadata": {},
   "outputs": [],
   "source": [
    "out_path = r\"../Data/combined/\""
   ]
  },
  {
   "cell_type": "markdown",
   "metadata": {},
   "source": [
    "Load data:"
   ]
  },
  {
   "cell_type": "code",
   "execution_count": 5,
   "metadata": {},
   "outputs": [],
   "source": [
    "# load all files\n",
    "# put to one xarray?"
   ]
  },
  {
   "cell_type": "code",
   "execution_count": 6,
   "metadata": {},
   "outputs": [],
   "source": [
    "#TEMP Data load:\n",
    "data_opt = xarray.open_dataarray(opt_path)\n",
    "data_mw = xarray.open_dataarray(mw_path)"
   ]
  },
  {
   "cell_type": "markdown",
   "metadata": {},
   "source": [
    "## To Pandas"
   ]
  },
  {
   "cell_type": "code",
   "execution_count": 7,
   "metadata": {},
   "outputs": [],
   "source": [
    "# put all in for loop"
   ]
  },
  {
   "cell_type": "markdown",
   "metadata": {},
   "source": [
    "### Array to Pandas Dataframe"
   ]
  },
  {
   "cell_type": "code",
   "execution_count": 8,
   "metadata": {},
   "outputs": [],
   "source": [
    "# convert mw to pandas\n",
    "df_mw = data_mw.to_dataframe()\n",
    "df_opt = data_opt.to_dataframe()\n",
    "# fix index\n",
    "df_mw = df_mw.reset_index()\n",
    "# remove columns: spacial_ref, band\n",
    "df_mw = df_mw[['x', 'y', 'band_data']]\n",
    "# rename\n",
    "df_mw.rename({'band_data': 'mw_value'}, axis=1, inplace=True)\n",
    "# ----------------------\n",
    "# convert opt to pandas\n",
    "df_opt = data_opt.to_dataframe()\n",
    "# fix index\n",
    "df_opt = df_opt.reset_index()\n",
    "# remove columns: spacial_ref, band\n",
    "df_opt = df_opt[['x', 'y', 'band_data']]\n",
    "# rename\n",
    "df_opt.rename({'band_data': 'opt_value'}, axis=1, inplace=True)\n",
    "# fill na for masked opt data\n",
    "df_opt['opt_value'].fillna(-1, inplace=True)"
   ]
  },
  {
   "cell_type": "markdown",
   "metadata": {},
   "source": [
    "*Baptiste's :*\n",
    "- open_mfdataset() \n",
    "- concat dim time (to put to ine file?)"
   ]
  },
  {
   "cell_type": "markdown",
   "metadata": {},
   "source": [
    "### Neighbor features dataframe"
   ]
  },
  {
   "cell_type": "code",
   "execution_count": 9,
   "metadata": {},
   "outputs": [],
   "source": [
    "def get_neighbors(mat, a, b):\n",
    "    neighbors = [mat[i][j] if (i > -1 and j > -1 and j < len(mat[0]) and i < len(mat)) else np.nan for i in range(a-1, a+2) for j in range(b-1, b+2) ]\n",
    "    return neighbors"
   ]
  },
  {
   "cell_type": "code",
   "execution_count": 10,
   "metadata": {},
   "outputs": [
    {
     "name": "stderr",
     "output_type": "stream",
     "text": [
      "100%|██████████| 3893306/3893306 [00:34<00:00, 111451.67it/s]\n"
     ]
    }
   ],
   "source": [
    "index_list = [(i,j) for i in range(data_mw.shape[1]) for j in range(data_mw.shape[2])]\n",
    "value_list = []\n",
    "data = data_mw.values[0]\n",
    "\n",
    "for i in tqdm(index_list):\n",
    "    neighbor = get_neighbors(data, *i)\n",
    "    neighbor += [i[0], i[1]]\n",
    "    value_list.append(neighbor)"
   ]
  },
  {
   "cell_type": "code",
   "execution_count": 11,
   "metadata": {},
   "outputs": [],
   "source": [
    "df_neighbors = pd.DataFrame(value_list, columns = ['v1', 'v2', 'v3','v4', 'v5', 'v6','v7', 'v8', 'v9', 'row', 'col'])"
   ]
  },
  {
   "cell_type": "markdown",
   "metadata": {},
   "source": [
    "### Merge dataframes"
   ]
  },
  {
   "cell_type": "code",
   "execution_count": 12,
   "metadata": {},
   "outputs": [],
   "source": [
    "df_combined = pd.merge(df_mw, df_opt, how = 'left', on = ['y', 'x']) # left smaller mw, right - opt"
   ]
  },
  {
   "cell_type": "markdown",
   "metadata": {},
   "source": [
    "Add row and col features"
   ]
  },
  {
   "cell_type": "code",
   "execution_count": 13,
   "metadata": {},
   "outputs": [],
   "source": [
    "df_combined['col'] = df_combined.groupby(\"x\").ngroup() # xshape 2663 \n",
    "df_combined['row'] = df_combined.groupby(\"y\").ngroup(ascending=False) # yshape 1462"
   ]
  },
  {
   "cell_type": "code",
   "execution_count": 14,
   "metadata": {},
   "outputs": [],
   "source": [
    "df_comb = pd.merge(df_combined, df_neighbors, how = 'left', on = ['row', 'col'])\n"
   ]
  },
  {
   "cell_type": "markdown",
   "metadata": {},
   "source": [
    "Remove water in mw\n"
   ]
  },
  {
   "cell_type": "code",
   "execution_count": 15,
   "metadata": {},
   "outputs": [],
   "source": [
    "df_comb = df_comb.loc[df_comb['mw_value'] != -1]\n",
    "# suppress warning?"
   ]
  },
  {
   "cell_type": "markdown",
   "metadata": {},
   "source": [
    "Save masked data to separate df"
   ]
  },
  {
   "cell_type": "code",
   "execution_count": 16,
   "metadata": {},
   "outputs": [],
   "source": [
    "df_comb = df_comb.loc[df_comb['opt_value'] != -1]\n",
    "\n",
    "df_masked = df_comb.loc[df_comb['opt_value'] == -1]"
   ]
  },
  {
   "cell_type": "markdown",
   "metadata": {},
   "source": [
    "### Write to csv/parquet:"
   ]
  },
  {
   "cell_type": "code",
   "execution_count": 18,
   "metadata": {},
   "outputs": [],
   "source": [
    "# write to csv\n",
    "#df_comb.to_csv(out_path + 'melt_2019-07-01.csv', index= False)\n",
    "df_comb.to_parquet(out_path + 'melt_2019-07-01.parquet.gzip', index= False)"
   ]
  },
  {
   "cell_type": "code",
   "execution_count": null,
   "metadata": {},
   "outputs": [],
   "source": []
  }
 ],
 "metadata": {
  "kernelspec": {
   "display_name": "Python 3.9.14 ('.venv': poetry)",
   "language": "python",
   "name": "python3"
  },
  "language_info": {
   "codemirror_mode": {
    "name": "ipython",
    "version": 3
   },
   "file_extension": ".py",
   "mimetype": "text/x-python",
   "name": "python",
   "nbconvert_exporter": "python",
   "pygments_lexer": "ipython3",
   "version": "3.9.14"
  },
  "orig_nbformat": 4,
  "vscode": {
   "interpreter": {
    "hash": "c1c6eaedbd5b3fcd114378d998a879d4f50715202363f6507059361ed549ecef"
   }
  }
 },
 "nbformat": 4,
 "nbformat_minor": 2
}
