{
 "cells": [
  {
   "cell_type": "markdown",
   "metadata": {},
   "source": [
    "# Data to Pandas table"
   ]
  },
  {
   "cell_type": "markdown",
   "metadata": {},
   "source": [
    "**Purpose of script:**\n",
    "\n",
    "Put mw and opt data to one pandas dataframe, create features. One row per pixel.\n",
    "\n",
    "- In: opt and mw data, all files\n",
    "- Out: one file (maybe several due to size constraints) (csv or parquet) with table of features prepared to be used in model"
   ]
  },
  {
   "cell_type": "code",
   "execution_count": 2,
   "metadata": {},
   "outputs": [],
   "source": [
    "#import matplotlib.pyplot as plt\n",
    "#import numpy as np\n",
    "\n",
    "# import rioxarray\n",
    "import xarray\n",
    "# import rasterio\n",
    "# import gdal\n",
    "\n",
    "# from os import listdir\n",
    "# from os.path import isfile, join\n",
    "\n",
    "#%matplotlib inline\n",
    "\n",
    "import pandas as pd\n",
    "from datetime import datetime"
   ]
  },
  {
   "cell_type": "markdown",
   "metadata": {},
   "source": [
    "Relevant paths:"
   ]
  },
  {
   "cell_type": "code",
   "execution_count": 3,
   "metadata": {},
   "outputs": [],
   "source": [
    "mw_path = r\"../Data/microwave-rs/mw_interpolated/2019-07-01_mw.tif\"\n",
    "opt_path = r\"../Data/optical-rs/2019-07-01_grain_diameter.tif\""
   ]
  },
  {
   "cell_type": "code",
   "execution_count": 4,
   "metadata": {},
   "outputs": [],
   "source": [
    "out_path = r\"../Data/combined/\""
   ]
  },
  {
   "cell_type": "markdown",
   "metadata": {},
   "source": [
    "Load data:"
   ]
  },
  {
   "cell_type": "code",
   "execution_count": 5,
   "metadata": {},
   "outputs": [],
   "source": [
    "# load all files\n",
    "# put to one xarray?"
   ]
  },
  {
   "cell_type": "code",
   "execution_count": 6,
   "metadata": {},
   "outputs": [],
   "source": [
    "#TEMP Data load:\n",
    "data_opt = xarray.open_dataarray(opt_path)\n",
    "data_mw = xarray.open_dataarray(mw_path)"
   ]
  },
  {
   "cell_type": "markdown",
   "metadata": {},
   "source": [
    "To pandas dataframe:"
   ]
  },
  {
   "cell_type": "code",
   "execution_count": 7,
   "metadata": {},
   "outputs": [],
   "source": [
    "# for loop"
   ]
  },
  {
   "cell_type": "code",
   "execution_count": 8,
   "metadata": {},
   "outputs": [],
   "source": [
    "# convert mw to pandas\n",
    "df_mw = data_mw.to_dataframe()\n",
    "df_opt = data_opt.to_dataframe()\n",
    "# fix index\n",
    "df_mw = df_mw.reset_index()\n",
    "# remove columns: spacial_ref, band\n",
    "df_mw = df_mw[['x', 'y', 'band_data']]\n",
    "# rename\n",
    "df_mw.rename({'band_data': 'mw_value'}, axis=1, inplace=True)\n",
    "# ----------------------\n",
    "# convert opt to pandas\n",
    "df_opt = data_opt.to_dataframe()\n",
    "# fix index\n",
    "df_opt = df_opt.reset_index()\n",
    "# remove columns: spacial_ref, band\n",
    "df_opt = df_opt[['x', 'y', 'band_data']]\n",
    "# rename\n",
    "df_opt.rename({'band_data': 'opt_value'}, axis=1, inplace=True)\n",
    "# ----------------------\n",
    "# merge\n",
    "df_comb = pd.merge(df_mw, df_opt, how = 'left', on = ['y', 'x']) # left smaller mw, right - opt\n",
    "# fill na for masked opt data\n",
    "df_comb.opt_value.fillna(-1, inplace=True)"
   ]
  },
  {
   "cell_type": "code",
   "execution_count": 9,
   "metadata": {},
   "outputs": [],
   "source": [
    "# open_mfdataset() # baptiste "
   ]
  },
  {
   "cell_type": "code",
   "execution_count": 10,
   "metadata": {},
   "outputs": [],
   "source": [
    "# concat dim time (to put to ine file?)"
   ]
  },
  {
   "cell_type": "markdown",
   "metadata": {},
   "source": [
    "Write to csv/ parquet: (?)"
   ]
  },
  {
   "cell_type": "code",
   "execution_count": 12,
   "metadata": {},
   "outputs": [],
   "source": [
    "# write to csv\n",
    "#df_comb.to_csv(out_path + 'melt_2019-07-01.csv', index= False)\n",
    "df_comb.to_parquet(out_path + 'melt_2019-07-01.parquet.gzip', index= False)"
   ]
  },
  {
   "cell_type": "code",
   "execution_count": null,
   "metadata": {},
   "outputs": [],
   "source": []
  }
 ],
 "metadata": {
  "kernelspec": {
   "display_name": "Python 3.9.14 ('.venv': poetry)",
   "language": "python",
   "name": "python3"
  },
  "language_info": {
   "codemirror_mode": {
    "name": "ipython",
    "version": 3
   },
   "file_extension": ".py",
   "mimetype": "text/x-python",
   "name": "python",
   "nbconvert_exporter": "python",
   "pygments_lexer": "ipython3",
   "version": "3.9.14"
  },
  "orig_nbformat": 4,
  "vscode": {
   "interpreter": {
    "hash": "c1c6eaedbd5b3fcd114378d998a879d4f50715202363f6507059361ed549ecef"
   }
  }
 },
 "nbformat": 4,
 "nbformat_minor": 2
}
