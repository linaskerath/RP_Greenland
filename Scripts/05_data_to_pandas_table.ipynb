{
 "cells": [
  {
   "cell_type": "markdown",
   "metadata": {},
   "source": [
    "# Data to Pandas table"
   ]
  },
  {
   "cell_type": "markdown",
   "metadata": {},
   "source": [
    "**Purpose of script:**\n",
    "\n",
    "Put mw and opt data to one pandas dataframe, create features. One row per pixel.\n",
    "\n",
    "- In: opt and mw data, all files\n",
    "- Out: one file (maybe several due to size constraints) (csv or parquet) with table of features prepared to be used in model"
   ]
  },
  {
   "cell_type": "code",
   "execution_count": 1,
   "metadata": {},
   "outputs": [],
   "source": [
    "# import rioxarray\n",
    "import xarray\n",
    "# import rasterio\n",
    "\n",
    "# from os import listdir\n",
    "# from os.path import isfile, join\n",
    "\n",
    "import pandas as pd\n",
    "from datetime import datetime\n",
    "import numpy as np\n",
    "from tqdm import tqdm"
   ]
  },
  {
   "cell_type": "markdown",
   "metadata": {},
   "source": [
    "Relevant paths:"
   ]
  },
  {
   "cell_type": "code",
   "execution_count": 2,
   "metadata": {},
   "outputs": [],
   "source": [
    "mw_path = r\"../Data/microwave-rs/mw_interpolated/2019-07-01_mw.tif\"\n",
    "opt_path = r\"../Data/optical-rs/2019-07-01_grain_diameter.tif\""
   ]
  },
  {
   "cell_type": "code",
   "execution_count": 3,
   "metadata": {},
   "outputs": [],
   "source": [
    "out_path = r\"../Data/combined/\""
   ]
  },
  {
   "cell_type": "markdown",
   "metadata": {},
   "source": [
    "Load data:"
   ]
  },
  {
   "cell_type": "code",
   "execution_count": 4,
   "metadata": {},
   "outputs": [],
   "source": [
    "# load all files\n",
    "# put to one xarray?"
   ]
  },
  {
   "cell_type": "code",
   "execution_count": 5,
   "metadata": {},
   "outputs": [],
   "source": [
    "#TEMP Data load:\n",
    "data_opt = xarray.open_dataarray(opt_path)\n",
    "data_mw = xarray.open_dataarray(mw_path)"
   ]
  },
  {
   "cell_type": "markdown",
   "metadata": {},
   "source": [
    "To pandas dataframe:"
   ]
  },
  {
   "cell_type": "code",
   "execution_count": 6,
   "metadata": {},
   "outputs": [],
   "source": [
    "# for loop!\n",
    "\n",
    "# convert mw to pandas\n",
    "df_mw = data_mw.to_dataframe()\n",
    "df_opt = data_opt.to_dataframe()\n",
    "# fix index\n",
    "df_mw = df_mw.reset_index()\n",
    "# remove columns: spacial_ref, band\n",
    "df_mw = df_mw[['x', 'y', 'band_data']]\n",
    "# rename\n",
    "df_mw.rename({'band_data': 'mw_value'}, axis=1, inplace=True)\n",
    "# ----------------------\n",
    "# convert opt to pandas\n",
    "df_opt = data_opt.to_dataframe()\n",
    "# fix index\n",
    "df_opt = df_opt.reset_index()\n",
    "# remove columns: spacial_ref, band\n",
    "df_opt = df_opt[['x', 'y', 'band_data']]\n",
    "# rename\n",
    "df_opt.rename({'band_data': 'opt_value'}, axis=1, inplace=True)\n",
    "# ----------------------\n",
    "# merge\n",
    "df_comb = pd.merge(df_mw, df_opt, how = 'left', on = ['y', 'x']) # left smaller mw, right - opt\n",
    "# fill na for masked opt data\n",
    "df_comb.opt_value.fillna(-1, inplace=True)"
   ]
  },
  {
   "cell_type": "code",
   "execution_count": null,
   "metadata": {},
   "outputs": [],
   "source": [
    "# baptiste:\n",
    "# open_mfdataset() \n",
    "# concat dim time (to put to ine file?)"
   ]
  },
  {
   "cell_type": "markdown",
   "metadata": {},
   "source": [
    "Neighbor dataframe"
   ]
  },
  {
   "cell_type": "code",
   "execution_count": null,
   "metadata": {},
   "outputs": [],
   "source": [
    "def get_neighbors(mat, a, b):\n",
    "    neighbors = [mat[i][j] if (i > -1 and j > -1 and j < len(mat[0]) and i < len(mat)) else np.nan for i in range(a-1, a+2) for j in range(b-1, b+2) ]\n",
    "    return neighbors"
   ]
  },
  {
   "cell_type": "code",
   "execution_count": 8,
   "metadata": {},
   "outputs": [
    {
     "name": "stderr",
     "output_type": "stream",
     "text": [
      "  0%|          | 0/3995569 [00:00<?, ?it/s]\n"
     ]
    },
    {
     "ename": "NameError",
     "evalue": "name 'get_neighbors' is not defined",
     "output_type": "error",
     "traceback": [
      "\u001b[0;31m---------------------------------------------------------------------------\u001b[0m",
      "\u001b[0;31mNameError\u001b[0m                                 Traceback (most recent call last)",
      "Cell \u001b[0;32mIn [8], line 6\u001b[0m\n\u001b[1;32m      3\u001b[0m data \u001b[39m=\u001b[39m data_opt\u001b[39m.\u001b[39mvalues[\u001b[39m0\u001b[39m]\n\u001b[1;32m      5\u001b[0m \u001b[39mfor\u001b[39;00m i \u001b[39min\u001b[39;00m tqdm(index_list):\n\u001b[0;32m----> 6\u001b[0m     neighbor \u001b[39m=\u001b[39m get_neighbors(data, \u001b[39m*\u001b[39mi)\n\u001b[1;32m      7\u001b[0m     \u001b[39m#print([i[0], i[1]])\u001b[39;00m\n\u001b[1;32m      8\u001b[0m     neighbor \u001b[39m+\u001b[39m\u001b[39m=\u001b[39m [i[\u001b[39m0\u001b[39m], i[\u001b[39m1\u001b[39m]]\n",
      "\u001b[0;31mNameError\u001b[0m: name 'get_neighbors' is not defined"
     ]
    }
   ],
   "source": [
    "index_list = [(i,j) for i in range(data_opt.shape[1]) for j in range(data_opt.shape[2])]\n",
    "value_list = []\n",
    "data = data_opt.values[0]\n",
    "\n",
    "for i in tqdm(index_list):\n",
    "    neighbor = get_neighbors(data, *i)\n",
    "    #print([i[0], i[1]])\n",
    "    neighbor += [i[0], i[1]]\n",
    "    value_list.append(neighbor)"
   ]
  },
  {
   "cell_type": "code",
   "execution_count": null,
   "metadata": {},
   "outputs": [],
   "source": [
    "df_neighbors = pd.DataFrame(value_list, columns = ['v1', 'v2', 'v3','v4', 'v5', 'v6','v7', 'v8', 'v9', 'x', 'y'])"
   ]
  },
  {
   "cell_type": "markdown",
   "metadata": {},
   "source": [
    "Merge neighbors"
   ]
  },
  {
   "cell_type": "code",
   "execution_count": null,
   "metadata": {},
   "outputs": [
    {
     "ename": "",
     "evalue": "",
     "output_type": "error",
     "traceback": [
      "\u001b[1;31mCanceled future for execute_request message before replies were done"
     ]
    },
    {
     "ename": "",
     "evalue": "",
     "output_type": "error",
     "traceback": [
      "\u001b[1;31mThe Kernel crashed while executing code in the the current cell or a previous cell. Please review the code in the cell(s) to identify a possible cause of the failure. Click <a href='https://aka.ms/vscodeJupyterKernelCrash'>here</a> for more info. View Jupyter <a href='command:jupyter.viewOutput'>log</a> for further details."
     ]
    }
   ],
   "source": [
    "df_comb1 = pd.merge(df_comb, df_neighbors, how = 'left', on = ['y', 'x'])\n"
   ]
  },
  {
   "cell_type": "code",
   "execution_count": null,
   "metadata": {},
   "outputs": [],
   "source": [
    "df_comb1"
   ]
  },
  {
   "cell_type": "markdown",
   "metadata": {},
   "source": [
    "Write to csv/parquet:"
   ]
  },
  {
   "cell_type": "code",
   "execution_count": 12,
   "metadata": {},
   "outputs": [],
   "source": [
    "# write to csv\n",
    "#df_comb.to_csv(out_path + 'melt_2019-07-01.csv', index= False)\n",
    "df_comb.to_parquet(out_path + 'melt_2019-07-01.parquet.gzip', index= False)"
   ]
  }
 ],
 "metadata": {
  "kernelspec": {
   "display_name": "Python 3.9.14 ('.venv': poetry)",
   "language": "python",
   "name": "python3"
  },
  "language_info": {
   "codemirror_mode": {
    "name": "ipython",
    "version": 3
   },
   "file_extension": ".py",
   "mimetype": "text/x-python",
   "name": "python",
   "nbconvert_exporter": "python",
   "pygments_lexer": "ipython3",
   "version": "3.9.14"
  },
  "orig_nbformat": 4,
  "vscode": {
   "interpreter": {
    "hash": "c1c6eaedbd5b3fcd114378d998a879d4f50715202363f6507059361ed549ecef"
   }
  }
 },
 "nbformat": 4,
 "nbformat_minor": 2
}
