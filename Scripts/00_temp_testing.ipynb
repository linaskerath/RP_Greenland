{
 "cells": [
  {
   "cell_type": "code",
   "execution_count": 1,
   "metadata": {},
   "outputs": [],
   "source": [
    "from functions_training_pipeline import Model\n",
    "import functions_training_pipeline as f"
   ]
  },
  {
   "cell_type": "markdown",
   "metadata": {},
   "source": []
  },
  {
   "cell_type": "code",
   "execution_count": 2,
   "metadata": {},
   "outputs": [],
   "source": [
    "rf = f.load_object('RF_test_2023_04_17')"
   ]
  },
  {
   "cell_type": "code",
   "execution_count": 3,
   "metadata": {},
   "outputs": [
    {
     "name": "stdout",
     "output_type": "stream",
     "text": [
      "model = <class 'sklearn.ensemble._forest.RandomForestRegressor'>\n",
      "hyperparameters = [{'max_depth': 4, 'n_estimators': 10}, {'max_depth': 4, 'n_estimators': 20}, {'max_depth': 7, 'n_estimators': 10}, {'max_depth': 7, 'n_estimators': 20}]\n",
      "name = RF_test_2023_04_17\n",
      "date_tested = 2023-04-17\n",
      "columns = ['x', 'y', 'mw_value', 'col', 'row']\n",
      "dates = [numpy.datetime64('2017-08-01T00:00:00.000000000'), numpy.datetime64('2017-08-02T00:00:00.000000000'), numpy.datetime64('2017-08-03T00:00:00.000000000'), numpy.datetime64('2017-08-04T00:00:00.000000000'), numpy.datetime64('2017-08-05T00:00:00.000000000'), numpy.datetime64('2017-08-06T00:00:00.000000000')]\n",
      "best_hyperparameter_list = [{'max_depth': 4, 'n_estimators': 20}, {'max_depth': 4, 'n_estimators': 20}, {'max_depth': 4, 'n_estimators': 10}, {'max_depth': 4, 'n_estimators': 10}, {'max_depth': 7, 'n_estimators': 20}]\n",
      "feature_importance_list = [{'x': 0.1438303719158582, 'y': 0.3450341471584463, 'mw_value': 0.12571045277256684, 'col': 0.15500982147794903, 'row': 0.23041520667517953}, {'x': 0.10947090026490054, 'y': 0.44435147629792676, 'mw_value': 0.03971427012135552, 'col': 0.16822277080813128, 'row': 0.23824058250768596}, {'x': 0.13228393243520226, 'y': 0.30697316493340504, 'mw_value': 0.22437436383826162, 'col': 0.09012099218842788, 'row': 0.24624754660470327}, {'x': 0.1375660771889447, 'y': 0.31959211140850097, 'mw_value': 0.12047975857948143, 'col': 0.17956050256011982, 'row': 0.2428015502629531}, {'x': 0.1787747405874067, 'y': 0.21227748639479263, 'mw_value': 0.15167193949356642, 'col': 0.1691959156509823, 'row': 0.28807991787325204}]\n",
      "rmse_train = 0.7049612330103472\n",
      "rmse_std_train = 0.057279352613585036\n",
      "rmse_test = 1.4690923640209113\n",
      "rmse_std_test = 0.592755354690954\n",
      "r2_train = 0.29022790040839924\n",
      "r2_std_train = 0.03516719030513982\n",
      "r2_test = -0.8458902315379401\n",
      "r2_std_test = 1.095799553351939\n",
      "final_hyperparameters = {'max_depth': 4, 'n_estimators': 20}\n",
      "final_model = RandomForestRegressor(max_depth=4, n_estimators=20, random_state=0)\n",
      "final_feature_importance = {'x': 0.14552883147615678, 'y': 0.3574474854559582, 'mw_value': 0.13542957870137695, 'col': 0.12915097284544372, 'row': 0.23244313152106436}\n"
     ]
    }
   ],
   "source": [
    "rf.get_attributes()"
   ]
  },
  {
   "cell_type": "code",
   "execution_count": null,
   "metadata": {},
   "outputs": [],
   "source": []
  }
 ],
 "metadata": {
  "kernelspec": {
   "display_name": ".venv",
   "language": "python",
   "name": "python3"
  },
  "language_info": {
   "codemirror_mode": {
    "name": "ipython",
    "version": 3
   },
   "file_extension": ".py",
   "mimetype": "text/x-python",
   "name": "python",
   "nbconvert_exporter": "python",
   "pygments_lexer": "ipython3",
   "version": "3.9.14"
  },
  "orig_nbformat": 4
 },
 "nbformat": 4,
 "nbformat_minor": 2
}
