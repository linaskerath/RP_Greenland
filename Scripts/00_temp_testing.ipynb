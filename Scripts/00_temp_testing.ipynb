{
 "cells": [
  {
   "cell_type": "code",
   "execution_count": 1,
   "metadata": {},
   "outputs": [],
   "source": [
    "from functions_training_pipeline import Model\n",
    "import functions_training_pipeline as f\n",
    "\n",
    "import pandas as pd"
   ]
  },
  {
   "cell_type": "code",
   "execution_count": 7,
   "metadata": {},
   "outputs": [],
   "source": [
    "import matplotlib.pyplot as plt"
   ]
  },
  {
   "cell_type": "code",
   "execution_count": 2,
   "metadata": {},
   "outputs": [],
   "source": [
    "rf = f.load_object('RF_test_2023_04_17')\n",
    "dt = f.load_object('DT_test')"
   ]
  },
  {
   "cell_type": "code",
   "execution_count": 3,
   "metadata": {},
   "outputs": [],
   "source": [
    "def model_comparison_table(model_list):\n",
    "    \"\"\"\n",
    "    This function creates a table with the results of the models in the model_list.\n",
    "    \n",
    "    Args:\n",
    "        model_list (list): List of models to be compared.\n",
    "\n",
    "    Returns:\n",
    "        table (pd.DataFrame): Table with the results of the models in the model_list.\n",
    "    \"\"\"\n",
    "    table = pd.concat([i.get_results() for i in model_list])\n",
    "    set_index = table.pop('Set')\n",
    "    multiindex = [[model.name for model in model_list for _ in range(2)], \n",
    "                set_index]\n",
    "    table.index = multiindex\n",
    "    table.index.names = ['Model', 'Set']\n",
    "    return table\n"
   ]
  },
  {
   "cell_type": "code",
   "execution_count": 4,
   "metadata": {},
   "outputs": [
    {
     "data": {
      "text/html": [
       "<div>\n",
       "<style scoped>\n",
       "    .dataframe tbody tr th:only-of-type {\n",
       "        vertical-align: middle;\n",
       "    }\n",
       "\n",
       "    .dataframe tbody tr th {\n",
       "        vertical-align: top;\n",
       "    }\n",
       "\n",
       "    .dataframe thead th {\n",
       "        text-align: right;\n",
       "    }\n",
       "</style>\n",
       "<table border=\"1\" class=\"dataframe\">\n",
       "  <thead>\n",
       "    <tr style=\"text-align: right;\">\n",
       "      <th></th>\n",
       "      <th>Model</th>\n",
       "      <th>Set</th>\n",
       "      <th>RMSE</th>\n",
       "      <th>RMSE_std</th>\n",
       "      <th>R2</th>\n",
       "      <th>R2_std</th>\n",
       "    </tr>\n",
       "  </thead>\n",
       "  <tbody>\n",
       "    <tr>\n",
       "      <th>0</th>\n",
       "      <td>RF_test_2023_04_17</td>\n",
       "      <td>Train</td>\n",
       "      <td>0.704961</td>\n",
       "      <td>0.057279</td>\n",
       "      <td>0.290228</td>\n",
       "      <td>0.035167</td>\n",
       "    </tr>\n",
       "    <tr>\n",
       "      <th>1</th>\n",
       "      <td>RF_test_2023_04_17</td>\n",
       "      <td>Test</td>\n",
       "      <td>1.469092</td>\n",
       "      <td>0.592755</td>\n",
       "      <td>-0.845890</td>\n",
       "      <td>1.095800</td>\n",
       "    </tr>\n",
       "    <tr>\n",
       "      <th>2</th>\n",
       "      <td>DT_test</td>\n",
       "      <td>Train</td>\n",
       "      <td>0.083774</td>\n",
       "      <td>0.006762</td>\n",
       "      <td>0.475871</td>\n",
       "      <td>0.049463</td>\n",
       "    </tr>\n",
       "    <tr>\n",
       "      <th>3</th>\n",
       "      <td>DT_test</td>\n",
       "      <td>Test</td>\n",
       "      <td>0.127109</td>\n",
       "      <td>0.027293</td>\n",
       "      <td>-0.093088</td>\n",
       "      <td>0.577532</td>\n",
       "    </tr>\n",
       "  </tbody>\n",
       "</table>\n",
       "</div>"
      ],
      "text/plain": [
       "                Model    Set      RMSE  RMSE_std        R2    R2_std\n",
       "0  RF_test_2023_04_17  Train  0.704961  0.057279  0.290228  0.035167\n",
       "1  RF_test_2023_04_17   Test  1.469092  0.592755 -0.845890  1.095800\n",
       "2             DT_test  Train  0.083774  0.006762  0.475871  0.049463\n",
       "3             DT_test   Test  0.127109  0.027293 -0.093088  0.577532"
      ]
     },
     "execution_count": 4,
     "metadata": {},
     "output_type": "execute_result"
    }
   ],
   "source": [
    "ll = [rf, dt]\n",
    "model_comparison_table(ll).reset_index()"
   ]
  },
  {
   "cell_type": "code",
   "execution_count": 14,
   "metadata": {},
   "outputs": [],
   "source": [
    "def model_comparison_plot(model_list, metric='RMSE'):\n",
    "    \"\"\"\n",
    "    Creates a bar plot comparing the train and test metric values for a list of models.\n",
    "    \n",
    "    Args:\n",
    "        model_list (list): A list of Model objects.\n",
    "\n",
    "        metric (str): The metric to plot. 'RMSE' or 'R2'.\n",
    "    \"\"\"\n",
    "    table = model_comparison_table(model_list).reset_index()\n",
    "    model_names = table['Model'].unique()\n",
    "\n",
    "    # Set the figure size and create a bar plot\n",
    "    fig, ax = plt.subplots( figsize=(10,6))\n",
    "    width = 0.35\n",
    "    train_color = 'steelblue'  # Choose a color for the train set bars\n",
    "    test_color = 'darkorange'  # Choose a color for the test set bars\n",
    "    for i, model in enumerate(model_names):\n",
    "        # Get the train and test metric values for the current model\n",
    "        train_val = table[(table['Model'] == model) & (table['Set'] == 'Train')][metric].values[0]\n",
    "        test_val = table[(table['Model'] == model) & (table['Set'] == 'Test')][metric].values[0]\n",
    "        # Get the train and test metric standard deviation values for the current model\n",
    "        train_val_std = table[(table['Model'] == model) & (table['Set'] == 'Train')][metric + '_std'].values[0]\n",
    "        test_val_std = table[(table['Model'] == model) & (table['Set'] == 'Test')][metric + '_std'].values[0]\n",
    "        # Create the bar plot\n",
    "        ax.bar(i-width/2, train_val, width, yerr=train_val_std, label=None, capsize=10, color=train_color)\n",
    "        ax.bar(i+width/2, test_val, width, yerr=test_val_std, label=None, capsize=10, color=test_color)\n",
    "\n",
    "    # Add the legend\n",
    "    ax.legend(['Train', 'Test'], loc='upper right')\n",
    "\n",
    "    # Set the axis labels\n",
    "    ax.set_xlabel('Model')\n",
    "    ax.set_ylabel(metric)\n",
    "    ax.set_xticks(range(len(model_names)))\n",
    "    ax.set_xticklabels(model_names)\n",
    "\n",
    "    # Show the plot\n",
    "    plt.show()"
   ]
  },
  {
   "cell_type": "code",
   "execution_count": 16,
   "metadata": {},
   "outputs": [
    {
     "data": {
      "image/png": "[encoded data removed]",
      "text/plain": [
       "<Figure size 1000x600 with 1 Axes>"
      ]
     },
     "metadata": {},
     "output_type": "display_data"
    }
   ],
   "source": [
    "model_comparison_plot(ll, metric='R2')"
   ]
  },
  {
   "cell_type": "code",
   "execution_count": null,
   "metadata": {},
   "outputs": [],
   "source": []
  }
 ],
 "metadata": {
  "kernelspec": {
   "display_name": ".venv",
   "language": "python",
   "name": "python3"
  },
  "language_info": {
   "codemirror_mode": {
    "name": "ipython",
    "version": 3
   },
   "file_extension": ".py",
   "mimetype": "text/x-python",
   "name": "python",
   "nbconvert_exporter": "python",
   "pygments_lexer": "ipython3",
   "version": "3.9.14"
  },
  "orig_nbformat": 4
 },
 "nbformat": 4,
 "nbformat_minor": 2
}
