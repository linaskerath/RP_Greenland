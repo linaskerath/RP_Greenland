{
 "cells": [
  {
   "cell_type": "code",
   "execution_count": 1,
   "metadata": {},
   "outputs": [],
   "source": [
    "from functions_training_pipeline import Model\n",
    "import functions_training_pipeline as f"
   ]
  },
  {
   "cell_type": "markdown",
   "metadata": {},
   "source": []
  },
  {
   "cell_type": "code",
   "execution_count": 2,
   "metadata": {},
   "outputs": [],
   "source": [
    "rf = f.load_object('RF_test_2023_04_17')"
   ]
  },
  {
   "cell_type": "code",
   "execution_count": 3,
   "metadata": {},
   "outputs": [
    {
     "name": "stdout",
     "output_type": "stream",
     "text": [
      "model = <class 'sklearn.ensemble._forest.RandomForestRegressor'>\n",
      "hyperparameters = [{'max_depth': 4, 'n_estimators': 10}, {'max_depth': 4, 'n_estimators': 20}, {'max_depth': 7, 'n_estimators': 10}, {'max_depth': 7, 'n_estimators': 20}]\n",
      "name = RF_test_2023_04_17\n",
      "date_tested = 2023-04-17\n",
      "columns = ['x', 'y', 'mw_value', 'col', 'row']\n",
      "dates = [numpy.datetime64('2017-08-01T00:00:00.000000000'), numpy.datetime64('2017-08-02T00:00:00.000000000'), numpy.datetime64('2017-08-03T00:00:00.000000000'), numpy.datetime64('2017-08-04T00:00:00.000000000'), numpy.datetime64('2017-08-05T00:00:00.000000000'), numpy.datetime64('2017-08-06T00:00:00.000000000')]\n",
      "best_hyperparameter_list = [{'max_depth': 4, 'n_estimators': 20}, {'max_depth': 4, 'n_estimators': 20}, {'max_depth': 4, 'n_estimators': 10}, {'max_depth': 4, 'n_estimators': 10}, {'max_depth': 7, 'n_estimators': 20}]\n",
      "feature_importance_list = [{'x': 0.1438303719158582, 'y': 0.3450341471584463, 'mw_value': 0.12571045277256684, 'col': 0.15500982147794903, 'row': 0.23041520667517953}, {'x': 0.10947090026490054, 'y': 0.44435147629792676, 'mw_value': 0.03971427012135552, 'col': 0.16822277080813128, 'row': 0.23824058250768596}, {'x': 0.13228393243520226, 'y': 0.30697316493340504, 'mw_value': 0.22437436383826162, 'col': 0.09012099218842788, 'row': 0.24624754660470327}, {'x': 0.1375660771889447, 'y': 0.31959211140850097, 'mw_value': 0.12047975857948143, 'col': 0.17956050256011982, 'row': 0.2428015502629531}, {'x': 0.1787747405874067, 'y': 0.21227748639479263, 'mw_value': 0.15167193949356642, 'col': 0.1691959156509823, 'row': 0.28807991787325204}]\n",
      "rmse_train = 0.7049612330103472\n",
      "rmse_std_train = 0.057279352613585036\n",
      "rmse_test = 1.4690923640209113\n",
      "rmse_std_test = 0.592755354690954\n",
      "r2_train = 0.29022790040839924\n",
      "r2_std_train = 0.03516719030513982\n",
      "r2_test = -0.8458902315379401\n",
      "r2_std_test = 1.095799553351939\n",
      "final_hyperparameters = {'max_depth': 4, 'n_estimators': 20}\n",
      "final_model = RandomForestRegressor(max_depth=4, n_estimators=20, random_state=0)\n",
      "final_feature_importance = {'x': 0.14552883147615678, 'y': 0.3574474854559582, 'mw_value': 0.13542957870137695, 'col': 0.12915097284544372, 'row': 0.23244313152106436}\n"
     ]
    }
   ],
   "source": [
    "rf.get_attributes()"
   ]
  },
  {
   "cell_type": "code",
   "execution_count": 4,
   "metadata": {},
   "outputs": [
    {
     "data": {
      "text/plain": [
       "[{'max_depth': 4, 'n_estimators': 20},\n",
       " {'max_depth': 4, 'n_estimators': 20},\n",
       " {'max_depth': 4, 'n_estimators': 10},\n",
       " {'max_depth': 4, 'n_estimators': 10},\n",
       " {'max_depth': 7, 'n_estimators': 20}]"
      ]
     },
     "execution_count": 4,
     "metadata": {},
     "output_type": "execute_result"
    }
   ],
   "source": [
    "rf.best_hyperparameter_list"
   ]
  },
  {
   "cell_type": "code",
   "execution_count": 4,
   "metadata": {},
   "outputs": [
    {
     "data": {
      "text/html": [
       "<div>\n",
       "<style scoped>\n",
       "    .dataframe tbody tr th:only-of-type {\n",
       "        vertical-align: middle;\n",
       "    }\n",
       "\n",
       "    .dataframe tbody tr th {\n",
       "        vertical-align: top;\n",
       "    }\n",
       "\n",
       "    .dataframe thead th {\n",
       "        text-align: right;\n",
       "    }\n",
       "</style>\n",
       "<table border=\"1\" class=\"dataframe\">\n",
       "  <thead>\n",
       "    <tr style=\"text-align: right;\">\n",
       "      <th></th>\n",
       "      <th>Metric</th>\n",
       "      <th>Train</th>\n",
       "      <th>Test</th>\n",
       "    </tr>\n",
       "  </thead>\n",
       "  <tbody>\n",
       "    <tr>\n",
       "      <th>0</th>\n",
       "      <td>RMSE</td>\n",
       "      <td>0.704961</td>\n",
       "      <td>1.469092</td>\n",
       "    </tr>\n",
       "    <tr>\n",
       "      <th>1</th>\n",
       "      <td>RMSE_std</td>\n",
       "      <td>0.057279</td>\n",
       "      <td>0.592755</td>\n",
       "    </tr>\n",
       "    <tr>\n",
       "      <th>2</th>\n",
       "      <td>R2</td>\n",
       "      <td>0.290228</td>\n",
       "      <td>-0.845890</td>\n",
       "    </tr>\n",
       "    <tr>\n",
       "      <th>3</th>\n",
       "      <td>R2_std</td>\n",
       "      <td>0.035167</td>\n",
       "      <td>1.095800</td>\n",
       "    </tr>\n",
       "  </tbody>\n",
       "</table>\n",
       "</div>"
      ],
      "text/plain": [
       "     Metric     Train      Test\n",
       "0      RMSE  0.704961  1.469092\n",
       "1  RMSE_std  0.057279  0.592755\n",
       "2        R2  0.290228 -0.845890\n",
       "3    R2_std  0.035167  1.095800"
      ]
     },
     "execution_count": 4,
     "metadata": {},
     "output_type": "execute_result"
    }
   ],
   "source": [
    "rf.get_results()"
   ]
  },
  {
   "cell_type": "code",
   "execution_count": 4,
   "metadata": {},
   "outputs": [],
   "source": [
    "dt = f.load_object('DT_test')"
   ]
  },
  {
   "cell_type": "code",
   "execution_count": 5,
   "metadata": {},
   "outputs": [
    {
     "name": "stdout",
     "output_type": "stream",
     "text": [
      "model = <class 'sklearn.tree._classes.DecisionTreeRegressor'>\n",
      "hyperparameters = [{'max_depth': 4, 'min_samples_leaf': 2}, {'max_depth': 4, 'min_samples_leaf': 5}, {'max_depth': 7, 'min_samples_leaf': 2}, {'max_depth': 7, 'min_samples_leaf': 5}]\n",
      "name = DT_test\n",
      "dates = [numpy.datetime64('2019-07-01T00:00:00.000000000'), numpy.datetime64('2019-07-02T00:00:00.000000000'), numpy.datetime64('2019-07-03T00:00:00.000000000'), numpy.datetime64('2019-07-04T00:00:00.000000000')]\n",
      "best_hyperparameter_list = [{'max_depth': 4, 'min_samples_leaf': 2}, {'max_depth': 4, 'min_samples_leaf': 2}, {'max_depth': 4, 'min_samples_leaf': 2}, {'max_depth': 4, 'min_samples_leaf': 2}, {'max_depth': 4, 'min_samples_leaf': 2}]\n",
      "feature_importance_list = [{'x': 0.16273379573715818, 'y': 0.2978891678455866, 'mw_value': 0.0, 'mean_3': 0.5393770364172551}, {'x': 0.5931008062031214, 'y': 0.13366970086237703, 'mw_value': 0.0, 'mean_3': 0.27322949293450155}, {'x': 0.1736382305940472, 'y': 0.34351470359039377, 'mw_value': 0.0, 'mean_3': 0.4828470658155591}, {'x': 0.10393829849802062, 'y': 0.35964336382465373, 'mw_value': 0.0, 'mean_3': 0.5364183376773256}, {'x': 0.2265251509760615, 'y': 0.11310560867438539, 'mw_value': 0.0, 'mean_3': 0.6603692403495532}]\n",
      "rmse_train = 0.08377351092974303\n",
      "rmse_std_train = 0.006761606378154333\n",
      "rmse_test = 0.12710897393292236\n",
      "rmse_std_test = 0.02729340318891201\n",
      "r2_train = 0.4758714178676572\n",
      "r2_std_train = 0.0494632614018242\n",
      "r2_test = -0.09308838216911783\n",
      "r2_std_test = 0.5775319405188869\n",
      "final_hyperparameters = {'max_depth': 7, 'min_samples_leaf': 2}\n",
      "final_model = DecisionTreeRegressor(max_depth=7, min_samples_leaf=2, random_state=0)\n",
      "final_feature_importance = {'x': 0.32327769383058297, 'y': 0.2609044387329792, 'mw_value': 0.0, 'mean_3': 0.4158178674364378}\n"
     ]
    }
   ],
   "source": [
    "dt.get_attributes()"
   ]
  },
  {
   "cell_type": "code",
   "execution_count": 6,
   "metadata": {},
   "outputs": [
    {
     "name": "stdout",
     "output_type": "stream",
     "text": [
      "     Metric     Train      Test\n",
      "0      RMSE  0.083774  0.127109\n",
      "1  RMSE_std  0.006762  0.027293\n",
      "2        R2  0.475871 -0.093088\n",
      "3    R2_std  0.049463  0.577532\n"
     ]
    },
    {
     "data": {
      "text/html": [
       "<div>\n",
       "<style scoped>\n",
       "    .dataframe tbody tr th:only-of-type {\n",
       "        vertical-align: middle;\n",
       "    }\n",
       "\n",
       "    .dataframe tbody tr th {\n",
       "        vertical-align: top;\n",
       "    }\n",
       "\n",
       "    .dataframe thead th {\n",
       "        text-align: right;\n",
       "    }\n",
       "</style>\n",
       "<table border=\"1\" class=\"dataframe\">\n",
       "  <thead>\n",
       "    <tr style=\"text-align: right;\">\n",
       "      <th></th>\n",
       "      <th>Metric</th>\n",
       "      <th>Train</th>\n",
       "      <th>Test</th>\n",
       "    </tr>\n",
       "  </thead>\n",
       "  <tbody>\n",
       "    <tr>\n",
       "      <th>0</th>\n",
       "      <td>RMSE</td>\n",
       "      <td>0.083774</td>\n",
       "      <td>0.127109</td>\n",
       "    </tr>\n",
       "    <tr>\n",
       "      <th>1</th>\n",
       "      <td>RMSE_std</td>\n",
       "      <td>0.006762</td>\n",
       "      <td>0.027293</td>\n",
       "    </tr>\n",
       "    <tr>\n",
       "      <th>2</th>\n",
       "      <td>R2</td>\n",
       "      <td>0.475871</td>\n",
       "      <td>-0.093088</td>\n",
       "    </tr>\n",
       "    <tr>\n",
       "      <th>3</th>\n",
       "      <td>R2_std</td>\n",
       "      <td>0.049463</td>\n",
       "      <td>0.577532</td>\n",
       "    </tr>\n",
       "  </tbody>\n",
       "</table>\n",
       "</div>"
      ],
      "text/plain": [
       "     Metric     Train      Test\n",
       "0      RMSE  0.083774  0.127109\n",
       "1  RMSE_std  0.006762  0.027293\n",
       "2        R2  0.475871 -0.093088\n",
       "3    R2_std  0.049463  0.577532"
      ]
     },
     "execution_count": 6,
     "metadata": {},
     "output_type": "execute_result"
    }
   ],
   "source": [
    "dt.get_results()"
   ]
  },
  {
   "cell_type": "code",
   "execution_count": 7,
   "metadata": {},
   "outputs": [
    {
     "name": "stdout",
     "output_type": "stream",
     "text": [
      "     Metric     Train      Test\n",
      "0      RMSE  0.704961  1.469092\n",
      "1  RMSE_std  0.057279  0.592755\n",
      "2        R2  0.290228 -0.845890\n",
      "3    R2_std  0.035167  1.095800\n"
     ]
    },
    {
     "data": {
      "text/html": [
       "<div>\n",
       "<style scoped>\n",
       "    .dataframe tbody tr th:only-of-type {\n",
       "        vertical-align: middle;\n",
       "    }\n",
       "\n",
       "    .dataframe tbody tr th {\n",
       "        vertical-align: top;\n",
       "    }\n",
       "\n",
       "    .dataframe thead th {\n",
       "        text-align: right;\n",
       "    }\n",
       "</style>\n",
       "<table border=\"1\" class=\"dataframe\">\n",
       "  <thead>\n",
       "    <tr style=\"text-align: right;\">\n",
       "      <th></th>\n",
       "      <th>Metric</th>\n",
       "      <th>Train</th>\n",
       "      <th>Test</th>\n",
       "    </tr>\n",
       "  </thead>\n",
       "  <tbody>\n",
       "    <tr>\n",
       "      <th>0</th>\n",
       "      <td>RMSE</td>\n",
       "      <td>0.704961</td>\n",
       "      <td>1.469092</td>\n",
       "    </tr>\n",
       "    <tr>\n",
       "      <th>1</th>\n",
       "      <td>RMSE_std</td>\n",
       "      <td>0.057279</td>\n",
       "      <td>0.592755</td>\n",
       "    </tr>\n",
       "    <tr>\n",
       "      <th>2</th>\n",
       "      <td>R2</td>\n",
       "      <td>0.290228</td>\n",
       "      <td>-0.845890</td>\n",
       "    </tr>\n",
       "    <tr>\n",
       "      <th>3</th>\n",
       "      <td>R2_std</td>\n",
       "      <td>0.035167</td>\n",
       "      <td>1.095800</td>\n",
       "    </tr>\n",
       "  </tbody>\n",
       "</table>\n",
       "</div>"
      ],
      "text/plain": [
       "     Metric     Train      Test\n",
       "0      RMSE  0.704961  1.469092\n",
       "1  RMSE_std  0.057279  0.592755\n",
       "2        R2  0.290228 -0.845890\n",
       "3    R2_std  0.035167  1.095800"
      ]
     },
     "execution_count": 7,
     "metadata": {},
     "output_type": "execute_result"
    }
   ],
   "source": [
    "rf.get_results()"
   ]
  },
  {
   "cell_type": "code",
   "execution_count": 8,
   "metadata": {},
   "outputs": [],
   "source": [
    "import pandas as pd"
   ]
  },
  {
   "cell_type": "code",
   "execution_count": 14,
   "metadata": {},
   "outputs": [
    {
     "name": "stdout",
     "output_type": "stream",
     "text": [
      "     Metric     Train      Test\n",
      "0      RMSE  0.704961  1.469092\n",
      "1  RMSE_std  0.057279  0.592755\n",
      "2        R2  0.290228 -0.845890\n",
      "3    R2_std  0.035167  1.095800\n",
      "     Metric     Train      Test\n",
      "0      RMSE  0.704961  1.469092\n",
      "1  RMSE_std  0.057279  0.592755\n",
      "2        R2  0.290228 -0.845890\n",
      "3    R2_std  0.035167  1.095800\n",
      "     Metric     Train      Test\n",
      "0      RMSE  0.083774  0.127109\n",
      "1  RMSE_std  0.006762  0.027293\n",
      "2        R2  0.475871 -0.093088\n",
      "3    R2_std  0.049463  0.577532\n"
     ]
    },
    {
     "data": {
      "text/html": [
       "<div>\n",
       "<style scoped>\n",
       "    .dataframe tbody tr th:only-of-type {\n",
       "        vertical-align: middle;\n",
       "    }\n",
       "\n",
       "    .dataframe tbody tr th {\n",
       "        vertical-align: top;\n",
       "    }\n",
       "\n",
       "    .dataframe thead tr th {\n",
       "        text-align: left;\n",
       "    }\n",
       "</style>\n",
       "<table border=\"1\" class=\"dataframe\">\n",
       "  <thead>\n",
       "    <tr>\n",
       "      <th></th>\n",
       "      <th></th>\n",
       "      <th colspan=\"2\" halign=\"left\">rf</th>\n",
       "      <th colspan=\"2\" halign=\"left\">dt</th>\n",
       "    </tr>\n",
       "    <tr>\n",
       "      <th></th>\n",
       "      <th>Metric</th>\n",
       "      <th>Train</th>\n",
       "      <th>Test</th>\n",
       "      <th>Train</th>\n",
       "      <th>Test</th>\n",
       "    </tr>\n",
       "  </thead>\n",
       "  <tbody>\n",
       "    <tr>\n",
       "      <th>0</th>\n",
       "      <td>RMSE</td>\n",
       "      <td>0.704961</td>\n",
       "      <td>1.469092</td>\n",
       "      <td>0.083774</td>\n",
       "      <td>0.127109</td>\n",
       "    </tr>\n",
       "    <tr>\n",
       "      <th>1</th>\n",
       "      <td>RMSE_std</td>\n",
       "      <td>0.057279</td>\n",
       "      <td>0.592755</td>\n",
       "      <td>0.006762</td>\n",
       "      <td>0.027293</td>\n",
       "    </tr>\n",
       "    <tr>\n",
       "      <th>2</th>\n",
       "      <td>R2</td>\n",
       "      <td>0.290228</td>\n",
       "      <td>-0.845890</td>\n",
       "      <td>0.475871</td>\n",
       "      <td>-0.093088</td>\n",
       "    </tr>\n",
       "    <tr>\n",
       "      <th>3</th>\n",
       "      <td>R2_std</td>\n",
       "      <td>0.035167</td>\n",
       "      <td>1.095800</td>\n",
       "      <td>0.049463</td>\n",
       "      <td>0.577532</td>\n",
       "    </tr>\n",
       "  </tbody>\n",
       "</table>\n",
       "</div>"
      ],
      "text/plain": [
       "                   rf                  dt          \n",
       "     Metric     Train      Test     Train      Test\n",
       "0      RMSE  0.704961  1.469092  0.083774  0.127109\n",
       "1  RMSE_std  0.057279  0.592755  0.006762  0.027293\n",
       "2        R2  0.290228 -0.845890  0.475871 -0.093088\n",
       "3    R2_std  0.035167  1.095800  0.049463  0.577532"
      ]
     },
     "execution_count": 14,
     "metadata": {},
     "output_type": "execute_result"
    }
   ],
   "source": [
    "d = {'': rf.get_results().pop('Metric'), 'rf' : rf.get_results()[['Train', 'Test']], 'dt' : dt.get_results()[['Train', 'Test']]}\n",
    "pd.concat(d.values(), axis=1, keys=d.keys())\n"
   ]
  },
  {
   "cell_type": "code",
   "execution_count": null,
   "metadata": {},
   "outputs": [],
   "source": []
  }
 ],
 "metadata": {
  "kernelspec": {
   "display_name": ".venv",
   "language": "python",
   "name": "python3"
  },
  "language_info": {
   "codemirror_mode": {
    "name": "ipython",
    "version": 3
   },
   "file_extension": ".py",
   "mimetype": "text/x-python",
   "name": "python",
   "nbconvert_exporter": "python",
   "pygments_lexer": "ipython3",
   "version": "3.9.14"
  },
  "orig_nbformat": 4
 },
 "nbformat": 4,
 "nbformat_minor": 2
}
