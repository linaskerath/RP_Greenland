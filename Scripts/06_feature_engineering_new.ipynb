{
 "cells": [
  {
   "cell_type": "markdown",
   "metadata": {},
   "source": [
    "# Feature engineering"
   ]
  },
  {
   "cell_type": "markdown",
   "metadata": {},
   "source": [
    "**Purpose of script:**\n",
    "\n",
    "Creating new features \n",
    "\n",
    "- In: dataframe_plain\n",
    "- Out: dataframe_extended (with additional feature columns)"
   ]
  },
  {
   "cell_type": "code",
<<<<<<< Updated upstream
   "execution_count": 1,
=======
   "execution_count": 158,
>>>>>>> Stashed changes
   "metadata": {},
   "outputs": [],
   "source": [
    "import xarray\n",
    "import rasterio\n",
    "import gemgis as gg\n",
    "import pandas as pd\n",
    "import numpy as np\n",
    "from tqdm import tqdm\n",
    "\n",
    "import datetime as dt\n",
    "\n",
    "from os import listdir\n",
    "from os.path import isfile, join"
   ]
  },
  {
   "cell_type": "markdown",
   "metadata": {},
   "source": [
    "##### Relevant paths"
   ]
  },
  {
   "cell_type": "code",
   "execution_count": 2,
   "metadata": {},
   "outputs": [],
   "source": [
    "path_dataframe_plain = r\"../Data/combined/dataframe_plain/\"\n",
    "mw_path = r\"../Data/microwave-rs/mw_interpolated/\"\n",
    "path_elevation =  r\"../Data/elevation_data/gimpdem_1km_compressed.tif\"\n",
    "out_path = r\"../Data/combined/dataframe_extended/\""
   ]
  },
  {
   "cell_type": "markdown",
   "metadata": {},
   "source": [
    "## Features"
   ]
  },
  {
   "cell_type": "markdown",
   "metadata": {},
   "source": [
    "##### Row and column"
   ]
  },
  {
   "cell_type": "code",
<<<<<<< Updated upstream
   "execution_count": 3,
=======
   "execution_count": 7,
>>>>>>> Stashed changes
   "metadata": {},
   "outputs": [],
   "source": [
    "def add_row_and_col(df):\n",
    "        # add row and column features:\n",
    "        df['col'] = df.groupby(\"x\").ngroup() # xshape 2663 \n",
    "        df['row'] = df.groupby(\"y\").ngroup(ascending=False) # yshape 1462\n",
    "        return df"
   ]
  },
  {
   "cell_type": "markdown",
   "metadata": {},
   "source": [
    "##### Date"
   ]
  },
  {
   "cell_type": "code",
<<<<<<< Updated upstream
   "execution_count": 4,
=======
   "execution_count": 8,
>>>>>>> Stashed changes
   "metadata": {},
   "outputs": [],
   "source": [
    "def add_date(df):\n",
    "    df['date'] = '2019-07-01'\n",
    "    df[\"date\"]= pd.to_datetime(df[\"date\"])\n",
    "    # df['month'] = df[\"date\"].dt.month\n",
    "    return df"
   ]
  },
  {
   "cell_type": "markdown",
   "metadata": {},
   "source": [
    "##### Aggregated/pooled values"
   ]
  },
  {
   "cell_type": "code",
<<<<<<< Updated upstream
   "execution_count": 17,
=======
   "execution_count": 9,
>>>>>>> Stashed changes
   "metadata": {},
   "outputs": [],
   "source": [
    "from typing import Union\n",
    "from typing import Tuple\n",
    "from scipy.stats import mode\n",
    "from scipy.signal import convolve2d\n",
    "\n",
    "def get_window(image: np.ndarray, window_size: int, center: Tuple[int, int]) -> np.ndarray:\n",
    "    top = max(center[0] - window_size // 2, 0)\n",
    "    bottom = min(center[0] + window_size // 2 + 1, image.shape[0])\n",
    "    left = max(center[1] - window_size // 2, 0)\n",
    "    right = min(center[1] + window_size // 2 + 1, image.shape[1])\n",
    "    window = image[top:bottom, left:right]\n",
    "    return window\n",
    "\n",
    "\n",
    "# need to fix? : only calculate if the middle value is not nan - else all nan columns around 1 and 0 are going to have a value.\n",
    "\n",
    "def convolve(image, window_size, convolution_fn: Union['mean', 'min', 'max', 'sum']):\n",
    "    image = image[0].values\n",
    "    image[image == -1] = np.nan\n",
    "    \n",
    "    if convolution_fn == 'mean':\n",
    "        kernel = np.ones((window_size, window_size))  # kernel for mean convolution\n",
    "        result = np.zeros_like(image, dtype=np.float64)\n",
    "        # Compute the sum and count of non-NaN values in the kernel window\n",
    "        counts = convolve2d(~np.isnan(image), kernel, mode='same', boundary='fill', fillvalue=0)\n",
    "        sums = convolve2d(np.nan_to_num(image), kernel, mode='same', boundary='fill', fillvalue=0)\n",
    "        # Calculate the mean, ignoring NaN values\n",
    "        result[counts > 0] = sums[counts > 0] / counts[counts > 0]\n",
    "        # Set the output to NaN where all values in the kernel window are NaN\n",
    "        result[counts == 0] = np.nan\n",
    "        return result\n",
    "        \n",
    "    elif convolution_fn == 'max':\n",
    "        result = np.zeros_like(image, dtype=np.float64)\n",
    "        for i in range(image.shape[0]):\n",
    "            for j in range(image.shape[1]):\n",
    "                window = get_window(image, window_size, (i, j))\n",
    "                non_nan_values = window[~np.isnan(window)]\n",
    "                if len(non_nan_values) == 0:\n",
    "                    result[i, j] = np.nan\n",
    "                else:\n",
    "                    result[i, j] = np.nanmax(non_nan_values)\n",
    "\n",
    "    elif convolution_fn == 'min':\n",
    "        result = np.zeros_like(image, dtype=np.float64)\n",
    "        for i in range(image.shape[0]):\n",
    "            for j in range(image.shape[1]):\n",
    "                window = get_window(image, window_size, (i, j))\n",
    "                non_nan_values = window[~np.isnan(window)]\n",
    "                if len(non_nan_values) == 0:\n",
    "                    result[i, j] = np.nan\n",
    "                else:\n",
    "                    result[i, j] = np.nanmin(non_nan_values)\n",
    "        return result\n",
    "\n",
    "    # elif convolution_fn == 'maxdiff':\n",
    "    #     result = np.zeros_like(image, dtype=np.float64)\n",
    "    #     for i in range(image.shape[0]):\n",
    "    #         for j in range(image.shape[1]):\n",
    "    #             window = get_window(image, window_size, (i, j))\n",
    "    #             non_nan_values = window[~np.isnan(window)]\n",
    "    #             if len(non_nan_values) == 0:\n",
    "    #                 result[i, j] = np.nan\n",
    "    #             else:\n",
    "    #                 result[i, j] = np.nanmax(non_nan_values) - np.nanmin(non_nan_values)\n",
    "    #     return result\n",
    "\n",
    "    elif convolution_fn == 'sum':\n",
    "        result = np.zeros_like(image, dtype=np.float64)\n",
    "        for i in range(image.shape[0]):\n",
    "            for j in range(image.shape[1]):\n",
    "                window = get_window(image, window_size, (i, j))\n",
    "                non_nan_values = window[~np.isnan(window)]\n",
    "                if len(non_nan_values) == 0:\n",
    "                    result[i, j] = np.nan\n",
    "                else:\n",
    "                    result[i, j] = np.nansum(non_nan_values)\n",
    "        return result\n",
    "        \n",
    "    else: \n",
    "        print('not available function')\n",
    "    return"
   ]
  },
  {
   "cell_type": "code",
<<<<<<< Updated upstream
   "execution_count": 6,
=======
   "execution_count": 10,
>>>>>>> Stashed changes
   "metadata": {},
   "outputs": [],
   "source": [
    "def convolution_to_df(convolution_raster, column_name):\n",
    "    nrows, ncols = convolution_raster.shape\n",
    "    # create an array of x and y positions\n",
    "    x = np.tile(np.arange(ncols), nrows)\n",
    "    y = np.repeat(np.arange(nrows), ncols)\n",
    "    # create a DataFrame with x, y, and pixel values as columns\n",
    "    df = pd.DataFrame({'col': x, 'row': y, column_name: convolution_raster.flatten()})\n",
    "    return df "
   ]
  },
  {
   "cell_type": "markdown",
   "metadata": {},
   "source": [
    "##### Elevation data"
   ]
  },
  {
   "cell_type": "code",
<<<<<<< Updated upstream
   "execution_count": 7,
=======
   "execution_count": 11,
>>>>>>> Stashed changes
   "metadata": {},
   "outputs": [],
   "source": [
    "def add_elevation(data):\n",
    "    df = data.to_dataframe()\n",
    "    df = df.reset_index()\n",
    "    df = df[['x', 'y', 'band_data']]\n",
    "    df.rename({'band_data': 'elevation_data'}, axis=1, inplace=True)\n",
    "    return df"
   ]
  },
  {
   "attachments": {},
   "cell_type": "markdown",
   "metadata": {},
   "source": [
    "##### Slope"
   ]
  },
  {
   "attachments": {},
   "cell_type": "markdown",
   "metadata": {},
   "source": [
    "Slope is given as degree of incline angle: 0 means flat (no slope == horizontal), 90 means (most possible slope == vertical)"
   ]
  },
  {
   "cell_type": "code",
<<<<<<< Updated upstream
   "execution_count": 8,
=======
   "execution_count": 12,
>>>>>>> Stashed changes
   "metadata": {},
   "outputs": [],
   "source": [
    "def get_slope(data):\n",
    "    slope = gg.raster.calculate_slope(data)\n",
    "    nrows, ncols = slope.shape\n",
    "    # create an array of x and y positions\n",
    "    x = np.tile(np.arange(ncols), nrows)\n",
    "    y = np.repeat(np.arange(nrows), ncols)\n",
    "    # create a DataFrame with x, y, and pixel values as columns\n",
    "    df_slope = pd.DataFrame({'col': x, 'row': y, 'slope_data': slope.flatten()})\n",
    "    return df_slope"
   ]
  },
  {
   "attachments": {},
   "cell_type": "markdown",
   "metadata": {},
   "source": [
    "##### Aspect"
   ]
  },
  {
   "attachments": {},
   "cell_type": "markdown",
   "metadata": {},
   "source": [
    "Aspect is given as degree of direction slope faces: 0 means facing North, 90 means facing East, 180 means facing South, 270 means facing West"
   ]
  },
  {
   "cell_type": "code",
<<<<<<< Updated upstream
   "execution_count": 9,
=======
   "execution_count": 13,
>>>>>>> Stashed changes
   "metadata": {},
   "outputs": [],
   "source": [
    "def get_aspect(data):\n",
    "    aspect = gg.raster.calculate_aspect(data)\n",
    "    nrows, ncols = aspect.shape\n",
    "    # create an array of x and y positions\n",
    "    x = np.tile(np.arange(ncols), nrows)\n",
    "    y = np.repeat(np.arange(nrows), ncols)\n",
    "    # create a DataFrame with x, y, and pixel values as columns\n",
    "    df_aspect = pd.DataFrame({'col': x, 'row': y, 'aspect_data': aspect.flatten()})\n",
    "    return df_aspect"
   ]
  },
  {
   "cell_type": "markdown",
   "metadata": {},
   "source": [
    "##### Distance from margin/shore"
   ]
  },
  {
   "cell_type": "code",
   "execution_count": 10,
   "metadata": {},
   "outputs": [],
   "source": [
    "# tbd\n",
    "# add if coast column - if at least one na but not all "
   ]
  },
  {
   "cell_type": "markdown",
   "metadata": {},
   "source": [
    "## Main:"
   ]
  },
  {
   "cell_type": "code",
<<<<<<< Updated upstream
   "execution_count": 11,
=======
   "execution_count": 4,
>>>>>>> Stashed changes
   "metadata": {},
   "outputs": [],
   "source": [
    "def get_files(mw_path, path_dataframe_plain):\n",
    "    # get plain files:\n",
    "    df_plain_files = [f for f in listdir(path_dataframe_plain) if isfile(join(path_dataframe_plain, f))]\n",
    "    # microwave files:\n",
    "    mw_files = [f for f in listdir(mw_path) if isfile(join(mw_path, f))]\n",
    "    return  mw_files, df_plain_files"
   ]
  },
  {
   "cell_type": "code",
<<<<<<< Updated upstream
   "execution_count": 18,
=======
   "execution_count": 5,
>>>>>>> Stashed changes
   "metadata": {},
   "outputs": [],
   "source": [
    "def main(mw_files_list, df_plain_files_list, path_elevation, out_path, write = False):\n",
    "    # get plain files:\n",
    "    df_plain_files = df_plain_files_list\n",
    "    # microwave files:\n",
    "    mw_files = mw_files_list\n",
    "    # load elevation data:\n",
    "    data_elevation_xarray = xarray.open_dataarray(path_elevation)\n",
    "    data_elevation_rasterio = rasterio.open(path_elevation)   \n",
    "\n",
    "    for df_file in df_plain_files:\n",
    "        melt_date =  df_file[5:15]\n",
    "        print(melt_date)\n",
    "        for mw_file in mw_files:\n",
    "            if mw_file.startswith(melt_date):\n",
    "                data_mw = xarray.open_dataarray(mw_path + mw_file)\n",
    "                df = pd.read_parquet(path_dataframe_plain + df_file)\n",
    "                # add row and column features:\n",
    "                df = add_row_and_col(df)\n",
    "                # get convolutions:\n",
    "                df_conv_mean_3 = convolution_to_df(convolve(data_mw, 3, 'mean'), 'mean_3')\n",
    "                df_conv_mean_9 = convolution_to_df(convolve(data_mw, 9, 'mean'), 'mean_9')\n",
    "                #df_conv_maxdisff_5 = convolution_to_df(convolve(data_mw, 5, 'maxdiff'), 'maxdiff_9')\n",
    "                df_conv_sum_5 = convolution_to_df(convolve(data_mw, 5, 'sum'), 'sum_5')\n",
    "                # merge convolution:\n",
    "                df_combined = pd.merge(df, df_conv_mean_3, how = 'left', on = ['row', 'col'])\n",
    "                df_combined = pd.merge(df_combined, df_conv_mean_9, how = 'left', on = ['row', 'col'])\n",
    "                #df_combined = pd.merge(df_combined, df_conv_maxdisff_5, how = 'left', on = ['row', 'col'])\n",
    "                df_combined = pd.merge(df_combined, df_conv_sum_5, how = 'left', on = ['row', 'col'])\n",
    "                # remove water in mw:\n",
    "                df_combined = df_combined.loc[df_combined['mw_value'] != -1]\n",
    "                # add date:\n",
    "                df = add_date(df_combined)\n",
    "                # add elevation data:\n",
    "                df_elevation = add_elevation(data_elevation_xarray)\n",
    "                # get slope data:\n",
    "                df_slope = get_slope(data_elevation_rasterio)\n",
    "                # merge slope data:\n",
    "                df_elevation = pd.merge(df_elevation, df_slope[[\"slope_data\"]], how=\"left\", right_index=True, left_index=True)\n",
    "                # get aspect data:\n",
    "                df_aspect = get_aspect(data_elevation_rasterio)\n",
    "                # merge aspect data:\n",
    "                df_elevation = pd.merge(df_elevation, df_aspect[[\"aspect_data\"]], how=\"left\", right_index=True, left_index=True)\n",
    "                # merge elevation data:\n",
    "                df_with_elevation = pd.merge(df, df_elevation, how = 'left', on = ['y', 'x'])              \n",
    "                \n",
    "                # write to parquet:\n",
    "                if write == True:\n",
    "                    df_with_elevation.to_parquet(out_path + 'melt_'+ melt_date + '_extended.parquet.gzip', index= False)                    \n",
    "    return df_with_elevation\n",
    "                \n",
    "                "
   ]
  },
  {
   "cell_type": "markdown",
   "metadata": {},
   "source": [
    "Main"
   ]
  },
  {
   "cell_type": "code",
   "execution_count": null,
   "metadata": {},
   "outputs": [],
   "source": [
    "#main(mw_path, path_dataframe_plain, path_elevation, out_path)\n",
    "main(*get_files(mw_path, path_dataframe_plain), path_elevation, out_path)"
   ]
  },
  {
   "cell_type": "markdown",
   "metadata": {},
   "source": [
    "## Testing"
   ]
  },
  {
   "cell_type": "markdown",
   "metadata": {},
   "source": [
    "### Testing Lina"
   ]
  },
  {
   "cell_type": "code",
<<<<<<< Updated upstream
   "execution_count": 19,
=======
   "execution_count": 119,
>>>>>>> Stashed changes
   "metadata": {},
   "outputs": [
    {
     "name": "stdout",
     "output_type": "stream",
     "text": [
      "2019-06-08\n"
     ]
    }
   ],
   "source": [
    "df = main(['2019-06-08_mw.tif'], ['melt_2019-06-08.parquet.gzip'], path_elevation, out_path)  "
   ]
  },
  {
   "cell_type": "code",
<<<<<<< Updated upstream
   "execution_count": 20,
=======
   "execution_count": 15,
>>>>>>> Stashed changes
   "metadata": {},
   "outputs": [
    {
     "data": {
      "text/html": [
       "<div>\n",
       "<style scoped>\n",
       "    .dataframe tbody tr th:only-of-type {\n",
       "        vertical-align: middle;\n",
       "    }\n",
       "\n",
       "    .dataframe tbody tr th {\n",
       "        vertical-align: top;\n",
       "    }\n",
       "\n",
       "    .dataframe thead th {\n",
       "        text-align: right;\n",
       "    }\n",
       "</style>\n",
       "<table border=\"1\" class=\"dataframe\">\n",
       "  <thead>\n",
       "    <tr style=\"text-align: right;\">\n",
       "      <th></th>\n",
       "      <th>x</th>\n",
       "      <th>y</th>\n",
       "      <th>mw_value</th>\n",
       "      <th>opt_value</th>\n",
       "      <th>col</th>\n",
       "      <th>row</th>\n",
       "      <th>mean_3</th>\n",
       "      <th>mean_9</th>\n",
       "      <th>sum_5</th>\n",
       "      <th>date</th>\n",
       "      <th>elevation_data</th>\n",
       "      <th>slope_data</th>\n",
       "      <th>aspect_data</th>\n",
       "    </tr>\n",
       "  </thead>\n",
       "  <tbody>\n",
       "    <tr>\n",
       "      <th>0</th>\n",
       "      <td>-636500.00</td>\n",
       "      <td>-662500.00</td>\n",
       "      <td>0.00</td>\n",
       "      <td>-1.00</td>\n",
       "      <td>0</td>\n",
       "      <td>0</td>\n",
       "      <td>0.00</td>\n",
       "      <td>0.00</td>\n",
       "      <td>0.00</td>\n",
       "      <td>2019-07-01</td>\n",
       "      <td>14.00</td>\n",
       "      <td>0.00</td>\n",
       "      <td>0.00</td>\n",
       "    </tr>\n",
       "    <tr>\n",
       "      <th>1</th>\n",
       "      <td>-635500.00</td>\n",
       "      <td>-662500.00</td>\n",
       "      <td>0.00</td>\n",
       "      <td>-1.00</td>\n",
       "      <td>1</td>\n",
       "      <td>0</td>\n",
       "      <td>0.00</td>\n",
       "      <td>0.00</td>\n",
       "      <td>0.00</td>\n",
       "      <td>2019-07-01</td>\n",
       "      <td>14.00</td>\n",
       "      <td>0.00</td>\n",
       "      <td>0.00</td>\n",
       "    </tr>\n",
       "    <tr>\n",
       "      <th>2</th>\n",
       "      <td>-634500.00</td>\n",
       "      <td>-662500.00</td>\n",
       "      <td>0.00</td>\n",
       "      <td>-1.00</td>\n",
       "      <td>2</td>\n",
       "      <td>0</td>\n",
       "      <td>0.00</td>\n",
       "      <td>0.00</td>\n",
       "      <td>0.00</td>\n",
       "      <td>2019-07-01</td>\n",
       "      <td>14.00</td>\n",
       "      <td>0.00</td>\n",
       "      <td>0.00</td>\n",
       "    </tr>\n",
       "    <tr>\n",
       "      <th>3</th>\n",
       "      <td>-633500.00</td>\n",
       "      <td>-662500.00</td>\n",
       "      <td>0.00</td>\n",
       "      <td>-1.00</td>\n",
       "      <td>3</td>\n",
       "      <td>0</td>\n",
       "      <td>0.00</td>\n",
       "      <td>0.00</td>\n",
       "      <td>0.00</td>\n",
       "      <td>2019-07-01</td>\n",
       "      <td>14.00</td>\n",
       "      <td>0.00</td>\n",
       "      <td>0.00</td>\n",
       "    </tr>\n",
       "    <tr>\n",
       "      <th>4</th>\n",
       "      <td>-632500.00</td>\n",
       "      <td>-662500.00</td>\n",
       "      <td>0.00</td>\n",
       "      <td>-1.00</td>\n",
       "      <td>4</td>\n",
       "      <td>0</td>\n",
       "      <td>0.00</td>\n",
       "      <td>0.00</td>\n",
       "      <td>0.00</td>\n",
       "      <td>2019-07-01</td>\n",
       "      <td>14.00</td>\n",
       "      <td>0.00</td>\n",
       "      <td>0.00</td>\n",
       "    </tr>\n",
       "    <tr>\n",
       "      <th>...</th>\n",
       "      <td>...</td>\n",
       "      <td>...</td>\n",
       "      <td>...</td>\n",
       "      <td>...</td>\n",
       "      <td>...</td>\n",
       "      <td>...</td>\n",
       "      <td>...</td>\n",
       "      <td>...</td>\n",
       "      <td>...</td>\n",
       "      <td>...</td>\n",
       "      <td>...</td>\n",
       "      <td>...</td>\n",
       "      <td>...</td>\n",
       "    </tr>\n",
       "    <tr>\n",
       "      <th>2278720</th>\n",
       "      <td>58500.00</td>\n",
       "      <td>-3324500.00</td>\n",
       "      <td>0.00</td>\n",
       "      <td>-1.00</td>\n",
       "      <td>695</td>\n",
       "      <td>2662</td>\n",
       "      <td>0.00</td>\n",
       "      <td>0.00</td>\n",
       "      <td>0.00</td>\n",
       "      <td>2019-07-01</td>\n",
       "      <td>44.00</td>\n",
       "      <td>6.48</td>\n",
       "      <td>88.99</td>\n",
       "    </tr>\n",
       "    <tr>\n",
       "      <th>2278721</th>\n",
       "      <td>59500.00</td>\n",
       "      <td>-3324500.00</td>\n",
       "      <td>0.00</td>\n",
       "      <td>-1.00</td>\n",
       "      <td>696</td>\n",
       "      <td>2662</td>\n",
       "      <td>0.00</td>\n",
       "      <td>0.00</td>\n",
       "      <td>0.00</td>\n",
       "      <td>2019-07-01</td>\n",
       "      <td>44.00</td>\n",
       "      <td>0.63</td>\n",
       "      <td>0.00</td>\n",
       "    </tr>\n",
       "    <tr>\n",
       "      <th>2278722</th>\n",
       "      <td>60500.00</td>\n",
       "      <td>-3324500.00</td>\n",
       "      <td>0.00</td>\n",
       "      <td>-1.00</td>\n",
       "      <td>697</td>\n",
       "      <td>2662</td>\n",
       "      <td>0.00</td>\n",
       "      <td>0.00</td>\n",
       "      <td>0.00</td>\n",
       "      <td>2019-07-01</td>\n",
       "      <td>44.00</td>\n",
       "      <td>0.04</td>\n",
       "      <td>315.00</td>\n",
       "    </tr>\n",
       "    <tr>\n",
       "      <th>2278723</th>\n",
       "      <td>61500.00</td>\n",
       "      <td>-3324500.00</td>\n",
       "      <td>0.00</td>\n",
       "      <td>-1.00</td>\n",
       "      <td>698</td>\n",
       "      <td>2662</td>\n",
       "      <td>0.00</td>\n",
       "      <td>0.00</td>\n",
       "      <td>0.00</td>\n",
       "      <td>2019-07-01</td>\n",
       "      <td>45.00</td>\n",
       "      <td>0.03</td>\n",
       "      <td>270.00</td>\n",
       "    </tr>\n",
       "    <tr>\n",
       "      <th>2278724</th>\n",
       "      <td>62500.00</td>\n",
       "      <td>-3324500.00</td>\n",
       "      <td>0.00</td>\n",
       "      <td>-1.00</td>\n",
       "      <td>699</td>\n",
       "      <td>2662</td>\n",
       "      <td>0.00</td>\n",
       "      <td>0.00</td>\n",
       "      <td>0.00</td>\n",
       "      <td>2019-07-01</td>\n",
       "      <td>45.00</td>\n",
       "      <td>1.09</td>\n",
       "      <td>180.00</td>\n",
       "    </tr>\n",
       "  </tbody>\n",
       "</table>\n",
       "<p>2278725 rows × 13 columns</p>\n",
       "</div>"
      ],
      "text/plain": [
       "                 x           y  mw_value  opt_value  col   row  mean_3  \\\n",
       "0       -636500.00  -662500.00      0.00      -1.00    0     0    0.00   \n",
       "1       -635500.00  -662500.00      0.00      -1.00    1     0    0.00   \n",
       "2       -634500.00  -662500.00      0.00      -1.00    2     0    0.00   \n",
       "3       -633500.00  -662500.00      0.00      -1.00    3     0    0.00   \n",
       "4       -632500.00  -662500.00      0.00      -1.00    4     0    0.00   \n",
       "...            ...         ...       ...        ...  ...   ...     ...   \n",
       "2278720   58500.00 -3324500.00      0.00      -1.00  695  2662    0.00   \n",
       "2278721   59500.00 -3324500.00      0.00      -1.00  696  2662    0.00   \n",
       "2278722   60500.00 -3324500.00      0.00      -1.00  697  2662    0.00   \n",
       "2278723   61500.00 -3324500.00      0.00      -1.00  698  2662    0.00   \n",
       "2278724   62500.00 -3324500.00      0.00      -1.00  699  2662    0.00   \n",
       "\n",
       "         mean_9  sum_5       date  elevation_data  slope_data  aspect_data  \n",
       "0          0.00   0.00 2019-07-01           14.00        0.00         0.00  \n",
       "1          0.00   0.00 2019-07-01           14.00        0.00         0.00  \n",
       "2          0.00   0.00 2019-07-01           14.00        0.00         0.00  \n",
       "3          0.00   0.00 2019-07-01           14.00        0.00         0.00  \n",
       "4          0.00   0.00 2019-07-01           14.00        0.00         0.00  \n",
       "...         ...    ...        ...             ...         ...          ...  \n",
       "2278720    0.00   0.00 2019-07-01           44.00        6.48        88.99  \n",
       "2278721    0.00   0.00 2019-07-01           44.00        0.63         0.00  \n",
       "2278722    0.00   0.00 2019-07-01           44.00        0.04       315.00  \n",
       "2278723    0.00   0.00 2019-07-01           45.00        0.03       270.00  \n",
       "2278724    0.00   0.00 2019-07-01           45.00        1.09       180.00  \n",
       "\n",
       "[2278725 rows x 13 columns]"
      ]
     },
     "execution_count": 20,
     "metadata": {},
     "output_type": "execute_result"
    }
   ],
   "source": [
    "df"
   ]
  },
  {
   "cell_type": "code",
   "execution_count": 103,
   "metadata": {},
   "outputs": [],
   "source": [
    "# # for testing values around the 0-1 change in the data:\n",
    "\n",
    "# tt = data_mw.values\n",
    "# # indices = np.where(tt == 1)\n",
    "# tt[0][74:80, 622:628]"
   ]
  },
  {
   "cell_type": "code",
   "execution_count": 19,
   "metadata": {},
   "outputs": [],
<<<<<<< Updated upstream
   "source": [
    "# # test convolve() 'diff':\n",
    "# matrix1 = np.array([\n",
    "#     [ 1,       2,   np.nan,      4,    5],\n",
    "#     [ 6,  np.nan,        8,      9,   10],\n",
    "#     [11,      12,       13,     14,   15],\n",
    "#     [16,  np.nan,       18,     19,   20],\n",
    "#     [21,      22,       23, np.nan,   25]\n",
    "# ])\n",
    "\n"
=======
   "source": []
  },
  {
   "attachments": {},
   "cell_type": "markdown",
   "metadata": {},
   "source": [
    "### Testing Nina"
   ]
  },
  {
   "cell_type": "code",
   "execution_count": 52,
   "metadata": {},
   "outputs": [
    {
     "data": {
      "text/html": [
       "<div>\n",
       "<style scoped>\n",
       "    .dataframe tbody tr th:only-of-type {\n",
       "        vertical-align: middle;\n",
       "    }\n",
       "\n",
       "    .dataframe tbody tr th {\n",
       "        vertical-align: top;\n",
       "    }\n",
       "\n",
       "    .dataframe thead th {\n",
       "        text-align: right;\n",
       "    }\n",
       "</style>\n",
       "<table border=\"1\" class=\"dataframe\">\n",
       "  <thead>\n",
       "    <tr style=\"text-align: right;\">\n",
       "      <th></th>\n",
       "      <th>x</th>\n",
       "      <th>y</th>\n",
       "      <th>mw_value</th>\n",
       "      <th>opt_value</th>\n",
       "      <th>col</th>\n",
       "      <th>row</th>\n",
       "      <th>mean</th>\n",
       "      <th>date</th>\n",
       "      <th>elevation_data</th>\n",
       "      <th>slope_data</th>\n",
       "      <th>aspect_data</th>\n",
       "      <th>year</th>\n",
       "      <th>season</th>\n",
       "      <th>month</th>\n",
       "    </tr>\n",
       "  </thead>\n",
       "  <tbody>\n",
       "    <tr>\n",
       "      <th>0</th>\n",
       "      <td>-636500.00</td>\n",
       "      <td>-662500.00</td>\n",
       "      <td>0.00</td>\n",
       "      <td>-1.00</td>\n",
       "      <td>0</td>\n",
       "      <td>0</td>\n",
       "      <td>0.00</td>\n",
       "      <td>2019-07-01</td>\n",
       "      <td>14.00</td>\n",
       "      <td>0.00</td>\n",
       "      <td>0.00</td>\n",
       "      <td>2019</td>\n",
       "      <td>3</td>\n",
       "      <td>7</td>\n",
       "    </tr>\n",
       "    <tr>\n",
       "      <th>1</th>\n",
       "      <td>-635500.00</td>\n",
       "      <td>-662500.00</td>\n",
       "      <td>0.00</td>\n",
       "      <td>-1.00</td>\n",
       "      <td>1</td>\n",
       "      <td>0</td>\n",
       "      <td>0.00</td>\n",
       "      <td>2019-07-01</td>\n",
       "      <td>14.00</td>\n",
       "      <td>0.00</td>\n",
       "      <td>0.00</td>\n",
       "      <td>2019</td>\n",
       "      <td>3</td>\n",
       "      <td>7</td>\n",
       "    </tr>\n",
       "    <tr>\n",
       "      <th>2</th>\n",
       "      <td>-634500.00</td>\n",
       "      <td>-662500.00</td>\n",
       "      <td>0.00</td>\n",
       "      <td>-1.00</td>\n",
       "      <td>2</td>\n",
       "      <td>0</td>\n",
       "      <td>0.00</td>\n",
       "      <td>2019-07-01</td>\n",
       "      <td>14.00</td>\n",
       "      <td>0.00</td>\n",
       "      <td>0.00</td>\n",
       "      <td>2019</td>\n",
       "      <td>3</td>\n",
       "      <td>7</td>\n",
       "    </tr>\n",
       "    <tr>\n",
       "      <th>3</th>\n",
       "      <td>-633500.00</td>\n",
       "      <td>-662500.00</td>\n",
       "      <td>0.00</td>\n",
       "      <td>-1.00</td>\n",
       "      <td>3</td>\n",
       "      <td>0</td>\n",
       "      <td>0.00</td>\n",
       "      <td>2019-07-01</td>\n",
       "      <td>14.00</td>\n",
       "      <td>0.00</td>\n",
       "      <td>0.00</td>\n",
       "      <td>2019</td>\n",
       "      <td>3</td>\n",
       "      <td>7</td>\n",
       "    </tr>\n",
       "    <tr>\n",
       "      <th>4</th>\n",
       "      <td>-632500.00</td>\n",
       "      <td>-662500.00</td>\n",
       "      <td>0.00</td>\n",
       "      <td>-1.00</td>\n",
       "      <td>4</td>\n",
       "      <td>0</td>\n",
       "      <td>0.00</td>\n",
       "      <td>2019-07-01</td>\n",
       "      <td>14.00</td>\n",
       "      <td>0.00</td>\n",
       "      <td>0.00</td>\n",
       "      <td>2019</td>\n",
       "      <td>3</td>\n",
       "      <td>7</td>\n",
       "    </tr>\n",
       "    <tr>\n",
       "      <th>...</th>\n",
       "      <td>...</td>\n",
       "      <td>...</td>\n",
       "      <td>...</td>\n",
       "      <td>...</td>\n",
       "      <td>...</td>\n",
       "      <td>...</td>\n",
       "      <td>...</td>\n",
       "      <td>...</td>\n",
       "      <td>...</td>\n",
       "      <td>...</td>\n",
       "      <td>...</td>\n",
       "      <td>...</td>\n",
       "      <td>...</td>\n",
       "      <td>...</td>\n",
       "    </tr>\n",
       "    <tr>\n",
       "      <th>2278720</th>\n",
       "      <td>58500.00</td>\n",
       "      <td>-3324500.00</td>\n",
       "      <td>0.00</td>\n",
       "      <td>-1.00</td>\n",
       "      <td>695</td>\n",
       "      <td>2662</td>\n",
       "      <td>0.00</td>\n",
       "      <td>2019-07-01</td>\n",
       "      <td>44.00</td>\n",
       "      <td>6.48</td>\n",
       "      <td>88.99</td>\n",
       "      <td>2019</td>\n",
       "      <td>3</td>\n",
       "      <td>7</td>\n",
       "    </tr>\n",
       "    <tr>\n",
       "      <th>2278721</th>\n",
       "      <td>59500.00</td>\n",
       "      <td>-3324500.00</td>\n",
       "      <td>0.00</td>\n",
       "      <td>-1.00</td>\n",
       "      <td>696</td>\n",
       "      <td>2662</td>\n",
       "      <td>0.00</td>\n",
       "      <td>2019-07-01</td>\n",
       "      <td>44.00</td>\n",
       "      <td>0.63</td>\n",
       "      <td>0.00</td>\n",
       "      <td>2019</td>\n",
       "      <td>3</td>\n",
       "      <td>7</td>\n",
       "    </tr>\n",
       "    <tr>\n",
       "      <th>2278722</th>\n",
       "      <td>60500.00</td>\n",
       "      <td>-3324500.00</td>\n",
       "      <td>0.00</td>\n",
       "      <td>-1.00</td>\n",
       "      <td>697</td>\n",
       "      <td>2662</td>\n",
       "      <td>0.00</td>\n",
       "      <td>2019-07-01</td>\n",
       "      <td>44.00</td>\n",
       "      <td>0.04</td>\n",
       "      <td>315.00</td>\n",
       "      <td>2019</td>\n",
       "      <td>3</td>\n",
       "      <td>7</td>\n",
       "    </tr>\n",
       "    <tr>\n",
       "      <th>2278723</th>\n",
       "      <td>61500.00</td>\n",
       "      <td>-3324500.00</td>\n",
       "      <td>0.00</td>\n",
       "      <td>-1.00</td>\n",
       "      <td>698</td>\n",
       "      <td>2662</td>\n",
       "      <td>0.00</td>\n",
       "      <td>2019-07-01</td>\n",
       "      <td>45.00</td>\n",
       "      <td>0.03</td>\n",
       "      <td>270.00</td>\n",
       "      <td>2019</td>\n",
       "      <td>3</td>\n",
       "      <td>7</td>\n",
       "    </tr>\n",
       "    <tr>\n",
       "      <th>2278724</th>\n",
       "      <td>62500.00</td>\n",
       "      <td>-3324500.00</td>\n",
       "      <td>0.00</td>\n",
       "      <td>-1.00</td>\n",
       "      <td>699</td>\n",
       "      <td>2662</td>\n",
       "      <td>0.00</td>\n",
       "      <td>2019-07-01</td>\n",
       "      <td>45.00</td>\n",
       "      <td>1.09</td>\n",
       "      <td>180.00</td>\n",
       "      <td>2019</td>\n",
       "      <td>3</td>\n",
       "      <td>7</td>\n",
       "    </tr>\n",
       "  </tbody>\n",
       "</table>\n",
       "<p>2278725 rows × 14 columns</p>\n",
       "</div>"
      ],
      "text/plain": [
       "                 x           y  mw_value  opt_value  col   row  mean  \\\n",
       "0       -636500.00  -662500.00      0.00      -1.00    0     0  0.00   \n",
       "1       -635500.00  -662500.00      0.00      -1.00    1     0  0.00   \n",
       "2       -634500.00  -662500.00      0.00      -1.00    2     0  0.00   \n",
       "3       -633500.00  -662500.00      0.00      -1.00    3     0  0.00   \n",
       "4       -632500.00  -662500.00      0.00      -1.00    4     0  0.00   \n",
       "...            ...         ...       ...        ...  ...   ...   ...   \n",
       "2278720   58500.00 -3324500.00      0.00      -1.00  695  2662  0.00   \n",
       "2278721   59500.00 -3324500.00      0.00      -1.00  696  2662  0.00   \n",
       "2278722   60500.00 -3324500.00      0.00      -1.00  697  2662  0.00   \n",
       "2278723   61500.00 -3324500.00      0.00      -1.00  698  2662  0.00   \n",
       "2278724   62500.00 -3324500.00      0.00      -1.00  699  2662  0.00   \n",
       "\n",
       "              date  elevation_data  slope_data  aspect_data  year  season  \\\n",
       "0       2019-07-01           14.00        0.00         0.00  2019       3   \n",
       "1       2019-07-01           14.00        0.00         0.00  2019       3   \n",
       "2       2019-07-01           14.00        0.00         0.00  2019       3   \n",
       "3       2019-07-01           14.00        0.00         0.00  2019       3   \n",
       "4       2019-07-01           14.00        0.00         0.00  2019       3   \n",
       "...            ...             ...         ...          ...   ...     ...   \n",
       "2278720 2019-07-01           44.00        6.48        88.99  2019       3   \n",
       "2278721 2019-07-01           44.00        0.63         0.00  2019       3   \n",
       "2278722 2019-07-01           44.00        0.04       315.00  2019       3   \n",
       "2278723 2019-07-01           45.00        0.03       270.00  2019       3   \n",
       "2278724 2019-07-01           45.00        1.09       180.00  2019       3   \n",
       "\n",
       "         month  \n",
       "0            7  \n",
       "1            7  \n",
       "2            7  \n",
       "3            7  \n",
       "4            7  \n",
       "...        ...  \n",
       "2278720      7  \n",
       "2278721      7  \n",
       "2278722      7  \n",
       "2278723      7  \n",
       "2278724      7  \n",
       "\n",
       "[2278725 rows x 14 columns]"
      ]
     },
     "execution_count": 52,
     "metadata": {},
     "output_type": "execute_result"
    }
   ],
   "source": [
    "def get_temporal_features(data):\n",
    "    date = data['date']\n",
    "    data[\"year\"] = date.dt.year\n",
    "    data[\"season\"] = date.dt.quarter\n",
    "    data[\"month\"] = date.dt.month\n",
    "\n",
    "    return data\n",
    "\n",
    "t = get_temporal_features(df)\n",
    "t[t[\"season\"] == 3]"
   ]
  },
  {
   "cell_type": "code",
   "execution_count": 80,
   "metadata": {},
   "outputs": [
    {
     "name": "stdout",
     "output_type": "stream",
     "text": [
      "Original coordinates: (-636500.0, -662500.0)\n",
      "Transformed coordinates: (81.53389147728227, -88.85335536270664)\n"
     ]
    }
   ],
   "source": [
    "import pyproj\n",
    "\n",
    "# Define the source and destination coordinate reference systems\n",
    "src_crs = pyproj.CRS.from_epsg(3413)  # WGS84 (longitude, latitude)\n",
    "dst_crs = pyproj.CRS.from_epsg(4326)  # Web Mercator (used by most online maps)\n",
    "\n",
    "# Define the transformer object\n",
    "transformer = pyproj.Transformer.from_crs(src_crs, dst_crs)\n",
    "\n",
    "# Transform a pair of coordinates\n",
    "x, y = -636500.00, -662500.00\t  # New York City\n",
    "lat, lon = transformer.transform(x, y)\n",
    "\n",
    "print(f\"Original coordinates: ({x}, {y})\")\n",
    "print(f\"Transformed coordinates: ({lat}, {lon})\")"
   ]
  },
  {
   "cell_type": "code",
   "execution_count": 160,
   "metadata": {},
   "outputs": [],
   "source": [
    "from suntime import Sun, SunTimeException\n",
    "\n",
    "\n",
    "sun = Sun(81.53389147728227, -88.85335536270664)\n",
    "\n",
    "# On a special date in your machine's local time zone\n",
    "abd = dt.date(2014, 10, 3)\n",
    "abd_sr = sun.get_local_sunrise_time(abd)\n",
    "abd_ss = sun.get_local_sunset_time(abd)"
   ]
  },
  {
   "cell_type": "code",
   "execution_count": 180,
   "metadata": {},
   "outputs": [
    {
     "data": {
      "text/plain": [
       "541.0"
      ]
     },
     "execution_count": 180,
     "metadata": {},
     "output_type": "execute_result"
    }
   ],
   "source": [
    "(abd_ss - abd_sr).seconds / 60"
   ]
  },
  {
   "cell_type": "code",
   "execution_count": 179,
   "metadata": {},
   "outputs": [
    {
     "ename": "SunTimeException",
     "evalue": "The sun never rises on this location (on the specified date)",
     "output_type": "error",
     "traceback": [
      "\u001b[1;31m---------------------------------------------------------------------------\u001b[0m",
      "\u001b[1;31mSunTimeException\u001b[0m                          Traceback (most recent call last)",
      "Cell \u001b[1;32mIn [179], line 26\u001b[0m\n\u001b[0;32m     22\u001b[0m       abd_duration \u001b[39m=\u001b[39m (abd_ss \u001b[39m-\u001b[39m abd_sr)\u001b[39m.\u001b[39mseconds \u001b[39m/\u001b[39m \u001b[39m60\u001b[39m\n\u001b[0;32m     24\u001b[0m       \u001b[39mreturn\u001b[39;00m abd_duration\n\u001b[1;32m---> 26\u001b[0m calculate_solar_duration(\u001b[39m-\u001b[39;49m\u001b[39m636500.00\u001b[39;49m\t, \u001b[39m-\u001b[39;49m\u001b[39m662500.0\u001b[39;49m, \u001b[39m\"\u001b[39;49m\u001b[39m2020-06-12\u001b[39;49m\u001b[39m\"\u001b[39;49m)\n",
      "Cell \u001b[1;32mIn [179], line 20\u001b[0m, in \u001b[0;36mcalculate_solar_duration\u001b[1;34m(x, y, date)\u001b[0m\n\u001b[0;32m     18\u001b[0m \u001b[39m# On a special date in your machine's local time zone\u001b[39;00m\n\u001b[0;32m     19\u001b[0m abd \u001b[39m=\u001b[39m dt\u001b[39m.\u001b[39mdatetime\u001b[39m.\u001b[39mstrptime(date, \u001b[39m\"\u001b[39m\u001b[39m%\u001b[39m\u001b[39mY-\u001b[39m\u001b[39m%\u001b[39m\u001b[39mm-\u001b[39m\u001b[39m%d\u001b[39;00m\u001b[39m\"\u001b[39m)\u001b[39m.\u001b[39mdate()\n\u001b[1;32m---> 20\u001b[0m abd_sr \u001b[39m=\u001b[39m sun\u001b[39m.\u001b[39;49mget_local_sunrise_time(abd)\n\u001b[0;32m     21\u001b[0m abd_ss \u001b[39m=\u001b[39m sun\u001b[39m.\u001b[39mget_local_sunset_time(abd)\n\u001b[0;32m     22\u001b[0m abd_duration \u001b[39m=\u001b[39m (abd_ss \u001b[39m-\u001b[39m abd_sr)\u001b[39m.\u001b[39mseconds \u001b[39m/\u001b[39m \u001b[39m60\u001b[39m\n",
      "File \u001b[1;32mc:\\Users\\ninaz\\anaconda3\\envs\\my-env\\lib\\site-packages\\suntime\\suntime.py:48\u001b[0m, in \u001b[0;36mSun.get_local_sunrise_time\u001b[1;34m(self, date, local_time_zone)\u001b[0m\n\u001b[0;32m     46\u001b[0m sr \u001b[39m=\u001b[39m \u001b[39mself\u001b[39m\u001b[39m.\u001b[39m_calc_sun_time(date, \u001b[39mTrue\u001b[39;00m)\n\u001b[0;32m     47\u001b[0m \u001b[39mif\u001b[39;00m sr \u001b[39mis\u001b[39;00m \u001b[39mNone\u001b[39;00m:\n\u001b[1;32m---> 48\u001b[0m     \u001b[39mraise\u001b[39;00m SunTimeException(\u001b[39m'\u001b[39m\u001b[39mThe sun never rises on this location (on the specified date)\u001b[39m\u001b[39m'\u001b[39m)\n\u001b[0;32m     49\u001b[0m \u001b[39melse\u001b[39;00m:\n\u001b[0;32m     50\u001b[0m     \u001b[39mreturn\u001b[39;00m sr\u001b[39m.\u001b[39mastimezone(local_time_zone)\n",
      "\u001b[1;31mSunTimeException\u001b[0m: The sun never rises on this location (on the specified date)"
     ]
    }
   ],
   "source": [
    "from suntime import Sun, SunTimeException\n",
    "\n",
    "# Define the source and destination coordinate reference systems\n",
    "src_crs = pyproj.CRS.from_epsg(3413)  # WGS84 (longitude, latitude)\n",
    "dst_crs = pyproj.CRS.from_epsg(4326)  # Web Mercator (used by most online maps)\n",
    "\n",
    "# Define the transformer object\n",
    "transformer = pyproj.Transformer.from_crs(src_crs, dst_crs)\n",
    "\n",
    "\n",
    "\n",
    "def calculate_solar_duration(x, y, date):\n",
    "\n",
    "      # Transform a pair of coordinates\n",
    "      lat, lon = transformer.transform(x, y)\n",
    "      sun = Sun(lat, lon)\n",
    "\n",
    "      # On a special date in your machine's local time zone\n",
    "      abd = dt.datetime.strptime(date, \"%Y-%m-%d\").date()\n",
    "      abd_sr = sun.get_local_sunrise_time(abd)\n",
    "      abd_ss = sun.get_local_sunset_time(abd)\n",
    "      abd_duration = (abd_ss - abd_sr).seconds / 60\n",
    "\n",
    "      return abd_duration\n",
    "\n",
    "calculate_solar_duration(-636500.00\t, -662500.0, \"2020-06-12\")"
>>>>>>> Stashed changes
   ]
  }
 ],
 "metadata": {
  "kernelspec": {
   "display_name": "Python 3.9.14 ('.venv': poetry)",
   "language": "python",
   "name": "python3"
  },
  "language_info": {
   "codemirror_mode": {
    "name": "ipython",
    "version": 3
   },
   "file_extension": ".py",
   "mimetype": "text/x-python",
   "name": "python",
   "nbconvert_exporter": "python",
   "pygments_lexer": "ipython3",
   "version": "3.9.14"
  },
  "orig_nbformat": 4,
  "vscode": {
   "interpreter": {
    "hash": "c1c6eaedbd5b3fcd114378d998a879d4f50715202363f6507059361ed549ecef"
   }
  }
 },
 "nbformat": 4,
 "nbformat_minor": 2
}
