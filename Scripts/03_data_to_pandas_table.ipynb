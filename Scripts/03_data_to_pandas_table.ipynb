{
 "cells": [
  {
   "cell_type": "markdown",
   "metadata": {},
   "source": [
    "# Data to Pandas table"
   ]
  },
  {
   "cell_type": "markdown",
   "metadata": {},
   "source": [
    "**Purpose of script:**\n",
    "\n",
    "Merge mw and opt data to one pandas dataframe, one row per pixel.\n",
    "\n",
    "- In: opt and mw data (all files)\n",
    "- Out: one parquet file with a plain dataframe of combined mw and opt values."
   ]
  },
  {
   "cell_type": "code",
   "execution_count": 1,
   "metadata": {},
   "outputs": [],
   "source": [
    "import xarray\n",
    "import pandas as pd\n",
    "\n",
    "from os import listdir\n",
    "from os.path import isfile, join"
   ]
  },
  {
   "cell_type": "markdown",
   "metadata": {},
   "source": [
    "Relevant Paths"
   ]
  },
  {
   "cell_type": "code",
   "execution_count": 2,
   "metadata": {},
   "outputs": [],
   "source": [
    "mw_path = r\"../Data/microwave-rs/mw_interpolated/\"\n",
    "opt_path = r\"../Data/optical-rs/\"\n",
    "\n",
    "out_path = r\"../Data/combined/dataframe_plain/\""
   ]
  },
  {
   "cell_type": "markdown",
   "metadata": {},
   "source": [
    "Functions"
   ]
  },
  {
   "cell_type": "code",
   "execution_count": 3,
   "metadata": {},
   "outputs": [],
   "source": [
    "def raster_to_pandas(data, mw_or_opt):\n",
    "    # convert mw to pandas\n",
    "    data = data.to_dataframe()\n",
    "    # fix index\n",
    "    data = data.reset_index()\n",
    "    # remove columns: spacial_ref, band\n",
    "    data = data[['x', 'y', 'band_data']]\n",
    "    # rename\n",
    "    if mw_or_opt in (['mw', 'microwave']):\n",
    "        data.rename({'band_data': 'mw_value'}, axis=1, inplace=True)\n",
    "    elif mw_or_opt in (['opt', 'optical']):\n",
    "        data.rename({'band_data': 'opt_value'}, axis=1, inplace=True)\n",
    "        # fill na for masked opt data, don't remember why needed\n",
    "        data['opt_value'].fillna(-1, inplace=True)\n",
    "    else:\n",
    "        print('mw or opt?')\n",
    "    return data"
   ]
  },
  {
   "cell_type": "code",
   "execution_count": 4,
   "metadata": {},
   "outputs": [],
   "source": [
    "def main(mw_path, opt_path, out_path):\n",
    "    # get files:\n",
    "    mw_files = [f for f in listdir(mw_path) if isfile(join(mw_path, f))]\n",
    "    opt_files = [f for f in listdir(opt_path) if isfile(join(opt_path, f))]\n",
    "\n",
    "    for opt_file in opt_files: # opt files have missing data so vice versa would give errors\n",
    "        melt_date =  opt_file[:10]\n",
    "        for mw_file in mw_files:\n",
    "            if mw_file.startswith(melt_date):\n",
    "                print(melt_date)\n",
    "                data_opt = xarray.open_dataarray(opt_path + opt_file)\n",
    "                data_mw = xarray.open_dataarray(mw_path + mw_file)\n",
    "                # to pandas:\n",
    "                df_mw = raster_to_pandas(data_mw, 'mw')\n",
    "                df_opt = raster_to_pandas(data_opt, 'opt')\n",
    "                # merge the two dataframes:\n",
    "                df_combined = pd.merge(df_mw, df_opt, how = 'left', on = ['y', 'x']) # left smaller mw, right - opt\n",
    "                # write to parquet:\n",
    "                df_combined.to_parquet(out_path + 'melt_'+ melt_date + '.parquet.gzip', index= False)\n",
    "    return\n",
    "                "
   ]
  },
  {
   "cell_type": "markdown",
   "metadata": {},
   "source": [
    "Main"
   ]
  },
  {
   "cell_type": "code",
   "execution_count": 5,
   "metadata": {},
   "outputs": [
    {
     "name": "stdout",
     "output_type": "stream",
     "text": [
      "2019-06-08\n",
      "2019-06-10\n",
      "2019-06-11\n",
      "2019-06-12\n",
      "2019-06-13\n",
      "2019-06-14\n",
      "2019-06-15\n",
      "2019-06-16\n",
      "2019-06-17\n",
      "2019-06-18\n",
      "2019-06-19\n",
      "2019-06-20\n",
      "2019-06-21\n",
      "2019-06-22\n",
      "2019-06-23\n",
      "2019-06-24\n",
      "2019-06-25\n",
      "2019-06-26\n",
      "2019-06-27\n",
      "2019-06-28\n",
      "2019-06-29\n",
      "2019-06-30\n",
      "2019-07-01\n",
      "2019-07-02\n",
      "2019-07-03\n",
      "2019-07-04\n",
      "2019-07-05\n",
      "2019-07-06\n",
      "2019-07-07\n",
      "2019-07-08\n",
      "2019-07-09\n",
      "2019-07-10\n",
      "2019-07-11\n",
      "2019-07-12\n",
      "2019-07-13\n",
      "2019-07-14\n",
      "2019-07-15\n",
      "2019-07-16\n",
      "2019-07-17\n",
      "2019-07-18\n",
      "2019-07-19\n",
      "2019-07-20\n",
      "2019-07-21\n",
      "2019-07-22\n",
      "2019-07-23\n",
      "2019-07-24\n",
      "2019-07-25\n",
      "2019-07-26\n",
      "2019-07-27\n",
      "2019-07-28\n",
      "2019-07-29\n",
      "2019-07-30\n",
      "2019-07-31\n"
     ]
    }
   ],
   "source": [
    "main(mw_path, opt_path, out_path)"
   ]
  },
  {
   "cell_type": "code",
   "execution_count": null,
   "metadata": {},
   "outputs": [],
   "source": []
  }
 ],
 "metadata": {
  "kernelspec": {
   "display_name": "Python 3.9.14 ('.venv': poetry)",
   "language": "python",
   "name": "python3"
  },
  "language_info": {
   "codemirror_mode": {
    "name": "ipython",
    "version": 3
   },
   "file_extension": ".py",
   "mimetype": "text/x-python",
   "name": "python",
   "nbconvert_exporter": "python",
   "pygments_lexer": "ipython3",
   "version": "3.9.14"
  },
  "orig_nbformat": 4,
  "vscode": {
   "interpreter": {
    "hash": "c1c6eaedbd5b3fcd114378d998a879d4f50715202363f6507059361ed549ecef"
   }
  }
 },
 "nbformat": 4,
 "nbformat_minor": 2
}
