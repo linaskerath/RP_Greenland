{
 "cells": [
  {
   "attachments": {},
   "cell_type": "markdown",
   "metadata": {},
   "source": [
    "# Model Benchmark"
   ]
  },
  {
   "attachments": {},
   "cell_type": "markdown",
   "metadata": {},
   "source": [
    "**Purpose of script:**\n",
    "\n",
    "Benchmarking regression models.\n",
    "Two types of benchmarks are produced:\n",
    "- Microwave benchmark: raw data input to output benchmark - direct comparison of microwave and optical data.\n",
    "- Mean value benchark: mean value of training data lables is derived to check benchmark performance. \n",
    "\n",
    "\n",
    "In: training data: can be plain (not enhanced) df or extended df (but only mw data will be used).\n",
    "\n",
    "Out: no written output, benchmark performance."
   ]
  },
  {
   "cell_type": "code",
   "execution_count": 25,
   "metadata": {},
   "outputs": [],
   "source": [
    "df_path = r\"../Data/combined/dataframe_extended/\"\n",
    "\n",
    "date_from = '2019-07-01'\n",
    "date_to = '2019-07-02'\n",
    "\n",
    "# periods (train-test) are defined manually\n",
    "# train data needs to be cv split "
   ]
  },
  {
   "cell_type": "code",
   "execution_count": null,
   "metadata": {},
   "outputs": [],
   "source": []
  }
 ],
 "metadata": {
  "kernelspec": {
   "display_name": ".venv",
   "language": "python",
   "name": "python3"
  },
  "language_info": {
   "codemirror_mode": {
    "name": "ipython",
    "version": 3
   },
   "file_extension": ".py",
   "mimetype": "text/x-python",
   "name": "python",
   "nbconvert_exporter": "python",
   "pygments_lexer": "ipython3",
   "version": "3.9.14"
  },
  "orig_nbformat": 4,
  "vscode": {
   "interpreter": {
    "hash": "c1c6eaedbd5b3fcd114378d998a879d4f50715202363f6507059361ed549ecef"
   }
  }
 },
 "nbformat": 4,
 "nbformat_minor": 2
}
