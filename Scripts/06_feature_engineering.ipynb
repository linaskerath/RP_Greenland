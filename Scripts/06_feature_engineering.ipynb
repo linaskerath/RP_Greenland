{
 "cells": [
  {
   "cell_type": "markdown",
   "metadata": {},
   "source": [
    "# Feature engineering"
   ]
  },
  {
   "cell_type": "markdown",
   "metadata": {},
   "source": [
    "**Purpose of script:**\n",
    "\n",
    "Creating new features "
   ]
  },
  {
   "cell_type": "code",
   "execution_count": 1,
   "metadata": {},
   "outputs": [],
   "source": [
    "import pandas as pd\n",
    "import numpy as np\n",
    "\n",
    "import xarray\n",
    "import rasterio\n",
    "\n",
    "from os import listdir\n",
    "from os.path import isfile, join"
   ]
  },
  {
   "cell_type": "markdown",
   "metadata": {},
   "source": [
    "## Features:"
   ]
  },
  {
   "cell_type": "markdown",
   "metadata": {},
   "source": [
    "In script 05:\n",
    "- Column and row numbers\n",
    "- Neighboring pixels\n",
    "- Water pixels from mw removed \n",
    "\n"
   ]
  },
  {
   "cell_type": "markdown",
   "metadata": {},
   "source": [
    "Date"
   ]
  },
  {
   "cell_type": "code",
   "execution_count": 2,
   "metadata": {},
   "outputs": [],
   "source": [
    "def add_date(df):\n",
    "    df['date'] = '2019-07-01'\n",
    "    df[\"date\"]= pd.to_datetime(df[\"date\"])\n",
    "    # df['month'] = df[\"date\"].dt.month\n",
    "    return df"
   ]
  },
  {
   "cell_type": "markdown",
   "metadata": {},
   "source": [
    "Aggregated/pooled values"
   ]
  },
  {
   "cell_type": "code",
   "execution_count": 3,
   "metadata": {},
   "outputs": [],
   "source": [
    "def add_aggregated(df):\n",
    "    cols = ['v1', 'v2', 'v3', 'v4', 'v5', 'v6', 'v7', 'v8', 'v9'] # delet v5? same as mw value\n",
    "    df[cols] = df[cols].replace(-1, np.NaN) # to skip -1 when calculating mean\n",
    "    df['mean'] = df[cols].mean(axis = 1) # mean value of 9 pixels around\n",
    "    return df"
   ]
  },
  {
   "cell_type": "markdown",
   "metadata": {},
   "source": [
    "Elevation data"
   ]
  },
  {
   "cell_type": "code",
   "execution_count": 4,
   "metadata": {},
   "outputs": [],
   "source": [
    "# for exploration and testing:\n",
    "# data_elevation = xarray.open_dataarray(path_elevation)\n",
    "# with rasterio.open(path_elevation) as dataset_elev:\n",
    "#     print(dataset_elev.crs)\n",
    "# # reference system matches opt an mw data\n",
    "\n",
    "# print(data_elevation.shape) # shape seems same as optical data\n",
    "\n",
    "# plot:\n",
    "# import matplotlib.pyplot as plt\n",
    "# fig, axes = plt.subplots(ncols=1, figsize=(4,5))\n",
    "# data_elevation.plot(ax=axes) # , cmap = cmap\n",
    "# plt.draw()"
   ]
  },
  {
   "cell_type": "code",
   "execution_count": 5,
   "metadata": {},
   "outputs": [],
   "source": [
    "def add_elevation(data):\n",
    "    df = data.to_dataframe()\n",
    "    df = df.reset_index()\n",
    "    df = df[['x', 'y', 'band_data']]\n",
    "    df.rename({'band_data': 'elevation_data'}, axis=1, inplace=True)\n",
    "    return df"
   ]
  },
  {
   "cell_type": "markdown",
   "metadata": {},
   "source": [
    "Distance from margin/shore"
   ]
  },
  {
   "cell_type": "code",
   "execution_count": 6,
   "metadata": {},
   "outputs": [],
   "source": [
    "# add if coast column - if at least one na but not all "
   ]
  },
  {
   "cell_type": "markdown",
   "metadata": {},
   "source": [
    "Geohash"
   ]
  },
  {
   "cell_type": "code",
   "execution_count": 7,
   "metadata": {},
   "outputs": [],
   "source": [
    "# convert x and y to useful sections of geodata"
   ]
  },
  {
   "cell_type": "markdown",
   "metadata": {},
   "source": [
    "## Main:"
   ]
  },
  {
   "cell_type": "code",
   "execution_count": 8,
   "metadata": {},
   "outputs": [],
   "source": [
    "def main(df_path, path_elevation, out_path):\n",
    "    # load elevation data\n",
    "    data_elevation = xarray.open_dataarray(path_elevation)\n",
    "    # get files\n",
    "    files = [f for f in listdir(df_path) if isfile(join(df_path, f))]\n",
    "\n",
    "    # # TEMP \n",
    "    # files = [files[0]]\n",
    "\n",
    "    # loop \n",
    "    for file in files: \n",
    "        melt_date =  file[5:15]\n",
    "        \n",
    "        # data load \n",
    "        df = pd.read_parquet(df_path + file)\n",
    "        df = add_date(df)\n",
    "        df = add_aggregated(df)\n",
    "        df_elevation = add_elevation(data_elevation)\n",
    "\n",
    "        # merge\n",
    "        df_with_elevation = pd.merge(df, df_elevation, how = 'left', on = ['y', 'x']) # left smaller mw, right - opt\n",
    "\n",
    "        #print(df_with_elevation.shape) # (2278725, 18) or (752690, 18)\n",
    "        # write:\n",
    "        df_with_elevation.to_parquet(out_path + 'melt_' + melt_date + '_extended.parquet.gzip', index= False) \n",
    "    return"
   ]
  },
  {
   "cell_type": "code",
   "execution_count": 9,
   "metadata": {},
   "outputs": [],
   "source": [
    "# paths\n",
    "df_path = r\"../Data/combined/to_pandas/\"\n",
    "out_path = r\"../Data/combined/pandas_extended/\"\n",
    "\n",
    "# elevation data:\n",
    "path_elevation =  r\"../Data/elevation_data/gimpdem_1km_compressed.tif\"\n",
    "\n",
    "main(df_path, path_elevation, out_path)"
   ]
  },
  {
   "cell_type": "code",
   "execution_count": null,
   "metadata": {},
   "outputs": [],
   "source": []
  }
 ],
 "metadata": {
  "kernelspec": {
   "display_name": "Python 3.9.14 ('.venv': poetry)",
   "language": "python",
   "name": "python3"
  },
  "language_info": {
   "codemirror_mode": {
    "name": "ipython",
    "version": 3
   },
   "file_extension": ".py",
   "mimetype": "text/x-python",
   "name": "python",
   "nbconvert_exporter": "python",
   "pygments_lexer": "ipython3",
   "version": "3.9.14"
  },
  "orig_nbformat": 4,
  "vscode": {
   "interpreter": {
    "hash": "c1c6eaedbd5b3fcd114378d998a879d4f50715202363f6507059361ed549ecef"
   }
  }
 },
 "nbformat": 4,
 "nbformat_minor": 2
}
