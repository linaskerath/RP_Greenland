{
 "cells": [
  {
   "cell_type": "markdown",
   "metadata": {},
   "source": [
    "# Feature engineering"
   ]
  },
  {
   "cell_type": "markdown",
   "metadata": {},
   "source": [
    "**Purpose of script:**\n",
    "\n",
    "Creating new features "
   ]
  },
  {
   "cell_type": "code",
   "execution_count": 3,
   "metadata": {},
   "outputs": [],
   "source": [
    "# imports\n",
    "import pandas as pd\n",
    "import numpy as np"
   ]
  },
  {
   "cell_type": "code",
   "execution_count": 4,
   "metadata": {},
   "outputs": [],
   "source": [
    "# paths\n",
    "df_path = r\"../Data/combined/\"\n",
    "\n",
    "out_path = r\"../Data/combined/pandas_extended\""
   ]
  },
  {
   "cell_type": "code",
   "execution_count": 5,
   "metadata": {},
   "outputs": [],
   "source": [
    "# data load \n",
    "#df = pd.read_csv(df_path + 'melt_2019-07-01.csv')\n",
    "df = pd.read_parquet(df_path + 'melt_2019-07-02.parquet.gzip')"
   ]
  },
  {
   "cell_type": "markdown",
   "metadata": {},
   "source": [
    "## Features:"
   ]
  },
  {
   "cell_type": "markdown",
   "metadata": {},
   "source": [
    "In script 05:\n",
    "- Column and row numbers\n",
    "- Neighboring pixels\n",
    "- Water pixels from mw removed \n",
    "\n"
   ]
  },
  {
   "cell_type": "markdown",
   "metadata": {},
   "source": [
    "Date"
   ]
  },
  {
   "cell_type": "code",
   "execution_count": 6,
   "metadata": {},
   "outputs": [],
   "source": [
    "df['date'] = '2019-07-02'\n",
    "df[\"date\"]= pd.to_datetime(df[\"date\"])\n",
    "# df['month'] = df[\"date\"].dt.month"
   ]
  },
  {
   "cell_type": "markdown",
   "metadata": {},
   "source": [
    "Aggregated/pooled values"
   ]
  },
  {
   "cell_type": "code",
   "execution_count": 7,
   "metadata": {},
   "outputs": [],
   "source": [
    "# delet v5? same as mw value"
   ]
  },
  {
   "cell_type": "code",
   "execution_count": 8,
   "metadata": {},
   "outputs": [],
   "source": [
    "cols = ['v1', 'v2', 'v3', 'v4', 'v5', 'v6', 'v7', 'v8', 'v9']"
   ]
  },
  {
   "cell_type": "code",
   "execution_count": 9,
   "metadata": {},
   "outputs": [],
   "source": [
    "df[cols] = df[cols].replace(-1, np.NaN) # to skip -1 when calculating mean\n",
    "df['mean'] = df[cols].mean(axis = 1) # mean value of 9 pixels around"
   ]
  },
  {
   "cell_type": "markdown",
   "metadata": {},
   "source": [
    "Elevation data"
   ]
  },
  {
   "cell_type": "code",
   "execution_count": 10,
   "metadata": {},
   "outputs": [],
   "source": [
    "import xarray\n",
    "import rasterio"
   ]
  },
  {
   "cell_type": "code",
   "execution_count": 11,
   "metadata": {},
   "outputs": [],
   "source": [
    "path_elevation =  r\"../Data/elevation_data/Greenland_1km.tif\"\n",
    "data_elevation = xarray.open_dataarray(path_elevation)\n"
   ]
  },
  {
   "cell_type": "code",
   "execution_count": 12,
   "metadata": {},
   "outputs": [
    {
     "name": "stdout",
     "output_type": "stream",
     "text": [
      "EPSG:3413\n",
      "(1, 2687, 1487)\n"
     ]
    }
   ],
   "source": [
    "with rasterio.open(path_elevation) as dataset_elev:\n",
    "    print(dataset_elev.crs)\n",
    "# reference system matches opt an mw data\n",
    "\n",
    "print(data_elevation.shape) # shape seems same as optical data"
   ]
  },
  {
   "cell_type": "code",
   "execution_count": 13,
   "metadata": {},
   "outputs": [],
   "source": [
    "# import matplotlib.pyplot as plt\n",
    "# fig, axes = plt.subplots(ncols=1, figsize=(4,5))\n",
    "# data_elevation.plot(ax=axes) # , cmap = cmap\n",
    "# plt.draw()"
   ]
  },
  {
   "cell_type": "code",
   "execution_count": 14,
   "metadata": {},
   "outputs": [],
   "source": [
    "df_elevation = data_elevation.to_dataframe()\n",
    "df_elevation = df_elevation.reset_index()\n",
    "df_elevation = df_elevation[['x', 'y', 'band_data']]\n",
    "df_elevation.rename({'band_data': 'elevation_data'}, axis=1, inplace=True)"
   ]
  },
  {
   "cell_type": "code",
   "execution_count": 15,
   "metadata": {},
   "outputs": [
    {
     "data": {
      "text/html": [
       "<div>\n",
       "<style scoped>\n",
       "    .dataframe tbody tr th:only-of-type {\n",
       "        vertical-align: middle;\n",
       "    }\n",
       "\n",
       "    .dataframe tbody tr th {\n",
       "        vertical-align: top;\n",
       "    }\n",
       "\n",
       "    .dataframe thead th {\n",
       "        text-align: right;\n",
       "    }\n",
       "</style>\n",
       "<table border=\"1\" class=\"dataframe\">\n",
       "  <thead>\n",
       "    <tr style=\"text-align: right;\">\n",
       "      <th></th>\n",
       "      <th>x</th>\n",
       "      <th>y</th>\n",
       "      <th>elevation_data</th>\n",
       "    </tr>\n",
       "  </thead>\n",
       "  <tbody>\n",
       "    <tr>\n",
       "      <th>0</th>\n",
       "      <td>-636500.0</td>\n",
       "      <td>-662500.0</td>\n",
       "      <td>NaN</td>\n",
       "    </tr>\n",
       "    <tr>\n",
       "      <th>1</th>\n",
       "      <td>-635500.0</td>\n",
       "      <td>-662500.0</td>\n",
       "      <td>NaN</td>\n",
       "    </tr>\n",
       "    <tr>\n",
       "      <th>2</th>\n",
       "      <td>-634500.0</td>\n",
       "      <td>-662500.0</td>\n",
       "      <td>NaN</td>\n",
       "    </tr>\n",
       "    <tr>\n",
       "      <th>3</th>\n",
       "      <td>-633500.0</td>\n",
       "      <td>-662500.0</td>\n",
       "      <td>NaN</td>\n",
       "    </tr>\n",
       "    <tr>\n",
       "      <th>4</th>\n",
       "      <td>-632500.0</td>\n",
       "      <td>-662500.0</td>\n",
       "      <td>NaN</td>\n",
       "    </tr>\n",
       "    <tr>\n",
       "      <th>...</th>\n",
       "      <td>...</td>\n",
       "      <td>...</td>\n",
       "      <td>...</td>\n",
       "    </tr>\n",
       "    <tr>\n",
       "      <th>3995564</th>\n",
       "      <td>845500.0</td>\n",
       "      <td>-3348500.0</td>\n",
       "      <td>NaN</td>\n",
       "    </tr>\n",
       "    <tr>\n",
       "      <th>3995565</th>\n",
       "      <td>846500.0</td>\n",
       "      <td>-3348500.0</td>\n",
       "      <td>NaN</td>\n",
       "    </tr>\n",
       "    <tr>\n",
       "      <th>3995566</th>\n",
       "      <td>847500.0</td>\n",
       "      <td>-3348500.0</td>\n",
       "      <td>NaN</td>\n",
       "    </tr>\n",
       "    <tr>\n",
       "      <th>3995567</th>\n",
       "      <td>848500.0</td>\n",
       "      <td>-3348500.0</td>\n",
       "      <td>NaN</td>\n",
       "    </tr>\n",
       "    <tr>\n",
       "      <th>3995568</th>\n",
       "      <td>849500.0</td>\n",
       "      <td>-3348500.0</td>\n",
       "      <td>NaN</td>\n",
       "    </tr>\n",
       "  </tbody>\n",
       "</table>\n",
       "<p>3995569 rows × 3 columns</p>\n",
       "</div>"
      ],
      "text/plain": [
       "                x          y  elevation_data\n",
       "0       -636500.0  -662500.0             NaN\n",
       "1       -635500.0  -662500.0             NaN\n",
       "2       -634500.0  -662500.0             NaN\n",
       "3       -633500.0  -662500.0             NaN\n",
       "4       -632500.0  -662500.0             NaN\n",
       "...           ...        ...             ...\n",
       "3995564  845500.0 -3348500.0             NaN\n",
       "3995565  846500.0 -3348500.0             NaN\n",
       "3995566  847500.0 -3348500.0             NaN\n",
       "3995567  848500.0 -3348500.0             NaN\n",
       "3995568  849500.0 -3348500.0             NaN\n",
       "\n",
       "[3995569 rows x 3 columns]"
      ]
     },
     "execution_count": 15,
     "metadata": {},
     "output_type": "execute_result"
    }
   ],
   "source": [
    "df_elevation"
   ]
  },
  {
   "cell_type": "code",
   "execution_count": 16,
   "metadata": {},
   "outputs": [],
   "source": [
    "# merge\n",
    "df_with_elevation = pd.merge(df, df_elevation, how = 'left', on = ['y', 'x']) # left smaller mw, right - opt"
   ]
  },
  {
   "cell_type": "code",
   "execution_count": 17,
   "metadata": {},
   "outputs": [
    {
     "data": {
      "text/html": [
       "<div>\n",
       "<style scoped>\n",
       "    .dataframe tbody tr th:only-of-type {\n",
       "        vertical-align: middle;\n",
       "    }\n",
       "\n",
       "    .dataframe tbody tr th {\n",
       "        vertical-align: top;\n",
       "    }\n",
       "\n",
       "    .dataframe thead th {\n",
       "        text-align: right;\n",
       "    }\n",
       "</style>\n",
       "<table border=\"1\" class=\"dataframe\">\n",
       "  <thead>\n",
       "    <tr style=\"text-align: right;\">\n",
       "      <th></th>\n",
       "      <th>x</th>\n",
       "      <th>y</th>\n",
       "      <th>mw_value</th>\n",
       "      <th>opt_value</th>\n",
       "      <th>col</th>\n",
       "      <th>row</th>\n",
       "      <th>v1</th>\n",
       "      <th>v2</th>\n",
       "      <th>v3</th>\n",
       "      <th>v4</th>\n",
       "      <th>v5</th>\n",
       "      <th>v6</th>\n",
       "      <th>v7</th>\n",
       "      <th>v8</th>\n",
       "      <th>v9</th>\n",
       "      <th>date</th>\n",
       "      <th>mean</th>\n",
       "      <th>elevation_data</th>\n",
       "    </tr>\n",
       "  </thead>\n",
       "  <tbody>\n",
       "    <tr>\n",
       "      <th>0</th>\n",
       "      <td>206500.0</td>\n",
       "      <td>-677500.0</td>\n",
       "      <td>0.0</td>\n",
       "      <td>0.148801</td>\n",
       "      <td>843</td>\n",
       "      <td>15</td>\n",
       "      <td>0.0</td>\n",
       "      <td>0.0</td>\n",
       "      <td>0.0</td>\n",
       "      <td>0.0</td>\n",
       "      <td>0.0</td>\n",
       "      <td>0.0</td>\n",
       "      <td>0.0</td>\n",
       "      <td>0.0</td>\n",
       "      <td>0.0</td>\n",
       "      <td>2019-07-02</td>\n",
       "      <td>0.0</td>\n",
       "      <td>150.0</td>\n",
       "    </tr>\n",
       "    <tr>\n",
       "      <th>1</th>\n",
       "      <td>186500.0</td>\n",
       "      <td>-678500.0</td>\n",
       "      <td>0.0</td>\n",
       "      <td>0.015469</td>\n",
       "      <td>823</td>\n",
       "      <td>16</td>\n",
       "      <td>0.0</td>\n",
       "      <td>0.0</td>\n",
       "      <td>0.0</td>\n",
       "      <td>0.0</td>\n",
       "      <td>0.0</td>\n",
       "      <td>0.0</td>\n",
       "      <td>0.0</td>\n",
       "      <td>0.0</td>\n",
       "      <td>0.0</td>\n",
       "      <td>2019-07-02</td>\n",
       "      <td>0.0</td>\n",
       "      <td>150.0</td>\n",
       "    </tr>\n",
       "    <tr>\n",
       "      <th>2</th>\n",
       "      <td>187500.0</td>\n",
       "      <td>-678500.0</td>\n",
       "      <td>0.0</td>\n",
       "      <td>0.013495</td>\n",
       "      <td>824</td>\n",
       "      <td>16</td>\n",
       "      <td>0.0</td>\n",
       "      <td>0.0</td>\n",
       "      <td>0.0</td>\n",
       "      <td>0.0</td>\n",
       "      <td>0.0</td>\n",
       "      <td>0.0</td>\n",
       "      <td>0.0</td>\n",
       "      <td>0.0</td>\n",
       "      <td>0.0</td>\n",
       "      <td>2019-07-02</td>\n",
       "      <td>0.0</td>\n",
       "      <td>150.0</td>\n",
       "    </tr>\n",
       "    <tr>\n",
       "      <th>3</th>\n",
       "      <td>188500.0</td>\n",
       "      <td>-678500.0</td>\n",
       "      <td>0.0</td>\n",
       "      <td>0.101540</td>\n",
       "      <td>825</td>\n",
       "      <td>16</td>\n",
       "      <td>0.0</td>\n",
       "      <td>0.0</td>\n",
       "      <td>0.0</td>\n",
       "      <td>0.0</td>\n",
       "      <td>0.0</td>\n",
       "      <td>0.0</td>\n",
       "      <td>0.0</td>\n",
       "      <td>0.0</td>\n",
       "      <td>0.0</td>\n",
       "      <td>2019-07-02</td>\n",
       "      <td>0.0</td>\n",
       "      <td>150.0</td>\n",
       "    </tr>\n",
       "    <tr>\n",
       "      <th>4</th>\n",
       "      <td>190500.0</td>\n",
       "      <td>-678500.0</td>\n",
       "      <td>0.0</td>\n",
       "      <td>0.000418</td>\n",
       "      <td>827</td>\n",
       "      <td>16</td>\n",
       "      <td>0.0</td>\n",
       "      <td>0.0</td>\n",
       "      <td>0.0</td>\n",
       "      <td>0.0</td>\n",
       "      <td>0.0</td>\n",
       "      <td>0.0</td>\n",
       "      <td>0.0</td>\n",
       "      <td>0.0</td>\n",
       "      <td>0.0</td>\n",
       "      <td>2019-07-02</td>\n",
       "      <td>0.0</td>\n",
       "      <td>150.0</td>\n",
       "    </tr>\n",
       "    <tr>\n",
       "      <th>...</th>\n",
       "      <td>...</td>\n",
       "      <td>...</td>\n",
       "      <td>...</td>\n",
       "      <td>...</td>\n",
       "      <td>...</td>\n",
       "      <td>...</td>\n",
       "      <td>...</td>\n",
       "      <td>...</td>\n",
       "      <td>...</td>\n",
       "      <td>...</td>\n",
       "      <td>...</td>\n",
       "      <td>...</td>\n",
       "      <td>...</td>\n",
       "      <td>...</td>\n",
       "      <td>...</td>\n",
       "      <td>...</td>\n",
       "      <td>...</td>\n",
       "      <td>...</td>\n",
       "    </tr>\n",
       "    <tr>\n",
       "      <th>1026834</th>\n",
       "      <td>-11500.0</td>\n",
       "      <td>-3308500.0</td>\n",
       "      <td>0.0</td>\n",
       "      <td>0.001044</td>\n",
       "      <td>625</td>\n",
       "      <td>2646</td>\n",
       "      <td>NaN</td>\n",
       "      <td>0.0</td>\n",
       "      <td>0.0</td>\n",
       "      <td>NaN</td>\n",
       "      <td>0.0</td>\n",
       "      <td>0.0</td>\n",
       "      <td>NaN</td>\n",
       "      <td>0.0</td>\n",
       "      <td>0.0</td>\n",
       "      <td>2019-07-02</td>\n",
       "      <td>0.0</td>\n",
       "      <td>110.0</td>\n",
       "    </tr>\n",
       "    <tr>\n",
       "      <th>1026835</th>\n",
       "      <td>42500.0</td>\n",
       "      <td>-3314500.0</td>\n",
       "      <td>0.0</td>\n",
       "      <td>0.008728</td>\n",
       "      <td>679</td>\n",
       "      <td>2652</td>\n",
       "      <td>0.0</td>\n",
       "      <td>0.0</td>\n",
       "      <td>0.0</td>\n",
       "      <td>0.0</td>\n",
       "      <td>0.0</td>\n",
       "      <td>0.0</td>\n",
       "      <td>0.0</td>\n",
       "      <td>0.0</td>\n",
       "      <td>0.0</td>\n",
       "      <td>2019-07-02</td>\n",
       "      <td>0.0</td>\n",
       "      <td>130.0</td>\n",
       "    </tr>\n",
       "    <tr>\n",
       "      <th>1026836</th>\n",
       "      <td>58500.0</td>\n",
       "      <td>-3314500.0</td>\n",
       "      <td>0.0</td>\n",
       "      <td>0.013714</td>\n",
       "      <td>695</td>\n",
       "      <td>2652</td>\n",
       "      <td>0.0</td>\n",
       "      <td>0.0</td>\n",
       "      <td>0.0</td>\n",
       "      <td>0.0</td>\n",
       "      <td>0.0</td>\n",
       "      <td>0.0</td>\n",
       "      <td>0.0</td>\n",
       "      <td>0.0</td>\n",
       "      <td>0.0</td>\n",
       "      <td>2019-07-02</td>\n",
       "      <td>0.0</td>\n",
       "      <td>150.0</td>\n",
       "    </tr>\n",
       "    <tr>\n",
       "      <th>1026837</th>\n",
       "      <td>54500.0</td>\n",
       "      <td>-3318500.0</td>\n",
       "      <td>0.0</td>\n",
       "      <td>0.013711</td>\n",
       "      <td>691</td>\n",
       "      <td>2656</td>\n",
       "      <td>0.0</td>\n",
       "      <td>0.0</td>\n",
       "      <td>0.0</td>\n",
       "      <td>0.0</td>\n",
       "      <td>0.0</td>\n",
       "      <td>0.0</td>\n",
       "      <td>0.0</td>\n",
       "      <td>0.0</td>\n",
       "      <td>0.0</td>\n",
       "      <td>2019-07-02</td>\n",
       "      <td>0.0</td>\n",
       "      <td>150.0</td>\n",
       "    </tr>\n",
       "    <tr>\n",
       "      <th>1026838</th>\n",
       "      <td>55500.0</td>\n",
       "      <td>-3318500.0</td>\n",
       "      <td>0.0</td>\n",
       "      <td>0.012581</td>\n",
       "      <td>692</td>\n",
       "      <td>2656</td>\n",
       "      <td>0.0</td>\n",
       "      <td>0.0</td>\n",
       "      <td>0.0</td>\n",
       "      <td>0.0</td>\n",
       "      <td>0.0</td>\n",
       "      <td>0.0</td>\n",
       "      <td>0.0</td>\n",
       "      <td>0.0</td>\n",
       "      <td>0.0</td>\n",
       "      <td>2019-07-02</td>\n",
       "      <td>0.0</td>\n",
       "      <td>150.0</td>\n",
       "    </tr>\n",
       "  </tbody>\n",
       "</table>\n",
       "<p>1026839 rows × 18 columns</p>\n",
       "</div>"
      ],
      "text/plain": [
       "                x          y  mw_value  opt_value  col   row   v1   v2   v3  \\\n",
       "0        206500.0  -677500.0       0.0   0.148801  843    15  0.0  0.0  0.0   \n",
       "1        186500.0  -678500.0       0.0   0.015469  823    16  0.0  0.0  0.0   \n",
       "2        187500.0  -678500.0       0.0   0.013495  824    16  0.0  0.0  0.0   \n",
       "3        188500.0  -678500.0       0.0   0.101540  825    16  0.0  0.0  0.0   \n",
       "4        190500.0  -678500.0       0.0   0.000418  827    16  0.0  0.0  0.0   \n",
       "...           ...        ...       ...        ...  ...   ...  ...  ...  ...   \n",
       "1026834  -11500.0 -3308500.0       0.0   0.001044  625  2646  NaN  0.0  0.0   \n",
       "1026835   42500.0 -3314500.0       0.0   0.008728  679  2652  0.0  0.0  0.0   \n",
       "1026836   58500.0 -3314500.0       0.0   0.013714  695  2652  0.0  0.0  0.0   \n",
       "1026837   54500.0 -3318500.0       0.0   0.013711  691  2656  0.0  0.0  0.0   \n",
       "1026838   55500.0 -3318500.0       0.0   0.012581  692  2656  0.0  0.0  0.0   \n",
       "\n",
       "          v4   v5   v6   v7   v8   v9       date  mean  elevation_data  \n",
       "0        0.0  0.0  0.0  0.0  0.0  0.0 2019-07-02   0.0           150.0  \n",
       "1        0.0  0.0  0.0  0.0  0.0  0.0 2019-07-02   0.0           150.0  \n",
       "2        0.0  0.0  0.0  0.0  0.0  0.0 2019-07-02   0.0           150.0  \n",
       "3        0.0  0.0  0.0  0.0  0.0  0.0 2019-07-02   0.0           150.0  \n",
       "4        0.0  0.0  0.0  0.0  0.0  0.0 2019-07-02   0.0           150.0  \n",
       "...      ...  ...  ...  ...  ...  ...        ...   ...             ...  \n",
       "1026834  NaN  0.0  0.0  NaN  0.0  0.0 2019-07-02   0.0           110.0  \n",
       "1026835  0.0  0.0  0.0  0.0  0.0  0.0 2019-07-02   0.0           130.0  \n",
       "1026836  0.0  0.0  0.0  0.0  0.0  0.0 2019-07-02   0.0           150.0  \n",
       "1026837  0.0  0.0  0.0  0.0  0.0  0.0 2019-07-02   0.0           150.0  \n",
       "1026838  0.0  0.0  0.0  0.0  0.0  0.0 2019-07-02   0.0           150.0  \n",
       "\n",
       "[1026839 rows x 18 columns]"
      ]
     },
     "execution_count": 17,
     "metadata": {},
     "output_type": "execute_result"
    }
   ],
   "source": [
    "df_with_elevation"
   ]
  },
  {
   "cell_type": "markdown",
   "metadata": {},
   "source": [
    "Distance from margin/shore"
   ]
  },
  {
   "cell_type": "code",
   "execution_count": 18,
   "metadata": {},
   "outputs": [],
   "source": [
    "# add if coast column - if at least one na but not all "
   ]
  },
  {
   "cell_type": "markdown",
   "metadata": {},
   "source": [
    "Geohash"
   ]
  },
  {
   "cell_type": "code",
   "execution_count": 19,
   "metadata": {},
   "outputs": [],
   "source": [
    "# convert x and y to useful sections of geodata"
   ]
  },
  {
   "cell_type": "markdown",
   "metadata": {},
   "source": [
    "Write"
   ]
  },
  {
   "cell_type": "code",
   "execution_count": 20,
   "metadata": {},
   "outputs": [],
   "source": [
    "df_with_elevation.to_parquet(out_path + 'melt_2019-07-02_extended.parquet.gzip', index= False)"
   ]
  },
  {
   "cell_type": "markdown",
   "metadata": {},
   "source": []
  }
 ],
 "metadata": {
  "kernelspec": {
   "display_name": "Python 3.9.14 ('.venv': poetry)",
   "language": "python",
   "name": "python3"
  },
  "language_info": {
   "codemirror_mode": {
    "name": "ipython",
    "version": 3
   },
   "file_extension": ".py",
   "mimetype": "text/x-python",
   "name": "python",
   "nbconvert_exporter": "python",
   "pygments_lexer": "ipython3",
   "version": "3.9.14"
  },
  "orig_nbformat": 4,
  "vscode": {
   "interpreter": {
    "hash": "c1c6eaedbd5b3fcd114378d998a879d4f50715202363f6507059361ed549ecef"
   }
  }
 },
 "nbformat": 4,
 "nbformat_minor": 2
}
