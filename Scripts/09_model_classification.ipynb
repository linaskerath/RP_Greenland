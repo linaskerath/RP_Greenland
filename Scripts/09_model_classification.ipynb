{
 "cells": [
  {
   "cell_type": "markdown",
   "metadata": {},
   "source": [
    "# Classification Model"
   ]
  },
  {
   "cell_type": "markdown",
   "metadata": {},
   "source": [
    "**Purpose of script:**\n",
    "\n",
    "- Test regression model suitability in data fusion context\n",
    "- Test different regressors"
   ]
  },
  {
   "cell_type": "markdown",
   "metadata": {},
   "source": [
    "## Data Prep"
   ]
  },
  {
   "cell_type": "code",
   "execution_count": 1,
   "metadata": {},
   "outputs": [],
   "source": [
    "import pandas as pd\n",
    "import numpy as np\n",
    "\n",
    "import matplotlib.pyplot as plt\n",
    "%matplotlib inline\n",
    "\n",
    "from sklearn.model_selection import train_test_split, GridSearchCV, RandomizedSearchCV\n",
    "from sklearn.metrics import mean_squared_error, accuracy_score\n",
    "from sklearn.tree import DecisionTreeClassifier\n",
    "from sklearn.ensemble import RandomForestClassifier\n",
    "from sklearn.linear_model import LogisticRegression\n",
    "from sklearn.neighbors import KNeighborsRegressor\n",
    "\n",
    "# custom functions:\n",
    "from functions import read_and_prep_parquet, make_binary_labels, make_multiclass_labels, save_prediction_tif\n",
    "#from functions import read_and_prep_parquet"
   ]
  },
  {
   "cell_type": "code",
   "execution_count": 2,
   "metadata": {},
   "outputs": [],
   "source": [
    "df_path = r\"../Data/combined/pandas_extended/\"\n",
    "out_path =  r\"../Data/results/classification/\""
   ]
  },
  {
   "cell_type": "code",
   "execution_count": 3,
   "metadata": {},
   "outputs": [],
   "source": [
    "# Train:\n",
    "train_datelist = pd.date_range(start=\"2019-06-01\",end=\"2019-06-30\")\n",
    "train_datelist = [str(day.date()) for day in train_datelist]\n",
    "\n",
    "X_train_df_list = []\n",
    "y_train_df_list = []\n",
    "\n",
    "for day in train_datelist:\n",
    "    try: # bc some days are empty\n",
    "        X_train, y_train = read_and_prep_parquet(df_path + 'melt_' + day + '_extended.parquet.gzip', 'train')\n",
    "        X_train_df_list.append(X_train)\n",
    "        y_train_df_list.append(y_train)\n",
    "    except:\n",
    "        continue\n",
    "\n",
    "\n",
    "X_train = pd.concat(X_train_df_list, axis=0)\n",
    "y_train = pd.concat(y_train_df_list, axis=0)\n",
    "\n",
    "del X_train_df_list\n",
    "del y_train_df_list"
   ]
  },
  {
   "cell_type": "code",
   "execution_count": 4,
   "metadata": {},
   "outputs": [],
   "source": [
    "# Test:\n",
    "\n",
    "test_datelist = pd.date_range(start=\"2019-07-01\",end=\"2019-07-14\")\n",
    "test_datelist = [str(day.date()) for day in test_datelist]\n",
    "\n",
    "X_test_df_list = []\n",
    "y_test_df_list = []\n",
    "\n",
    "for day in test_datelist:\n",
    "    try: # bc some days are empty\n",
    "        X_train, y_train = read_and_prep_parquet(df_path + 'melt_' + day + '_extended.parquet.gzip', 'test')\n",
    "        X_test_df_list.append(X_train)\n",
    "        y_test_df_list.append(y_train)\n",
    "    except:\n",
    "        continue\n",
    "\n",
    "\n",
    "X_test = pd.concat(X_test_df_list, axis=0)\n",
    "y_test = pd.concat(y_test_df_list, axis=0)\n",
    "\n",
    "del X_test_df_list\n",
    "del y_test_df_list"
   ]
  },
  {
   "cell_type": "markdown",
   "metadata": {},
   "source": [
    "## Decision Tree Classifier"
   ]
  },
  {
   "cell_type": "markdown",
   "metadata": {},
   "source": [
    "### Binary Classification"
   ]
  },
  {
   "cell_type": "code",
   "execution_count": 56,
   "metadata": {},
   "outputs": [],
   "source": [
    "classifier = DecisionTreeClassifier(random_state=0, criterion=\"log_loss\")\n",
    "classifier.fit(X_train, make_binary_labels(y_train))\n",
    "\n",
    "y_predicted = classifier.predict(X_test)"
   ]
  },
  {
   "cell_type": "code",
   "execution_count": 57,
   "metadata": {},
   "outputs": [
    {
     "data": {
      "text/plain": [
       "0.8492624287097301"
      ]
     },
     "execution_count": 57,
     "metadata": {},
     "output_type": "execute_result"
    }
   ],
   "source": [
    "accuracy = accuracy_score(make_binary_labels(y_test), y_predicted)\n",
    "accuracy"
   ]
  },
  {
   "cell_type": "code",
   "execution_count": 64,
   "metadata": {},
   "outputs": [
    {
     "name": "stdout",
     "output_type": "stream",
     "text": [
      "Nan percentage: 0.7577539499849228\n",
      "Accuracy:0.644337308007948 for 2019-07-31\n"
     ]
    },
    {
     "name": "stderr",
     "output_type": "stream",
     "text": [
      "2278725it [04:44, 8009.55it/s] \n"
     ]
    }
   ],
   "source": [
    "prediction_date = '2019-07-31' # do one next day (2019-07-15) and one for tha last day of July (2019-07-31)\n",
    "\n",
    "# get accuracy\n",
    "X_get_acc, y_get_acc = read_and_prep_parquet(df_path + 'melt_' + prediction_date + '_extended.parquet.gzip', 'validate')\n",
    "y_get_acc = make_binary_labels(y_get_acc)\n",
    "print(f'Nan percentage: {1-(len(X_get_acc)/(2663*1462))}')\n",
    "y_predicted_get_acc = classifier.predict(X_get_acc)\n",
    "X_get_acc['prediction'] = y_predicted_get_acc \n",
    "acc = accuracy_score(y_get_acc, y_predicted_get_acc)\n",
    "print(f'Accuracy: {acc} for {prediction_date}')\n",
    "\n",
    "# write prediction:\n",
    "X_pred1 = read_and_prep_parquet(df_path + 'melt_' + prediction_date + '_extended.parquet.gzip', 'predict') \n",
    "y_predicted_out1 = classifier.predict(X_pred1)\n",
    "path_out = out_path + 'decision_tree_classifier/' + 'dtrc_binary_' + prediction_date + '.tif'\n",
    "save_prediction_tif(X_pred1, y_predicted_out1, path_out)"
   ]
  },
  {
   "cell_type": "markdown",
   "metadata": {},
   "source": [
    "Nan percentage: 0.6277636538201723\n",
    "\n",
    "Accuracy: 0.8433002352973648 for 2019-07-15\n",
    "\n",
    "-- \n",
    "\n",
    "Nan percentage: 0.7577539499849228\n",
    "\n",
    "Accuracy: 0.644337308007948 for 2019-07-31"
   ]
  },
  {
   "cell_type": "markdown",
   "metadata": {},
   "source": [
    "### Multiclass (buckets) classification"
   ]
  },
  {
   "cell_type": "code",
   "execution_count": 66,
   "metadata": {},
   "outputs": [],
   "source": [
    "classifier = DecisionTreeClassifier(random_state=0, criterion=\"log_loss\")\n",
    "classifier.fit(X_train, make_multiclass_labels(y_train)[\"binned_opt_value_code\"])\n",
    "\n",
    "y_predicted = classifier.predict(X_test)"
   ]
  },
  {
   "cell_type": "code",
   "execution_count": 74,
   "metadata": {},
   "outputs": [
    {
     "data": {
      "text/plain": [
       "0.5568754092536725"
      ]
     },
     "execution_count": 74,
     "metadata": {},
     "output_type": "execute_result"
    }
   ],
   "source": [
    "accuracy = accuracy_score(make_multiclass_labels(y_test)[\"binned_opt_value_code\"], y_predicted)\n",
    "accuracy"
   ]
  },
  {
   "cell_type": "code",
   "execution_count": 93,
   "metadata": {},
   "outputs": [
    {
     "name": "stdout",
     "output_type": "stream",
     "text": [
      "Nan percentage: 0.7577539499849228\n",
      "Accuracy:0.2862709380811716 for 2019-07-31\n"
     ]
    },
    {
     "name": "stderr",
     "output_type": "stream",
     "text": [
      "2278725it [05:48, 6531.88it/s] \n"
     ]
    }
   ],
   "source": [
    "prediction_date = '2019-07-31' # do one next day (2019-07-15) and one for tha last day of July (2019-07-31)\n",
    "\n",
    "# get accuracy\n",
    "X_get_acc, y_get_acc = read_and_prep_parquet(df_path + 'melt_' + prediction_date + '_extended.parquet.gzip', 'validate')\n",
    "y_get_acc = make_multiclass_labels(y_get_acc)[\"binned_opt_value_code\"]\n",
    "print(f'Nan percentage: {1-(len(X_get_acc)/(2663*1462))}')\n",
    "y_predicted_get_acc = classifier.predict(X_get_acc)\n",
    "X_get_acc['prediction'] = y_predicted_get_acc \n",
    "acc = accuracy_score(y_get_acc, y_predicted_get_acc)\n",
    "print(f'Accuracy: {acc} for {prediction_date}')\n",
    "\n",
    "# write prediction:\n",
    "X_pred1 = read_and_prep_parquet(df_path + 'melt_' + prediction_date + '_extended.parquet.gzip', 'predict') \n",
    "y_predicted_out1 = classifier.predict(X_pred1)\n",
    "path_out = out_path + 'decision_tree_classifier/' + 'dtc_multiclass_' + prediction_date + '.tif'\n",
    "save_prediction_tif(X_pred1, y_predicted_out1, path_out)"
   ]
  },
  {
   "cell_type": "markdown",
   "metadata": {},
   "source": [
    "Nan percentage: 0.6277636538201723\n",
    "\n",
    "Accuracy: 0.6226444387709336 for 2019-07-15\n",
    "\n",
    "--\n",
    "\n",
    "Nan percentage: 0.7577539499849228\n",
    "\n",
    "Accuracy: 0.2862709380811716 for 2019-07-31\n"
   ]
  },
  {
   "cell_type": "markdown",
   "metadata": {},
   "source": [
    "## Logistic Regression"
   ]
  },
  {
   "cell_type": "markdown",
   "metadata": {},
   "source": [
    "### Binary Classification"
   ]
  },
  {
   "cell_type": "code",
   "execution_count": 5,
   "metadata": {},
   "outputs": [],
   "source": [
    "classifier = LogisticRegression(random_state=0)\n",
    "classifier.fit(X_train, make_binary_labels(y_train))\n",
    "\n",
    "y_predicted = classifier.predict(X_test)"
   ]
  },
  {
   "cell_type": "code",
   "execution_count": 7,
   "metadata": {},
   "outputs": [
    {
     "data": {
      "text/plain": [
       "0.7967810303360895"
      ]
     },
     "execution_count": 7,
     "metadata": {},
     "output_type": "execute_result"
    }
   ],
   "source": [
    "accuracy = accuracy_score(make_binary_labels(y_test), y_predicted)\n",
    "accuracy"
   ]
  },
  {
   "cell_type": "code",
   "execution_count": 10,
   "metadata": {},
   "outputs": [
    {
     "name": "stdout",
     "output_type": "stream",
     "text": [
      "Nan percentage: 0.7577539499849228\n",
      "Accuracy:0.42979076232746427 for 2019-07-31\n"
     ]
    },
    {
     "name": "stderr",
     "output_type": "stream",
     "text": [
      "2278725it [02:19, 16352.06it/s]\n"
     ]
    }
   ],
   "source": [
    "prediction_date = '2019-07-31' # do one next day (2019-07-15) and one for tha last day of July (2019-07-31)\n",
    "\n",
    "# get accuracy\n",
    "X_get_acc, y_get_acc = read_and_prep_parquet(df_path + 'melt_' + prediction_date + '_extended.parquet.gzip', 'validate')\n",
    "y_get_acc = make_binary_labels(y_get_acc)\n",
    "print(f'Nan percentage: {1-(len(X_get_acc)/(2663*1462))}')\n",
    "y_predicted_get_acc = classifier.predict(X_get_acc)\n",
    "X_get_acc['prediction'] = y_predicted_get_acc \n",
    "acc = accuracy_score(y_get_acc, y_predicted_get_acc)\n",
    "print(f'Accuracy: {acc} for {prediction_date}')\n",
    "\n",
    "# write prediction:\n",
    "X_pred1 = read_and_prep_parquet(df_path + 'melt_' + prediction_date + '_extended.parquet.gzip', 'predict') \n",
    "y_predicted_out1 = classifier.predict(X_pred1)\n",
    "path_out = out_path + 'logistic_regression/' + 'logr_binary_' + prediction_date + '.tif'\n",
    "save_prediction_tif(X_pred1, y_predicted_out1, path_out)"
   ]
  },
  {
   "cell_type": "markdown",
   "metadata": {},
   "source": [
    "Nan percentage: 0.6277636538201723\n",
    "\n",
    "Accuracy: 0.798468842074757 for 2019-07-15\n",
    "\n",
    "-- \n",
    "\n",
    "Nan percentage: 0.7577539499849228\n",
    "\n",
    "Accuracy: 0.42979076232746427 for 2019-07-31"
   ]
  },
  {
   "cell_type": "markdown",
   "metadata": {},
   "source": [
    "### Multiclass (buckets) Classification"
   ]
  },
  {
   "cell_type": "code",
   "execution_count": 9,
   "metadata": {},
   "outputs": [],
   "source": [
    "classifier = LogisticRegression(random_state=0, solver='liblinear')\n",
    "classifier.fit(X_train, make_multiclass_labels(y_train)[\"binned_opt_value_code\"])\n",
    "\n",
    "y_predicted = classifier.predict(X_test)"
   ]
  },
  {
   "cell_type": "code",
   "execution_count": 10,
   "metadata": {},
   "outputs": [],
   "source": [
    "y_predicted = classifier.predict(X_test)"
   ]
  },
  {
   "cell_type": "code",
   "execution_count": 11,
   "metadata": {},
   "outputs": [
    {
     "data": {
      "text/plain": [
       "0.5728542644471752"
      ]
     },
     "execution_count": 11,
     "metadata": {},
     "output_type": "execute_result"
    }
   ],
   "source": [
    "accuracy = accuracy_score(make_multiclass_labels(y_test)[\"binned_opt_value_code\"], y_predicted)\n",
    "accuracy"
   ]
  },
  {
   "cell_type": "code",
   "execution_count": 13,
   "metadata": {},
   "outputs": [
    {
     "name": "stdout",
     "output_type": "stream",
     "text": [
      "Nan percentage: 0.7577539499849228\n",
      "Accuracy:0.269387936866079 for 2019-07-31\n"
     ]
    },
    {
     "name": "stderr",
     "output_type": "stream",
     "text": [
      "2278725it [02:20, 16255.76it/s]\n"
     ]
    }
   ],
   "source": [
    "prediction_date = '2019-07-31' # do one next day (2019-07-15) and one for tha last day of July (2019-07-31)\n",
    "\n",
    "# get accuracy\n",
    "X_get_acc, y_get_acc = read_and_prep_parquet(df_path + 'melt_' + prediction_date + '_extended.parquet.gzip', 'validate')\n",
    "y_get_acc = make_multiclass_labels(y_get_acc)[\"binned_opt_value_code\"]\n",
    "print(f'Nan percentage: {1-(len(X_get_acc)/(2663*1462))}')\n",
    "y_predicted_get_acc = classifier.predict(X_get_acc)\n",
    "X_get_acc['prediction'] = y_predicted_get_acc \n",
    "acc = accuracy_score(y_get_acc, y_predicted_get_acc)\n",
    "print(f'Accuracy: {acc} for {prediction_date}')\n",
    "\n",
    "# write prediction:\n",
    "X_pred1 = read_and_prep_parquet(df_path + 'melt_' + prediction_date + '_extended.parquet.gzip', 'predict') \n",
    "y_predicted_out1 = classifier.predict(X_pred1)\n",
    "path_out = out_path + 'logistic_regression/' + 'logr_multiclass_' + prediction_date + '.tif'\n",
    "save_prediction_tif(X_pred1, y_predicted_out1, path_out)"
   ]
  },
  {
   "cell_type": "markdown",
   "metadata": {},
   "source": [
    "Nan percentage: 0.6277636538201723\n",
    "\n",
    "Accuracy: 0.5146243177411453 for 2019-07-15\n",
    "\n",
    "--\n",
    "\n",
    "Nan percentage: 0.7577539499849228\n",
    "\n",
    "Accuracy: 0.269387936866079 for 2019-07-31"
   ]
  }
 ],
 "metadata": {
  "kernelspec": {
   "display_name": "Python 3.10.6 ('my-env')",
   "language": "python",
   "name": "python3"
  },
  "language_info": {
   "codemirror_mode": {
    "name": "ipython",
    "version": 3
   },
   "file_extension": ".py",
   "mimetype": "text/x-python",
   "name": "python",
   "nbconvert_exporter": "python",
   "pygments_lexer": "ipython3",
   "version": "3.10.6"
  },
  "orig_nbformat": 4,
  "vscode": {
   "interpreter": {
    "hash": "fe81b6f13d6b0ad05b54a8d717c7eaa3743b1b1bf0e5cb2d6ec80103feaa1c84"
   }
  }
 },
 "nbformat": 4,
 "nbformat_minor": 2
}
