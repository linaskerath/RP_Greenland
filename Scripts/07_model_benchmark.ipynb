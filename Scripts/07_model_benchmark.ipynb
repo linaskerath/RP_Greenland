{
 "cells": [
  {
   "cell_type": "markdown",
   "metadata": {},
   "source": [
    "# Benchmark Model"
   ]
  },
  {
   "cell_type": "markdown",
   "metadata": {},
   "source": [
    "**Purpose of script:**\n",
    "\n",
    "Define a benchmark model for performance comparisons"
   ]
  },
  {
   "cell_type": "markdown",
   "metadata": {},
   "source": [
    "### Data Prep"
   ]
  },
  {
   "cell_type": "markdown",
   "metadata": {},
   "source": [
    "Imports:"
   ]
  },
  {
   "cell_type": "code",
   "execution_count": 1,
   "metadata": {},
   "outputs": [],
   "source": [
    "import pandas as pd\n",
    "import numpy as np\n",
    "\n",
    "import matplotlib.pyplot as plt\n",
    "%matplotlib inline\n",
    "\n",
    "from sklearn.model_selection import train_test_split \n",
    "from sklearn.metrics import accuracy_score\n",
    "\n",
    "from functions import read_and_prep_parquet\n",
    "from functions import get_rmse"
   ]
  },
  {
   "cell_type": "markdown",
   "metadata": {},
   "source": [
    "Relevant paths:"
   ]
  },
  {
   "cell_type": "code",
   "execution_count": 2,
   "metadata": {},
   "outputs": [],
   "source": [
    "df_path = r\"../Data/combined/pandas_extended\""
   ]
  },
  {
   "cell_type": "markdown",
   "metadata": {},
   "source": [
    "Import and prep data:"
   ]
  },
  {
   "cell_type": "code",
   "execution_count": 171,
   "metadata": {},
   "outputs": [],
   "source": [
    "X_train, y_train = read_and_prep_parquet(df_path + 'melt_2019-07-02_extended.parquet.gzip', 'train')\n",
    "X_test, y_test = read_and_prep_parquet(df_path + 'melt_2019-07-02_extended.parquet.gzip', 'test')\n"
   ]
  },
  {
   "cell_type": "markdown",
   "metadata": {},
   "source": [
    "## Baseline models"
   ]
  },
  {
   "cell_type": "markdown",
   "metadata": {},
   "source": [
    "### Baseline Regression"
   ]
  },
  {
   "cell_type": "code",
   "execution_count": 172,
   "metadata": {},
   "outputs": [],
   "source": [
    "y_predicted = np.full((1, len(y_test)), y_train.mean())[0]"
   ]
  },
  {
   "cell_type": "code",
   "execution_count": 173,
   "metadata": {},
   "outputs": [],
   "source": [
    "rmse2 = get_rmse(y_test, y_predicted)"
   ]
  },
  {
   "cell_type": "code",
   "execution_count": 174,
   "metadata": {},
   "outputs": [
    {
     "data": {
      "text/plain": [
       "[<matplotlib.lines.Line2D at 0x7ff69a71e2e0>]"
      ]
     },
     "execution_count": 174,
     "metadata": {},
     "output_type": "execute_result"
    },
    {
     "data": {
      "image/png": "[encoded data removed]",
      "text/plain": [
       "<Figure size 640x480 with 1 Axes>"
      ]
     },
     "metadata": {},
     "output_type": "display_data"
    }
   ],
   "source": [
    "plt.scatter(X_test['mw_value'], y_test,  color='black')\n",
    "plt.plot(X_test['mw_value'], y_predicted, color='green', linewidth=2)"
   ]
  },
  {
   "cell_type": "markdown",
   "metadata": {},
   "source": [
    "### Baseline Classification"
   ]
  },
  {
   "cell_type": "code",
   "execution_count": 175,
   "metadata": {},
   "outputs": [
    {
     "name": "stdout",
     "output_type": "stream",
     "text": [
      "melt percent in opt data opt_value    0.226737\n",
      "dtype: float64\n",
      "melt percent in mw data 0.3692793276685716\n"
     ]
    }
   ],
   "source": [
    "# melt threshold in paper - 0.64\n",
    "print(f'melt percent in opt data {(y_train >= 0.64).sum()/len(y_train)}')\n",
    "print(f'melt percent in mw data {(X_train[\"mw_value\"] == 1).sum()/len(X_train)}')"
   ]
  },
  {
   "cell_type": "code",
   "execution_count": 176,
   "metadata": {},
   "outputs": [],
   "source": [
    "# X_train['opt_value'] = y_train\n",
    "\n",
    "# fig, axes = plt.subplots(ncols=2, figsize=(8,5))\n",
    "# axes[0].hist(X_train[X_train['mw_value'] == 1]['opt_value'])\n",
    "# axes[1].hist(X_train[X_train['mw_value'] == 0]['opt_value'])\n",
    "\n",
    "# plt.draw()"
   ]
  },
  {
   "cell_type": "markdown",
   "metadata": {},
   "source": [
    "#### Binary classification"
   ]
  },
  {
   "cell_type": "markdown",
   "metadata": {},
   "source": [
    "predict majority class"
   ]
  },
  {
   "cell_type": "code",
   "execution_count": 177,
   "metadata": {},
   "outputs": [],
   "source": [
    "y_predicted = np.full((1, len(y_test)), 0)[0]\n",
    "y_test_classes = [1 if i >= 0.64 else 0 for i in y_test['opt_value']]"
   ]
  },
  {
   "cell_type": "code",
   "execution_count": 178,
   "metadata": {},
   "outputs": [
    {
     "data": {
      "text/plain": [
       "0.7744204879036339"
      ]
     },
     "execution_count": 178,
     "metadata": {},
     "output_type": "execute_result"
    }
   ],
   "source": [
    "accuracy = accuracy_score(y_test_classes, y_predicted)\n",
    "accuracy\n"
   ]
  },
  {
   "cell_type": "markdown",
   "metadata": {},
   "source": [
    "#### Multiclass (buckets) classification"
   ]
  },
  {
   "cell_type": "code",
   "execution_count": 179,
   "metadata": {},
   "outputs": [
    {
     "data": {
      "image/png": "[encoded data removed]",
      "text/plain": [
       "<Figure size 640x480 with 1 Axes>"
      ]
     },
     "metadata": {},
     "output_type": "display_data"
    }
   ],
   "source": [
    "#plt.hist(df['opt_value'])\n",
    "plt.hist(y_train);"
   ]
  },
  {
   "cell_type": "markdown",
   "metadata": {},
   "source": [
    "11 buckets every 0.2 and all over 2"
   ]
  },
  {
   "cell_type": "code",
   "execution_count": 180,
   "metadata": {},
   "outputs": [],
   "source": [
    "#X_train['opt_value'] = y_train\n"
   ]
  },
  {
   "cell_type": "code",
   "execution_count": 181,
   "metadata": {},
   "outputs": [],
   "source": [
    "y_train['binned_opt_value'] = pd.cut(y_train['opt_value'], \n",
    "                                    list(np.arange(0, 0.41, 0.2)) \n",
    "                                    + [0.64] \n",
    "                                    + list(np.arange(0.8, 2.01, 0.2)) \n",
    "                                    + [7.0])\n",
    "\n",
    "buckets = list(y_train['binned_opt_value'].unique())\n",
    "buckets.sort()\n",
    "num_buckets = len(buckets)\n",
    "value_bucket_lookup = dict(zip(buckets, range(num_buckets)))\n",
    "y_train['binned_opt_value_code'] = y_train['binned_opt_value'].replace(value_bucket_lookup).values"
   ]
  },
  {
   "cell_type": "code",
   "execution_count": 182,
   "metadata": {},
   "outputs": [
    {
     "data": {
      "text/plain": [
       "1     220471\n",
       "0     151435\n",
       "2      35513\n",
       "4      24803\n",
       "6      21424\n",
       "5      21298\n",
       "3      20088\n",
       "7      16305\n",
       "8       9032\n",
       "9       3305\n",
       "10      3209\n",
       "Name: binned_opt_value_code, dtype: int64"
      ]
     },
     "execution_count": 182,
     "metadata": {},
     "output_type": "execute_result"
    }
   ],
   "source": [
    "# find largest bucket and predict for all that\n",
    "y_train['binned_opt_value_code'].value_counts()\n",
    "# largest - bin 1\n"
   ]
  },
  {
   "cell_type": "code",
   "execution_count": 183,
   "metadata": {},
   "outputs": [],
   "source": [
    "# same for test\n",
    "y_test['binned_opt_value'] = pd.cut(y_test['opt_value'], \n",
    "                                    list(np.arange(0, 0.41, 0.2)) \n",
    "                                    + [0.64] \n",
    "                                    + list(np.arange(0.8, 2.01, 0.2)) \n",
    "                                    + [7.0])\n",
    "\n",
    "buckets_test = list(y_test['binned_opt_value'].unique())\n",
    "buckets_test.sort()\n",
    "num_buckets_test = len(buckets_test)\n",
    "value_bucket_lookup_test = dict(zip(buckets_test, range(num_buckets_test)))\n",
    "y_test['binned_opt_value_code'] = y_test['binned_opt_value'].replace(value_bucket_lookup_test).values"
   ]
  },
  {
   "cell_type": "code",
   "execution_count": 184,
   "metadata": {},
   "outputs": [
    {
     "data": {
      "text/plain": [
       "0.4209497418767082"
      ]
     },
     "execution_count": 184,
     "metadata": {},
     "output_type": "execute_result"
    }
   ],
   "source": [
    "# predict\n",
    "y_predicted = np.full((1, len(y_test)), 1)[0]\n",
    "\n",
    "accuracy = accuracy_score(y_test['binned_opt_value_code'], y_predicted)\n",
    "accuracy"
   ]
  },
  {
   "cell_type": "code",
   "execution_count": null,
   "metadata": {},
   "outputs": [],
   "source": []
  }
 ],
 "metadata": {
  "kernelspec": {
   "display_name": "Python 3.9.14 ('.venv': poetry)",
   "language": "python",
   "name": "python3"
  },
  "language_info": {
   "codemirror_mode": {
    "name": "ipython",
    "version": 3
   },
   "file_extension": ".py",
   "mimetype": "text/x-python",
   "name": "python",
   "nbconvert_exporter": "python",
   "pygments_lexer": "ipython3",
   "version": "3.9.14"
  },
  "orig_nbformat": 4,
  "vscode": {
   "interpreter": {
    "hash": "c1c6eaedbd5b3fcd114378d998a879d4f50715202363f6507059361ed549ecef"
   }
  }
 },
 "nbformat": 4,
 "nbformat_minor": 2
}
