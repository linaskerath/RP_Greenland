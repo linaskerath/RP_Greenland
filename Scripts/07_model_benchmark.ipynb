{
 "cells": [
  {
   "cell_type": "markdown",
   "metadata": {},
   "source": [
    "# Benchmark Model"
   ]
  },
  {
   "cell_type": "markdown",
   "metadata": {},
   "source": [
    "**Purpose of script:**\n",
    "\n",
    "Define a benchmark model for performance comparisons"
   ]
  },
  {
   "cell_type": "markdown",
   "metadata": {},
   "source": [
    "### Data Prep"
   ]
  },
  {
   "cell_type": "markdown",
   "metadata": {},
   "source": [
    "Imports:"
   ]
  },
  {
   "cell_type": "code",
   "execution_count": 1,
   "metadata": {},
   "outputs": [],
   "source": [
    "import pandas as pd\n",
    "import numpy as np\n",
    "\n",
    "import matplotlib.pyplot as plt\n",
    "%matplotlib inline\n",
    "\n",
    "from sklearn.model_selection import train_test_split \n",
    "from sklearn.metrics import accuracy_score\n",
    "\n",
    "from functions import read_and_prep_parquet\n",
    "from functions import get_rmse\n",
    "from functions import save_prediction_tif"
   ]
  },
  {
   "cell_type": "markdown",
   "metadata": {},
   "source": [
    "Relevant paths:"
   ]
  },
  {
   "cell_type": "code",
   "execution_count": 2,
   "metadata": {},
   "outputs": [],
   "source": [
    "df_path = r\"../Data/combined/pandas_extended/\"\n",
    "\n",
    "out_path_regression =  r\"../Data/results/regression/\"\n",
    "out_path_classification =  r\"../Data/results/classification/\"\n"
   ]
  },
  {
   "cell_type": "markdown",
   "metadata": {},
   "source": [
    "Import and prep data:"
   ]
  },
  {
   "cell_type": "code",
   "execution_count": 3,
   "metadata": {},
   "outputs": [],
   "source": [
    "# X_train, y_train = read_and_prep_parquet(df_path + 'melt_2019-07-02_extended.parquet.gzip', 'train')\n",
    "# X_test, y_test = read_and_prep_parquet(df_path + 'melt_2019-07-02_extended.parquet.gzip', 'test')"
   ]
  },
  {
   "cell_type": "markdown",
   "metadata": {},
   "source": [
    "Train:"
   ]
  },
  {
   "cell_type": "code",
   "execution_count": 3,
   "metadata": {},
   "outputs": [
    {
     "name": "stdout",
     "output_type": "stream",
     "text": [
      "2019-06-08\n",
      "2019-06-10\n",
      "2019-06-11\n",
      "2019-06-12\n",
      "2019-06-13\n",
      "2019-06-14\n",
      "2019-06-15\n",
      "2019-06-16\n",
      "2019-06-17\n",
      "2019-06-18\n",
      "2019-06-19\n",
      "2019-06-20\n",
      "2019-06-21\n",
      "2019-06-22\n",
      "2019-06-23\n",
      "2019-06-24\n",
      "2019-06-25\n",
      "2019-06-26\n",
      "2019-06-27\n",
      "2019-06-28\n",
      "2019-06-29\n",
      "2019-06-30\n"
     ]
    }
   ],
   "source": [
    "train_datelist = pd.date_range(start=\"2019-06-01\",end=\"2019-06-30\")\n",
    "train_datelist = [str(day.date()) for day in train_datelist]\n",
    "\n",
    "X_train_df_list = []\n",
    "y_train_df_list = []\n",
    "\n",
    "for day in train_datelist:\n",
    "    try: # bc some days are empty\n",
    "        X_train, y_train = read_and_prep_parquet(df_path + 'melt_' + day + '_extended.parquet.gzip', 'train')\n",
    "        print(day)\n",
    "        #X_train_df_list.append(X_train)\n",
    "        y_train_df_list.append(y_train)\n",
    "    except:\n",
    "        continue\n",
    "\n",
    "\n",
    "#X_train = pd.concat(X_train_df_list, axis=0)\n",
    "y_train = pd.concat(y_train_df_list, axis=0)"
   ]
  },
  {
   "cell_type": "code",
   "execution_count": 4,
   "metadata": {},
   "outputs": [
    {
     "data": {
      "text/plain": [
       "20862118"
      ]
     },
     "execution_count": 4,
     "metadata": {},
     "output_type": "execute_result"
    }
   ],
   "source": [
    "len(y_train)"
   ]
  },
  {
   "cell_type": "code",
   "execution_count": 5,
   "metadata": {},
   "outputs": [],
   "source": [
    "del X_train_df_list\n",
    "del y_train_df_list\n"
   ]
  },
  {
   "cell_type": "code",
   "execution_count": null,
   "metadata": {},
   "outputs": [],
   "source": []
  },
  {
   "cell_type": "markdown",
   "metadata": {},
   "source": [
    "Test:"
   ]
  },
  {
   "cell_type": "code",
   "execution_count": null,
   "metadata": {},
   "outputs": [],
   "source": [
    "test_datelist = pd.date_range(start=\"2019-07-01\",end=\"2019-07-14\")\n",
    "test_datelist = [str(day.date()) for day in test_datelist]\n",
    "\n",
    "X_test_df_list = []\n",
    "y_test_df_list = []\n",
    "\n",
    "for day in test_datelist:\n",
    "    try: # bc some days are empty\n",
    "        X_train, y_train = read_and_prep_parquet(df_path + 'melt_' + day + '_extended.parquet.gzip', 'train')\n",
    "        print(day)\n",
    "        X_test_df_list.append(X_train)\n",
    "        y_test_df_list.append(y_train)\n",
    "    except:\n",
    "        continue\n",
    "\n",
    "\n",
    "X_test = pd.concat(X_test_df_list, axis=0)\n",
    "y_test = pd.concat(y_test_df_list, axis=0)"
   ]
  },
  {
   "cell_type": "code",
   "execution_count": 7,
   "metadata": {},
   "outputs": [],
   "source": [
    "del X_test_df_list\n",
    "del y_test_df_list"
   ]
  },
  {
   "cell_type": "markdown",
   "metadata": {},
   "source": [
    "### Baseline Regression"
   ]
  },
  {
   "cell_type": "code",
   "execution_count": 8,
   "metadata": {},
   "outputs": [],
   "source": [
    "y_predicted = np.full((1, len(y_test)), y_train.mean())[0]"
   ]
  },
  {
   "cell_type": "code",
   "execution_count": 9,
   "metadata": {},
   "outputs": [
    {
     "data": {
      "text/plain": [
       "0.38437453"
      ]
     },
     "execution_count": 9,
     "metadata": {},
     "output_type": "execute_result"
    }
   ],
   "source": [
    "rmse = get_rmse(y_test, y_predicted)\n",
    "rmse # 0.40747648"
   ]
  },
  {
   "cell_type": "code",
   "execution_count": 19,
   "metadata": {},
   "outputs": [
    {
     "data": {
      "text/plain": [
       "[<matplotlib.lines.Line2D at 0x7fc68e6a1970>]"
      ]
     },
     "execution_count": 19,
     "metadata": {},
     "output_type": "execute_result"
    },
    {
     "data": {
      "image/png": "[encoded data removed]",
      "text/plain": [
       "<Figure size 640x480 with 1 Axes>"
      ]
     },
     "metadata": {},
     "output_type": "display_data"
    }
   ],
   "source": [
    "plt.scatter(X_test['mw_value'], y_test,  color='black')\n",
    "plt.plot(X_test['mw_value'], y_predicted, color='green', linewidth=2)"
   ]
  },
  {
   "cell_type": "markdown",
   "metadata": {},
   "source": [
    "Predict"
   ]
  },
  {
   "cell_type": "code",
   "execution_count": 10,
   "metadata": {},
   "outputs": [],
   "source": [
    "# no need to plot bc its all the same value, also no need to loop over all days bc mean benchmark will give same to all.\n",
    "\n",
    "X_pred = read_and_prep_parquet(df_path + 'melt_2019-07-15_extended.parquet.gzip', 'predict')\n",
    "y_predicted_out = np.full((1, len(X_pred)), y_train.mean())[0]\n"
   ]
  },
  {
   "cell_type": "code",
   "execution_count": 17,
   "metadata": {},
   "outputs": [
    {
     "name": "stderr",
     "output_type": "stream",
     "text": [
      "2278725it [01:42, 22280.16it/s]\n"
     ]
    }
   ],
   "source": [
    "path_out = out_path_regression + 'prediction_benchmark_.tif'\n",
    "\n",
    "save_prediction_tif(X_pred, y_predicted_out, path_out)"
   ]
  },
  {
   "cell_type": "markdown",
   "metadata": {},
   "source": [
    "### Baseline Classification"
   ]
  },
  {
   "cell_type": "markdown",
   "metadata": {},
   "source": [
    "#### Binary classification"
   ]
  },
  {
   "cell_type": "markdown",
   "metadata": {},
   "source": [
    "predict majority class"
   ]
  },
  {
   "cell_type": "code",
   "execution_count": 8,
   "metadata": {},
   "outputs": [
    {
     "name": "stdout",
     "output_type": "stream",
     "text": [
      "melt percent in opt data opt_value    0.161283\n",
      "dtype: float64\n",
      "melt percent in mw data 0.2680629750944592\n"
     ]
    }
   ],
   "source": [
    "# melt threshold in paper - 0.64\n",
    "print(f'melt percent in opt data {(y_train >= 0.64).sum()/len(y_train)}')\n",
    "print(f'melt percent in mw data {(X_train[\"mw_value\"] == 1).sum()/len(X_train)}')"
   ]
  },
  {
   "cell_type": "code",
   "execution_count": 9,
   "metadata": {},
   "outputs": [],
   "source": [
    "y_predicted = np.full((1, len(y_test)), 0)[0]\n",
    "y_test_classes = [1 if i >= 0.64 else 0 for i in y_test['opt_value']]"
   ]
  },
  {
   "cell_type": "code",
   "execution_count": 10,
   "metadata": {},
   "outputs": [
    {
     "data": {
      "text/plain": [
       "0.8011163968191477"
      ]
     },
     "execution_count": 10,
     "metadata": {},
     "output_type": "execute_result"
    }
   ],
   "source": [
    "accuracy = accuracy_score(y_test_classes, y_predicted)\n",
    "accuracy\n"
   ]
  },
  {
   "cell_type": "markdown",
   "metadata": {},
   "source": [
    "#### Multiclass (buckets) classification"
   ]
  },
  {
   "cell_type": "code",
   "execution_count": null,
   "metadata": {},
   "outputs": [
    {
     "data": {
      "image/png": "[encoded data removed]",
      "text/plain": [
       "<Figure size 640x480 with 1 Axes>"
      ]
     },
     "metadata": {},
     "output_type": "display_data"
    }
   ],
   "source": [
    "#plt.hist(df['opt_value'])\n",
    "plt.hist(y_train);"
   ]
  },
  {
   "cell_type": "markdown",
   "metadata": {},
   "source": [
    "11 buckets every 0.2 and all over 2"
   ]
  },
  {
   "cell_type": "code",
   "execution_count": 11,
   "metadata": {},
   "outputs": [],
   "source": [
    "y_train['binned_opt_value'] = pd.cut(y_train['opt_value'], \n",
    "                                    list(np.arange(0, 0.41, 0.2)) \n",
    "                                    + [0.64] \n",
    "                                    + list(np.arange(0.8, 2.01, 0.2)) \n",
    "                                    + [100.0])\n"
   ]
  },
  {
   "cell_type": "code",
   "execution_count": 12,
   "metadata": {},
   "outputs": [],
   "source": [
    "buckets = list(y_train['binned_opt_value'].unique())\n",
    "buckets.sort()\n",
    "num_buckets = len(buckets)\n",
    "value_bucket_lookup = dict(zip(buckets, range(num_buckets)))"
   ]
  },
  {
   "cell_type": "code",
   "execution_count": 13,
   "metadata": {},
   "outputs": [],
   "source": [
    "y_train['binned_opt_value_code'] = y_train['binned_opt_value'].replace(value_bucket_lookup).values"
   ]
  },
  {
   "cell_type": "code",
   "execution_count": 14,
   "metadata": {},
   "outputs": [
    {
     "data": {
      "text/plain": [
       "1     707224\n",
       "2     266179\n",
       "0     244150\n",
       "4      60777\n",
       "3      53872\n",
       "5      46465\n",
       "6      31046\n",
       "7      19797\n",
       "8      10515\n",
       "10      6537\n",
       "9       5123\n",
       "Name: binned_opt_value_code, dtype: int64"
      ]
     },
     "execution_count": 14,
     "metadata": {},
     "output_type": "execute_result"
    }
   ],
   "source": [
    "# find largest bucket and predict for all that\n",
    "y_train['binned_opt_value_code'].value_counts()\n",
    "# largest - bin 1\n"
   ]
  },
  {
   "cell_type": "code",
   "execution_count": 15,
   "metadata": {},
   "outputs": [],
   "source": [
    "# same for test\n",
    "y_test['binned_opt_value'] = pd.cut(y_test['opt_value'], \n",
    "                                    list(np.arange(0, 0.41, 0.2)) \n",
    "                                    + [0.64] \n",
    "                                    + list(np.arange(0.8, 2.01, 0.2)) \n",
    "                                    + [100.0])\n",
    "buckets_test = list(y_test['binned_opt_value'].unique())"
   ]
  },
  {
   "cell_type": "code",
   "execution_count": 16,
   "metadata": {},
   "outputs": [],
   "source": [
    "# if np.isnan(buckets_test[-1]):\n",
    "#     buckets_test = buckets_test[:-1]\n",
    "buckets_test.sort() # cannot sort if has nan.\n"
   ]
  },
  {
   "cell_type": "code",
   "execution_count": 17,
   "metadata": {},
   "outputs": [],
   "source": [
    "num_buckets_test = len(buckets_test)\n",
    "value_bucket_lookup_test = dict(zip(buckets_test, range(num_buckets_test)))\n",
    "y_test['binned_opt_value_code'] = y_test['binned_opt_value'].replace(value_bucket_lookup_test).values"
   ]
  },
  {
   "cell_type": "code",
   "execution_count": 18,
   "metadata": {},
   "outputs": [
    {
     "data": {
      "text/plain": [
       "0.4583349914797496"
      ]
     },
     "execution_count": 18,
     "metadata": {},
     "output_type": "execute_result"
    }
   ],
   "source": [
    "# predict\n",
    "y_predicted = np.full((1, len(y_test)), 1)[0]\n",
    "\n",
    "accuracy = accuracy_score(y_test['binned_opt_value_code'], y_predicted)\n",
    "accuracy"
   ]
  },
  {
   "cell_type": "code",
   "execution_count": 19,
   "metadata": {},
   "outputs": [
    {
     "name": "stderr",
     "output_type": "stream",
     "text": [
      "2278725it [01:46, 21345.63it/s]\n"
     ]
    },
    {
     "ename": "",
     "evalue": "",
     "output_type": "error",
     "traceback": [
      "\u001b[1;31mThe Kernel crashed while executing code in the the current cell or a previous cell. Please review the code in the cell(s) to identify a possible cause of the failure. Click <a href='https://aka.ms/vscodeJupyterKernelCrash'>here</a> for more info. View Jupyter <a href='command:jupyter.viewOutput'>log</a> for further details."
     ]
    }
   ],
   "source": [
    "# predict on prediction file and write?\n",
    "\n",
    "X_pred = read_and_prep_parquet(df_path + 'melt_2019-06-15_extended.parquet.gzip', 'predict')\n",
    "y_predicted_out = np.full((1, len(X_pred)), 1)[0]\n",
    "\n",
    "path_out = out_path_classification + 'prediction_benchmark_multiclass.tif'\n",
    "\n",
    "save_prediction_tif(X_pred, y_predicted_out, path_out)"
   ]
  },
  {
   "cell_type": "code",
   "execution_count": null,
   "metadata": {},
   "outputs": [],
   "source": []
  }
 ],
 "metadata": {
  "kernelspec": {
   "display_name": "Python 3.9.14 ('.venv': poetry)",
   "language": "python",
   "name": "python3"
  },
  "language_info": {
   "codemirror_mode": {
    "name": "ipython",
    "version": 3
   },
   "file_extension": ".py",
   "mimetype": "text/x-python",
   "name": "python",
   "nbconvert_exporter": "python",
   "pygments_lexer": "ipython3",
   "version": "3.9.14"
  },
  "orig_nbformat": 4,
  "vscode": {
   "interpreter": {
    "hash": "c1c6eaedbd5b3fcd114378d998a879d4f50715202363f6507059361ed549ecef"
   }
  }
 },
 "nbformat": 4,
 "nbformat_minor": 2
}
