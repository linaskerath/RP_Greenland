{
 "cells": [
  {
   "cell_type": "markdown",
   "metadata": {},
   "source": [
    "# Convert mw NetCDF to Tif"
   ]
  },
  {
   "cell_type": "markdown",
   "metadata": {},
   "source": [
    "**Purpose of script:**\n",
    "\n",
    "Convert the microwave data from NetCDF format to Tif format. \n",
    "\n",
    "- In: mw NetCDF data (one file)\n",
    "- Out: mw data in Tif foramt (multiple files)\n",
    "\n",
    "*Note: Dates are specified by defining the start and end date of desired period in the cell below.*"
   ]
  },
  {
   "cell_type": "code",
   "execution_count": 1,
   "metadata": {},
   "outputs": [],
   "source": [
    "import numpy as np\n",
    "import xarray\n",
    "import rasterio\n",
    "import pandas as pd"
   ]
  },
  {
   "cell_type": "markdown",
   "metadata": {},
   "source": [
    "Inputs and relevant paths"
   ]
  },
  {
   "cell_type": "code",
   "execution_count": 2,
   "metadata": {},
   "outputs": [],
   "source": [
    "start_date = \"2019-01-01\"\n",
    "end_date = \"2019-12-31\"\n",
    "\n",
    "mw_file = r\"../Data/microwave-rs/CumJour-North-ssmi-1979-2022-H19.nc\"\n",
    "mw_out_path = r'../Data/microwave-rs/mw_tif/'"
   ]
  },
  {
   "cell_type": "markdown",
   "metadata": {},
   "source": [
    "## Data Preparation"
   ]
  },
  {
   "cell_type": "markdown",
   "metadata": {},
   "source": [
    "Data load"
   ]
  },
  {
   "cell_type": "code",
   "execution_count": 3,
   "metadata": {},
   "outputs": [],
   "source": [
    "dataset_mw = xarray.open_dataset(mw_file).rio.write_crs(\n",
    "        \"epsg:3413\", inplace=True)"
   ]
  },
  {
   "cell_type": "markdown",
   "metadata": {},
   "source": [
    "Date range"
   ]
  },
  {
   "cell_type": "code",
   "execution_count": 4,
   "metadata": {},
   "outputs": [],
   "source": [
    "# create datetime array starting from start_date and ending at end_date\n",
    "period = [start_date, end_date]\n",
    "datelist = pd.date_range(*period)"
   ]
  },
  {
   "cell_type": "markdown",
   "metadata": {},
   "source": [
    "## Convert to Tif"
   ]
  },
  {
   "cell_type": "markdown",
   "metadata": {},
   "source": [
    "Main"
   ]
  },
  {
   "cell_type": "code",
   "execution_count": null,
   "metadata": {},
   "outputs": [],
   "source": [
    "for i in datelist:\n",
    "    print(i)\n",
    "    dataset_day = dataset_mw.where(dataset_mw[\"time\"] == i, drop=True)\n",
    "    data_mw_day = dataset_day[\"melt\"]\n",
    "    out_path_and_name = f\"{mw_out_path}{i.date()}_mw.tif\"\n",
    "    data_mw_day.rio.to_raster(out_path_and_name)\n",
    "\n",
    "    with rasterio.open(out_path_and_name) as src_mw:\n",
    "        mw = src_mw.read()\n",
    "        np.nan_to_num(mw, nan=-1, copy= False) # inplace\n",
    "        kwargs1 = src_mw.meta.copy()\n",
    "\n",
    "    # overwrite mw with new band (fixed nan)\n",
    "    with rasterio.open(out_path_and_name, 'w', **kwargs1) as dst:\n",
    "        dst.write_band(1, mw[0])\n",
    "\n",
    "# would be nice to do that with just one package"
   ]
  },
  {
   "attachments": {},
   "cell_type": "markdown",
   "metadata": {},
   "source": [
    "## TESTING LINA"
   ]
  },
  {
   "cell_type": "code",
   "execution_count": null,
   "metadata": {},
   "outputs": [],
   "source": [
    "xarray.open_dataset('testData.nc')"
   ]
  },
  {
   "cell_type": "code",
   "execution_count": null,
   "metadata": {},
   "outputs": [],
   "source": [
    "dataset_mw = xarray.open_dataset('testData.nc').rio.write_crs(\n",
    "        \"epsg:3413\", inplace=True)"
   ]
  },
  {
   "cell_type": "code",
   "execution_count": 5,
   "metadata": {},
   "outputs": [],
   "source": [
    "#period = [start_date, end_date]\n",
    "#datelist = pd.date_range(*period)\n",
    "\n",
    "# TEMP for testing non-melt areas:\n",
    "period = [['2017-06-01', '2017-08-31'],\n",
    "          ['2018-06-01', '2018-08-31'],\n",
    "          ['2019-06-01', '2019-08-31'], \n",
    "          ['2020-06-01', '2020-08-31'],\n",
    "          ['2021-06-01', '2021-08-31'],\n",
    "          ['2022-06-01', '2022-08-31']]\n",
    "\n",
    "for i in period:\n",
    "    datelist_ = pd.date_range(*i)\n",
    "    datelist = datelist + datelist_"
   ]
  }
 ],
 "metadata": {
  "kernelspec": {
   "display_name": "Python 3.9.14 ('.venv': poetry)",
   "language": "python",
   "name": "python3"
  },
  "language_info": {
   "codemirror_mode": {
    "name": "ipython",
    "version": 3
   },
   "file_extension": ".py",
   "mimetype": "text/x-python",
   "name": "python",
   "nbconvert_exporter": "python",
   "pygments_lexer": "ipython3",
   "version": "3.10.6"
  },
  "orig_nbformat": 4,
  "vscode": {
   "interpreter": {
    "hash": "c1c6eaedbd5b3fcd114378d998a879d4f50715202363f6507059361ed549ecef"
   }
  }
 },
 "nbformat": 4,
 "nbformat_minor": 2
}
