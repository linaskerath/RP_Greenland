{
 "cells": [
  {
   "cell_type": "code",
   "execution_count": 1,
   "metadata": {},
   "outputs": [],
   "source": [
    "#import numpy as np\n",
    "import xarray\n",
    "import rasterio\n",
    "import pandas as pd"
   ]
  },
  {
   "cell_type": "code",
   "execution_count": 2,
   "metadata": {},
   "outputs": [],
   "source": [
    "mw_path = r\"../Data/microwave-rs/CumJour-North-ssmi-1979-2022-H19.nc\"\n",
    "mw_out_path = r'../Data/microwave-rs/mw-tif/'"
   ]
  },
  {
   "cell_type": "code",
   "execution_count": 3,
   "metadata": {},
   "outputs": [],
   "source": [
    "dataset_mw = xarray.open_dataset(mw_path).rio.write_crs(\n",
    "        \"epsg:3413\", inplace=True)"
   ]
  },
  {
   "cell_type": "code",
   "execution_count": 7,
   "metadata": {},
   "outputs": [],
   "source": [
    "datelist = pd.date_range(start=\"2019-07-01\",end=\"2019-07-31\")"
   ]
  },
  {
   "cell_type": "code",
   "execution_count": 8,
   "metadata": {},
   "outputs": [
    {
     "name": "stdout",
     "output_type": "stream",
     "text": [
      "2019-07-01 00:00:00\n",
      "2019-07-02 00:00:00\n",
      "2019-07-03 00:00:00\n",
      "2019-07-04 00:00:00\n",
      "2019-07-05 00:00:00\n",
      "2019-07-06 00:00:00\n",
      "2019-07-07 00:00:00\n",
      "2019-07-08 00:00:00\n",
      "2019-07-09 00:00:00\n",
      "2019-07-10 00:00:00\n",
      "2019-07-11 00:00:00\n",
      "2019-07-12 00:00:00\n",
      "2019-07-13 00:00:00\n",
      "2019-07-14 00:00:00\n",
      "2019-07-15 00:00:00\n",
      "2019-07-16 00:00:00\n",
      "2019-07-17 00:00:00\n",
      "2019-07-18 00:00:00\n",
      "2019-07-19 00:00:00\n",
      "2019-07-20 00:00:00\n",
      "2019-07-21 00:00:00\n",
      "2019-07-22 00:00:00\n",
      "2019-07-23 00:00:00\n",
      "2019-07-24 00:00:00\n",
      "2019-07-25 00:00:00\n",
      "2019-07-26 00:00:00\n",
      "2019-07-27 00:00:00\n",
      "2019-07-28 00:00:00\n",
      "2019-07-29 00:00:00\n",
      "2019-07-30 00:00:00\n",
      "2019-07-31 00:00:00\n"
     ]
    }
   ],
   "source": [
    "for i in datelist:\n",
    "    print(i)\n",
    "    dataset_day = dataset_mw.where(dataset_mw[\"time\"] == i, drop=True)\n",
    "    data_mw_day = dataset_day[\"melt\"]\n",
    "    #print(data_mw_day)\n",
    "    data_mw_day.rio.to_raster(f\"{mw_out_path}{i.date()}_mw.tif\") # \n",
    "\n"
   ]
  }
 ],
 "metadata": {
  "kernelspec": {
   "display_name": "Python 3.9.14 ('.venv': poetry)",
   "language": "python",
   "name": "python3"
  },
  "language_info": {
   "codemirror_mode": {
    "name": "ipython",
    "version": 3
   },
   "file_extension": ".py",
   "mimetype": "text/x-python",
   "name": "python",
   "nbconvert_exporter": "python",
   "pygments_lexer": "ipython3",
   "version": "3.9.14"
  },
  "orig_nbformat": 4,
  "vscode": {
   "interpreter": {
    "hash": "c1c6eaedbd5b3fcd114378d998a879d4f50715202363f6507059361ed549ecef"
   }
  }
 },
 "nbformat": 4,
 "nbformat_minor": 2
}
