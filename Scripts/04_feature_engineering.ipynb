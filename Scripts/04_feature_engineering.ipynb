{
 "cells": [
  {
   "cell_type": "markdown",
   "metadata": {},
   "source": [
    "# Feature engineering"
   ]
  },
  {
   "cell_type": "markdown",
   "metadata": {},
   "source": [
    "**Purpose of script:**\n",
    "\n",
    "Creating new features \n",
    "\n",
    "- In: dataframe_plain\n",
    "- Out: dataframe_extended (with additional feature columns)"
   ]
  },
  {
   "cell_type": "code",
   "execution_count": 1,
   "metadata": {},
   "outputs": [],
   "source": [
    "import xarray\n",
    "import rasterio\n",
    "import gemgis as gg\n",
    "import pandas as pd\n",
    "import numpy as np\n",
    "from tqdm import tqdm\n",
    "from astral.sun import sun\n",
    "from astral import LocationInfo\n",
    "import pyproj\n",
    "from math import asin, cos, atan, tan, pi, acos, sin \n",
    "import os\n",
    "\n",
    "import datetime as dt\n",
    "\n",
    "from os import listdir\n",
    "from os.path import isfile, join\n",
    "import scipy"
   ]
  },
  {
   "cell_type": "markdown",
   "metadata": {},
   "source": [
    "##### Relevant paths"
   ]
  },
  {
   "cell_type": "code",
   "execution_count": 2,
   "metadata": {},
   "outputs": [],
   "source": [
    "path_dataframe_plain = r\"../Data/combined/dataframe_plain/\"\n",
    "mw_path = r\"../Data/microwave-rs/mw_interpolated/\"\n",
    "path_elevation =  r\"../Data/elevation_data/gimpdem_1km_compressed.tif\"\n",
    "path_daylight = r\"../Data/daylight_data/\"\n",
    "out_path = r\"../Data/combined/dataframe_extended/\""
   ]
  },
  {
   "cell_type": "markdown",
   "metadata": {},
   "source": [
    "## Features"
   ]
  },
  {
   "cell_type": "markdown",
   "metadata": {},
   "source": [
    "##### Row and column"
   ]
  },
  {
   "cell_type": "code",
   "execution_count": 3,
   "metadata": {},
   "outputs": [],
   "source": [
    "def add_row_and_col(df):\n",
    "        # add row and column features:\n",
    "        df['col'] = df.groupby(\"x\").ngroup() # xshape 2663 \n",
    "        df['row'] = df.groupby(\"y\").ngroup(ascending=False) # yshape 1462\n",
    "        return df"
   ]
  },
  {
   "cell_type": "markdown",
   "metadata": {},
   "source": [
    "##### Date"
   ]
  },
  {
   "cell_type": "code",
   "execution_count": 4,
   "metadata": {},
   "outputs": [],
   "source": [
    "def add_date(df, melt_date):\n",
    "    date = pd.to_datetime(melt_date).date()\n",
    "    df['date'] = date\n",
    "    return df"
   ]
  },
  {
   "cell_type": "markdown",
   "metadata": {},
   "source": [
    "##### Aggregated/pooled values"
   ]
  },
  {
   "cell_type": "code",
   "execution_count": 5,
   "metadata": {},
   "outputs": [],
   "source": [
    "from typing import Union\n",
    "from typing import Tuple\n",
    "from scipy.stats import mode\n",
    "from scipy.signal import convolve2d\n",
    "\n",
    "def get_window(image: np.ndarray, window_size: int, center: Tuple[int, int]) -> np.ndarray:\n",
    "    top = max(center[0] - window_size // 2, 0)\n",
    "    bottom = min(center[0] + window_size // 2 + 1, image.shape[0])\n",
    "    left = max(center[1] - window_size // 2, 0)\n",
    "    right = min(center[1] + window_size // 2 + 1, image.shape[1])\n",
    "    window = image[top:bottom, left:right]\n",
    "    return window\n",
    "\n",
    "\n",
    "# need to fix? : only calculate if the middle value is not nan - else all nan columns around 1 and 0 are going to have a value.\n",
    "\n",
    "def convolve(image, window_size, convolution_fn: Union['mean', 'min', 'max', 'sum']):\n",
    "    image = image[0].values\n",
    "    image[image == -1] = np.nan\n",
    "    \n",
    "    if convolution_fn == 'mean':\n",
    "        kernel = np.ones((window_size, window_size))  # kernel for mean convolution\n",
    "        result = np.zeros_like(image, dtype=np.float64)\n",
    "        # Compute the sum and count of non-NaN values in the kernel window\n",
    "        counts = convolve2d(~np.isnan(image), kernel, mode='same', boundary='fill', fillvalue=0)\n",
    "        sums = convolve2d(np.nan_to_num(image), kernel, mode='same', boundary='fill', fillvalue=0)\n",
    "        # Calculate the mean, ignoring NaN values\n",
    "        result[counts > 0] = sums[counts > 0] / counts[counts > 0]\n",
    "        # Set the output to NaN where all values in the kernel window are NaN\n",
    "        result[counts == 0] = np.nan\n",
    "        return result\n",
    "        \n",
    "    elif convolution_fn == 'max':\n",
    "        result = np.zeros_like(image, dtype=np.float64)\n",
    "        for i in range(image.shape[0]):\n",
    "            for j in range(image.shape[1]):\n",
    "                window = get_window(image, window_size, (i, j))\n",
    "                non_nan_values = window[~np.isnan(window)]\n",
    "                if len(non_nan_values) == 0:\n",
    "                    result[i, j] = np.nan\n",
    "                else:\n",
    "                    result[i, j] = np.nanmax(non_nan_values)\n",
    "\n",
    "    elif convolution_fn == 'min':\n",
    "        result = np.zeros_like(image, dtype=np.float64)\n",
    "        for i in range(image.shape[0]):\n",
    "            for j in range(image.shape[1]):\n",
    "                window = get_window(image, window_size, (i, j))\n",
    "                non_nan_values = window[~np.isnan(window)]\n",
    "                if len(non_nan_values) == 0:\n",
    "                    result[i, j] = np.nan\n",
    "                else:\n",
    "                    result[i, j] = np.nanmin(non_nan_values)\n",
    "        return result\n",
    "\n",
    "    elif convolution_fn == 'sum':\n",
    "        result = np.zeros_like(image, dtype=np.float64)\n",
    "        for i in range(image.shape[0]):\n",
    "            for j in range(image.shape[1]):\n",
    "                window = get_window(image, window_size, (i, j))\n",
    "                non_nan_values = window[~np.isnan(window)]\n",
    "                if len(non_nan_values) == 0:\n",
    "                    result[i, j] = np.nan\n",
    "                else:\n",
    "                    result[i, j] = np.nansum(non_nan_values)\n",
    "        return result\n",
    "        \n",
    "    else: \n",
    "        print('not available function')\n",
    "    return"
   ]
  },
  {
   "cell_type": "code",
   "execution_count": 6,
   "metadata": {},
   "outputs": [],
   "source": [
    "def convolution_to_df(convolution_raster, column_name):\n",
    "    nrows, ncols = convolution_raster.shape\n",
    "    # create an array of x and y positions\n",
    "    x = np.tile(np.arange(ncols), nrows)\n",
    "    y = np.repeat(np.arange(nrows), ncols)\n",
    "    # create a DataFrame with x, y, and pixel values as columns\n",
    "    df = pd.DataFrame({'col': x, 'row': y, column_name: convolution_raster.flatten()})\n",
    "\n",
    "    return df "
   ]
  },
  {
   "cell_type": "markdown",
   "metadata": {},
   "source": [
    "##### Elevation data"
   ]
  },
  {
   "cell_type": "code",
   "execution_count": 7,
   "metadata": {},
   "outputs": [],
   "source": [
    "def add_elevation(data):\n",
    "    df = data.to_dataframe()\n",
    "    df = df.reset_index()\n",
    "    df = df[['x', 'y', 'band_data']]\n",
    "    df.rename({'band_data': 'elevation_data'}, axis=1, inplace=True)\n",
    "    return df"
   ]
  },
  {
   "attachments": {},
   "cell_type": "markdown",
   "metadata": {},
   "source": [
    "##### Slope"
   ]
  },
  {
   "attachments": {},
   "cell_type": "markdown",
   "metadata": {},
   "source": [
    "Slope is given as degree of incline angle: 0 means flat (no slope == horizontal), 90 means (most possible slope == vertical)"
   ]
  },
  {
   "cell_type": "code",
   "execution_count": 39,
   "metadata": {},
   "outputs": [],
   "source": [
    "def get_slope(data):\n",
    "    slope = gg.raster.calculate_slope(data)\n",
    "    nrows, ncols = slope.shape\n",
    "    # create an array of x and y positions\n",
    "    x = np.tile(np.arange(ncols), nrows)\n",
    "    y = np.repeat(np.arange(nrows), ncols)\n",
    "    # create a DataFrame with x, y, and pixel values as columns\n",
    "    df_slope = pd.DataFrame({'col': x, 'row': y, 'slope_data': slope.flatten()})\n",
    "    return df_slope"
   ]
  },
  {
   "attachments": {},
   "cell_type": "markdown",
   "metadata": {},
   "source": [
    "##### Aspect"
   ]
  },
  {
   "attachments": {},
   "cell_type": "markdown",
   "metadata": {},
   "source": [
    "Aspect is given as cosine radian: 0 and 360 degree = 1, 180 degree = -1"
   ]
  },
  {
   "cell_type": "code",
   "execution_count": 9,
   "metadata": {},
   "outputs": [],
   "source": [
    "def get_aspect(data):\n",
    "    aspect = gg.raster.calculate_aspect(data)\n",
    "    nrows, ncols = aspect.shape\n",
    "    # create an array of x and y positions\n",
    "    x = np.tile(np.arange(ncols), nrows)\n",
    "    y = np.repeat(np.arange(nrows), ncols)\n",
    "    # create a DataFrame with x, y, and pixel values as columns\n",
    "    df_aspect = pd.DataFrame({'col': x, 'row': y, 'aspect_data': aspect.flatten()})\n",
    "    df_aspect[\"aspect_data\"] = np.cos(df_aspect[\"aspect_data\"] * np.pi / 180.)\n",
    "    return df_aspect"
   ]
  },
  {
   "cell_type": "markdown",
   "metadata": {},
   "source": [
    "##### Distance from margin/shore"
   ]
  },
  {
   "cell_type": "code",
   "execution_count": 10,
   "metadata": {},
   "outputs": [],
   "source": [
    "def distance_to_margin():\n",
    "    data_microwave = xarray.open_dataarray(mw_path + '2019-06-08_mw.tif') # any microwave file\n",
    "    mw_val_masked = data_microwave[0].values\n",
    "    mw_val_masked = np.copy(mw_val_masked)\n",
    "    mw_val_masked[mw_val_masked==1]=0\n",
    "    dist_in_pixels = scipy.ndimage.morphology.distance_transform_edt(mw_val_masked==0, return_distances= True)\n",
    "    return dist_in_pixels"
   ]
  },
  {
   "attachments": {},
   "cell_type": "markdown",
   "metadata": {},
   "source": [
    "##### Array to DF"
   ]
  },
  {
   "cell_type": "code",
   "execution_count": 11,
   "metadata": {},
   "outputs": [],
   "source": [
    "def array_to_df(convolution_raster, column_name):\n",
    "    nrows, ncols = convolution_raster.shape\n",
    "    # create an array of x and y positions\n",
    "    x = np.tile(np.arange(ncols), nrows)\n",
    "    y = np.repeat(np.arange(nrows), ncols)\n",
    "    # create a DataFrame with x, y, and pixel values as columns\n",
    "    df = pd.DataFrame({'col': x, 'row': y, column_name: convolution_raster.flatten()})\n",
    "    return df "
   ]
  },
  {
   "attachments": {},
   "cell_type": "markdown",
   "metadata": {},
   "source": [
    "#### Hours of Daylight"
   ]
  },
  {
   "cell_type": "code",
   "execution_count": 12,
   "metadata": {},
   "outputs": [],
   "source": [
    "def add_hours_of_daylight(df, melt_date):\n",
    "    date = pd.to_datetime(melt_date)\n",
    "    day = date.dayofyear\n",
    "    month = date.month\n",
    "    # read daylight data for respective month\n",
    "    daylight = pd.read_parquet(path_daylight + f'hours_of_daylight_month{month}.parquet')\n",
    "    # only keep column for respective day of year\n",
    "    daylight = daylight[[\"x\", \"y\", f'daylight_day_{day}']]\n",
    "    # rename column \"daylight_day_XXX\" to \"hours_of_daylight\"\n",
    "    daylight.rename({f'daylight_day_{day}': 'hours_of_daylight'}, axis=1, inplace=True)\n",
    "    return daylight\n",
    "   "
   ]
  },
  {
   "attachments": {},
   "cell_type": "markdown",
   "metadata": {},
   "source": [
    "#### Temporal Information"
   ]
  },
  {
   "attachments": {},
   "cell_type": "markdown",
   "metadata": {},
   "source": [
    "*Note for testing: requires feature-engineered files of 7 days prior to testing date as input*"
   ]
  },
  {
   "cell_type": "code",
   "execution_count": 13,
   "metadata": {},
   "outputs": [],
   "source": [
    "def add_temporal_information(df, melt_date):\n",
    "\n",
    "    df_temporal = df[[\"x\", \"y\"]].copy()\n",
    "\n",
    "    today = pd.to_datetime(melt_date)\n",
    "    yesterday = (today - dt.timedelta(days=1)).date()\n",
    "    file_path_yesterday = f\"{out_path}melt_{yesterday}_extended.parquet.gzip\"\n",
    "\n",
    "    if os.path.isfile(file_path_yesterday):\n",
    "        df_yesteday = pd.read_parquet(file_path_yesterday)\n",
    "        df_temporal[\"mw_value_yesterday\"] = df_yesteday[\"mw_value\"]\n",
    "        # df_temporal = df_temporal.join(df_yesterday[[\"mw_value\", \"mean_3\", \"mean_9\", \"sum_5\"]].add_suffix(\"_yesterday\"))\n",
    "\n",
    "        last_7_days = pd.date_range((today - dt.timedelta(days=7)), yesterday).copy()\n",
    "        file_check = [os.path.isfile(f\"{out_path}melt_{f.date()}_extended.parquet.gzip\") for f in last_7_days] \n",
    "\n",
    "        if all(file_check):\n",
    "            mw_last_7_days = pd.DataFrame()\n",
    "            #mean_3_last_7_days = pd.DataFrame()\n",
    "            #mean_9_last_7_days = pd.DataFrame()\n",
    "            #sum_5_last_7_days = pd.DataFrame()\n",
    "\n",
    "            for date in last_7_days:\n",
    "                temp = pd.read_parquet(f\"{out_path}melt_{date.date()}_extended.parquet.gzip\")\n",
    "                mw_last_7_days = pd.concat([mw_last_7_days, temp[\"mw_value\"]], axis=1)\n",
    "                #mean_3_last_7_days = pd.concat([mean_3_last_7_days, temp[\"mean_3\"]], axis=1)\n",
    "                #mean_9_last_7_days = pd.concat([mean_9_last_7_days, temp[\"mean_9\"]], axis=1)\n",
    "                #sum_5_last_7_days = pd.concat([sum_5_last_7_days, temp[\"sum_5\"]], axis=1)\n",
    "\n",
    "            df_temporal = df_temporal.assign(\n",
    "                mw_value_7_day_average=mw_last_7_days.mean(axis=1),\n",
    "                #mean_3_7_day_average=mean_3_last_7_days.mean(axis=1),\n",
    "                #mean_9_7_day_average=mean_9_last_7_days.mean(axis=1),\n",
    "                #sum_5_7_day_average=sum_5_last_7_days.mean(axis=1),\n",
    "            )\n",
    "        else:\n",
    "            df_temporal = df_temporal.assign(\n",
    "                mw_value_7_day_average=np.nan,\n",
    "                #mean_3_7_day_average=np.nan,\n",
    "                #mean_9_7_day_average=np.nan,\n",
    "                #sum_5_7_day_average=np.nan\n",
    "            )\n",
    "        return df_temporal\n",
    "    else:\n",
    "        nan_df = pd.DataFrame(columns=[\"x\", \"y\", \"mw_value_yesterday\", \"mw_value_7_day_average\"]) # \"mean_3_yesterday\", \"mean_3_7_day_average\", \"mean_9_yesterday\", \"mean_9_7_day_average\", \"sum_3_yesterday\", \"sum_3_7_day_average\"], index=df.index)\n",
    "        nan_df[\"x\"] = df[\"x\"]\n",
    "        nan_df[\"y\"] = df[\"y\"]\n",
    "        return nan_df"
   ]
  },
  {
   "cell_type": "markdown",
   "metadata": {},
   "source": [
    "## Main:"
   ]
  },
  {
   "cell_type": "code",
   "execution_count": 14,
   "metadata": {},
   "outputs": [],
   "source": [
    "def get_files(mw_path, path_dataframe_plain):\n",
    "    # get plain files:\n",
    "    df_plain_files = [f for f in listdir(path_dataframe_plain) if isfile(join(path_dataframe_plain, f))]\n",
    "    # microwave files:\n",
    "    mw_files = [f for f in listdir(mw_path) if isfile(join(mw_path, f))]\n",
    "    return  mw_files, df_plain_files"
   ]
  },
  {
   "cell_type": "code",
   "execution_count": 38,
   "metadata": {},
   "outputs": [],
   "source": [
    "def main(mw_files_list, df_plain_files_list, path_elevation, out_path, write = False):\n",
    "    # get plain files:\n",
    "    df_plain_files = df_plain_files_list\n",
    "    # microwave files:\n",
    "    mw_files = mw_files_list\n",
    "    # load elevation data:\n",
    "    data_elevation_xarray = xarray.open_dataarray(path_elevation)\n",
    "    data_elevation_rasterio = rasterio.open(path_elevation)\n",
    "    # calculate distance to margin:\n",
    "    distance_margin = distance_to_margin()\n",
    "\n",
    "    for df_file in df_plain_files:\n",
    "        melt_date =  df_file[5:15]\n",
    "        print(melt_date)\n",
    "        for mw_file in mw_files:\n",
    "            if mw_file.startswith(melt_date):\n",
    "                data_mw = xarray.open_dataarray(mw_path + mw_file)\n",
    "                df = pd.read_parquet(path_dataframe_plain + df_file)\n",
    "                # cap outliers above 5 in opt_value column to 5\n",
    "                df.loc[df['opt_value'] > 5, 'opt_value'] = 5\n",
    "                # add row and column features:\n",
    "                df = add_row_and_col(df)\n",
    "                # get convolutions:\n",
    "                df_conv_mean_3 = array_to_df(convolve(data_mw, 3, 'mean'), 'mean_3')\n",
    "                df_conv_mean_9 = array_to_df(convolve(data_mw, 9, 'mean'), 'mean_9')\n",
    "                df_conv_sum_5 = array_to_df(convolve(data_mw, 5, 'sum'), 'sum_5')\n",
    "                # merge convolution:\n",
    "                df_combined = pd.merge(df, df_conv_mean_3, how = 'left', on = ['row', 'col'])\n",
    "                df_combined = pd.merge(df_combined, df_conv_mean_9, how = 'left', on = ['row', 'col'])\n",
    "                df_combined = pd.merge(df_combined, df_conv_sum_5, how = 'left', on = ['row', 'col'])\n",
    "                # remove water in mw:\n",
    "                df_combined = df_combined.loc[df_combined['mw_value'] != -1]\n",
    "                # add date:\n",
    "                df = add_date(df_combined, melt_date)\n",
    "                # add temporal information:\n",
    "                df_temporal = add_temporal_information(df, melt_date)\n",
    "                df = pd.merge(df, df_temporal, how = 'left', on = [\"y\",'x'])\n",
    "                # add and merge daylight_data:\n",
    "                df_daylight = add_hours_of_daylight(df, melt_date)\n",
    "                df = pd.merge(df, df_daylight, how = 'left', on = [\"y\",'x'])\n",
    "                # add and merge elevation data:\n",
    "                df_elevation = add_elevation(data_elevation_xarray)\n",
    "                df = pd.merge(df, df_elevation, how = 'left', on = ['y', 'x'])\n",
    "                # get and merge slope data:\n",
    "                df_slope = get_slope(data_elevation_rasterio)\n",
    "                df = pd.merge(df, df_slope, how=\"left\", on=[\"col\", \"row\"])\n",
    "                # get and merge aspect data:\n",
    "                df_aspect = get_aspect(data_elevation_rasterio)\n",
    "                df = pd.merge(df, df_aspect, how=\"left\", on=[\"col\", \"row\"]) \n",
    "                # add and merge distance to margin data:\n",
    "                df_distance = array_to_df(distance_margin, 'distance_to_margin')\n",
    "                df = pd.merge(df, df_distance, how = 'left', on = ['row', 'col'])\n",
    "                # write to parquet:\n",
    "                if write == True:\n",
    "                    df.to_parquet(out_path + 'melt_'+ melt_date + '_extended.parquet.gzip', index= False)                    \n",
    "    return df\n",
    "                \n",
    "                "
   ]
  },
  {
   "cell_type": "markdown",
   "metadata": {},
   "source": [
    "Main"
   ]
  },
  {
   "cell_type": "code",
   "execution_count": null,
   "metadata": {},
   "outputs": [],
   "source": [
    "#main(mw_path, path_dataframe_plain, path_elevation, out_path)\n",
    "main(*get_files(mw_path, path_dataframe_plain), path_elevation, out_path)# , write = True)"
   ]
  },
  {
   "cell_type": "markdown",
   "metadata": {},
   "source": [
    "## Testing"
   ]
  },
  {
   "cell_type": "code",
   "execution_count": 49,
   "metadata": {},
   "outputs": [
    {
     "name": "stdout",
     "output_type": "stream",
     "text": [
      "2019-06-12\n"
     ]
    },
    {
     "data": {
      "text/html": [
       "<div>\n",
       "<style scoped>\n",
       "    .dataframe tbody tr th:only-of-type {\n",
       "        vertical-align: middle;\n",
       "    }\n",
       "\n",
       "    .dataframe tbody tr th {\n",
       "        vertical-align: top;\n",
       "    }\n",
       "\n",
       "    .dataframe thead th {\n",
       "        text-align: right;\n",
       "    }\n",
       "</style>\n",
       "<table border=\"1\" class=\"dataframe\">\n",
       "  <thead>\n",
       "    <tr style=\"text-align: right;\">\n",
       "      <th></th>\n",
       "      <th>x</th>\n",
       "      <th>y</th>\n",
       "      <th>mw_value</th>\n",
       "      <th>opt_value</th>\n",
       "      <th>col</th>\n",
       "      <th>row</th>\n",
       "      <th>mean_3</th>\n",
       "      <th>mean_9</th>\n",
       "      <th>sum_5</th>\n",
       "      <th>date</th>\n",
       "      <th>mw_yesterday</th>\n",
       "      <th>mw_value_7_day_average</th>\n",
       "      <th>hours_of_daylight</th>\n",
       "      <th>elevation_data</th>\n",
       "      <th>slope_data</th>\n",
       "      <th>aspect_data</th>\n",
       "      <th>distance_to_margin</th>\n",
       "    </tr>\n",
       "  </thead>\n",
       "  <tbody>\n",
       "    <tr>\n",
       "      <th>0</th>\n",
       "      <td>-636500.00</td>\n",
       "      <td>-662500.00</td>\n",
       "      <td>0.00</td>\n",
       "      <td>-1.00</td>\n",
       "      <td>0</td>\n",
       "      <td>0</td>\n",
       "      <td>0.00</td>\n",
       "      <td>0.00</td>\n",
       "      <td>0.00</td>\n",
       "      <td>2019-06-12</td>\n",
       "      <td>0.00</td>\n",
       "      <td>NaN</td>\n",
       "      <td>24.00</td>\n",
       "      <td>14.00</td>\n",
       "      <td>0.00</td>\n",
       "      <td>1.00</td>\n",
       "      <td>150.00</td>\n",
       "    </tr>\n",
       "    <tr>\n",
       "      <th>1</th>\n",
       "      <td>-635500.00</td>\n",
       "      <td>-662500.00</td>\n",
       "      <td>0.00</td>\n",
       "      <td>-1.00</td>\n",
       "      <td>1</td>\n",
       "      <td>0</td>\n",
       "      <td>0.00</td>\n",
       "      <td>0.00</td>\n",
       "      <td>0.00</td>\n",
       "      <td>2019-06-12</td>\n",
       "      <td>0.00</td>\n",
       "      <td>NaN</td>\n",
       "      <td>24.00</td>\n",
       "      <td>14.00</td>\n",
       "      <td>0.00</td>\n",
       "      <td>1.00</td>\n",
       "      <td>150.00</td>\n",
       "    </tr>\n",
       "    <tr>\n",
       "      <th>2</th>\n",
       "      <td>-634500.00</td>\n",
       "      <td>-662500.00</td>\n",
       "      <td>0.00</td>\n",
       "      <td>-1.00</td>\n",
       "      <td>2</td>\n",
       "      <td>0</td>\n",
       "      <td>0.00</td>\n",
       "      <td>0.00</td>\n",
       "      <td>0.00</td>\n",
       "      <td>2019-06-12</td>\n",
       "      <td>0.00</td>\n",
       "      <td>NaN</td>\n",
       "      <td>24.00</td>\n",
       "      <td>14.00</td>\n",
       "      <td>0.00</td>\n",
       "      <td>1.00</td>\n",
       "      <td>150.00</td>\n",
       "    </tr>\n",
       "    <tr>\n",
       "      <th>3</th>\n",
       "      <td>-633500.00</td>\n",
       "      <td>-662500.00</td>\n",
       "      <td>0.00</td>\n",
       "      <td>-1.00</td>\n",
       "      <td>3</td>\n",
       "      <td>0</td>\n",
       "      <td>0.00</td>\n",
       "      <td>0.00</td>\n",
       "      <td>0.00</td>\n",
       "      <td>2019-06-12</td>\n",
       "      <td>0.00</td>\n",
       "      <td>NaN</td>\n",
       "      <td>24.00</td>\n",
       "      <td>14.00</td>\n",
       "      <td>0.00</td>\n",
       "      <td>1.00</td>\n",
       "      <td>150.00</td>\n",
       "    </tr>\n",
       "    <tr>\n",
       "      <th>4</th>\n",
       "      <td>-632500.00</td>\n",
       "      <td>-662500.00</td>\n",
       "      <td>0.00</td>\n",
       "      <td>-1.00</td>\n",
       "      <td>4</td>\n",
       "      <td>0</td>\n",
       "      <td>0.00</td>\n",
       "      <td>0.00</td>\n",
       "      <td>0.00</td>\n",
       "      <td>2019-06-12</td>\n",
       "      <td>0.00</td>\n",
       "      <td>NaN</td>\n",
       "      <td>24.00</td>\n",
       "      <td>14.00</td>\n",
       "      <td>0.00</td>\n",
       "      <td>1.00</td>\n",
       "      <td>150.00</td>\n",
       "    </tr>\n",
       "    <tr>\n",
       "      <th>...</th>\n",
       "      <td>...</td>\n",
       "      <td>...</td>\n",
       "      <td>...</td>\n",
       "      <td>...</td>\n",
       "      <td>...</td>\n",
       "      <td>...</td>\n",
       "      <td>...</td>\n",
       "      <td>...</td>\n",
       "      <td>...</td>\n",
       "      <td>...</td>\n",
       "      <td>...</td>\n",
       "      <td>...</td>\n",
       "      <td>...</td>\n",
       "      <td>...</td>\n",
       "      <td>...</td>\n",
       "      <td>...</td>\n",
       "      <td>...</td>\n",
       "    </tr>\n",
       "    <tr>\n",
       "      <th>2278720</th>\n",
       "      <td>58500.00</td>\n",
       "      <td>-3324500.00</td>\n",
       "      <td>0.00</td>\n",
       "      <td>-1.00</td>\n",
       "      <td>695</td>\n",
       "      <td>2662</td>\n",
       "      <td>0.00</td>\n",
       "      <td>0.00</td>\n",
       "      <td>0.00</td>\n",
       "      <td>2019-06-12</td>\n",
       "      <td>0.00</td>\n",
       "      <td>NaN</td>\n",
       "      <td>18.53</td>\n",
       "      <td>44.00</td>\n",
       "      <td>6.48</td>\n",
       "      <td>0.02</td>\n",
       "      <td>5.00</td>\n",
       "    </tr>\n",
       "    <tr>\n",
       "      <th>2278721</th>\n",
       "      <td>59500.00</td>\n",
       "      <td>-3324500.00</td>\n",
       "      <td>0.00</td>\n",
       "      <td>-1.00</td>\n",
       "      <td>696</td>\n",
       "      <td>2662</td>\n",
       "      <td>0.00</td>\n",
       "      <td>0.00</td>\n",
       "      <td>0.00</td>\n",
       "      <td>2019-06-12</td>\n",
       "      <td>0.00</td>\n",
       "      <td>NaN</td>\n",
       "      <td>18.53</td>\n",
       "      <td>44.00</td>\n",
       "      <td>0.63</td>\n",
       "      <td>1.00</td>\n",
       "      <td>4.00</td>\n",
       "    </tr>\n",
       "    <tr>\n",
       "      <th>2278722</th>\n",
       "      <td>60500.00</td>\n",
       "      <td>-3324500.00</td>\n",
       "      <td>0.00</td>\n",
       "      <td>-1.00</td>\n",
       "      <td>697</td>\n",
       "      <td>2662</td>\n",
       "      <td>0.00</td>\n",
       "      <td>0.00</td>\n",
       "      <td>0.00</td>\n",
       "      <td>2019-06-12</td>\n",
       "      <td>0.00</td>\n",
       "      <td>NaN</td>\n",
       "      <td>18.53</td>\n",
       "      <td>44.00</td>\n",
       "      <td>0.04</td>\n",
       "      <td>0.71</td>\n",
       "      <td>3.00</td>\n",
       "    </tr>\n",
       "    <tr>\n",
       "      <th>2278723</th>\n",
       "      <td>61500.00</td>\n",
       "      <td>-3324500.00</td>\n",
       "      <td>0.00</td>\n",
       "      <td>-1.00</td>\n",
       "      <td>698</td>\n",
       "      <td>2662</td>\n",
       "      <td>0.00</td>\n",
       "      <td>0.00</td>\n",
       "      <td>0.00</td>\n",
       "      <td>2019-06-12</td>\n",
       "      <td>0.00</td>\n",
       "      <td>NaN</td>\n",
       "      <td>18.53</td>\n",
       "      <td>45.00</td>\n",
       "      <td>0.03</td>\n",
       "      <td>-0.00</td>\n",
       "      <td>2.00</td>\n",
       "    </tr>\n",
       "    <tr>\n",
       "      <th>2278724</th>\n",
       "      <td>62500.00</td>\n",
       "      <td>-3324500.00</td>\n",
       "      <td>0.00</td>\n",
       "      <td>-1.00</td>\n",
       "      <td>699</td>\n",
       "      <td>2662</td>\n",
       "      <td>0.00</td>\n",
       "      <td>0.00</td>\n",
       "      <td>0.00</td>\n",
       "      <td>2019-06-12</td>\n",
       "      <td>0.00</td>\n",
       "      <td>NaN</td>\n",
       "      <td>18.53</td>\n",
       "      <td>45.00</td>\n",
       "      <td>1.09</td>\n",
       "      <td>-1.00</td>\n",
       "      <td>1.00</td>\n",
       "    </tr>\n",
       "  </tbody>\n",
       "</table>\n",
       "<p>2278725 rows × 17 columns</p>\n",
       "</div>"
      ],
      "text/plain": [
       "                 x           y  mw_value  opt_value  col   row  mean_3  \\\n",
       "0       -636500.00  -662500.00      0.00      -1.00    0     0    0.00   \n",
       "1       -635500.00  -662500.00      0.00      -1.00    1     0    0.00   \n",
       "2       -634500.00  -662500.00      0.00      -1.00    2     0    0.00   \n",
       "3       -633500.00  -662500.00      0.00      -1.00    3     0    0.00   \n",
       "4       -632500.00  -662500.00      0.00      -1.00    4     0    0.00   \n",
       "...            ...         ...       ...        ...  ...   ...     ...   \n",
       "2278720   58500.00 -3324500.00      0.00      -1.00  695  2662    0.00   \n",
       "2278721   59500.00 -3324500.00      0.00      -1.00  696  2662    0.00   \n",
       "2278722   60500.00 -3324500.00      0.00      -1.00  697  2662    0.00   \n",
       "2278723   61500.00 -3324500.00      0.00      -1.00  698  2662    0.00   \n",
       "2278724   62500.00 -3324500.00      0.00      -1.00  699  2662    0.00   \n",
       "\n",
       "         mean_9  sum_5        date  mw_yesterday  mw_value_7_day_average  \\\n",
       "0          0.00   0.00  2019-06-12          0.00                     NaN   \n",
       "1          0.00   0.00  2019-06-12          0.00                     NaN   \n",
       "2          0.00   0.00  2019-06-12          0.00                     NaN   \n",
       "3          0.00   0.00  2019-06-12          0.00                     NaN   \n",
       "4          0.00   0.00  2019-06-12          0.00                     NaN   \n",
       "...         ...    ...         ...           ...                     ...   \n",
       "2278720    0.00   0.00  2019-06-12          0.00                     NaN   \n",
       "2278721    0.00   0.00  2019-06-12          0.00                     NaN   \n",
       "2278722    0.00   0.00  2019-06-12          0.00                     NaN   \n",
       "2278723    0.00   0.00  2019-06-12          0.00                     NaN   \n",
       "2278724    0.00   0.00  2019-06-12          0.00                     NaN   \n",
       "\n",
       "         hours_of_daylight  elevation_data  slope_data  aspect_data  \\\n",
       "0                    24.00           14.00        0.00         1.00   \n",
       "1                    24.00           14.00        0.00         1.00   \n",
       "2                    24.00           14.00        0.00         1.00   \n",
       "3                    24.00           14.00        0.00         1.00   \n",
       "4                    24.00           14.00        0.00         1.00   \n",
       "...                    ...             ...         ...          ...   \n",
       "2278720              18.53           44.00        6.48         0.02   \n",
       "2278721              18.53           44.00        0.63         1.00   \n",
       "2278722              18.53           44.00        0.04         0.71   \n",
       "2278723              18.53           45.00        0.03        -0.00   \n",
       "2278724              18.53           45.00        1.09        -1.00   \n",
       "\n",
       "         distance_to_margin  \n",
       "0                    150.00  \n",
       "1                    150.00  \n",
       "2                    150.00  \n",
       "3                    150.00  \n",
       "4                    150.00  \n",
       "...                     ...  \n",
       "2278720                5.00  \n",
       "2278721                4.00  \n",
       "2278722                3.00  \n",
       "2278723                2.00  \n",
       "2278724                1.00  \n",
       "\n",
       "[2278725 rows x 17 columns]"
      ]
     },
     "execution_count": 49,
     "metadata": {},
     "output_type": "execute_result"
    }
   ],
   "source": [
    "df = main(['2019-06-12_mw.tif'], ['melt_2019-06-12.parquet.gzip'], path_elevation, out_path, write= True)\n",
    "df"
   ]
  },
  {
   "cell_type": "code",
   "execution_count": 19,
   "metadata": {},
   "outputs": [
    {
     "data": {
      "text/html": [
       "<div>\n",
       "<style scoped>\n",
       "    .dataframe tbody tr th:only-of-type {\n",
       "        vertical-align: middle;\n",
       "    }\n",
       "\n",
       "    .dataframe tbody tr th {\n",
       "        vertical-align: top;\n",
       "    }\n",
       "\n",
       "    .dataframe thead th {\n",
       "        text-align: right;\n",
       "    }\n",
       "</style>\n",
       "<table border=\"1\" class=\"dataframe\">\n",
       "  <thead>\n",
       "    <tr style=\"text-align: right;\">\n",
       "      <th></th>\n",
       "      <th>x</th>\n",
       "      <th>y</th>\n",
       "      <th>mw_value</th>\n",
       "      <th>opt_value</th>\n",
       "      <th>col</th>\n",
       "      <th>row</th>\n",
       "      <th>mean_3</th>\n",
       "      <th>mean_9</th>\n",
       "      <th>sum_5</th>\n",
       "      <th>mw_yesterday</th>\n",
       "      <th>mw_value_7_day_average</th>\n",
       "      <th>hours_of_daylight</th>\n",
       "      <th>elevation_data</th>\n",
       "      <th>slope_data</th>\n",
       "      <th>aspect_data</th>\n",
       "      <th>distance_to_margin</th>\n",
       "    </tr>\n",
       "  </thead>\n",
       "  <tbody>\n",
       "    <tr>\n",
       "      <th>count</th>\n",
       "      <td>2278725.00</td>\n",
       "      <td>2278725.00</td>\n",
       "      <td>2278725.00</td>\n",
       "      <td>2278725.00</td>\n",
       "      <td>2278725.00</td>\n",
       "      <td>2278725.00</td>\n",
       "      <td>2278725.00</td>\n",
       "      <td>2278725.00</td>\n",
       "      <td>2278725.00</td>\n",
       "      <td>2278725.00</td>\n",
       "      <td>0.00</td>\n",
       "      <td>2278725.00</td>\n",
       "      <td>2278725.00</td>\n",
       "      <td>2278725.00</td>\n",
       "      <td>2278725.00</td>\n",
       "      <td>2278725.00</td>\n",
       "    </tr>\n",
       "    <tr>\n",
       "      <th>mean</th>\n",
       "      <td>64496.76</td>\n",
       "      <td>-1807740.05</td>\n",
       "      <td>0.34</td>\n",
       "      <td>-0.27</td>\n",
       "      <td>701.00</td>\n",
       "      <td>1145.24</td>\n",
       "      <td>0.34</td>\n",
       "      <td>0.34</td>\n",
       "      <td>8.46</td>\n",
       "      <td>0.15</td>\n",
       "      <td>NaN</td>\n",
       "      <td>23.50</td>\n",
       "      <td>1717.33</td>\n",
       "      <td>1.33</td>\n",
       "      <td>0.43</td>\n",
       "      <td>164.67</td>\n",
       "    </tr>\n",
       "    <tr>\n",
       "      <th>std</th>\n",
       "      <td>317754.06</td>\n",
       "      <td>655887.43</td>\n",
       "      <td>0.48</td>\n",
       "      <td>0.83</td>\n",
       "      <td>317.75</td>\n",
       "      <td>655.89</td>\n",
       "      <td>0.47</td>\n",
       "      <td>0.46</td>\n",
       "      <td>11.70</td>\n",
       "      <td>0.35</td>\n",
       "      <td>NaN</td>\n",
       "      <td>1.29</td>\n",
       "      <td>985.84</td>\n",
       "      <td>3.48</td>\n",
       "      <td>0.65</td>\n",
       "      <td>125.98</td>\n",
       "    </tr>\n",
       "    <tr>\n",
       "      <th>min</th>\n",
       "      <td>-636500.00</td>\n",
       "      <td>-3324500.00</td>\n",
       "      <td>0.00</td>\n",
       "      <td>-1.00</td>\n",
       "      <td>0.00</td>\n",
       "      <td>0.00</td>\n",
       "      <td>0.00</td>\n",
       "      <td>0.00</td>\n",
       "      <td>0.00</td>\n",
       "      <td>0.00</td>\n",
       "      <td>NaN</td>\n",
       "      <td>18.53</td>\n",
       "      <td>8.00</td>\n",
       "      <td>0.00</td>\n",
       "      <td>-1.00</td>\n",
       "      <td>1.00</td>\n",
       "    </tr>\n",
       "    <tr>\n",
       "      <th>25%</th>\n",
       "      <td>-179500.00</td>\n",
       "      <td>-2307500.00</td>\n",
       "      <td>0.00</td>\n",
       "      <td>-1.00</td>\n",
       "      <td>457.00</td>\n",
       "      <td>604.00</td>\n",
       "      <td>0.00</td>\n",
       "      <td>0.00</td>\n",
       "      <td>0.00</td>\n",
       "      <td>0.00</td>\n",
       "      <td>NaN</td>\n",
       "      <td>24.00</td>\n",
       "      <td>877.00</td>\n",
       "      <td>0.00</td>\n",
       "      <td>-0.02</td>\n",
       "      <td>55.15</td>\n",
       "    </tr>\n",
       "    <tr>\n",
       "      <th>50%</th>\n",
       "      <td>51500.00</td>\n",
       "      <td>-1773500.00</td>\n",
       "      <td>0.00</td>\n",
       "      <td>-1.00</td>\n",
       "      <td>688.00</td>\n",
       "      <td>1111.00</td>\n",
       "      <td>0.00</td>\n",
       "      <td>0.00</td>\n",
       "      <td>0.00</td>\n",
       "      <td>0.00</td>\n",
       "      <td>NaN</td>\n",
       "      <td>24.00</td>\n",
       "      <td>1927.00</td>\n",
       "      <td>0.15</td>\n",
       "      <td>0.75</td>\n",
       "      <td>138.80</td>\n",
       "    </tr>\n",
       "    <tr>\n",
       "      <th>75%</th>\n",
       "      <td>305500.00</td>\n",
       "      <td>-1266500.00</td>\n",
       "      <td>1.00</td>\n",
       "      <td>0.34</td>\n",
       "      <td>942.00</td>\n",
       "      <td>1645.00</td>\n",
       "      <td>1.00</td>\n",
       "      <td>1.00</td>\n",
       "      <td>25.00</td>\n",
       "      <td>0.00</td>\n",
       "      <td>NaN</td>\n",
       "      <td>24.00</td>\n",
       "      <td>2553.00</td>\n",
       "      <td>0.59</td>\n",
       "      <td>1.00</td>\n",
       "      <td>254.87</td>\n",
       "    </tr>\n",
       "    <tr>\n",
       "      <th>max</th>\n",
       "      <td>824500.00</td>\n",
       "      <td>-662500.00</td>\n",
       "      <td>1.00</td>\n",
       "      <td>5.00</td>\n",
       "      <td>1461.00</td>\n",
       "      <td>2662.00</td>\n",
       "      <td>1.00</td>\n",
       "      <td>1.00</td>\n",
       "      <td>25.00</td>\n",
       "      <td>1.00</td>\n",
       "      <td>NaN</td>\n",
       "      <td>24.00</td>\n",
       "      <td>3499.00</td>\n",
       "      <td>50.83</td>\n",
       "      <td>1.00</td>\n",
       "      <td>496.01</td>\n",
       "    </tr>\n",
       "  </tbody>\n",
       "</table>\n",
       "</div>"
      ],
      "text/plain": [
       "               x           y   mw_value  opt_value        col        row  \\\n",
       "count 2278725.00  2278725.00 2278725.00 2278725.00 2278725.00 2278725.00   \n",
       "mean    64496.76 -1807740.05       0.34      -0.27     701.00    1145.24   \n",
       "std    317754.06   655887.43       0.48       0.83     317.75     655.89   \n",
       "min   -636500.00 -3324500.00       0.00      -1.00       0.00       0.00   \n",
       "25%   -179500.00 -2307500.00       0.00      -1.00     457.00     604.00   \n",
       "50%     51500.00 -1773500.00       0.00      -1.00     688.00    1111.00   \n",
       "75%    305500.00 -1266500.00       1.00       0.34     942.00    1645.00   \n",
       "max    824500.00  -662500.00       1.00       5.00    1461.00    2662.00   \n",
       "\n",
       "          mean_3     mean_9      sum_5  mw_yesterday  mw_value_7_day_average  \\\n",
       "count 2278725.00 2278725.00 2278725.00    2278725.00                    0.00   \n",
       "mean        0.34       0.34       8.46          0.15                     NaN   \n",
       "std         0.47       0.46      11.70          0.35                     NaN   \n",
       "min         0.00       0.00       0.00          0.00                     NaN   \n",
       "25%         0.00       0.00       0.00          0.00                     NaN   \n",
       "50%         0.00       0.00       0.00          0.00                     NaN   \n",
       "75%         1.00       1.00      25.00          0.00                     NaN   \n",
       "max         1.00       1.00      25.00          1.00                     NaN   \n",
       "\n",
       "       hours_of_daylight  elevation_data  slope_data  aspect_data  \\\n",
       "count         2278725.00      2278725.00  2278725.00   2278725.00   \n",
       "mean               23.50         1717.33        1.33         0.43   \n",
       "std                 1.29          985.84        3.48         0.65   \n",
       "min                18.53            8.00        0.00        -1.00   \n",
       "25%                24.00          877.00        0.00        -0.02   \n",
       "50%                24.00         1927.00        0.15         0.75   \n",
       "75%                24.00         2553.00        0.59         1.00   \n",
       "max                24.00         3499.00       50.83         1.00   \n",
       "\n",
       "       distance_to_margin  \n",
       "count          2278725.00  \n",
       "mean               164.67  \n",
       "std                125.98  \n",
       "min                  1.00  \n",
       "25%                 55.15  \n",
       "50%                138.80  \n",
       "75%                254.87  \n",
       "max                496.01  "
      ]
     },
     "execution_count": 19,
     "metadata": {},
     "output_type": "execute_result"
    }
   ],
   "source": [
    "df.describe()"
   ]
  },
  {
   "cell_type": "code",
   "execution_count": 34,
   "metadata": {},
   "outputs": [
    {
     "data": {
      "text/plain": [
       "<AxesSubplot: xlabel='opt_value', ylabel='Density'>"
      ]
     },
     "execution_count": 34,
     "metadata": {},
     "output_type": "execute_result"
    },
    {
     "data": {
      "image/png": "[encoded data removed]",
      "text/plain": [
       "<Figure size 640x480 with 1 Axes>"
      ]
     },
     "metadata": {},
     "output_type": "display_data"
    }
   ],
   "source": [
    "sns.kdeplot(df['opt_value'])"
   ]
  },
  {
   "cell_type": "code",
   "execution_count": 35,
   "metadata": {},
   "outputs": [
    {
     "data": {
      "text/plain": [
       "<AxesSubplot: xlabel='hours_of_daylight', ylabel='Density'>"
      ]
     },
     "execution_count": 35,
     "metadata": {},
     "output_type": "execute_result"
    },
    {
     "data": {
      "image/png": "[encoded data removed]",
      "text/plain": [
       "<Figure size 640x480 with 1 Axes>"
      ]
     },
     "metadata": {},
     "output_type": "display_data"
    }
   ],
   "source": [
    "sns.kdeplot(df['hours_of_daylight'])"
   ]
  },
  {
   "cell_type": "code",
   "execution_count": 36,
   "metadata": {},
   "outputs": [
    {
     "data": {
      "text/plain": [
       "<AxesSubplot: xlabel='elevation_data', ylabel='Density'>"
      ]
     },
     "execution_count": 36,
     "metadata": {},
     "output_type": "execute_result"
    },
    {
     "data": {
      "image/png": "[encoded data removed]",
      "text/plain": [
       "<Figure size 640x480 with 1 Axes>"
      ]
     },
     "metadata": {},
     "output_type": "display_data"
    }
   ],
   "source": [
    "sns.kdeplot(df['elevation_data'])"
   ]
  },
  {
   "cell_type": "code",
   "execution_count": 37,
   "metadata": {},
   "outputs": [
    {
     "data": {
      "text/plain": [
       "<AxesSubplot: xlabel='slope_data', ylabel='Density'>"
      ]
     },
     "execution_count": 37,
     "metadata": {},
     "output_type": "execute_result"
    },
    {
     "data": {
      "image/png": "[encoded data removed]",
      "text/plain": [
       "<Figure size 640x480 with 1 Axes>"
      ]
     },
     "metadata": {},
     "output_type": "display_data"
    }
   ],
   "source": [
    "sns.kdeplot(df['slope_data'])"
   ]
  },
  {
   "cell_type": "code",
   "execution_count": 38,
   "metadata": {},
   "outputs": [
    {
     "data": {
      "text/plain": [
       "<AxesSubplot: xlabel='aspect_data', ylabel='Density'>"
      ]
     },
     "execution_count": 38,
     "metadata": {},
     "output_type": "execute_result"
    },
    {
     "data": {
      "image/png": "[encoded data removed]",
      "text/plain": [
       "<Figure size 640x480 with 1 Axes>"
      ]
     },
     "metadata": {},
     "output_type": "display_data"
    }
   ],
   "source": [
    "sns.kdeplot(df['aspect_data'])"
   ]
  },
  {
   "cell_type": "code",
   "execution_count": 39,
   "metadata": {},
   "outputs": [
    {
     "data": {
      "text/plain": [
       "<AxesSubplot: xlabel='distance_to_margin', ylabel='Density'>"
      ]
     },
     "execution_count": 39,
     "metadata": {},
     "output_type": "execute_result"
    },
    {
     "data": {
      "image/png": "[encoded data removed]",
      "text/plain": [
       "<Figure size 640x480 with 1 Axes>"
      ]
     },
     "metadata": {},
     "output_type": "display_data"
    }
   ],
   "source": [
    "sns.kdeplot(df['distance_to_margin'])"
   ]
  },
  {
   "cell_type": "code",
   "execution_count": 35,
   "metadata": {},
   "outputs": [],
   "source": [
    "# # for testing values around the 0-1 change in the data:\n",
    "\n",
    "# tt = data_mw.values\n",
    "# # indices = np.where(tt == 1)\n",
    "# tt[0][74:80, 622:628]"
   ]
  }
 ],
 "metadata": {
  "kernelspec": {
   "display_name": "my-env",
   "language": "python",
   "name": "python3"
  },
  "language_info": {
   "codemirror_mode": {
    "name": "ipython",
    "version": 3
   },
   "file_extension": ".py",
   "mimetype": "text/x-python",
   "name": "python",
   "nbconvert_exporter": "python",
   "pygments_lexer": "ipython3",
   "version": "3.10.6"
  },
  "orig_nbformat": 4,
  "vscode": {
   "interpreter": {
    "hash": "fe81b6f13d6b0ad05b54a8d717c7eaa3743b1b1bf0e5cb2d6ec80103feaa1c84"
   }
  }
 },
 "nbformat": 4,
 "nbformat_minor": 2
}
