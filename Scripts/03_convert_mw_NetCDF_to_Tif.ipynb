{
 "cells": [
  {
   "cell_type": "markdown",
   "metadata": {},
   "source": [
    "# Convert mw NetCDF to Tif"
   ]
  },
  {
   "cell_type": "markdown",
   "metadata": {},
   "source": [
    "**Purpose of script:**\n",
    "\n",
    "Convert the microwave data from NetCDF format to Tif format. \n",
    "\n",
    "- In: mw NetCDF data (one file)\n",
    "- Out: mw data in Tif foramt (multiple files)\n",
    "\n",
    "*Note: Dates are specified by defining the start and end date of desired period in the cell below.*"
   ]
  },
  {
   "cell_type": "code",
   "execution_count": 1,
   "metadata": {},
   "outputs": [],
   "source": [
    "# Inputs:\n",
    "start_date = \"2019-06-01\"\n",
    "end_date = \"2019-06-30\"\n",
    "\n",
    "mw_path = r\"../Data/microwave-rs/CumJour-North-ssmi-1979-2022-H19.nc\"\n",
    "mw_out_path = r'../Data/microwave-rs/mw_tif/'"
   ]
  },
  {
   "cell_type": "code",
   "execution_count": 2,
   "metadata": {},
   "outputs": [],
   "source": [
    "import numpy as np\n",
    "import xarray\n",
    "import rasterio\n",
    "import pandas as pd"
   ]
  },
  {
   "cell_type": "code",
   "execution_count": 4,
   "metadata": {},
   "outputs": [],
   "source": [
    "dataset_mw = xarray.open_dataset(mw_path).rio.write_crs(\n",
    "        \"epsg:3413\", inplace=True)"
   ]
  },
  {
   "cell_type": "code",
   "execution_count": 5,
   "metadata": {},
   "outputs": [],
   "source": [
    "period = [start_date, end_date]\n",
    "datelist = pd.date_range(*period)"
   ]
  },
  {
   "cell_type": "code",
   "execution_count": 5,
   "metadata": {},
   "outputs": [],
   "source": [
    "for i in datelist:\n",
    "    #print(i)\n",
    "    dataset_day = dataset_mw.where(dataset_mw[\"time\"] == i, drop=True)\n",
    "    data_mw_day = dataset_day[\"melt\"]\n",
    "    out_path_and_name = f\"{mw_out_path}{i.date()}_mw.tif\"\n",
    "    data_mw_day.rio.to_raster(out_path_and_name)\n",
    "\n",
    "    with rasterio.open(out_path_and_name) as src_mw:\n",
    "        mw = src_mw.read()\n",
    "        np.nan_to_num(mw, nan=-1, copy= False) # inplace\n",
    "        kwargs1 = src_mw.meta.copy()\n",
    "\n",
    "    # overwrite mw with new band (fixed nan)\n",
    "    with rasterio.open(out_path_and_name, 'w', **kwargs1) as dst:\n",
    "        dst.write_band(1, mw[0])\n",
    "\n",
    "# would be nice to do that with just one package"
   ]
  },
  {
   "cell_type": "code",
   "execution_count": null,
   "metadata": {},
   "outputs": [],
   "source": []
  }
 ],
 "metadata": {
  "kernelspec": {
   "display_name": "Python 3.9.14 ('.venv': poetry)",
   "language": "python",
   "name": "python3"
  },
  "language_info": {
   "codemirror_mode": {
    "name": "ipython",
    "version": 3
   },
   "file_extension": ".py",
   "mimetype": "text/x-python",
   "name": "python",
   "nbconvert_exporter": "python",
   "pygments_lexer": "ipython3",
   "version": "3.9.14"
  },
  "orig_nbformat": 4,
  "vscode": {
   "interpreter": {
    "hash": "c1c6eaedbd5b3fcd114378d998a879d4f50715202363f6507059361ed549ecef"
   }
  }
 },
 "nbformat": 4,
 "nbformat_minor": 2
}
