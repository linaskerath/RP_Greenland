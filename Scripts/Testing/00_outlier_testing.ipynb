{
 "cells": [
  {
   "cell_type": "code",
   "execution_count": 1,
   "metadata": {},
   "outputs": [],
   "source": [
    "import pandas as pd\n",
    "import numpy as np\n",
    "import xarray\n",
    "import os\n",
    "import seaborn as sns\n",
    "\n",
    "\n",
    "import matplotlib.pyplot as plt\n",
    "%matplotlib inline"
   ]
  },
  {
   "cell_type": "code",
   "execution_count": 2,
   "metadata": {},
   "outputs": [],
   "source": [
    "path_albedo = r\"D:/MasterThesis/Data/albedo_data/\"\n",
    "path_optical = r\"D:/MasterThesis/Data/optical-rs/unzipped/\"\n",
    "out_path = r\"../../\""
   ]
  },
  {
   "attachments": {},
   "cell_type": "markdown",
   "metadata": {},
   "source": [
    "Read all albedo files and add mask to filter out everything <= 0.565 which corresponds to ice"
   ]
  },
  {
   "cell_type": "code",
   "execution_count": 3,
   "metadata": {},
   "outputs": [
    {
     "name": "stdout",
     "output_type": "stream",
     "text": [
      "2019-06-10_albedo_bb_planar_sw.tif\n",
      "2019-06-11_albedo_bb_planar_sw.tif\n",
      "2019-06-12_albedo_bb_planar_sw.tif\n",
      "2019-06-13_albedo_bb_planar_sw.tif\n",
      "2019-06-14_albedo_bb_planar_sw.tif\n",
      "2019-06-15_albedo_bb_planar_sw.tif\n",
      "2019-06-16_albedo_bb_planar_sw.tif\n",
      "2019-06-17_albedo_bb_planar_sw.tif\n",
      "2019-06-18_albedo_bb_planar_sw.tif\n",
      "2019-06-19_albedo_bb_planar_sw.tif\n",
      "2019-06-20_albedo_bb_planar_sw.tif\n",
      "2019-06-21_albedo_bb_planar_sw.tif\n",
      "2019-06-22_albedo_bb_planar_sw.tif\n",
      "2019-06-23_albedo_bb_planar_sw.tif\n",
      "2019-06-24_albedo_bb_planar_sw.tif\n",
      "2019-06-25_albedo_bb_planar_sw.tif\n",
      "2019-06-26_albedo_bb_planar_sw.tif\n",
      "2019-06-27_albedo_bb_planar_sw.tif\n",
      "2019-06-28_albedo_bb_planar_sw.tif\n",
      "2019-06-29_albedo_bb_planar_sw.tif\n",
      "2019-06-30_albedo_bb_planar_sw.tif\n",
      "2019-07-01_albedo_bb_planar_sw.tif\n",
      "2019-07-02_albedo_bb_planar_sw.tif\n",
      "2019-07-03_albedo_bb_planar_sw.tif\n",
      "2019-07-04_albedo_bb_planar_sw.tif\n",
      "2019-07-05_albedo_bb_planar_sw.tif\n",
      "2019-07-06_albedo_bb_planar_sw.tif\n",
      "2019-07-07_albedo_bb_planar_sw.tif\n",
      "2019-07-08_albedo_bb_planar_sw.tif\n",
      "2019-07-09_albedo_bb_planar_sw.tif\n",
      "2019-07-10_albedo_bb_planar_sw.tif\n",
      "2019-07-11_albedo_bb_planar_sw.tif\n",
      "2019-07-12_albedo_bb_planar_sw.tif\n",
      "2019-07-13_albedo_bb_planar_sw.tif\n",
      "2019-07-14_albedo_bb_planar_sw.tif\n",
      "2019-07-15_albedo_bb_planar_sw.tif\n",
      "2019-07-16_albedo_bb_planar_sw.tif\n",
      "2019-07-17_albedo_bb_planar_sw.tif\n",
      "2019-07-18_albedo_bb_planar_sw.tif\n",
      "2019-07-19_albedo_bb_planar_sw.tif\n",
      "2019-07-20_albedo_bb_planar_sw.tif\n",
      "2019-07-21_albedo_bb_planar_sw.tif\n",
      "2019-07-22_albedo_bb_planar_sw.tif\n",
      "2019-07-23_albedo_bb_planar_sw.tif\n",
      "2019-07-24_albedo_bb_planar_sw.tif\n",
      "2019-07-25_albedo_bb_planar_sw.tif\n",
      "2019-07-26_albedo_bb_planar_sw.tif\n",
      "2019-07-27_albedo_bb_planar_sw.tif\n",
      "2019-07-28_albedo_bb_planar_sw.tif\n",
      "2019-07-29_albedo_bb_planar_sw.tif\n",
      "2019-07-30_albedo_bb_planar_sw.tif\n",
      "2019-07-31_albedo_bb_planar_sw.tif\n",
      "2019-08-01_albedo_bb_planar_sw.tif\n",
      "2019-08-02_albedo_bb_planar_sw.tif\n",
      "2019-08-03_albedo_bb_planar_sw.tif\n",
      "2019-08-04_albedo_bb_planar_sw.tif\n",
      "2019-08-05_albedo_bb_planar_sw.tif\n",
      "2019-08-06_albedo_bb_planar_sw.tif\n",
      "2019-08-07_albedo_bb_planar_sw.tif\n",
      "2019-08-08_albedo_bb_planar_sw.tif\n",
      "2019-08-09_albedo_bb_planar_sw.tif\n",
      "2019-08-10_albedo_bb_planar_sw.tif\n",
      "2019-08-11_albedo_bb_planar_sw.tif\n",
      "2019-08-12_albedo_bb_planar_sw.tif\n",
      "2019-08-13_albedo_bb_planar_sw.tif\n",
      "2019-08-14_albedo_bb_planar_sw.tif\n",
      "2019-08-15_albedo_bb_planar_sw.tif\n",
      "2019-08-16_albedo_bb_planar_sw.tif\n",
      "2019-08-17_albedo_bb_planar_sw.tif\n",
      "2019-08-18_albedo_bb_planar_sw.tif\n",
      "2019-08-19_albedo_bb_planar_sw.tif\n",
      "2019-08-20_albedo_bb_planar_sw.tif\n",
      "2019-08-21_albedo_bb_planar_sw.tif\n",
      "2019-08-22_albedo_bb_planar_sw.tif\n",
      "2019-08-23_albedo_bb_planar_sw.tif\n",
      "2019-08-24_albedo_bb_planar_sw.tif\n",
      "2019-08-25_albedo_bb_planar_sw.tif\n",
      "2019-08-26_albedo_bb_planar_sw.tif\n",
      "2019-08-27_albedo_bb_planar_sw.tif\n",
      "2019-08-28_albedo_bb_planar_sw.tif\n",
      "2019-08-29_albedo_bb_planar_sw.tif\n",
      "2019-08-30_albedo_bb_planar_sw.tif\n",
      "2019-08-31_albedo_bb_planar_sw.tif\n"
     ]
    }
   ],
   "source": [
    "df_albedo = pd.DataFrame()\n",
    "\n",
    "# read in all files in albedo_data folder with xarray (June, July and August of 2019) \n",
    "for file in os.listdir(path_albedo):\n",
    "\n",
    "    print(file)\n",
    "\n",
    "    df_temp = xarray.open_dataset(path_albedo + file).to_dataframe().reset_index()\n",
    "    df_temp.rename(columns={\"band_data\": file[:10]}, inplace=True)\n",
    "    df_albedo = pd.concat([df_albedo, df_temp[[file[:10]]]], axis=1)"
   ]
  },
  {
   "cell_type": "code",
   "execution_count": 4,
   "metadata": {},
   "outputs": [],
   "source": [
    "# apply mask of >= 0.565 to each column\n",
    "df_albedo_mask = df_albedo.mask(df_albedo <= 0.565)\n",
    "\n",
    "# create dictionary of column names and indices where values are not NaNs\n",
    "df_albedo_mask_dict = {col: df_albedo_mask[col].dropna().index for col in df_albedo_mask.columns}\n",
    "\n",
    "del df_albedo, df_albedo_mask, df_temp"
   ]
  },
  {
   "cell_type": "code",
   "execution_count": 5,
   "metadata": {},
   "outputs": [
    {
     "name": "stdout",
     "output_type": "stream",
     "text": [
      "FileNotFoundError: ../../Data/optical-rs/unzipped/2019-06-01_grain_diameter.tif not found\n",
      "FileNotFoundError: ../../Data/optical-rs/unzipped/2019-06-02_grain_diameter.tif not found\n",
      "FileNotFoundError: ../../Data/optical-rs/unzipped/2019-06-03_grain_diameter.tif not found\n",
      "FileNotFoundError: ../../Data/optical-rs/unzipped/2019-06-04_grain_diameter.tif not found\n",
      "FileNotFoundError: ../../Data/optical-rs/unzipped/2019-06-05_grain_diameter.tif not found\n",
      "FileNotFoundError: ../../Data/optical-rs/unzipped/2019-06-06_grain_diameter.tif not found\n",
      "FileNotFoundError: ../../Data/optical-rs/unzipped/2019-06-07_grain_diameter.tif not found\n",
      "KeyError: 2019-06-08 not in df_albedo_mask_dict\n",
      "FileNotFoundError: ../../Data/optical-rs/unzipped/2019-06-09_grain_diameter.tif not found\n",
      "2019-06-10\n",
      "2019-06-11\n",
      "2019-06-12\n",
      "2019-06-13\n",
      "2019-06-14\n",
      "2019-06-15\n",
      "2019-06-16\n",
      "2019-06-17\n",
      "2019-06-18\n",
      "2019-06-19\n",
      "2019-06-20\n",
      "2019-06-21\n",
      "2019-06-22\n",
      "2019-06-23\n",
      "2019-06-24\n",
      "2019-06-25\n",
      "2019-06-26\n",
      "2019-06-27\n",
      "2019-06-28\n",
      "2019-06-29\n",
      "2019-06-30\n",
      "FileNotFoundError: ../../Data/optical-rs/unzipped/2019-06-31_grain_diameter.tif not found\n",
      "2019-07-01\n",
      "2019-07-02\n",
      "2019-07-03\n",
      "2019-07-04\n",
      "2019-07-05\n",
      "2019-07-06\n",
      "2019-07-07\n",
      "2019-07-08\n",
      "2019-07-09\n",
      "2019-07-10\n",
      "2019-07-11\n",
      "2019-07-12\n",
      "2019-07-13\n",
      "2019-07-14\n",
      "2019-07-15\n",
      "2019-07-16\n",
      "2019-07-17\n",
      "2019-07-18\n",
      "2019-07-19\n",
      "2019-07-20\n",
      "2019-07-21\n",
      "2019-07-22\n",
      "2019-07-23\n",
      "2019-07-24\n",
      "2019-07-25\n",
      "2019-07-26\n",
      "2019-07-27\n",
      "2019-07-28\n",
      "2019-07-29\n",
      "2019-07-30\n",
      "2019-07-31\n",
      "2019-08-01\n",
      "2019-08-02\n",
      "2019-08-03\n",
      "2019-08-04\n",
      "2019-08-05\n",
      "2019-08-06\n",
      "2019-08-07\n",
      "2019-08-08\n",
      "2019-08-09\n",
      "2019-08-10\n",
      "2019-08-11\n",
      "2019-08-12\n",
      "2019-08-13\n",
      "2019-08-14\n",
      "2019-08-15\n",
      "2019-08-16\n",
      "2019-08-17\n",
      "2019-08-18\n",
      "2019-08-19\n",
      "2019-08-20\n",
      "2019-08-21\n",
      "2019-08-22\n",
      "2019-08-23\n",
      "2019-08-24\n",
      "2019-08-25\n",
      "2019-08-26\n",
      "2019-08-27\n",
      "2019-08-28\n",
      "2019-08-29\n",
      "2019-08-30\n",
      "2019-08-31\n"
     ]
    }
   ],
   "source": [
    "# df to keep all optical values in a row\n",
    "optical_values = []\n",
    "\n",
    "# read in the optical data of June, August and July of 2019\n",
    "for month in [\"06\", \"07\", \"08\"]:\n",
    "    for day in range(1, 32):\n",
    "        date = f\"2019-{month}-{day:02d}\"\n",
    "\n",
    "        try:\n",
    "        \n",
    "            # read in the data\n",
    "            path = f\"{path_optical}{date}_grain_diameter.tif\"\n",
    "            file = xarray.open_dataarray(path).to_dataframe().reset_index()\n",
    "            # rename column band_data to date\n",
    "            file = file.rename(columns={\"band_data\": date})\n",
    "            try:\n",
    "                # apply mask of df_albedo_mask_dict to date column if albedo data exists for that date\n",
    "                file[date] = file[date].mask(file.index.isin(df_albedo_mask_dict[date]))\n",
    "                print(date)\n",
    "            except KeyError:\n",
    "                print(f\"KeyError: {date} not in df_albedo_mask_dict\")\n",
    "                continue\n",
    "            \n",
    "            # concat date column to optical dataframe on axis = 1\n",
    "            optical_values.append(file[date].dropna().tolist())\n",
    "\n",
    "        except:\n",
    "            print(f\"FileNotFoundError: {path} not found\")\n",
    "            pass\n",
    "\n",
    "del file\n",
    "\n",
    "# flatten list\n",
    "optical_values = [item for sublist in optical_values for item in sublist]"
   ]
  },
  {
   "cell_type": "code",
   "execution_count": null,
   "metadata": {},
   "outputs": [
    {
     "data": {
      "text/plain": [
       "<AxesSubplot: ylabel='Density'>"
      ]
     },
     "execution_count": 6,
     "metadata": {},
     "output_type": "execute_result"
    },
    {
     "data": {
      "image/png": "[encoded data removed]",
      "text/plain": [
       "<Figure size 640x480 with 1 Axes>"
      ]
     },
     "metadata": {},
     "output_type": "display_data"
    }
   ],
   "source": [
    "# create a distribution density plot\n",
    "sns.kdeplot(optical_values)"
   ]
  },
  {
   "cell_type": "code",
   "execution_count": 16,
   "metadata": {},
   "outputs": [],
   "source": [
    "optical_values = pd.read_csv(\"D:/MasterThesis/Data/optical-rs/optical_values.csv\")"
   ]
  },
  {
   "cell_type": "code",
   "execution_count": 17,
   "metadata": {},
   "outputs": [
    {
     "data": {
      "text/html": [
       "<div>\n",
       "<style scoped>\n",
       "    .dataframe tbody tr th:only-of-type {\n",
       "        vertical-align: middle;\n",
       "    }\n",
       "\n",
       "    .dataframe tbody tr th {\n",
       "        vertical-align: top;\n",
       "    }\n",
       "\n",
       "    .dataframe thead th {\n",
       "        text-align: right;\n",
       "    }\n",
       "</style>\n",
       "<table border=\"1\" class=\"dataframe\">\n",
       "  <thead>\n",
       "    <tr style=\"text-align: right;\">\n",
       "      <th></th>\n",
       "      <th>optical_values</th>\n",
       "    </tr>\n",
       "  </thead>\n",
       "  <tbody>\n",
       "    <tr>\n",
       "      <th>0</th>\n",
       "      <td>0.319352</td>\n",
       "    </tr>\n",
       "    <tr>\n",
       "      <th>1</th>\n",
       "      <td>0.453551</td>\n",
       "    </tr>\n",
       "    <tr>\n",
       "      <th>2</th>\n",
       "      <td>0.252538</td>\n",
       "    </tr>\n",
       "    <tr>\n",
       "      <th>3</th>\n",
       "      <td>0.320762</td>\n",
       "    </tr>\n",
       "    <tr>\n",
       "      <th>4</th>\n",
       "      <td>0.207398</td>\n",
       "    </tr>\n",
       "    <tr>\n",
       "      <th>...</th>\n",
       "      <td>...</td>\n",
       "    </tr>\n",
       "    <tr>\n",
       "      <th>65094977</th>\n",
       "      <td>0.005279</td>\n",
       "    </tr>\n",
       "    <tr>\n",
       "      <th>65094978</th>\n",
       "      <td>0.001881</td>\n",
       "    </tr>\n",
       "    <tr>\n",
       "      <th>65094979</th>\n",
       "      <td>0.003957</td>\n",
       "    </tr>\n",
       "    <tr>\n",
       "      <th>65094980</th>\n",
       "      <td>0.002694</td>\n",
       "    </tr>\n",
       "    <tr>\n",
       "      <th>65094981</th>\n",
       "      <td>0.000558</td>\n",
       "    </tr>\n",
       "  </tbody>\n",
       "</table>\n",
       "<p>65094982 rows × 1 columns</p>\n",
       "</div>"
      ],
      "text/plain": [
       "          optical_values\n",
       "0               0.319352\n",
       "1               0.453551\n",
       "2               0.252538\n",
       "3               0.320762\n",
       "4               0.207398\n",
       "...                  ...\n",
       "65094977        0.005279\n",
       "65094978        0.001881\n",
       "65094979        0.003957\n",
       "65094980        0.002694\n",
       "65094981        0.000558\n",
       "\n",
       "[65094982 rows x 1 columns]"
      ]
     },
     "execution_count": 17,
     "metadata": {},
     "output_type": "execute_result"
    }
   ],
   "source": [
    "optical_values"
   ]
  },
  {
   "cell_type": "code",
   "execution_count": 12,
   "metadata": {},
   "outputs": [
    {
     "data": {
      "text/html": [
       "<div>\n",
       "<style scoped>\n",
       "    .dataframe tbody tr th:only-of-type {\n",
       "        vertical-align: middle;\n",
       "    }\n",
       "\n",
       "    .dataframe tbody tr th {\n",
       "        vertical-align: top;\n",
       "    }\n",
       "\n",
       "    .dataframe thead th {\n",
       "        text-align: right;\n",
       "    }\n",
       "</style>\n",
       "<table border=\"1\" class=\"dataframe\">\n",
       "  <thead>\n",
       "    <tr style=\"text-align: right;\">\n",
       "      <th></th>\n",
       "    </tr>\n",
       "    <tr>\n",
       "      <th>optical_values</th>\n",
       "    </tr>\n",
       "  </thead>\n",
       "  <tbody>\n",
       "    <tr>\n",
       "      <th>0.319352</th>\n",
       "    </tr>\n",
       "    <tr>\n",
       "      <th>0.453551</th>\n",
       "    </tr>\n",
       "    <tr>\n",
       "      <th>0.252538</th>\n",
       "    </tr>\n",
       "    <tr>\n",
       "      <th>0.320762</th>\n",
       "    </tr>\n",
       "    <tr>\n",
       "      <th>0.207398</th>\n",
       "    </tr>\n",
       "    <tr>\n",
       "      <th>...</th>\n",
       "    </tr>\n",
       "    <tr>\n",
       "      <th>0.005279</th>\n",
       "    </tr>\n",
       "    <tr>\n",
       "      <th>0.001881</th>\n",
       "    </tr>\n",
       "    <tr>\n",
       "      <th>0.003957</th>\n",
       "    </tr>\n",
       "    <tr>\n",
       "      <th>0.002694</th>\n",
       "    </tr>\n",
       "    <tr>\n",
       "      <th>0.000558</th>\n",
       "    </tr>\n",
       "  </tbody>\n",
       "</table>\n",
       "<p>65094982 rows × 0 columns</p>\n",
       "</div>"
      ],
      "text/plain": [
       "Empty DataFrame\n",
       "Columns: []\n",
       "Index: [0.3193518817424774, 0.4535506665706634, 0.2525376975536346, 0.3207620680332184, 0.2073980718851089, 0.6219449639320374, 0.4248575270175934, 0.2336615025997162, 0.6547446250915527, 0.6103289723396301, 0.5475918650627136, 0.3618474304676056, 0.3218798339366913, 0.3485209047794342, 0.3404748141765594, 0.3276750743389129, 0.2266387194395065, 0.2667571902275085, 0.2688021659851074, 0.509324848651886, 0.4980039894580841, 0.5000812411308289, 0.3967019319534302, 0.3932738602161407, 0.3862429857254028, 0.2819358110427856, 0.262439101934433, 0.2623606622219085, 0.1959276795387268, 0.5411808490753174, 0.2194395512342453, 0.2816531658172607, 0.1808770298957824, 0.3386260867118835, 0.3683663308620453, 0.421972244977951, 0.2547687292098999, 0.1688370555639267, 0.3570495545864105, 0.4632568359375, 0.1153256669640541, 0.0514020100235939, 0.2176718711853027, 0.2218742966651916, 0.5229355096817017, 0.3933379650115967, 0.4044009149074554, 0.3603613972663879, 0.3843386769294739, 0.4193345308303833, 1.0916759967803955, 1.0884305238723757, 0.0973059237003326, 0.5960776805877686, 0.4150538742542267, 0.3822640180587768, 0.0128042614087462, 0.2126079201698303, 0.3559413254261017, 0.3350270986557007, 0.2964942455291748, 0.2969516813755035, 0.5354076623916626, 0.3850958347320556, 0.3566024005413055, 0.1731103360652923, 1.2297518253326416, 0.3323047459125519, 0.6225783824920654, 0.4212825298309326, 1.496611475944519, 0.0575403720140457, 0.0435229241847991, 0.2984808683395386, 0.4227549135684967, 0.1404514163732528, 0.1408248543739318, 0.3687024414539337, 0.3178478479385376, 0.2946162223815918, 0.292454719543457, 0.3058132529258728, 0.2962035536766052, 0.2411448955535888, 0.3555097877979278, 0.2539737820625305, 0.2218773365020752, 0.4242202043533325, 0.4242202043533325, 0.3574316799640655, 0.3604990541934967, 0.3265334963798523, 0.326437771320343, 0.0221030712127685, 0.0990687012672424, 0.0988662838935852, 0.1909696608781814, 0.1004759073257446, 0.2932041883468628, 0.2534978985786438, ...]\n",
       "\n",
       "[65094982 rows x 0 columns]"
      ]
     },
     "execution_count": 12,
     "metadata": {},
     "output_type": "execute_result"
    }
   ],
   "source": [
    "optical_values_copy"
   ]
  },
  {
   "cell_type": "code",
   "execution_count": 36,
   "metadata": {},
   "outputs": [],
   "source": [
    "# create copy of optical_values and remove everything below 2\n",
    "optical_values_copy = optical_values.copy()\n",
    "# only keep values above 2\n",
    "optical_values_copy = optical_values_copy[optical_values_copy[\"optical_values\"] >= 2]"
   ]
  },
  {
   "cell_type": "code",
   "execution_count": 68,
   "metadata": {},
   "outputs": [
    {
     "data": {
      "image/png": "[encoded data removed]",
      "text/plain": [
       "<Figure size 1000x500 with 1 Axes>"
      ]
     },
     "metadata": {},
     "output_type": "display_data"
    }
   ],
   "source": [
    "# create histogram with 100 bins and size of plot as wide as screen\n",
    "plt.figure(figsize=(10,5))\n",
    "plt.xticks(np.arange(0, 25, 1))\n",
    "plt.hist(optical_values, bins=100, color=\"#fead3a\", edgecolor=\"#222222\", linewidth=1, density=True)\n",
    "\n",
    "### LABEL SETTINGS ###\n",
    "plt.xlabel(\"$d_{opt} (mm)$\", fontsize=12)\n",
    "plt.ylabel(\"Frequency (Logarithmic Scale)\", fontsize=12)\n",
    "# set tick size to 12\n",
    "plt.tick_params(axis='both', which='major', labelsize=12)\n",
    "# make the y-axis logarithmic\n",
    "plt.yscale(\"log\")\n",
    "\n",
    "plt.show()"
   ]
  },
  {
   "attachments": {},
   "cell_type": "markdown",
   "metadata": {},
   "source": [
    "**We decide to cap values above a snow grain diameter of 5mm to 5.**"
   ]
  },
  {
   "cell_type": "code",
   "execution_count": null,
   "metadata": {},
   "outputs": [],
   "source": [
    "# store optical values as df to save time in future\n",
    "df = pd.DataFrame(optical_values, columns=[\"optical_values\"])\n",
    "df.to_csv(\"optical_values.csv\", index=False)"
   ]
  }
 ],
 "metadata": {
  "kernelspec": {
   "display_name": "my-env",
   "language": "python",
   "name": "python3"
  },
  "language_info": {
   "codemirror_mode": {
    "name": "ipython",
    "version": 3
   },
   "file_extension": ".py",
   "mimetype": "text/x-python",
   "name": "python",
   "nbconvert_exporter": "python",
   "pygments_lexer": "ipython3",
   "version": "3.9.16"
  },
  "orig_nbformat": 4,
  "vscode": {
   "interpreter": {
    "hash": "fe81b6f13d6b0ad05b54a8d717c7eaa3743b1b1bf0e5cb2d6ec80103feaa1c84"
   }
  }
 },
 "nbformat": 4,
 "nbformat_minor": 2
}
