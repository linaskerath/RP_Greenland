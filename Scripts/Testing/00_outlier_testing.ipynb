{
 "cells": [
  {
   "cell_type": "code",
   "execution_count": 1,
   "metadata": {},
   "outputs": [],
   "source": [
    "import pandas as pd\n",
    "import numpy as np\n",
    "import xarray\n",
    "import os\n",
    "import seaborn as sns\n",
    "\n",
    "\n",
    "import matplotlib.pyplot as plt\n",
    "%matplotlib inline"
   ]
  },
  {
   "cell_type": "code",
   "execution_count": 2,
   "metadata": {},
   "outputs": [],
   "source": [
    "path_albedo = r\"../../Data/albedo_data/\"\n",
    "path_optical = r\"../../Data/optical-rs/unzipped/\"\n",
    "out_path = r\"../../\""
   ]
  },
  {
   "attachments": {},
   "cell_type": "markdown",
   "metadata": {},
   "source": [
    "Read all albedo files and add mask to filter out everything <= 0.565 which corresponds to ice"
   ]
  },
  {
   "cell_type": "code",
   "execution_count": 3,
   "metadata": {},
   "outputs": [
    {
     "name": "stdout",
     "output_type": "stream",
     "text": [
      "2019-06-10_albedo_bb_planar_sw.tif\n",
      "2019-06-11_albedo_bb_planar_sw.tif\n",
      "2019-06-12_albedo_bb_planar_sw.tif\n",
      "2019-06-13_albedo_bb_planar_sw.tif\n",
      "2019-06-14_albedo_bb_planar_sw.tif\n",
      "2019-06-15_albedo_bb_planar_sw.tif\n",
      "2019-06-16_albedo_bb_planar_sw.tif\n",
      "2019-06-17_albedo_bb_planar_sw.tif\n",
      "2019-06-18_albedo_bb_planar_sw.tif\n",
      "2019-06-19_albedo_bb_planar_sw.tif\n",
      "2019-06-20_albedo_bb_planar_sw.tif\n",
      "2019-06-21_albedo_bb_planar_sw.tif\n",
      "2019-06-22_albedo_bb_planar_sw.tif\n",
      "2019-06-23_albedo_bb_planar_sw.tif\n",
      "2019-06-24_albedo_bb_planar_sw.tif\n",
      "2019-06-25_albedo_bb_planar_sw.tif\n",
      "2019-06-26_albedo_bb_planar_sw.tif\n",
      "2019-06-27_albedo_bb_planar_sw.tif\n",
      "2019-06-28_albedo_bb_planar_sw.tif\n",
      "2019-06-29_albedo_bb_planar_sw.tif\n",
      "2019-06-30_albedo_bb_planar_sw.tif\n",
      "2019-07-01_albedo_bb_planar_sw.tif\n",
      "2019-07-02_albedo_bb_planar_sw.tif\n",
      "2019-07-03_albedo_bb_planar_sw.tif\n",
      "2019-07-04_albedo_bb_planar_sw.tif\n",
      "2019-07-05_albedo_bb_planar_sw.tif\n",
      "2019-07-06_albedo_bb_planar_sw.tif\n",
      "2019-07-07_albedo_bb_planar_sw.tif\n",
      "2019-07-08_albedo_bb_planar_sw.tif\n",
      "2019-07-09_albedo_bb_planar_sw.tif\n",
      "2019-07-10_albedo_bb_planar_sw.tif\n",
      "2019-07-11_albedo_bb_planar_sw.tif\n",
      "2019-07-12_albedo_bb_planar_sw.tif\n",
      "2019-07-13_albedo_bb_planar_sw.tif\n",
      "2019-07-14_albedo_bb_planar_sw.tif\n",
      "2019-07-15_albedo_bb_planar_sw.tif\n",
      "2019-07-16_albedo_bb_planar_sw.tif\n",
      "2019-07-17_albedo_bb_planar_sw.tif\n",
      "2019-07-18_albedo_bb_planar_sw.tif\n",
      "2019-07-19_albedo_bb_planar_sw.tif\n",
      "2019-07-20_albedo_bb_planar_sw.tif\n",
      "2019-07-21_albedo_bb_planar_sw.tif\n",
      "2019-07-22_albedo_bb_planar_sw.tif\n",
      "2019-07-23_albedo_bb_planar_sw.tif\n",
      "2019-07-24_albedo_bb_planar_sw.tif\n",
      "2019-07-25_albedo_bb_planar_sw.tif\n",
      "2019-07-26_albedo_bb_planar_sw.tif\n",
      "2019-07-27_albedo_bb_planar_sw.tif\n",
      "2019-07-28_albedo_bb_planar_sw.tif\n",
      "2019-07-29_albedo_bb_planar_sw.tif\n",
      "2019-07-30_albedo_bb_planar_sw.tif\n",
      "2019-07-31_albedo_bb_planar_sw.tif\n",
      "2019-08-01_albedo_bb_planar_sw.tif\n",
      "2019-08-02_albedo_bb_planar_sw.tif\n",
      "2019-08-03_albedo_bb_planar_sw.tif\n",
      "2019-08-04_albedo_bb_planar_sw.tif\n",
      "2019-08-05_albedo_bb_planar_sw.tif\n",
      "2019-08-06_albedo_bb_planar_sw.tif\n",
      "2019-08-07_albedo_bb_planar_sw.tif\n",
      "2019-08-08_albedo_bb_planar_sw.tif\n",
      "2019-08-09_albedo_bb_planar_sw.tif\n",
      "2019-08-10_albedo_bb_planar_sw.tif\n",
      "2019-08-11_albedo_bb_planar_sw.tif\n",
      "2019-08-12_albedo_bb_planar_sw.tif\n",
      "2019-08-13_albedo_bb_planar_sw.tif\n",
      "2019-08-14_albedo_bb_planar_sw.tif\n",
      "2019-08-15_albedo_bb_planar_sw.tif\n",
      "2019-08-16_albedo_bb_planar_sw.tif\n",
      "2019-08-17_albedo_bb_planar_sw.tif\n",
      "2019-08-18_albedo_bb_planar_sw.tif\n",
      "2019-08-19_albedo_bb_planar_sw.tif\n",
      "2019-08-20_albedo_bb_planar_sw.tif\n",
      "2019-08-21_albedo_bb_planar_sw.tif\n",
      "2019-08-22_albedo_bb_planar_sw.tif\n",
      "2019-08-23_albedo_bb_planar_sw.tif\n",
      "2019-08-24_albedo_bb_planar_sw.tif\n",
      "2019-08-25_albedo_bb_planar_sw.tif\n",
      "2019-08-26_albedo_bb_planar_sw.tif\n",
      "2019-08-27_albedo_bb_planar_sw.tif\n",
      "2019-08-28_albedo_bb_planar_sw.tif\n",
      "2019-08-29_albedo_bb_planar_sw.tif\n",
      "2019-08-30_albedo_bb_planar_sw.tif\n",
      "2019-08-31_albedo_bb_planar_sw.tif\n"
     ]
    }
   ],
   "source": [
    "df_albedo = pd.DataFrame()\n",
    "\n",
    "# read in all files in albedo_data folder with xarray (June, July and August of 2019) \n",
    "for file in os.listdir(path_albedo):\n",
    "\n",
    "    print(file)\n",
    "\n",
    "    df_temp = xarray.open_dataset(path_albedo + file).to_dataframe().reset_index()\n",
    "    df_temp.rename(columns={\"band_data\": file[:10]}, inplace=True)\n",
    "    df_albedo = pd.concat([df_albedo, df_temp[[file[:10]]]], axis=1)"
   ]
  },
  {
   "cell_type": "code",
   "execution_count": 4,
   "metadata": {},
   "outputs": [],
   "source": [
    "# apply mask of >= 0.565 to each column\n",
    "df_albedo_mask = df_albedo.mask(df_albedo <= 0.565)\n",
    "\n",
    "# create dictionary of column names and indices where values are not NaNs\n",
    "df_albedo_mask_dict = {col: df_albedo_mask[col].dropna().index for col in df_albedo_mask.columns}\n",
    "\n",
    "del df_albedo, df_albedo_mask, df_temp"
   ]
  },
  {
   "cell_type": "code",
   "execution_count": 5,
   "metadata": {},
   "outputs": [
    {
     "name": "stdout",
     "output_type": "stream",
     "text": [
      "FileNotFoundError: ../../Data/optical-rs/unzipped/2019-06-01_grain_diameter.tif not found\n",
      "FileNotFoundError: ../../Data/optical-rs/unzipped/2019-06-02_grain_diameter.tif not found\n",
      "FileNotFoundError: ../../Data/optical-rs/unzipped/2019-06-03_grain_diameter.tif not found\n",
      "FileNotFoundError: ../../Data/optical-rs/unzipped/2019-06-04_grain_diameter.tif not found\n",
      "FileNotFoundError: ../../Data/optical-rs/unzipped/2019-06-05_grain_diameter.tif not found\n",
      "FileNotFoundError: ../../Data/optical-rs/unzipped/2019-06-06_grain_diameter.tif not found\n",
      "FileNotFoundError: ../../Data/optical-rs/unzipped/2019-06-07_grain_diameter.tif not found\n",
      "KeyError: 2019-06-08 not in df_albedo_mask_dict\n",
      "FileNotFoundError: ../../Data/optical-rs/unzipped/2019-06-09_grain_diameter.tif not found\n",
      "2019-06-10\n",
      "2019-06-11\n",
      "2019-06-12\n",
      "2019-06-13\n",
      "2019-06-14\n",
      "2019-06-15\n",
      "2019-06-16\n",
      "2019-06-17\n",
      "2019-06-18\n",
      "2019-06-19\n",
      "2019-06-20\n",
      "2019-06-21\n",
      "2019-06-22\n",
      "2019-06-23\n",
      "2019-06-24\n",
      "2019-06-25\n",
      "2019-06-26\n",
      "2019-06-27\n",
      "2019-06-28\n",
      "2019-06-29\n",
      "2019-06-30\n",
      "FileNotFoundError: ../../Data/optical-rs/unzipped/2019-06-31_grain_diameter.tif not found\n",
      "2019-07-01\n",
      "2019-07-02\n",
      "2019-07-03\n",
      "2019-07-04\n",
      "2019-07-05\n",
      "2019-07-06\n",
      "2019-07-07\n",
      "2019-07-08\n",
      "2019-07-09\n",
      "2019-07-10\n",
      "2019-07-11\n",
      "2019-07-12\n",
      "2019-07-13\n",
      "2019-07-14\n",
      "2019-07-15\n",
      "2019-07-16\n",
      "2019-07-17\n",
      "2019-07-18\n",
      "2019-07-19\n",
      "2019-07-20\n",
      "2019-07-21\n",
      "2019-07-22\n",
      "2019-07-23\n",
      "2019-07-24\n",
      "2019-07-25\n",
      "2019-07-26\n",
      "2019-07-27\n",
      "2019-07-28\n",
      "2019-07-29\n",
      "2019-07-30\n",
      "2019-07-31\n",
      "2019-08-01\n",
      "2019-08-02\n",
      "2019-08-03\n",
      "2019-08-04\n",
      "2019-08-05\n",
      "2019-08-06\n",
      "2019-08-07\n",
      "2019-08-08\n",
      "2019-08-09\n",
      "2019-08-10\n",
      "2019-08-11\n",
      "2019-08-12\n",
      "2019-08-13\n",
      "2019-08-14\n",
      "2019-08-15\n",
      "2019-08-16\n",
      "2019-08-17\n",
      "2019-08-18\n",
      "2019-08-19\n",
      "2019-08-20\n",
      "2019-08-21\n",
      "2019-08-22\n",
      "2019-08-23\n",
      "2019-08-24\n",
      "2019-08-25\n",
      "2019-08-26\n",
      "2019-08-27\n",
      "2019-08-28\n",
      "2019-08-29\n",
      "2019-08-30\n",
      "2019-08-31\n"
     ]
    }
   ],
   "source": [
    "# df to keep all optical values in a row\n",
    "optical_values = []\n",
    "\n",
    "# read in the optical data of June, August and July of 2019\n",
    "for month in [\"06\", \"07\", \"08\"]:\n",
    "    for day in range(1, 32):\n",
    "        date = f\"2019-{month}-{day:02d}\"\n",
    "\n",
    "        try:\n",
    "        \n",
    "            # read in the data\n",
    "            path = f\"{path_optical}{date}_grain_diameter.tif\"\n",
    "            file = xarray.open_dataarray(path).to_dataframe().reset_index()\n",
    "            # rename column band_data to date\n",
    "            file = file.rename(columns={\"band_data\": date})\n",
    "            try:\n",
    "                # apply mask of df_albedo_mask_dict to date column if albedo data exists for that date\n",
    "                file[date] = file[date].mask(file.index.isin(df_albedo_mask_dict[date]))\n",
    "                print(date)\n",
    "            except KeyError:\n",
    "                print(f\"KeyError: {date} not in df_albedo_mask_dict\")\n",
    "                continue\n",
    "            \n",
    "            # concat date column to optical dataframe on axis = 1\n",
    "            optical_values.append(file[date].dropna().tolist())\n",
    "\n",
    "        except:\n",
    "            print(f\"FileNotFoundError: {path} not found\")\n",
    "            pass\n",
    "\n",
    "del file\n",
    "\n",
    "# flatten list\n",
    "optical_values = [item for sublist in optical_values for item in sublist]"
   ]
  },
  {
   "cell_type": "code",
   "execution_count": null,
   "metadata": {},
   "outputs": [
    {
     "data": {
      "text/plain": [
       "<AxesSubplot: ylabel='Density'>"
      ]
     },
     "execution_count": 6,
     "metadata": {},
     "output_type": "execute_result"
    },
    {
     "data": {
      "image/png": "[encoded data removed]",
      "text/plain": [
       "<Figure size 640x480 with 1 Axes>"
      ]
     },
     "metadata": {},
     "output_type": "display_data"
    }
   ],
   "source": [
    "# create a distribution density plot\n",
    "sns.kdeplot(optical_values)"
   ]
  },
  {
   "cell_type": "code",
   "execution_count": 15,
   "metadata": {},
   "outputs": [],
   "source": [
    "# create copy of optical_values and remove everything below 2\n",
    "optical_values_copy = optical_values.copy()\n",
    "optical_values_copy = [x for x in optical_values_copy if x >= 2]"
   ]
  },
  {
   "cell_type": "code",
   "execution_count": 16,
   "metadata": {},
   "outputs": [
    {
     "data": {
      "text/plain": [
       "<AxesSubplot: ylabel='Density'>"
      ]
     },
     "execution_count": 16,
     "metadata": {},
     "output_type": "execute_result"
    },
    {
     "data": {
      "image/png": "[encoded data removed]",
      "text/plain": [
       "<Figure size 640x480 with 1 Axes>"
      ]
     },
     "metadata": {},
     "output_type": "display_data"
    }
   ],
   "source": [
    "# create another density plot with x ticks in 1 steps\n",
    "plt.xticks(np.arange(3, 25, 1))\n",
    "sns.kdeplot(optical_values_copy)\n",
    "\n",
    "plt.show()"
   ]
  },
  {
   "cell_type": "code",
   "execution_count": 20,
   "metadata": {},
   "outputs": [
    {
     "data": {
      "image/png": "[encoded data removed]",
      "text/plain": [
       "<Figure size 2000x1000 with 1 Axes>"
      ]
     },
     "metadata": {},
     "output_type": "display_data"
    }
   ],
   "source": [
    "# create histogram with 100 bins and size of plot as wide as screen\n",
    "plt.figure(figsize=(20, 10))\n",
    "plt.xticks(np.arange(2, 25, 1))\n",
    "plt.hist(optical_values_copy, bins=100)\n",
    "\n",
    "plt.show()"
   ]
  },
  {
   "attachments": {},
   "cell_type": "markdown",
   "metadata": {},
   "source": [
    "**We decide to cap values above a snow grain diameter of 5mm to 5.**"
   ]
  },
  {
   "cell_type": "code",
   "execution_count": null,
   "metadata": {},
   "outputs": [],
   "source": [
    "# store optical values as df to save time in future\n",
    "df = pd.DataFrame(optical_values, columns=[\"optical_values\"])\n",
    "df.to_csv(\"optical_values.csv\", index=False)"
   ]
  }
 ],
 "metadata": {
  "kernelspec": {
   "display_name": "my-env",
   "language": "python",
   "name": "python3"
  },
  "language_info": {
   "codemirror_mode": {
    "name": "ipython",
    "version": 3
   },
   "file_extension": ".py",
   "mimetype": "text/x-python",
   "name": "python",
   "nbconvert_exporter": "python",
   "pygments_lexer": "ipython3",
   "version": "3.10.6"
  },
  "orig_nbformat": 4,
  "vscode": {
   "interpreter": {
    "hash": "fe81b6f13d6b0ad05b54a8d717c7eaa3743b1b1bf0e5cb2d6ec80103feaa1c84"
   }
  }
 },
 "nbformat": 4,
 "nbformat_minor": 2
}
