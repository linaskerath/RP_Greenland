{
 "cells": [
  {
   "attachments": {},
   "cell_type": "markdown",
   "metadata": {},
   "source": [
    "# Functions testing"
   ]
  },
  {
   "cell_type": "code",
   "execution_count": 1,
   "metadata": {},
   "outputs": [],
   "source": [
    "import functions_training_pipeline as f\n",
    "from functions_training_pipeline import Model"
   ]
  },
  {
   "cell_type": "code",
   "execution_count": 2,
   "metadata": {},
   "outputs": [],
   "source": [
    "import pandas as pd\n",
    "import numpy as np\n",
    "# import matplotlib.pyplot as plt\n",
    "pd.options.mode.chained_assignment = None"
   ]
  },
  {
   "attachments": {},
   "cell_type": "markdown",
   "metadata": {},
   "source": [
    "### saving functions, to be updated"
   ]
  },
  {
   "cell_type": "code",
   "execution_count": 3,
   "metadata": {},
   "outputs": [],
   "source": [
    "# def save_prediction_tif(X_pred, y_predicted, path_out):\n",
    "#     \"\"\"\n",
    "#     Function to write predictions to .tif.\n",
    "#     Arguments:\n",
    "#         X_pred: data to be predicted on.\n",
    "#         y_predicted: predicted labels in array, or pandas series.\n",
    "#         path_out: path to save .tif file with file name.\n",
    "#     Returns: No return, writes data to path.\n",
    "#     \"\"\"\n",
    "#     # join prediction and coordinates (row, col)\n",
    "#     X_pred[\"prediction\"] = y_predicted\n",
    "\n",
    "#     # original matrix shape:\n",
    "#     nan_matrix = np.full((2663, 1462), np.nan)\n",
    "\n",
    "#     for row in tqdm(X_pred.iterrows()):  # fix progress bar?\n",
    "#         row_index = int(row[1][\"row\"])\n",
    "#         col_index = int(row[1][\"col\"])\n",
    "#         pred_val = row[1][\"prediction\"]\n",
    "#         nan_matrix[row_index][col_index] = pred_val\n",
    "\n",
    "#     # file to take reference metadata from is interpolated transformed file\n",
    "#     path_metadata_reference = r\"../Data/microwave-rs/mw_interpolated/2019-07-01_mw.tif\"\n",
    "\n",
    "#     convert_to_tif(nan_matrix, path_metadata_reference, path_out)\n",
    "\n",
    "#     return\n",
    "\n",
    "\n",
    "# def convert_to_tif(data, path_file_metadata, path_out):\n",
    "#     \"\"\"\n",
    "#     Function to convert data to tif file.\n",
    "#     Arguments:\n",
    "#         data: new file\n",
    "#         path_file_metadata: tif file with metadata matching expected output tif file\n",
    "#         path_out: output tif file destination and name path\n",
    "#     Returns:\n",
    "#         .tif file\n",
    "#     \"\"\"\n",
    "#     with rasterio.open(path_file_metadata) as src:\n",
    "#         kwargs1 = src.meta.copy()\n",
    "\n",
    "#     with rasterio.open(path_out, \"w\", **kwargs1) as dst:\n",
    "#         dst.write_band(1, data)  # numpy array or xarray\n",
    "#     return"
   ]
  },
  {
   "attachments": {},
   "cell_type": "markdown",
   "metadata": {},
   "source": [
    "### Test pipeline"
   ]
  },
  {
   "attachments": {},
   "cell_type": "markdown",
   "metadata": {},
   "source": [
    "**Test:**\n",
    "- ~~test~~\n",
    "- ~~different dates~~\n",
    "- ~~differnt columns~~\n",
    "- ~~different models~~\n",
    "- ~~with and wo normalization~~\n",
    "- test removal for prediction"
   ]
  },
  {
   "cell_type": "code",
   "execution_count": 4,
   "metadata": {},
   "outputs": [],
   "source": [
    "df_path = r\"../../AWS_Data/Data/dataframe_extended/\""
   ]
  },
  {
   "cell_type": "code",
   "execution_count": 3,
   "metadata": {},
   "outputs": [],
   "source": [
    "# path to my hard drive (Nina)\n",
    "df_path = r\"D:/MasterThesis/dataframe_extended/\""
   ]
  },
  {
   "attachments": {},
   "cell_type": "markdown",
   "metadata": {},
   "source": [
    "all columns = 'x', 'y', 'mw_value', 'opt_value', 'date',\n",
    "       'col', 'row', 'mean_3', 'mean_9',\n",
    "       'sum_5', 'mw_value_yesterday', 'mw_value_7_day_average',\n",
    "       'hours_of_daylight', 'elevation_data', 'slope_data', 'aspect_data',\n",
    "       'distance_to_margin'\n",
    "\n",
    "required columns = 'x', 'y', 'mw_value', 'opt_value', 'date'."
   ]
  },
  {
   "attachments": {},
   "cell_type": "markdown",
   "metadata": {},
   "source": [
    "#### V1 (random forest)"
   ]
  },
  {
   "cell_type": "code",
   "execution_count": 4,
   "metadata": {},
   "outputs": [
    {
     "name": "stderr",
     "output_type": "stream",
     "text": [
      "100%|██████████| 2/2 [00:02<00:00,  1.31s/it]\n"
     ]
    },
    {
     "name": "stdout",
     "output_type": "stream",
     "text": [
      "Not applicable for feature'mw_value'.\n",
      "Not applicable for feature'date'.\n",
      "Not applicable for feature'mw_value_yesterday'.\n"
     ]
    }
   ],
   "source": [
    "from sklearn.ensemble import RandomForestRegressor\n",
    "\n",
    "date_from = '2017-05-01'\n",
    "date_to = '2017-05-02'\n",
    "\n",
    "data = f.import_data(date_from, date_to, df_path)\n",
    "data = f.remove_data(data, removeMaskedClouds = True, removeNoMelt = True) \n",
    "data = f.data_normalization(data, data.columns)\n",
    "\n",
    "columns = ['x', 'y', 'mw_value',  'col', 'row'] # 'opt_value', 'date',"
   ]
  },
  {
   "cell_type": "code",
   "execution_count": 8,
   "metadata": {},
   "outputs": [],
   "source": [
    "rf = f.Model(model = RandomForestRegressor, name = 'RF_test_04_22')\n",
    "rf.date_tested = '2023-04-22' # optional\n",
    "rf.columns = columns # optional\n",
    "hyperparameters_for_grid = {'n_estimators': [10, 20], 'max_depth':[4]}\n",
    "rf.hyperparameters = rf.create_hyperparameter_grid(hyperparameters_for_grid)"
   ]
  },
  {
   "cell_type": "code",
   "execution_count": 9,
   "metadata": {},
   "outputs": [
    {
     "data": {
      "text/plain": [
       "[{'max_depth': 4, 'n_estimators': 10}, {'max_depth': 4, 'n_estimators': 20}]"
      ]
     },
     "execution_count": 9,
     "metadata": {},
     "output_type": "execute_result"
    }
   ],
   "source": [
    "rf.hyperparameters"
   ]
  },
  {
   "cell_type": "code",
   "execution_count": 10,
   "metadata": {},
   "outputs": [
    {
     "name": "stdout",
     "output_type": "stream",
     "text": [
      "CPU times: user 27min 41s, sys: 11.5 s, total: 27min 53s\n",
      "Wall time: 27min 33s\n"
     ]
    }
   ],
   "source": [
    "%%time\n",
    "rf.spatial_cv(data, columns)"
   ]
  },
  {
   "cell_type": "code",
   "execution_count": 17,
   "metadata": {},
   "outputs": [],
   "source": [
    "f.save_object(rf)"
   ]
  },
  {
   "cell_type": "code",
   "execution_count": 30,
   "metadata": {},
   "outputs": [],
   "source": [
    "rf_test = f.load_object(\"RF_test_2023_04_17\")"
   ]
  },
  {
   "cell_type": "code",
   "execution_count": 57,
   "metadata": {},
   "outputs": [
    {
     "data": {
      "text/plain": [
       "array([0.25233576, 0.25233576, 0.25233576, ..., 0.2452713 , 0.2452713 ,\n",
       "       0.2452713 ])"
      ]
     },
     "execution_count": 57,
     "metadata": {},
     "output_type": "execute_result"
    }
   ],
   "source": [
    "rf_test.final_model.predict(data[rf_test.columns])"
   ]
  },
  {
   "cell_type": "code",
   "execution_count": 31,
   "metadata": {},
   "outputs": [
    {
     "data": {
      "text/plain": [
       "[{'max_depth': 4, 'n_estimators': 10},\n",
       " {'max_depth': 4, 'n_estimators': 10},\n",
       " {'max_depth': 4, 'n_estimators': 10},\n",
       " {'max_depth': 4, 'n_estimators': 10},\n",
       " {'max_depth': 4, 'n_estimators': 10}]"
      ]
     },
     "execution_count": 31,
     "metadata": {},
     "output_type": "execute_result"
    }
   ],
   "source": [
    "rf_test.best_hyperparameter_list"
   ]
  },
  {
   "attachments": {},
   "cell_type": "markdown",
   "metadata": {},
   "source": [
    "#### V2 (xgboost)"
   ]
  },
  {
   "cell_type": "code",
   "execution_count": 19,
   "metadata": {},
   "outputs": [
    {
     "name": "stderr",
     "output_type": "stream",
     "text": [
      "  0%|          | 0/5 [00:00<?, ?it/s]"
     ]
    },
    {
     "name": "stdout",
     "output_type": "stream",
     "text": [
      "2018-10-07\n"
     ]
    },
    {
     "name": "stderr",
     "output_type": "stream",
     "text": [
      " 20%|██        | 1/5 [00:00<00:03,  1.19it/s]"
     ]
    },
    {
     "name": "stdout",
     "output_type": "stream",
     "text": [
      "file\n",
      "2018-10-08\n"
     ]
    },
    {
     "name": "stderr",
     "output_type": "stream",
     "text": [
      " 40%|████      | 2/5 [00:01<00:02,  1.18it/s]"
     ]
    },
    {
     "name": "stdout",
     "output_type": "stream",
     "text": [
      "file\n",
      "2018-10-09\n"
     ]
    },
    {
     "name": "stderr",
     "output_type": "stream",
     "text": [
      " 60%|██████    | 3/5 [00:02<00:01,  1.25it/s]"
     ]
    },
    {
     "name": "stdout",
     "output_type": "stream",
     "text": [
      "file\n",
      "2018-10-10\n"
     ]
    },
    {
     "name": "stderr",
     "output_type": "stream",
     "text": [
      " 80%|████████  | 4/5 [00:03<00:00,  1.34it/s]"
     ]
    },
    {
     "name": "stdout",
     "output_type": "stream",
     "text": [
      "file\n",
      "2018-10-11\n"
     ]
    },
    {
     "name": "stderr",
     "output_type": "stream",
     "text": [
      "100%|██████████| 5/5 [00:03<00:00,  1.31it/s]"
     ]
    },
    {
     "name": "stdout",
     "output_type": "stream",
     "text": [
      "file\n"
     ]
    },
    {
     "name": "stderr",
     "output_type": "stream",
     "text": [
      "\n"
     ]
    },
    {
     "name": "stdout",
     "output_type": "stream",
     "text": [
      "Not applicable for feature'mw_value'.\n",
      "Not applicable for feature'date'.\n",
      "Not applicable for feature'mw_value_yesterday'.\n"
     ]
    }
   ],
   "source": [
    "from sklearn.ensemble import GradientBoostingRegressor\n",
    "\n",
    "date_from = '2018-10-07'\n",
    "date_to = '2018-10-11'\n",
    "\n",
    "data = f.import_data(date_from, date_to, df_path)\n",
    "data = f.remove_data(data, removeMaskedClouds = True, removeNoMelt = True) \n",
    "data = f.data_normalization(data, data.columns)\n",
    "\n",
    "columns = ['x', 'y', 'mw_value',  'mean_3', 'mean_9'] # 'opt_value', 'date', "
   ]
  },
  {
   "cell_type": "code",
   "execution_count": null,
   "metadata": {},
   "outputs": [],
   "source": [
    "xgb = f.Model(model = GradientBoostingRegressor, name = 'XGB_test_2023_04_17')\n",
    "xgb.date_tested = '2023-04-17' # optional\n",
    "xgb.columns = columns # optional\n",
    "hyperparameters_for_grid = {'min_samples_split':[3,5], 'learning_rate':[0.1, 0.5]}\n",
    "xgb.hyperparameters = rf.create_hyperparameter_grid(hyperparameters_for_grid)"
   ]
  },
  {
   "cell_type": "code",
   "execution_count": null,
   "metadata": {},
   "outputs": [],
   "source": [
    "xgb.spatial_cv(data, columns)"
   ]
  },
  {
   "cell_type": "code",
   "execution_count": null,
   "metadata": {},
   "outputs": [],
   "source": [
    "f.save_object(xgb)"
   ]
  },
  {
   "cell_type": "code",
   "execution_count": 58,
   "metadata": {},
   "outputs": [],
   "source": [
    "xgb_test = f.load_object(\"XGB_test_2023_04_17\")"
   ]
  },
  {
   "cell_type": "code",
   "execution_count": 59,
   "metadata": {},
   "outputs": [
    {
     "data": {
      "text/plain": [
       "array([0.11850426, 0.11850426, 0.11850426, ..., 0.12333049, 0.22347761,\n",
       "       0.27816202])"
      ]
     },
     "execution_count": 59,
     "metadata": {},
     "output_type": "execute_result"
    }
   ],
   "source": [
    "xgb_test.final_model.predict(data[xgb_test.columns])"
   ]
  },
  {
   "attachments": {},
   "cell_type": "markdown",
   "metadata": {},
   "source": [
    "#### V3 (linear)"
   ]
  },
  {
   "cell_type": "code",
   "execution_count": 17,
   "metadata": {},
   "outputs": [
    {
     "name": "stderr",
     "output_type": "stream",
     "text": [
      "100%|██████████| 3/3 [00:01<00:00,  1.76it/s]\n"
     ]
    },
    {
     "name": "stdout",
     "output_type": "stream",
     "text": [
      "Not applicable for feature'mw_value'.\n",
      "Not applicable for feature'date'.\n",
      "Not applicable for feature'mw_value_yesterday'.\n"
     ]
    }
   ],
   "source": [
    "from sklearn.linear_model import LinearRegression\n",
    "\n",
    "date_from = '2018-06-13'\n",
    "date_to = '2018-06-15'\n",
    "\n",
    "data = f.import_data(date_from, date_to, df_path)\n",
    "data = f.remove_data(data, removeMaskedClouds = True, removeNoMelt = True) \n",
    "data = f.data_normalization(data)\n",
    "\n",
    "columns = ['mw_value', 'sum_5', 'mw_value_yesterday'] # 'x', 'y', "
   ]
  },
  {
   "cell_type": "code",
   "execution_count": 21,
   "metadata": {},
   "outputs": [],
   "source": [
    "columns = ['mw_value', 'sum_5', 'mw_value_yesterday', 'row'] # 'x', 'y', "
   ]
  },
  {
   "cell_type": "code",
   "execution_count": 22,
   "metadata": {},
   "outputs": [],
   "source": [
    "lr = f.Model(model = LinearRegression, name = 'LR_test_2023_04_17')\n",
    "lr.date_tested = '2023-04-17' # optional\n",
    "hyperparameters_for_grid = {'fit_intercept': [True]}\n",
    "lr.hyperparameters = lr.create_hyperparameter_grid(hyperparameters_for_grid)"
   ]
  },
  {
   "cell_type": "code",
   "execution_count": 23,
   "metadata": {},
   "outputs": [
    {
     "data": {
      "text/plain": [
       "[{'fit_intercept': True}]"
      ]
     },
     "execution_count": 23,
     "metadata": {},
     "output_type": "execute_result"
    }
   ],
   "source": [
    "lr.hyperparameters"
   ]
  },
  {
   "cell_type": "code",
   "execution_count": 24,
   "metadata": {},
   "outputs": [
    {
     "name": "stdout",
     "output_type": "stream",
     "text": [
      "Column row should not be included\n"
     ]
    },
    {
     "ename": "AssertionError",
     "evalue": "",
     "output_type": "error",
     "traceback": [
      "\u001b[0;31m---------------------------------------------------------------------------\u001b[0m",
      "\u001b[0;31mAssertionError\u001b[0m                            Traceback (most recent call last)",
      "File \u001b[0;32m<timed eval>:1\u001b[0m\n",
      "File \u001b[0;32m/mnt/c/Users/linas/OneDrive/Documents/ITU/Semester3/RP_Greenland/RP_Greenland/Scripts/functions_training_pipeline.py:378\u001b[0m, in \u001b[0;36mModel.spatial_cv\u001b[0;34m(self, df, columns)\u001b[0m\n\u001b[1;32m    365\u001b[0m \u001b[39mdef\u001b[39;00m \u001b[39mspatial_cv\u001b[39m(\u001b[39mself\u001b[39m, df, columns):\n\u001b[1;32m    366\u001b[0m     \u001b[39m\"\"\"\u001b[39;00m\n\u001b[1;32m    367\u001b[0m \u001b[39m    This function performs spatial cross-validation.\u001b[39;00m\n\u001b[1;32m    368\u001b[0m \n\u001b[0;32m   (...)\u001b[0m\n\u001b[1;32m    376\u001b[0m \u001b[39m                 It also assigns the best hyperparameters, predicted and real values of each outer split to the model object.\u001b[39;00m\n\u001b[1;32m    377\u001b[0m \u001b[39m    \"\"\"\u001b[39;00m\n\u001b[0;32m--> 378\u001b[0m     \u001b[39mself\u001b[39;49m\u001b[39m.\u001b[39;49m__check_columns(columns)\n\u001b[1;32m    379\u001b[0m     \u001b[39mself\u001b[39m\u001b[39m.\u001b[39mdates \u001b[39m=\u001b[39m \u001b[39mself\u001b[39m\u001b[39m.\u001b[39m__save_dates(df)\n\u001b[1;32m    380\u001b[0m     \u001b[39mself\u001b[39m\u001b[39m.\u001b[39mcolumns \u001b[39m=\u001b[39m columns\n",
      "File \u001b[0;32m/mnt/c/Users/linas/OneDrive/Documents/ITU/Semester3/RP_Greenland/RP_Greenland/Scripts/functions_training_pipeline.py:362\u001b[0m, in \u001b[0;36mModel.__check_columns\u001b[0;34m(self, columns)\u001b[0m\n\u001b[1;32m    360\u001b[0m \u001b[39mif\u001b[39;00m col \u001b[39min\u001b[39;00m [\u001b[39m'\u001b[39m\u001b[39mrow\u001b[39m\u001b[39m'\u001b[39m, \u001b[39m'\u001b[39m\u001b[39mcol\u001b[39m\u001b[39m'\u001b[39m, \u001b[39m'\u001b[39m\u001b[39mopt_value\u001b[39m\u001b[39m'\u001b[39m]:\n\u001b[1;32m    361\u001b[0m     \u001b[39mprint\u001b[39m(\u001b[39mf\u001b[39m\u001b[39m\"\u001b[39m\u001b[39mColumn \u001b[39m\u001b[39m{\u001b[39;00mcol\u001b[39m}\u001b[39;00m\u001b[39m should not be included\u001b[39m\u001b[39m\"\u001b[39m)\n\u001b[0;32m--> 362\u001b[0m     \u001b[39massert\u001b[39;00m \u001b[39mFalse\u001b[39;00m\n",
      "\u001b[0;31mAssertionError\u001b[0m: "
     ]
    }
   ],
   "source": [
    "%%time\n",
    "lr.spatial_cv(data, columns)"
   ]
  },
  {
   "cell_type": "code",
   "execution_count": 15,
   "metadata": {},
   "outputs": [],
   "source": [
    "lr.name = 'LR_test_04_22'\n",
    "lr.date_tested = '2023-04-22'"
   ]
  },
  {
   "cell_type": "code",
   "execution_count": 16,
   "metadata": {},
   "outputs": [],
   "source": [
    "f.save_object(lr)"
   ]
  },
  {
   "cell_type": "code",
   "execution_count": 25,
   "metadata": {},
   "outputs": [],
   "source": [
    "lr = f.load_object(\"LR_test_2023_04_17\")"
   ]
  },
  {
   "cell_type": "code",
   "execution_count": 27,
   "metadata": {},
   "outputs": [
    {
     "data": {
      "text/plain": [
       "array([0.29517136, 0.29513615, 0.29587465, ..., 0.3125172 , 0.31247682,\n",
       "       0.31244977])"
      ]
     },
     "execution_count": 27,
     "metadata": {},
     "output_type": "execute_result"
    }
   ],
   "source": [
    "lr.final_model.predict(data[lr.columns])"
   ]
  },
  {
   "attachments": {},
   "cell_type": "markdown",
   "metadata": {},
   "source": [
    "#### V4 (ridge)"
   ]
  },
  {
   "cell_type": "code",
   "execution_count": 19,
   "metadata": {},
   "outputs": [
    {
     "name": "stderr",
     "output_type": "stream",
     "text": [
      "100%|██████████| 9/9 [00:04<00:00,  2.02it/s]\n"
     ]
    },
    {
     "name": "stdout",
     "output_type": "stream",
     "text": [
      "Not applicable for feature'mw_value'.\n",
      "Not applicable for feature'date'.\n",
      "Not applicable for feature'mw_value_yesterday'.\n"
     ]
    }
   ],
   "source": [
    "from sklearn.linear_model import Ridge\n",
    "\n",
    "date_from = '2019-05-02'\n",
    "date_to = '2019-05-10'\n",
    "\n",
    "data = f.import_data(date_from, date_to, df_path)\n",
    "data = f.remove_data(data, removeMaskedClouds = True, removeNoMelt = True) \n",
    "data = f.data_normalization(data, data.columns)\n",
    "\n",
    "columns = ['x', 'y', 'mw_value', 'mw_value_7_day_average', 'hours_of_daylight'] # 'opt_value', 'date', "
   ]
  },
  {
   "cell_type": "code",
   "execution_count": 43,
   "metadata": {},
   "outputs": [],
   "source": [
    "rid = f.Model(model = Ridge, name = 'RID_test_2023_04_17')\n",
    "rid.date_tested = '2023-04-17' # optional\n",
    "rid.columns = columns # optional\n",
    "hyperparameters_for_grid = {'fit_intercept': [True]}\n",
    "rid.hyperparameters = rid.create_hyperparameter_grid(hyperparameters_for_grid)"
   ]
  },
  {
   "cell_type": "code",
   "execution_count": 44,
   "metadata": {},
   "outputs": [
    {
     "name": "stdout",
     "output_type": "stream",
     "text": [
      "CPU times: user 27.8 s, sys: 38.9 s, total: 1min 6s\n",
      "Wall time: 12.3 s\n"
     ]
    }
   ],
   "source": [
    "%%time\n",
    "rr.spatial_cv(data, columns)"
   ]
  },
  {
   "cell_type": "code",
   "execution_count": 45,
   "metadata": {},
   "outputs": [],
   "source": [
    "f.save_object(rid)"
   ]
  },
  {
   "attachments": {},
   "cell_type": "markdown",
   "metadata": {},
   "source": [
    "#### V5 (lasso)"
   ]
  },
  {
   "cell_type": "code",
   "execution_count": 50,
   "metadata": {},
   "outputs": [
    {
     "name": "stderr",
     "output_type": "stream",
     "text": [
      "100%|██████████| 217/217 [00:02<00:00, 81.83it/s] \n"
     ]
    },
    {
     "name": "stdout",
     "output_type": "stream",
     "text": [
      "Not applicable for feature'mw_value'.\n",
      "Not applicable for feature'date'.\n",
      "Not applicable for feature'mw_value_yesterday'.\n"
     ]
    }
   ],
   "source": [
    "from sklearn.linear_model import Lasso\n",
    "\n",
    "date_from = '2017-09-29'\n",
    "date_to = '2018-05-03'\n",
    "\n",
    "data = f.import_data(date_from, date_to, df_path)\n",
    "data = f.remove_data(data, removeMaskedClouds = True, removeNoMelt = True) \n",
    "data = f.data_normalization(data, data.columns)\n",
    "\n",
    "columns = ['x', 'y', 'mw_value', 'elevation_data', \"slope_data\"] # 'opt_value', 'date', "
   ]
  },
  {
   "cell_type": "code",
   "execution_count": 51,
   "metadata": {},
   "outputs": [],
   "source": [
    "las = f.Model(model = Lasso, name = 'LAS_test_2023_04_17')\n",
    "las.date_tested = '2023-04-17' # optional\n",
    "las.columns = columns # optional\n",
    "hyperparameters_for_grid = {'fit_intercept': [True], 'alpha': [0.1]}\n",
    "las.hyperparameters = las.create_hyperparameter_grid(hyperparameters_for_grid)"
   ]
  },
  {
   "cell_type": "code",
   "execution_count": 52,
   "metadata": {},
   "outputs": [],
   "source": [
    "las.spatial_cv(data, columns)"
   ]
  },
  {
   "cell_type": "code",
   "execution_count": 53,
   "metadata": {},
   "outputs": [],
   "source": [
    "f.save_object(las)"
   ]
  },
  {
   "cell_type": "code",
   "execution_count": 54,
   "metadata": {},
   "outputs": [
    {
     "data": {
      "text/plain": [
       "array([0.22977035, 0.22977035, 0.22977035, ..., 0.22977035, 0.22977035,\n",
       "       0.22977035])"
      ]
     },
     "execution_count": 54,
     "metadata": {},
     "output_type": "execute_result"
    }
   ],
   "source": [
    "las.final_model.predict(data[las.columns])"
   ]
  },
  {
   "attachments": {},
   "cell_type": "markdown",
   "metadata": {},
   "source": [
    "#### V6 (elasticnet)"
   ]
  },
  {
   "cell_type": "code",
   "execution_count": 76,
   "metadata": {},
   "outputs": [
    {
     "name": "stderr",
     "output_type": "stream",
     "text": [
      "100%|██████████| 3/3 [00:00<00:00,  3.84it/s]\n"
     ]
    }
   ],
   "source": [
    "from sklearn.linear_model import ElasticNet\n",
    "\n",
    "date_from = '2019-06-10'\n",
    "date_to = '2019-06-12'\n",
    "\n",
    "data = f.import_data(date_from, date_to, df_path)\n",
    "data = f.remove_data(data, removeMaskedClouds = True, removeNoMelt = True) \n",
    "#data = f.data_normalization(data, data.columns)\n",
    "\n",
    "columns = ['x', 'y', 'mw_value', 'aspect_data', \"distance_to_margin\"] # 'opt_value', 'date', "
   ]
  },
  {
   "cell_type": "code",
   "execution_count": 77,
   "metadata": {},
   "outputs": [],
   "source": [
    "elnet = f.Model(model = ElasticNet, name = 'ELNET_test_2023_04_17')\n",
    "elnet.date_tested = '2023-04-17' # optional\n",
    "elnet.columns = columns # optional\n",
    "hyperparameters_for_grid = {'fit_intercept': [True], 'alpha': [0.1]}\n",
    "elnet.hyperparameters = elnet.create_hyperparameter_grid(hyperparameters_for_grid)"
   ]
  },
  {
   "cell_type": "code",
   "execution_count": 78,
   "metadata": {},
   "outputs": [],
   "source": [
    "elnet.spatial_cv(data, columns)"
   ]
  },
  {
   "cell_type": "code",
   "execution_count": 79,
   "metadata": {},
   "outputs": [],
   "source": [
    "f.save_object(elnet)"
   ]
  },
  {
   "cell_type": "code",
   "execution_count": 80,
   "metadata": {},
   "outputs": [
    {
     "data": {
      "text/plain": [
       "array([0.53528759, 0.53648661, 0.53424031, ..., 0.92250891, 0.9256646 ,\n",
       "       0.92413931])"
      ]
     },
     "execution_count": 80,
     "metadata": {},
     "output_type": "execute_result"
    }
   ],
   "source": [
    "elnet.final_model.predict(data[elnet.columns])"
   ]
  },
  {
   "attachments": {},
   "cell_type": "markdown",
   "metadata": {},
   "source": [
    "#### V7 (decision tree)"
   ]
  },
  {
   "cell_type": "code",
   "execution_count": 69,
   "metadata": {},
   "outputs": [
    {
     "name": "stderr",
     "output_type": "stream",
     "text": [
      "100%|██████████| 2/2 [00:01<00:00,  1.50it/s]\n"
     ]
    },
    {
     "name": "stdout",
     "output_type": "stream",
     "text": [
      "Not applicable for feature'mw_value'.\n",
      "Not applicable for feature'date'.\n",
      "Not applicable for feature'mw_value_yesterday'.\n"
     ]
    }
   ],
   "source": [
    "from sklearn.tree import DecisionTreeRegressor\n",
    "\n",
    "date_from = '2019-07-08'\n",
    "date_to = '2019-07-09'\n",
    "\n",
    "data = f.import_data(date_from, date_to, df_path)\n",
    "data = f.remove_data(data, removeMaskedClouds = True, removeNoMelt = True) \n",
    "data = f.data_normalization(data, data.columns)\n",
    "\n",
    "columns = ['x', 'y', 'mw_value', 'sum_5', 'hours_of_daylight', \"slope_data\"] # 'opt_value', 'date', "
   ]
  },
  {
   "cell_type": "code",
   "execution_count": 70,
   "metadata": {},
   "outputs": [],
   "source": [
    "dtr = f.Model(model = DecisionTreeRegressor, name = 'DTR_test_2023_04_17')\n",
    "dtr.date_tested = '2023-04-17' # optional\n",
    "dtr.columns = columns # optional\n",
    "hyperparameters_for_grid = {'max_depth': [10], 'splitter': [\"best\"]}\n",
    "dtr.hyperparameters = dtr.create_hyperparameter_grid(hyperparameters_for_grid)"
   ]
  },
  {
   "cell_type": "code",
   "execution_count": 71,
   "metadata": {},
   "outputs": [],
   "source": [
    "dtr.spatial_cv(data, columns)"
   ]
  },
  {
   "cell_type": "code",
   "execution_count": 72,
   "metadata": {},
   "outputs": [],
   "source": [
    "f.save_object(dtr)"
   ]
  },
  {
   "cell_type": "code",
   "execution_count": 73,
   "metadata": {},
   "outputs": [
    {
     "data": {
      "text/plain": [
       "array([0.47092273, 0.15005733, 0.02539315, ..., 0.00303064, 0.00303064,\n",
       "       0.66024074])"
      ]
     },
     "execution_count": 73,
     "metadata": {},
     "output_type": "execute_result"
    }
   ],
   "source": [
    "dtr.final_model.predict(data[dtr.columns])"
   ]
  },
  {
   "attachments": {},
   "cell_type": "markdown",
   "metadata": {},
   "source": [
    "#### Test/compare saved models:\n"
   ]
  },
  {
   "cell_type": "code",
   "execution_count": null,
   "metadata": {},
   "outputs": [],
   "source": [
    "dt_test = f.load_object()"
   ]
  },
  {
   "cell_type": "code",
   "execution_count": null,
   "metadata": {},
   "outputs": [],
   "source": [
    "dt2.final_model.predict([[55500,700000,1,0.5]])"
   ]
  },
  {
   "attachments": {},
   "cell_type": "markdown",
   "metadata": {},
   "source": [
    "### Other tests"
   ]
  },
  {
   "cell_type": "code",
   "execution_count": 5,
   "metadata": {},
   "outputs": [],
   "source": [
    "lr = f.load_object(\"LR_test_04_22\")"
   ]
  },
  {
   "cell_type": "code",
   "execution_count": 7,
   "metadata": {},
   "outputs": [
    {
     "data": {
      "text/plain": [
       "{'copy_X': True, 'fit_intercept': True, 'n_jobs': None, 'positive': False}"
      ]
     },
     "execution_count": 7,
     "metadata": {},
     "output_type": "execute_result"
    }
   ],
   "source": [
    "lr.cv_model_list[0].get_params()"
   ]
  },
  {
   "cell_type": "code",
   "execution_count": 6,
   "metadata": {},
   "outputs": [
    {
     "name": "stderr",
     "output_type": "stream",
     "text": [
      "100%|██████████| 1/1 [00:01<00:00,  1.27s/it]\n"
     ]
    },
    {
     "name": "stdout",
     "output_type": "stream",
     "text": [
      "Not applicable for feature'mw_value'.\n",
      "Not applicable for feature'col'.\n",
      "Not applicable for feature'row'.\n",
      "Not applicable for feature'date'.\n",
      "Not applicable for feature'mw_value_yesterday'.\n"
     ]
    }
   ],
   "source": [
    "# load test data\n",
    "xx = f.import_data('2019-08-05', '2019-08-05', df_path)\n",
    "xx = f.remove_data(xx, removeMaskedClouds = True, removeNoMelt = True) \n",
    "xx = f.data_normalization(xx)"
   ]
  },
  {
   "cell_type": "code",
   "execution_count": 7,
   "metadata": {},
   "outputs": [
    {
     "data": {
      "text/html": [
       "<div>\n",
       "<style scoped>\n",
       "    .dataframe tbody tr th:only-of-type {\n",
       "        vertical-align: middle;\n",
       "    }\n",
       "\n",
       "    .dataframe tbody tr th {\n",
       "        vertical-align: top;\n",
       "    }\n",
       "\n",
       "    .dataframe thead th {\n",
       "        text-align: right;\n",
       "    }\n",
       "</style>\n",
       "<table border=\"1\" class=\"dataframe\">\n",
       "  <thead>\n",
       "    <tr style=\"text-align: right;\">\n",
       "      <th></th>\n",
       "      <th>x</th>\n",
       "      <th>y</th>\n",
       "      <th>mw_value</th>\n",
       "      <th>opt_value</th>\n",
       "      <th>col</th>\n",
       "      <th>row</th>\n",
       "      <th>mean_3</th>\n",
       "      <th>mean_9</th>\n",
       "      <th>sum_5</th>\n",
       "      <th>date</th>\n",
       "      <th>mw_value_yesterday</th>\n",
       "      <th>mw_value_7_day_average</th>\n",
       "      <th>hours_of_daylight</th>\n",
       "      <th>elevation_data</th>\n",
       "      <th>slope_data</th>\n",
       "      <th>aspect_data</th>\n",
       "      <th>distance_to_margin</th>\n",
       "    </tr>\n",
       "  </thead>\n",
       "  <tbody>\n",
       "    <tr>\n",
       "      <th>0</th>\n",
       "      <td>0.556468</td>\n",
       "      <td>0.983847</td>\n",
       "      <td>0.0</td>\n",
       "      <td>0.002843</td>\n",
       "      <td>813</td>\n",
       "      <td>43</td>\n",
       "      <td>0.0</td>\n",
       "      <td>0.0</td>\n",
       "      <td>0.0</td>\n",
       "      <td>2019-08-05</td>\n",
       "      <td>0.0</td>\n",
       "      <td>0.0</td>\n",
       "      <td>1.000000</td>\n",
       "      <td>0.210883</td>\n",
       "      <td>0.053036</td>\n",
       "      <td>0.802390</td>\n",
       "      <td>0.081349</td>\n",
       "    </tr>\n",
       "    <tr>\n",
       "      <th>1</th>\n",
       "      <td>0.557153</td>\n",
       "      <td>0.983847</td>\n",
       "      <td>0.0</td>\n",
       "      <td>0.003675</td>\n",
       "      <td>814</td>\n",
       "      <td>43</td>\n",
       "      <td>0.0</td>\n",
       "      <td>0.0</td>\n",
       "      <td>0.0</td>\n",
       "      <td>2019-08-05</td>\n",
       "      <td>0.0</td>\n",
       "      <td>0.0</td>\n",
       "      <td>1.000000</td>\n",
       "      <td>0.196264</td>\n",
       "      <td>0.051625</td>\n",
       "      <td>0.912200</td>\n",
       "      <td>0.079572</td>\n",
       "    </tr>\n",
       "    <tr>\n",
       "      <th>2</th>\n",
       "      <td>0.556468</td>\n",
       "      <td>0.983471</td>\n",
       "      <td>0.0</td>\n",
       "      <td>0.005672</td>\n",
       "      <td>813</td>\n",
       "      <td>44</td>\n",
       "      <td>0.0</td>\n",
       "      <td>0.0</td>\n",
       "      <td>0.0</td>\n",
       "      <td>2019-08-05</td>\n",
       "      <td>0.0</td>\n",
       "      <td>0.0</td>\n",
       "      <td>1.000000</td>\n",
       "      <td>0.215755</td>\n",
       "      <td>0.040550</td>\n",
       "      <td>0.452965</td>\n",
       "      <td>0.082284</td>\n",
       "    </tr>\n",
       "    <tr>\n",
       "      <th>4</th>\n",
       "      <td>0.463381</td>\n",
       "      <td>0.967693</td>\n",
       "      <td>0.0</td>\n",
       "      <td>0.001153</td>\n",
       "      <td>677</td>\n",
       "      <td>86</td>\n",
       "      <td>0.0</td>\n",
       "      <td>0.0</td>\n",
       "      <td>0.0</td>\n",
       "      <td>2019-08-05</td>\n",
       "      <td>0.0</td>\n",
       "      <td>0.0</td>\n",
       "      <td>1.000000</td>\n",
       "      <td>0.059556</td>\n",
       "      <td>0.129619</td>\n",
       "      <td>0.190021</td>\n",
       "      <td>0.059044</td>\n",
       "    </tr>\n",
       "    <tr>\n",
       "      <th>12</th>\n",
       "      <td>0.444216</td>\n",
       "      <td>0.963561</td>\n",
       "      <td>0.0</td>\n",
       "      <td>0.004774</td>\n",
       "      <td>649</td>\n",
       "      <td>97</td>\n",
       "      <td>0.0</td>\n",
       "      <td>0.0</td>\n",
       "      <td>0.0</td>\n",
       "      <td>2019-08-05</td>\n",
       "      <td>0.0</td>\n",
       "      <td>0.0</td>\n",
       "      <td>1.000000</td>\n",
       "      <td>0.150244</td>\n",
       "      <td>0.036888</td>\n",
       "      <td>0.999926</td>\n",
       "      <td>0.044088</td>\n",
       "    </tr>\n",
       "    <tr>\n",
       "      <th>...</th>\n",
       "      <td>...</td>\n",
       "      <td>...</td>\n",
       "      <td>...</td>\n",
       "      <td>...</td>\n",
       "      <td>...</td>\n",
       "      <td>...</td>\n",
       "      <td>...</td>\n",
       "      <td>...</td>\n",
       "      <td>...</td>\n",
       "      <td>...</td>\n",
       "      <td>...</td>\n",
       "      <td>...</td>\n",
       "      <td>...</td>\n",
       "      <td>...</td>\n",
       "      <td>...</td>\n",
       "      <td>...</td>\n",
       "      <td>...</td>\n",
       "    </tr>\n",
       "    <tr>\n",
       "      <th>1348994</th>\n",
       "      <td>0.451745</td>\n",
       "      <td>0.042449</td>\n",
       "      <td>0.0</td>\n",
       "      <td>0.721803</td>\n",
       "      <td>660</td>\n",
       "      <td>2549</td>\n",
       "      <td>0.0</td>\n",
       "      <td>0.0</td>\n",
       "      <td>0.0</td>\n",
       "      <td>2019-08-05</td>\n",
       "      <td>0.0</td>\n",
       "      <td>0.0</td>\n",
       "      <td>0.697701</td>\n",
       "      <td>0.414456</td>\n",
       "      <td>0.014434</td>\n",
       "      <td>0.985071</td>\n",
       "      <td>0.123098</td>\n",
       "    </tr>\n",
       "    <tr>\n",
       "      <th>1348995</th>\n",
       "      <td>0.452430</td>\n",
       "      <td>0.042449</td>\n",
       "      <td>0.0</td>\n",
       "      <td>0.758615</td>\n",
       "      <td>661</td>\n",
       "      <td>2549</td>\n",
       "      <td>0.0</td>\n",
       "      <td>0.0</td>\n",
       "      <td>0.0</td>\n",
       "      <td>2019-08-05</td>\n",
       "      <td>0.0</td>\n",
       "      <td>0.0</td>\n",
       "      <td>0.697700</td>\n",
       "      <td>0.415539</td>\n",
       "      <td>0.013818</td>\n",
       "      <td>0.983686</td>\n",
       "      <td>0.124264</td>\n",
       "    </tr>\n",
       "    <tr>\n",
       "      <th>1348996</th>\n",
       "      <td>0.453114</td>\n",
       "      <td>0.042449</td>\n",
       "      <td>0.0</td>\n",
       "      <td>0.791798</td>\n",
       "      <td>662</td>\n",
       "      <td>2549</td>\n",
       "      <td>0.0</td>\n",
       "      <td>0.0</td>\n",
       "      <td>0.0</td>\n",
       "      <td>2019-08-05</td>\n",
       "      <td>0.0</td>\n",
       "      <td>0.0</td>\n",
       "      <td>0.697700</td>\n",
       "      <td>0.417434</td>\n",
       "      <td>0.016612</td>\n",
       "      <td>0.969335</td>\n",
       "      <td>0.125452</td>\n",
       "    </tr>\n",
       "    <tr>\n",
       "      <th>1348997</th>\n",
       "      <td>0.453799</td>\n",
       "      <td>0.042449</td>\n",
       "      <td>0.0</td>\n",
       "      <td>0.759703</td>\n",
       "      <td>663</td>\n",
       "      <td>2549</td>\n",
       "      <td>0.0</td>\n",
       "      <td>0.0</td>\n",
       "      <td>0.0</td>\n",
       "      <td>2019-08-05</td>\n",
       "      <td>0.0</td>\n",
       "      <td>0.0</td>\n",
       "      <td>0.697699</td>\n",
       "      <td>0.420411</td>\n",
       "      <td>0.018394</td>\n",
       "      <td>0.897914</td>\n",
       "      <td>0.126659</td>\n",
       "    </tr>\n",
       "    <tr>\n",
       "      <th>1348998</th>\n",
       "      <td>0.454483</td>\n",
       "      <td>0.042449</td>\n",
       "      <td>0.0</td>\n",
       "      <td>0.784112</td>\n",
       "      <td>664</td>\n",
       "      <td>2549</td>\n",
       "      <td>0.0</td>\n",
       "      <td>0.0</td>\n",
       "      <td>0.0</td>\n",
       "      <td>2019-08-05</td>\n",
       "      <td>0.0</td>\n",
       "      <td>0.0</td>\n",
       "      <td>0.697698</td>\n",
       "      <td>0.426908</td>\n",
       "      <td>0.021641</td>\n",
       "      <td>0.830811</td>\n",
       "      <td>0.127886</td>\n",
       "    </tr>\n",
       "  </tbody>\n",
       "</table>\n",
       "<p>1083464 rows × 17 columns</p>\n",
       "</div>"
      ],
      "text/plain": [
       "                x         y  mw_value  opt_value  col   row  mean_3  mean_9  \\\n",
       "0        0.556468  0.983847       0.0   0.002843  813    43     0.0     0.0   \n",
       "1        0.557153  0.983847       0.0   0.003675  814    43     0.0     0.0   \n",
       "2        0.556468  0.983471       0.0   0.005672  813    44     0.0     0.0   \n",
       "4        0.463381  0.967693       0.0   0.001153  677    86     0.0     0.0   \n",
       "12       0.444216  0.963561       0.0   0.004774  649    97     0.0     0.0   \n",
       "...           ...       ...       ...        ...  ...   ...     ...     ...   \n",
       "1348994  0.451745  0.042449       0.0   0.721803  660  2549     0.0     0.0   \n",
       "1348995  0.452430  0.042449       0.0   0.758615  661  2549     0.0     0.0   \n",
       "1348996  0.453114  0.042449       0.0   0.791798  662  2549     0.0     0.0   \n",
       "1348997  0.453799  0.042449       0.0   0.759703  663  2549     0.0     0.0   \n",
       "1348998  0.454483  0.042449       0.0   0.784112  664  2549     0.0     0.0   \n",
       "\n",
       "         sum_5       date  mw_value_yesterday  mw_value_7_day_average  \\\n",
       "0          0.0 2019-08-05                 0.0                     0.0   \n",
       "1          0.0 2019-08-05                 0.0                     0.0   \n",
       "2          0.0 2019-08-05                 0.0                     0.0   \n",
       "4          0.0 2019-08-05                 0.0                     0.0   \n",
       "12         0.0 2019-08-05                 0.0                     0.0   \n",
       "...        ...        ...                 ...                     ...   \n",
       "1348994    0.0 2019-08-05                 0.0                     0.0   \n",
       "1348995    0.0 2019-08-05                 0.0                     0.0   \n",
       "1348996    0.0 2019-08-05                 0.0                     0.0   \n",
       "1348997    0.0 2019-08-05                 0.0                     0.0   \n",
       "1348998    0.0 2019-08-05                 0.0                     0.0   \n",
       "\n",
       "         hours_of_daylight  elevation_data  slope_data  aspect_data  \\\n",
       "0                 1.000000        0.210883    0.053036     0.802390   \n",
       "1                 1.000000        0.196264    0.051625     0.912200   \n",
       "2                 1.000000        0.215755    0.040550     0.452965   \n",
       "4                 1.000000        0.059556    0.129619     0.190021   \n",
       "12                1.000000        0.150244    0.036888     0.999926   \n",
       "...                    ...             ...         ...          ...   \n",
       "1348994           0.697701        0.414456    0.014434     0.985071   \n",
       "1348995           0.697700        0.415539    0.013818     0.983686   \n",
       "1348996           0.697700        0.417434    0.016612     0.969335   \n",
       "1348997           0.697699        0.420411    0.018394     0.897914   \n",
       "1348998           0.697698        0.426908    0.021641     0.830811   \n",
       "\n",
       "         distance_to_margin  \n",
       "0                  0.081349  \n",
       "1                  0.079572  \n",
       "2                  0.082284  \n",
       "4                  0.059044  \n",
       "12                 0.044088  \n",
       "...                     ...  \n",
       "1348994            0.123098  \n",
       "1348995            0.124264  \n",
       "1348996            0.125452  \n",
       "1348997            0.126659  \n",
       "1348998            0.127886  \n",
       "\n",
       "[1083464 rows x 17 columns]"
      ]
     },
     "execution_count": 7,
     "metadata": {},
     "output_type": "execute_result"
    }
   ],
   "source": [
    "xx"
   ]
  },
  {
   "cell_type": "code",
   "execution_count": 8,
   "metadata": {},
   "outputs": [],
   "source": [
    "tt = f.mean_predict(lr,xx) "
   ]
  },
  {
   "cell_type": "code",
   "execution_count": 9,
   "metadata": {},
   "outputs": [
    {
     "data": {
      "text/plain": [
       "0"
      ]
     },
     "execution_count": 9,
     "metadata": {},
     "output_type": "execute_result"
    }
   ],
   "source": [
    "tt[['row', 'col']].duplicated().sum()"
   ]
  },
  {
   "cell_type": "code",
   "execution_count": 28,
   "metadata": {},
   "outputs": [],
   "source": [
    "from tqdm import tqdm"
   ]
  },
  {
   "cell_type": "code",
   "execution_count": 10,
   "metadata": {},
   "outputs": [
    {
     "name": "stderr",
     "output_type": "stream",
     "text": [
      "1083464it [00:49, 21845.36it/s]\n"
     ]
    }
   ],
   "source": [
    "f.save_prediction_tif(tt, 'mean', 'test_delete.tif')"
   ]
  },
  {
   "cell_type": "code",
   "execution_count": null,
   "metadata": {},
   "outputs": [],
   "source": [
    "# plot that output file to see if worked"
   ]
  },
  {
   "cell_type": "code",
   "execution_count": 11,
   "metadata": {},
   "outputs": [
    {
     "data": {
      "image/png": "[encoded data removed]",
      "text/plain": [
       "<Figure size 400x500 with 2 Axes>"
      ]
     },
     "metadata": {},
     "output_type": "display_data"
    }
   ],
   "source": [
    "import xarray\n",
    "import matplotlib.pyplot as plt\n",
    "\n",
    "# test opening and plotting\n",
    "test_data_tif = xarray.open_dataarray('test_delete.tif')\n",
    "fig, axes = plt.subplots(ncols=1, figsize=(4,5))\n",
    "test_data_tif.plot(ax=axes)\n",
    "\n",
    "plt.draw()"
   ]
  },
  {
   "cell_type": "code",
   "execution_count": null,
   "metadata": {},
   "outputs": [],
   "source": []
  }
 ],
 "metadata": {
  "kernelspec": {
   "display_name": "Python 3.9.14 ('.venv': poetry)",
   "language": "python",
   "name": "python3"
  },
  "language_info": {
   "codemirror_mode": {
    "name": "ipython",
    "version": 3
   },
   "file_extension": ".py",
   "mimetype": "text/x-python",
   "name": "python",
   "nbconvert_exporter": "python",
   "pygments_lexer": "ipython3",
   "version": "3.11.3"
  },
  "orig_nbformat": 4,
  "vscode": {
   "interpreter": {
    "hash": "c1c6eaedbd5b3fcd114378d998a879d4f50715202363f6507059361ed549ecef"
   }
  }
 },
 "nbformat": 4,
 "nbformat_minor": 2
}
