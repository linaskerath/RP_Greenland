{
 "cells": [
  {
   "attachments": {},
   "cell_type": "markdown",
   "metadata": {},
   "source": [
    "# Model Benchmark"
   ]
  },
  {
   "attachments": {},
   "cell_type": "markdown",
   "metadata": {},
   "source": [
    "**Purpose of script:**\n",
    "\n",
    "Benchmarking regression models.\n",
    "Two types of benchmarks are produced:\n",
    "- Microwave benchmark: raw data input to output benchmark - direct comparison of microwave and optical data.\n",
    "- Mean value benchark: mean value of training data lables is derived to check benchmark performance. \n",
    "\n",
    "\n",
    "In: training data: can be plain (not enhanced) df or extended df (but only mw data will be used).\n",
    "\n",
    "Out: no written output, benchmark performance."
   ]
  },
  {
   "cell_type": "code",
   "execution_count": 1,
   "metadata": {},
   "outputs": [],
   "source": [
    "import pandas as pd\n",
    "import functions_training_pipeline as f\n",
    "\n",
    "import matplotlib.pyplot as plt"
   ]
  },
  {
   "cell_type": "code",
   "execution_count": 2,
   "metadata": {},
   "outputs": [],
   "source": [
    "df_path = r\"../../AWS_Data/Data/dataframe_extended/\""
   ]
  },
  {
   "attachments": {},
   "cell_type": "markdown",
   "metadata": {},
   "source": [
    "<mark>Define training and testing periods:</mark>\n"
   ]
  },
  {
   "cell_type": "code",
   "execution_count": 3,
   "metadata": {},
   "outputs": [],
   "source": [
    "train_date_from = '2019-07-01'\n",
    "train_date_to = '2019-07-02'\n",
    "\n",
    "test_date_from = '2019-07-06'\n",
    "test_date_to = '2019-07-07'"
   ]
  },
  {
   "attachments": {},
   "cell_type": "markdown",
   "metadata": {},
   "source": [
    "## Load Data"
   ]
  },
  {
   "cell_type": "code",
   "execution_count": 4,
   "metadata": {},
   "outputs": [
    {
     "name": "stderr",
     "output_type": "stream",
     "text": [
      "100%|██████████| 2/2 [00:01<00:00,  1.46it/s]\n",
      "100%|██████████| 2/2 [00:00<00:00,  2.19it/s]\n"
     ]
    }
   ],
   "source": [
    "df_train = f.import_data(train_date_from, train_date_to, df_path)  \n",
    "df_test = f.import_data(test_date_from, test_date_to, df_path)      \n",
    "\n",
    "# remove nans function TBD   "
   ]
  },
  {
   "attachments": {},
   "cell_type": "markdown",
   "metadata": {},
   "source": [
    "## Mean benchmark"
   ]
  },
  {
   "cell_type": "code",
   "execution_count": 10,
   "metadata": {},
   "outputs": [
    {
     "name": "stdout",
     "output_type": "stream",
     "text": [
      "Mean benchmark RMSE on test set: 0.9105194211006165\n"
     ]
    }
   ],
   "source": [
    "y_predictions_mean = f.model_meanBenchmark(df_train['opt_value'], df_test['opt_value'])\n",
    "print(f\"Mean benchmark RMSE on test set: {f.get_rmse(df_test['opt_value'], y_predictions)}\")"
   ]
  },
  {
   "cell_type": "code",
   "execution_count": 11,
   "metadata": {},
   "outputs": [
    {
     "data": {
      "text/plain": [
       "[<matplotlib.lines.Line2D at 0x7f8324b0bfa0>]"
      ]
     },
     "execution_count": 11,
     "metadata": {},
     "output_type": "execute_result"
    },
    {
     "data": {
      "image/png": "[encoded data removed]",
      "text/plain": [
       "<Figure size 640x480 with 1 Axes>"
      ]
     },
     "metadata": {},
     "output_type": "display_data"
    }
   ],
   "source": [
    "fig = plt.figure(figsize=(4,4))\n",
    "ax = fig.add_subplot(111)\n",
    "\n",
    "ax.scatter(df_test['mw_value'], df_test['opt_value'],  color='blue', alpha = 0.02)\n",
    "ax.plot(df_test['mw_value'], y_predictions_mean, color='red', linewidth=2)\n",
    "# here nans not removeed thus these results"
   ]
  },
  {
   "attachments": {},
   "cell_type": "markdown",
   "metadata": {},
   "source": [
    "## Microwave benchmark"
   ]
  },
  {
   "cell_type": "code",
   "execution_count": 12,
   "metadata": {},
   "outputs": [
    {
     "name": "stdout",
     "output_type": "stream",
     "text": [
      "Microwave benchmark RMSE on test set: 0.9105194211006165\n"
     ]
    }
   ],
   "source": [
    "y_predictions_mw = f.model_mwBenchmark(df_test)\n",
    "print(f\"Microwave benchmark RMSE on test set: {f.get_rmse(df_test['opt_value'], y_predictions_mw)}\")"
   ]
  },
  {
   "cell_type": "code",
   "execution_count": 13,
   "metadata": {},
   "outputs": [
    {
     "data": {
      "text/plain": [
       "[<matplotlib.lines.Line2D at 0x7f8324a9c760>]"
      ]
     },
     "execution_count": 13,
     "metadata": {},
     "output_type": "execute_result"
    },
    {
     "data": {
      "image/png": "[encoded data removed]",
      "text/plain": [
       "<Figure size 400x400 with 1 Axes>"
      ]
     },
     "metadata": {},
     "output_type": "display_data"
    }
   ],
   "source": [
    "fig = plt.figure(figsize=(4,4))\n",
    "ax = fig.add_subplot(111)\n",
    "\n",
    "ax.scatter(df_test['mw_value'], df_test['opt_value'],  color='blue', alpha = 0.02)\n",
    "ax.plot(df_test['mw_value'], y_predictions_mw, color='red', linewidth=2)\n",
    "# here nans not removeed thus these results"
   ]
  },
  {
   "cell_type": "code",
   "execution_count": null,
   "metadata": {},
   "outputs": [],
   "source": [
    "# plot both datasets and show overlap (with grid for melting mw values)"
   ]
  },
  {
   "cell_type": "code",
   "execution_count": 1,
   "metadata": {},
   "outputs": [],
   "source": [
    "import pandas as pd\n",
    "from sklearn.metrics import mean_squared_error, r2_score\n",
    "\n",
    "pd.options.mode.chained_assignment = None\n",
    "\n",
    "import functions_training_pipeline as f"
   ]
  },
  {
   "cell_type": "code",
   "execution_count": 2,
   "metadata": {},
   "outputs": [],
   "source": [
    "df_path = r\"../Data/combined/dataframe_extended/\" # combines added\n",
    "\n",
    "# date_from = \"2017-05-01\"\n",
    "# date_to = \"2019-07-31\"\n",
    "date_from = \"2019-05-01\"\n",
    "date_to = \"2019-05-01\""
   ]
  },
  {
   "cell_type": "code",
   "execution_count": 3,
   "metadata": {},
   "outputs": [
    {
     "name": "stderr",
     "output_type": "stream",
     "text": [
      "100%|██████████| 1/1 [00:01<00:00,  1.53s/it]\n"
     ]
    },
    {
     "name": "stdout",
     "output_type": "stream",
     "text": [
      "Not applicable for feature'mw_value'.\n",
      "Not applicable for feature'col'.\n",
      "Not applicable for feature'row'.\n",
      "Not applicable for feature'date'.\n",
      "Not applicable for feature'mw_value_yesterday'.\n"
     ]
    }
   ],
   "source": [
    "data = f.import_data(date_from, date_to, df_path)\n",
    "data = f.remove_data(data, removeMaskedClouds=True, removeNoMelt=True)\n",
    "data = f.data_normalization(data)"
   ]
  },
  {
   "cell_type": "code",
   "execution_count": 4,
   "metadata": {},
   "outputs": [
    {
     "name": "stdout",
     "output_type": "stream",
     "text": [
      "Mean benchmark\n",
      "Microwave benchmark RMSE on test set: 1.1099820137023926\n",
      "Microwave benchmark R2 on test set: -139.5463290464355\n"
     ]
    }
   ],
   "source": [
    "print(\"Mean benchmark\")\n",
    "mean_benchmark_model = f.Model(model= None, name=\"MeanBenchmark\")\n",
    "columns = ['mw_value']\n",
    "mean_benchmark_model.spatial_cv_mean_benchmark(data, columns)"
   ]
  },
  {
   "cell_type": "code",
   "execution_count": 6,
   "metadata": {},
   "outputs": [
    {
     "name": "stdout",
     "output_type": "stream",
     "text": [
      "Microwave benchmark\n",
      "Microwave benchmark RMSE on test set: 0.09513110667467117\n",
      "Microwave benchmark R2 on test set: -3.3255628336835077\n"
     ]
    }
   ],
   "source": [
    "print(\"Microwave benchmark\")\n",
    "y_predictions_mw = f.model_mwBenchmark(data)\n",
    "print(f\"Microwave benchmark RMSE on test set: {mean_squared_error(data['opt_value'], data['mw_value'])}\")\n",
    "print(f\"Microwave benchmark R2 on test set: {r2_score(data['opt_value'], data['mw_value'])}\")"
   ]
  },
  {
   "cell_type": "code",
   "execution_count": null,
   "metadata": {},
   "outputs": [],
   "source": []
  }
 ],
 "metadata": {
  "kernelspec": {
   "display_name": ".venv",
   "language": "python",
   "name": "python3"
  },
  "language_info": {
   "codemirror_mode": {
    "name": "ipython",
    "version": 3
   },
   "file_extension": ".py",
   "mimetype": "text/x-python",
   "name": "python",
   "nbconvert_exporter": "python",
   "pygments_lexer": "ipython3",
   "version": "3.11.3"
  },
  "orig_nbformat": 4,
  "vscode": {
   "interpreter": {
    "hash": "c1c6eaedbd5b3fcd114378d998a879d4f50715202363f6507059361ed549ecef"
   }
  }
 },
 "nbformat": 4,
 "nbformat_minor": 2
}
