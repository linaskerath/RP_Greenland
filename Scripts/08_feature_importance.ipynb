{
 "cells": [
  {
   "cell_type": "code",
   "execution_count": 1,
   "metadata": {},
   "outputs": [],
   "source": [
    "import functions_model_analysis as f\n",
    "\n",
    "import sys  \n",
    "sys.path.insert(0, '../AWS_Scripts')\n",
    "from functions_training_pipeline import Model"
   ]
  },
  {
   "cell_type": "code",
   "execution_count": null,
   "metadata": {},
   "outputs": [],
   "source": [
    "import pandas as pd\n"
   ]
  },
  {
   "cell_type": "code",
   "execution_count": 3,
   "metadata": {},
   "outputs": [],
   "source": [
    "LR = f.load_object('LinearRegression')"
   ]
  },
  {
   "cell_type": "code",
   "execution_count": 5,
   "metadata": {},
   "outputs": [
    {
     "data": {
      "text/plain": [
       "array([ 0.10252786, -0.01898771, -0.03704107, -0.02498016,  0.39826941,\n",
       "       -0.19585484,  0.04142589,  0.05256518,  0.04796803, -0.13268678,\n",
       "       -1.28554681, -0.00686297, -0.17241545])"
      ]
     },
     "execution_count": 5,
     "metadata": {},
     "output_type": "execute_result"
    }
   ],
   "source": [
    "LR.cv_model_list[0].coef_"
   ]
  },
  {
   "cell_type": "code",
   "execution_count": 6,
   "metadata": {},
   "outputs": [
    {
     "data": {
      "text/plain": [
       "Index(['x', 'y', 'mw_value', 'mean_3', 'mean_9', 'sum_5', 'mw_value_yesterday',\n",
       "       'mw_value_7_day_average', 'hours_of_daylight', 'elevation_data',\n",
       "       'slope_data', 'aspect_data', 'distance_to_margin'],\n",
       "      dtype='object')"
      ]
     },
     "execution_count": 6,
     "metadata": {},
     "output_type": "execute_result"
    }
   ],
   "source": [
    "LR.columns"
   ]
  },
  {
   "cell_type": "code",
   "execution_count": 12,
   "metadata": {},
   "outputs": [
    {
     "data": {
      "text/html": [
       "<div>\n",
       "<style scoped>\n",
       "    .dataframe tbody tr th:only-of-type {\n",
       "        vertical-align: middle;\n",
       "    }\n",
       "\n",
       "    .dataframe tbody tr th {\n",
       "        vertical-align: top;\n",
       "    }\n",
       "\n",
       "    .dataframe thead th {\n",
       "        text-align: right;\n",
       "    }\n",
       "</style>\n",
       "<table border=\"1\" class=\"dataframe\">\n",
       "  <thead>\n",
       "    <tr style=\"text-align: right;\">\n",
       "      <th></th>\n",
       "      <th>Set</th>\n",
       "      <th>RMSE</th>\n",
       "      <th>RMSE_std</th>\n",
       "      <th>R2</th>\n",
       "      <th>R2_std</th>\n",
       "    </tr>\n",
       "  </thead>\n",
       "  <tbody>\n",
       "    <tr>\n",
       "      <th>0</th>\n",
       "      <td>Train</td>\n",
       "      <td>1.147618</td>\n",
       "      <td>0.005629</td>\n",
       "      <td>-29.243561</td>\n",
       "      <td>1.197960</td>\n",
       "    </tr>\n",
       "    <tr>\n",
       "      <th>1</th>\n",
       "      <td>Test</td>\n",
       "      <td>1.165040</td>\n",
       "      <td>0.053978</td>\n",
       "      <td>-31.263287</td>\n",
       "      <td>4.475446</td>\n",
       "    </tr>\n",
       "  </tbody>\n",
       "</table>\n",
       "</div>"
      ],
      "text/plain": [
       "     Set      RMSE  RMSE_std         R2    R2_std\n",
       "0  Train  1.147618  0.005629 -29.243561  1.197960\n",
       "1   Test  1.165040  0.053978 -31.263287  4.475446"
      ]
     },
     "execution_count": 12,
     "metadata": {},
     "output_type": "execute_result"
    }
   ],
   "source": [
    "LR.get_results()"
   ]
  },
  {
   "cell_type": "code",
   "execution_count": 9,
   "metadata": {},
   "outputs": [
    {
     "data": {
      "text/plain": [
       "[('x', 0.10252786062471916),\n",
       " ('y', -0.018987710360833854),\n",
       " ('mw_value', -0.0370410653158838),\n",
       " ('mean_3', -0.024980156018477105),\n",
       " ('mean_9', 0.3982694143113037),\n",
       " ('sum_5', -0.1958548356322259),\n",
       " ('mw_value_yesterday', 0.041425893058854524),\n",
       " ('mw_value_7_day_average', 0.052565178104781146),\n",
       " ('hours_of_daylight', 0.04796802558156488),\n",
       " ('elevation_data', -0.13268677834683026),\n",
       " ('slope_data', -1.2855468096923652),\n",
       " ('aspect_data', -0.006862968582951294),\n",
       " ('distance_to_margin', -0.1724154451290388)]"
      ]
     },
     "execution_count": 9,
     "metadata": {},
     "output_type": "execute_result"
    }
   ],
   "source": [
    "[(a, b) for a, b in zip(LR.columns, LR.cv_model_list[0].coef_)]"
   ]
  },
  {
   "cell_type": "code",
   "execution_count": 13,
   "metadata": {},
   "outputs": [],
   "source": [
    "EN = f.load_object('ElasticNetRegression')"
   ]
  },
  {
   "cell_type": "code",
   "execution_count": 16,
   "metadata": {},
   "outputs": [
    {
     "data": {
      "text/plain": [
       "[('x', 0.0),\n",
       " ('y', -0.0),\n",
       " ('mw_value', 0.0),\n",
       " ('mean_3', 0.0),\n",
       " ('mean_9', 0.0),\n",
       " ('sum_5', 0.0),\n",
       " ('mw_value_yesterday', 0.0),\n",
       " ('mw_value_7_day_average', 0.0),\n",
       " ('hours_of_daylight', 0.0),\n",
       " ('elevation_data', -0.0),\n",
       " ('slope_data', -0.0),\n",
       " ('aspect_data', -0.0),\n",
       " ('distance_to_margin', -0.0)]"
      ]
     },
     "execution_count": 16,
     "metadata": {},
     "output_type": "execute_result"
    }
   ],
   "source": [
    "[(a, b) for a, b in zip(EN.columns, EN.cv_model_list[0].coef_)]"
   ]
  },
  {
   "cell_type": "code",
   "execution_count": 24,
   "metadata": {},
   "outputs": [
    {
     "data": {
      "text/plain": [
       "{'alpha': 0.5,\n",
       " 'copy_X': True,\n",
       " 'fit_intercept': True,\n",
       " 'l1_ratio': 0.1,\n",
       " 'max_iter': 1000,\n",
       " 'positive': False,\n",
       " 'precompute': False,\n",
       " 'random_state': None,\n",
       " 'selection': 'cyclic',\n",
       " 'tol': 0.0001,\n",
       " 'warm_start': False}"
      ]
     },
     "execution_count": 24,
     "metadata": {},
     "output_type": "execute_result"
    }
   ],
   "source": [
    "EN.cv_model_list[0].get_params()"
   ]
  },
  {
   "cell_type": "code",
   "execution_count": 23,
   "metadata": {},
   "outputs": [
    {
     "data": {
      "text/plain": [
       "[{'alpha': 0.5, 'l1_ratio': 0.1},\n",
       " {'alpha': 0.5, 'l1_ratio': 0.3},\n",
       " {'alpha': 0.5, 'l1_ratio': 0.5},\n",
       " {'alpha': 0.5, 'l1_ratio': 0.7},\n",
       " {'alpha': 0.5, 'l1_ratio': 0.9},\n",
       " {'alpha': 1, 'l1_ratio': 0.1},\n",
       " {'alpha': 1, 'l1_ratio': 0.3},\n",
       " {'alpha': 1, 'l1_ratio': 0.5},\n",
       " {'alpha': 1, 'l1_ratio': 0.7},\n",
       " {'alpha': 1, 'l1_ratio': 0.9},\n",
       " {'alpha': 2, 'l1_ratio': 0.1},\n",
       " {'alpha': 2, 'l1_ratio': 0.3},\n",
       " {'alpha': 2, 'l1_ratio': 0.5},\n",
       " {'alpha': 2, 'l1_ratio': 0.7},\n",
       " {'alpha': 2, 'l1_ratio': 0.9},\n",
       " {'alpha': 5, 'l1_ratio': 0.1},\n",
       " {'alpha': 5, 'l1_ratio': 0.3},\n",
       " {'alpha': 5, 'l1_ratio': 0.5},\n",
       " {'alpha': 5, 'l1_ratio': 0.7},\n",
       " {'alpha': 5, 'l1_ratio': 0.9},\n",
       " {'alpha': 10, 'l1_ratio': 0.1},\n",
       " {'alpha': 10, 'l1_ratio': 0.3},\n",
       " {'alpha': 10, 'l1_ratio': 0.5},\n",
       " {'alpha': 10, 'l1_ratio': 0.7},\n",
       " {'alpha': 10, 'l1_ratio': 0.9}]"
      ]
     },
     "execution_count": 23,
     "metadata": {},
     "output_type": "execute_result"
    }
   ],
   "source": [
    "EN.cv_model_list[0]"
   ]
  },
  {
   "cell_type": "code",
   "execution_count": 15,
   "metadata": {},
   "outputs": [
    {
     "data": {
      "text/html": [
       "<div>\n",
       "<style scoped>\n",
       "    .dataframe tbody tr th:only-of-type {\n",
       "        vertical-align: middle;\n",
       "    }\n",
       "\n",
       "    .dataframe tbody tr th {\n",
       "        vertical-align: top;\n",
       "    }\n",
       "\n",
       "    .dataframe thead th {\n",
       "        text-align: right;\n",
       "    }\n",
       "</style>\n",
       "<table border=\"1\" class=\"dataframe\">\n",
       "  <thead>\n",
       "    <tr style=\"text-align: right;\">\n",
       "      <th></th>\n",
       "      <th>Set</th>\n",
       "      <th>RMSE</th>\n",
       "      <th>RMSE_std</th>\n",
       "      <th>R2</th>\n",
       "      <th>R2_std</th>\n",
       "    </tr>\n",
       "  </thead>\n",
       "  <tbody>\n",
       "    <tr>\n",
       "      <th>0</th>\n",
       "      <td>Train</td>\n",
       "      <td>1.140634</td>\n",
       "      <td>0.005313</td>\n",
       "      <td>-29.061315</td>\n",
       "      <td>1.193414</td>\n",
       "    </tr>\n",
       "    <tr>\n",
       "      <th>1</th>\n",
       "      <td>Test</td>\n",
       "      <td>1.145251</td>\n",
       "      <td>0.054598</td>\n",
       "      <td>-31.159041</td>\n",
       "      <td>6.774506</td>\n",
       "    </tr>\n",
       "  </tbody>\n",
       "</table>\n",
       "</div>"
      ],
      "text/plain": [
       "     Set      RMSE  RMSE_std         R2    R2_std\n",
       "0  Train  1.140634  0.005313 -29.061315  1.193414\n",
       "1   Test  1.145251  0.054598 -31.159041  6.774506"
      ]
     },
     "execution_count": 15,
     "metadata": {},
     "output_type": "execute_result"
    }
   ],
   "source": [
    "EN.get_results()"
   ]
  },
  {
   "cell_type": "code",
   "execution_count": 29,
   "metadata": {},
   "outputs": [],
   "source": [
    "# import models:\n",
    "from sklearn.tree import DecisionTreeRegressor\n",
    "from sklearn.ensemble import RandomForestRegressor\n",
    "from sklearn.linear_model import LinearRegression\n",
    "from sklearn.linear_model import Ridge\n",
    "from sklearn.linear_model import Lasso\n",
    "from sklearn.linear_model import ElasticNet\n",
    "from sklearn.ensemble import GradientBoostingRegressor\n",
    "\n",
    "import numpy as np"
   ]
  },
  {
   "cell_type": "code",
   "execution_count": 44,
   "metadata": {},
   "outputs": [],
   "source": [
    "def feature_importance_dict(model, columns):\n",
    "    \"\"\"\n",
    "    Function to plot feature importance.\n",
    "    \"\"\"\n",
    "    # columns = model.columns\n",
    "    # model = model.cv_model_list[0]\n",
    "\n",
    "    if isinstance(model, DecisionTreeRegressor):\n",
    "        feature_importance = model.feature_importances_\n",
    "    elif isinstance(model, RandomForestRegressor):\n",
    "        feature_importance = model.feature_importances_\n",
    "    elif isinstance(model, GradientBoostingRegressor):\n",
    "        feature_importance = model.feature_importances_\n",
    "    elif isinstance(model, LinearRegression):\n",
    "        feature_importance = model.coef_\n",
    "    elif isinstance(model, Ridge):\n",
    "        feature_importance = np.abs(model.coef_)\n",
    "    elif isinstance(model, Lasso):\n",
    "        feature_importance = np.abs(model.coef_)\n",
    "    elif isinstance(model, ElasticNet):\n",
    "        feature_importance = np.abs(model.coef_)\n",
    "    else:\n",
    "        print(\"model not supported\")\n",
    "        assert False\n",
    "\n",
    "    feature_importance_dict = dict(zip(columns, feature_importance))\n",
    "\n",
    "    return feature_importance_dict\n",
    "\n"
   ]
  },
  {
   "cell_type": "code",
   "execution_count": 67,
   "metadata": {},
   "outputs": [],
   "source": [
    "def plot_feature_importance(model):\n",
    "    \"\"\" Plot mean feature importance over 5 cv models with std.\n",
    "    \"\"\"\n",
    "    feature_importance_df = []\n",
    "    for mod in model.cv_model_list:\n",
    "        feature_importance = feature_importance_dict(mod, model.columns)\n",
    "        if len(feature_importance_df) == 0:\n",
    "            feature_importance_df = pd.DataFrame(feature_importance, index=[0])\n",
    "        else:\n",
    "            feature_importance_df = feature_importance_df.append(feature_importance, ignore_index=True)\n",
    "    \n",
    "    # plot feature mean feature importance as bar plot with std: \n",
    "    feature_importance_df.mean().plot.bar(yerr=feature_importance_df.std(), capsize=5)\n",
    "    "
   ]
  },
  {
   "cell_type": "code",
   "execution_count": 69,
   "metadata": {},
   "outputs": [],
   "source": [
    "import matplotlib.pyplot as plt"
   ]
  },
  {
   "cell_type": "code",
   "execution_count": 72,
   "metadata": {},
   "outputs": [],
   "source": [
    "import matplotlib.pyplot as plt\n",
    "import numpy as np\n",
    "\n",
    "def plot_feature_importance2(model):\n",
    "    \"\"\" Plot mean feature importance over 5 cv models with std.\n",
    "    \"\"\"\n",
    "    feature_importance_df = []\n",
    "    for mod in model.cv_model_list:\n",
    "        feature_importance = feature_importance_dict(mod, model.columns)\n",
    "        if len(feature_importance_df) == 0:\n",
    "            feature_importance_df = pd.DataFrame(feature_importance, index=[0])\n",
    "        else:\n",
    "            feature_importance_df = feature_importance_df.append(feature_importance, ignore_index=True)\n",
    "\n",
    "    # sort features by mean importance in descending order by absolute value\n",
    "    mean_importances = feature_importance_df.mean()\n",
    "    sorted_indices = np.argsort(np.abs(mean_importances))[::-1]\n",
    "    mean_importances = mean_importances[sorted_indices]\n",
    "    feature_names = np.array(mean_importances.index)[sorted_indices]\n",
    "\n",
    "    # assign colors to positive and negative features\n",
    "    colors = ['red' if imp < 0 else 'green' for imp in mean_importances]\n",
    "\n",
    "    # plot mean feature importance as bar plot with std\n",
    "    fig, ax = plt.subplots()\n",
    "    ax.bar(feature_names, mean_importances, yerr=feature_importance_df.std(), capsize=5, color=colors)\n",
    "    ax.set_xlabel('Feature')\n",
    "    ax.set_ylabel('Mean Importance')\n",
    "    ax.set_title('Feature Importance')\n",
    "    ax.tick_params(axis='x', rotation=90)\n",
    "\n",
    "    plt.show()\n"
   ]
  },
  {
   "cell_type": "code",
   "execution_count": 74,
   "metadata": {},
   "outputs": [
    {
     "data": {
      "text/plain": [
       "Index(['x', 'y', 'mw_value', 'mean_3', 'mean_9', 'sum_5', 'mw_value_yesterday',\n",
       "       'mw_value_7_day_average', 'hours_of_daylight', 'elevation_data',\n",
       "       'slope_data', 'aspect_data', 'distance_to_margin'],\n",
       "      dtype='object')"
      ]
     },
     "execution_count": 74,
     "metadata": {},
     "output_type": "execute_result"
    }
   ],
   "source": [
    "LR.columns"
   ]
  },
  {
   "cell_type": "code",
   "execution_count": 68,
   "metadata": {},
   "outputs": [
    {
     "name": "stderr",
     "output_type": "stream",
     "text": [
      "/tmp/ipykernel_718/3682944809.py:10: FutureWarning: The frame.append method is deprecated and will be removed from pandas in a future version. Use pandas.concat instead.\n",
      "  feature_importance_df = feature_importance_df.append(feature_importance, ignore_index=True)\n",
      "/tmp/ipykernel_718/3682944809.py:10: FutureWarning: The frame.append method is deprecated and will be removed from pandas in a future version. Use pandas.concat instead.\n",
      "  feature_importance_df = feature_importance_df.append(feature_importance, ignore_index=True)\n",
      "/tmp/ipykernel_718/3682944809.py:10: FutureWarning: The frame.append method is deprecated and will be removed from pandas in a future version. Use pandas.concat instead.\n",
      "  feature_importance_df = feature_importance_df.append(feature_importance, ignore_index=True)\n",
      "/tmp/ipykernel_718/3682944809.py:10: FutureWarning: The frame.append method is deprecated and will be removed from pandas in a future version. Use pandas.concat instead.\n",
      "  feature_importance_df = feature_importance_df.append(feature_importance, ignore_index=True)\n"
     ]
    },
    {
     "data": {
      "image/png": "[encoded data removed]",
      "text/plain": [
       "<Figure size 640x480 with 1 Axes>"
      ]
     },
     "metadata": {},
     "output_type": "display_data"
    }
   ],
   "source": [
    "plot_feature_importance(LR)"
   ]
  },
  {
   "cell_type": "code",
   "execution_count": 73,
   "metadata": {},
   "outputs": [
    {
     "name": "stderr",
     "output_type": "stream",
     "text": [
      "/tmp/ipykernel_718/3850088050.py:13: FutureWarning: The frame.append method is deprecated and will be removed from pandas in a future version. Use pandas.concat instead.\n",
      "  feature_importance_df = feature_importance_df.append(feature_importance, ignore_index=True)\n",
      "/tmp/ipykernel_718/3850088050.py:13: FutureWarning: The frame.append method is deprecated and will be removed from pandas in a future version. Use pandas.concat instead.\n",
      "  feature_importance_df = feature_importance_df.append(feature_importance, ignore_index=True)\n",
      "/tmp/ipykernel_718/3850088050.py:13: FutureWarning: The frame.append method is deprecated and will be removed from pandas in a future version. Use pandas.concat instead.\n",
      "  feature_importance_df = feature_importance_df.append(feature_importance, ignore_index=True)\n",
      "/tmp/ipykernel_718/3850088050.py:13: FutureWarning: The frame.append method is deprecated and will be removed from pandas in a future version. Use pandas.concat instead.\n",
      "  feature_importance_df = feature_importance_df.append(feature_importance, ignore_index=True)\n"
     ]
    },
    {
     "data": {
      "image/png": "[encoded data removed]",
      "text/plain": [
       "<Figure size 640x480 with 1 Axes>"
      ]
     },
     "metadata": {},
     "output_type": "display_data"
    }
   ],
   "source": [
    "plot_feature_importance2(LR)"
   ]
  },
  {
   "cell_type": "code",
   "execution_count": null,
   "metadata": {},
   "outputs": [],
   "source": []
  }
 ],
 "metadata": {
  "kernelspec": {
   "display_name": ".venv",
   "language": "python",
   "name": "python3"
  },
  "language_info": {
   "codemirror_mode": {
    "name": "ipython",
    "version": 3
   },
   "file_extension": ".py",
   "mimetype": "text/x-python",
   "name": "python",
   "nbconvert_exporter": "python",
   "pygments_lexer": "ipython3",
   "version": "3.9.14"
  },
  "orig_nbformat": 4
 },
 "nbformat": 4,
 "nbformat_minor": 2
}
