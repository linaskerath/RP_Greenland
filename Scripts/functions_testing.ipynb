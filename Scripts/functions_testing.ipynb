{
 "cells": [
  {
   "attachments": {},
   "cell_type": "markdown",
   "metadata": {},
   "source": [
    "# Functions testing"
   ]
  },
  {
   "attachments": {},
   "cell_type": "markdown",
   "metadata": {},
   "source": [
    "## Research Project 2022"
   ]
  },
  {
   "cell_type": "code",
   "execution_count": null,
   "metadata": {},
   "outputs": [],
   "source": [
    "import xarray \n",
    "import pandas as pd\n",
    "import numpy as np\n",
    "from sklearn.metrics import mean_squared_error\n"
   ]
  },
  {
   "cell_type": "code",
   "execution_count": null,
   "metadata": {},
   "outputs": [],
   "source": [
    "def write_to_tif(data):\n",
    "    \"\"\"\n",
    "    Function to convert data to tif file.\n",
    "    Arguments:\n",
    "        data:\n",
    "    Returns:\n",
    "        tif file\n",
    "    \"\"\"\n",
    "    #if type data\n",
    "    return"
   ]
  },
  {
   "cell_type": "code",
   "execution_count": null,
   "metadata": {},
   "outputs": [],
   "source": [
    "def read_and_prep_parquet(path, purpose):\n",
    "    \"\"\"\n",
    "    Function to read parquet and prepare as train or test data.\n",
    "    Arguments:\n",
    "        path: path to file.\n",
    "        purpose: {'train', 'test', 'validate', 'predict'} purpose of file.\n",
    "    Returns: train/test dataset and label array (specify output datatype!)\n",
    "    \"\"\"\n",
    "    valid = {'train', 'test', 'validate', 'predict'}\n",
    "    if purpose not in valid:\n",
    "        raise ValueError(\"Purpose must be one of %r.\" % valid)\n",
    "\n",
    "    df = pd.read_parquet(path)\n",
    "    if purpose in ['train', 'test', 'validate']:\n",
    "        df = df.loc[df['opt_value'] != -1] # remove mask\n",
    "        df = df.fillna(-1) # fill values to be able to train\n",
    "        X = df[['x', 'y', 'mw_value', 'col', 'row', 'v1', 'v2', 'v3', 'v4', 'v6', 'v7', 'v8', 'v9', 'mean', 'elevation_data']] # v5 is duplicated\n",
    "        y = df[['opt_value']]\n",
    "        return X, y\n",
    "    else:\n",
    "        df = df.fillna(-1) # fill values to be able to train\n",
    "        X = df[['x', 'y', 'mw_value', 'col', 'row', 'v1', 'v2', 'v3', 'v4', 'v6', 'v7', 'v8', 'v9', 'mean', 'elevation_data']] # v5 is duplicated\n",
    "        return X"
   ]
  },
  {
   "cell_type": "code",
   "execution_count": null,
   "metadata": {},
   "outputs": [],
   "source": [
    "def get_rmse(y_real, y_predicted):\n",
    "    return np.sqrt(mean_squared_error(y_real, y_predicted))\n"
   ]
  },
  {
   "cell_type": "code",
   "execution_count": 2,
   "metadata": {},
   "outputs": [],
   "source": [
    "import xarray\n",
    "path_elevation =  r\"../Data/elevation_data/gimpdem_1km_compressed.tif\"\n",
    "data_elevation = xarray.open_dataarray(path_elevation)"
   ]
  },
  {
   "cell_type": "code",
   "execution_count": 19,
   "metadata": {},
   "outputs": [
    {
     "name": "stdout",
     "output_type": "stream",
     "text": [
      "BOUNDS:\n",
      "    BoundingBox(left=-637000.0, bottom=-3349000.0, right=850000.0, top=-662000.0)\n",
      "METADATA:\n",
      "    {'driver': 'GTiff', 'dtype': 'int16', 'nodata': None, 'width': 1487, 'height': 2687, 'count': 1, 'crs': CRS.from_epsg(3413), 'transform': Affine(1000.0, 0.0, -637000.0,\n",
      "       0.0, -1000.0, -662000.0)}\n",
      "MORE CRS INFO:\n",
      "    PROJCS[\"WGS 84 / NSIDC Sea Ice Polar Stereographic North\",GEOGCS[\"WGS 84\",DATUM[\"WGS_1984\",SPHEROID[\"WGS 84\",6378137,298.257223563,AUTHORITY[\"EPSG\",\"7030\"]],AUTHORITY[\"EPSG\",\"6326\"]],PRIMEM[\"Greenwich\",0,AUTHORITY[\"EPSG\",\"8901\"]],UNIT[\"degree\",0.0174532925199433,AUTHORITY[\"EPSG\",\"9122\"]],AUTHORITY[\"EPSG\",\"4326\"]],PROJECTION[\"Polar_Stereographic\"],PARAMETER[\"latitude_of_origin\",70],PARAMETER[\"central_meridian\",-45],PARAMETER[\"false_easting\",0],PARAMETER[\"false_northing\",0],UNIT[\"metre\",1,AUTHORITY[\"EPSG\",\"9001\"]],AXIS[\"Easting\",SOUTH],AXIS[\"Northing\",SOUTH],AUTHORITY[\"EPSG\",\"3413\"]]\n",
      "RESOLUTION:\n",
      "    (1000.0, -1000.0)\n"
     ]
    }
   ],
   "source": [
    "import rasterio\n",
    "\n",
    "def information(path_to_file):\n",
    "    with rasterio.open(path_elevation) as src:\n",
    "        print('BOUNDS:')\n",
    "        print(f'    {src.bounds}')\n",
    "        print('METADATA:')\n",
    "        print(f'    {src.meta}')\n",
    "        #print(src.crs)\n",
    "\n",
    "    data = xarray.open_dataarray(path_elevation)\n",
    "    print('MORE CRS INFO:')\n",
    "    print(f'    {data.spatial_ref.crs_wkt}')\n",
    "    print('RESOLUTION:')\n",
    "    print(f'    {data.rio.resolution()}')\n",
    "\n",
    "    return\n",
    "\n",
    "\n",
    "# ----band data:----\n",
    "# raster = rasterio.open(optical_path) #,masked=True)\n",
    "#band_arr = raster.read(band_id) "
   ]
  },
  {
   "attachments": {},
   "cell_type": "markdown",
   "metadata": {},
   "source": [
    "## Thesis 2023"
   ]
  },
  {
   "cell_type": "code",
   "execution_count": 1,
   "metadata": {},
   "outputs": [],
   "source": [
    "import pandas as pd\n",
    "from sklearn.model_selection import TimeSeriesSplit\n",
    "from sklearn.tree import DecisionTreeRegressor\n",
    "\n",
    "import numpy as np\n",
    "from sklearn.metrics import mean_squared_error\n",
    "\n",
    "from tqdm import tqdm\n",
    "\n",
    "df_path = r\"../Data/combined/dataframe_extended/\"\n",
    "\n",
    "date_from = '2019-07-01'\n",
    "date_to = '2019-07-02'"
   ]
  },
  {
   "attachments": {},
   "cell_type": "markdown",
   "metadata": {},
   "source": [
    "- imports\n",
    "- paths\n",
    "- import data\n",
    "- join all files/days to one df\n",
    "- prep data\n",
    "- periods? (have defined preiods or not?)\n",
    "- train-test split or do 5-fold cv - do time split:\n",
    "    - train data for cv candidate models and compare and choose best (both best hyperparameters and best model)\n",
    "    print train scores as well as test scores in cv to track overfitting. \n",
    "    - test set to have a test score. (train on all train data) \n",
    "\n"
   ]
  },
  {
   "cell_type": "code",
   "execution_count": 3,
   "metadata": {},
   "outputs": [],
   "source": [
    "def import_data(date_from, date_to):\n",
    "    date_range = pd.date_range(date_from, date_to) # both ends included\n",
    "    date_range = [str(day.date()) for day in date_range]\n",
    "    df_list = []\n",
    "\n",
    "    for melt_date in tqdm(date_range):\n",
    "        try: # bc some days are empty\n",
    "            file = pd.read_parquet(df_path + 'melt_'+ melt_date + '_extended.parquet.gzip', index= False) \n",
    "            # join all to one df:\n",
    "            df_list.append(file)\n",
    "        except:\n",
    "            continue\n",
    "\n",
    "    df = pd.concat(df_list, axis=0)\n",
    "    del df_list\n",
    "    # check if dates have propper values now (from engineering - not hardcoded)\n",
    "    return df"
   ]
  },
  {
   "cell_type": "code",
   "execution_count": 4,
   "metadata": {},
   "outputs": [
    {
     "name": "stderr",
     "output_type": "stream",
     "text": [
      "100%|██████████| 2/2 [00:01<00:00,  1.43it/s]\n"
     ]
    }
   ],
   "source": [
    "df = import_data(date_from, date_to)"
   ]
  },
  {
   "cell_type": "code",
   "execution_count": 5,
   "metadata": {},
   "outputs": [],
   "source": [
    "df=df[['mw_value', 'opt_value', 'date', 'mean']]"
   ]
  },
  {
   "cell_type": "code",
   "execution_count": null,
   "metadata": {},
   "outputs": [],
   "source": [
    "def remove_data():\n",
    "    # remove -1 from mw\n",
    "    # remove nan from optical\n",
    "    # remove bare ice\n",
    "    # check if all aggregations are num (not nan)\n",
    "    return"
   ]
  },
  {
   "cell_type": "code",
   "execution_count": null,
   "metadata": {},
   "outputs": [],
   "source": [
    "def data_prep():\n",
    "    # any data prep?\n",
    "    return"
   ]
  },
  {
   "cell_type": "code",
   "execution_count": 11,
   "metadata": {},
   "outputs": [],
   "source": [
    "def cross_validation(train_df, columns, train_func, n_splits = 5, hyperparameters = None):\n",
    "    \n",
    "    train_df.sort_values(by=['date'], inplace = True) # sort df by time\n",
    "    X = train_df[columns]\n",
    "    y = train_df[[\"opt_value\"]]\n",
    "\n",
    "    train_rmse_list = []\n",
    "    test_rmse_list = []\n",
    "    tscv = TimeSeriesSplit(n_splits = n_splits)\n",
    "\n",
    "    for train_index, test_index in tqdm(tscv.split(X)):\n",
    "    #for i, (train_index, test_index) in enumerate(tscv.split(X)):\n",
    "        # print(f\"Fold {i}:\")\n",
    "        X_train = X.iloc[train_index]\n",
    "        y_train = y.iloc[train_index]\n",
    "        X_test  = X.iloc[test_index]\n",
    "        y_test  = y.iloc[test_index]\n",
    "\n",
    "        # train and evaluate\n",
    "        train_rmse, test_rmse = train_func(X_train, y_train, X_test, y_test, hyperparameters)\n",
    "        train_rmse_list.append(train_rmse)\n",
    "        test_rmse_list.append(test_rmse)\n",
    "\n",
    "    return train_rmse_list, test_rmse_list"
   ]
  },
  {
   "cell_type": "code",
   "execution_count": 17,
   "metadata": {},
   "outputs": [],
   "source": [
    "def train_decisionTree(X_train, y_train, X_test, y_test, hyperparameters = None):\n",
    "    \n",
    "    \n",
    "    if hyperparameters:\n",
    "        regressor = DecisionTreeRegressor(**hyperparameters)\n",
    "    else:\n",
    "        regressor = DecisionTreeRegressor(random_state=0)\n",
    "\n",
    "    regressor.fit(X_train, y_train)\n",
    "    y_predicted_train = regressor.predict(X_train)\n",
    "    y_predicted_test = regressor.predict(X_test)\n",
    "    \n",
    "    rmse_train = get_rmse(y_train, y_predicted_train)\n",
    "    rmse_test = get_rmse(y_test, y_predicted_test)\n",
    "\n",
    "    return rmse_train, rmse_test\n",
    "\n"
   ]
  },
  {
   "cell_type": "code",
   "execution_count": 18,
   "metadata": {},
   "outputs": [],
   "source": [
    "def hyperparameter_tune():\n",
    "    # define grid (if grid)\n",
    "    # do cv for each??? - maybe less splits?\n",
    "    # define hyperparameters as a dictionary eg: dt_params = {'max_depth':7, 'criterion': 'squared_error'}\n",
    "    return"
   ]
  },
  {
   "cell_type": "code",
   "execution_count": 13,
   "metadata": {},
   "outputs": [],
   "source": [
    "def get_rmse(y_real, y_predicted):\n",
    "    return np.sqrt(mean_squared_error(y_real, y_predicted))"
   ]
  },
  {
   "cell_type": "code",
   "execution_count": null,
   "metadata": {},
   "outputs": [],
   "source": [
    "def plot_results():\n",
    "    return"
   ]
  },
  {
   "cell_type": "code",
   "execution_count": 21,
   "metadata": {},
   "outputs": [],
   "source": [
    "def calculate_sum(numbers):\n",
    "    \"\"\"\n",
    "    Calculates the sum of a list of numbers.\n",
    "\n",
    "    Args:\n",
    "        numbers (list): A list of integers or floats.\n",
    "\n",
    "    Returns:\n",
    "        float: The sum of the numbers in the list.\n",
    "\n",
    "    Raises:\n",
    "        TypeError: If any element in the list is not an integer or float.\n",
    "\n",
    "    Examples:\n",
    "        >>> calculate_sum([1, 2, 3])\n",
    "        6.0\n",
    "        >>> calculate_sum([1.5, 2.5, 3.5])\n",
    "        7.5\n",
    "        >>> calculate_sum([1, '2', 3])\n",
    "        Traceback (most recent call last):\n",
    "          File \"<stdin>\", line 1, in <module>\n",
    "          File \"<stdin>\", line 11, in calculate_sum\n",
    "        TypeError: 'str' object is not a number\n",
    "    \"\"\"\n",
    "    total = 0\n",
    "    for number in numbers:\n",
    "        if isinstance(number, (int, float)):\n",
    "            total += number\n",
    "        else:\n",
    "            raise TypeError(\"'{}' object is not a number\".format(type(number).__name__))\n",
    "    return float(total)\n"
   ]
  },
  {
   "cell_type": "code",
   "execution_count": null,
   "metadata": {},
   "outputs": [],
   "source": []
  },
  {
   "cell_type": "code",
   "execution_count": null,
   "metadata": {},
   "outputs": [],
   "source": []
  },
  {
   "cell_type": "code",
   "execution_count": null,
   "metadata": {},
   "outputs": [],
   "source": []
  },
  {
   "cell_type": "code",
   "execution_count": null,
   "metadata": {},
   "outputs": [],
   "source": [
    "def convert_to_tif(data, path_file_metadata, path_out):\n",
    "    \"\"\"\n",
    "    Function to convert data to tif file.\n",
    "    Arguments:\n",
    "        data: new file\n",
    "        path_file_metadata: tif file with metadata matching expected output tif file\n",
    "        path_out: output tif file destination and name path\n",
    "    Returns:\n",
    "        .tif file\n",
    "    \"\"\"\n",
    "    with rasterio.open(path_file_metadata) as src:\n",
    "        kwargs1 = src.meta.copy()\n",
    "\n",
    "    with rasterio.open(path_out, \"w\", **kwargs1) as dst:\n",
    "        dst.write_band(1, data)  # numpy array or xarray\n",
    "    return"
   ]
  },
  {
   "cell_type": "code",
   "execution_count": null,
   "metadata": {},
   "outputs": [],
   "source": [
    "def save_prediction_tif(X_pred, y_predicted, path_out):\n",
    "    \"\"\"\n",
    "    Function to write predictions to .tif.\n",
    "    Arguments:\n",
    "        X_pred: data to be predicted on.\n",
    "        y_predicted: predicted labels in array, or pandas series.\n",
    "        path_out: path to save .tif file with file name.\n",
    "    Returns: No return, writes data to path.\n",
    "    \"\"\"\n",
    "    # join prediction and coordinates (row, col)\n",
    "    X_pred[\"prediction\"] = y_predicted\n",
    "\n",
    "    # original matrix shape:\n",
    "    nan_matrix = np.full((2663, 1462), np.nan)\n",
    "\n",
    "    for row in tqdm(X_pred.iterrows()):  # fix progress bar?\n",
    "        row_index = int(row[1][\"row\"])\n",
    "        col_index = int(row[1][\"col\"])\n",
    "        pred_val = row[1][\"prediction\"]\n",
    "        nan_matrix[row_index][col_index] = pred_val\n",
    "\n",
    "    # file to take reference metadata from is interpolated transformed file\n",
    "    path_metadata_reference = r\"../Data/microwave-rs/mw_interpolated/2019-07-01_mw.tif\"\n",
    "\n",
    "    convert_to_tif(nan_matrix, path_metadata_reference, path_out)\n",
    "\n",
    "    return\n"
   ]
  },
  {
   "cell_type": "code",
   "execution_count": null,
   "metadata": {},
   "outputs": [],
   "source": [
    "def sum_list_items(_list):\n",
    "    total = 0\n",
    "\n",
    "    def do_the_sum(_list):\n",
    "        for i in _list:\n",
    "            total += i\n",
    "\n",
    "    do_the_sum(_list)\n",
    "\n",
    "    return total\n",
    "\n",
    "sum_list_items([1, 2, 3])"
   ]
  },
  {
   "cell_type": "code",
   "execution_count": 3,
   "metadata": {},
   "outputs": [
    {
     "data": {
      "text/plain": [
       "6"
      ]
     },
     "execution_count": 3,
     "metadata": {},
     "output_type": "execute_result"
    }
   ],
   "source": [
    "def sum_list_items(_list):\n",
    "    total = 0\n",
    "\n",
    "    def do_the_sum(_list):\n",
    "\n",
    "        # Define the total variable as non-local, causing it to bind\n",
    "        # to the nearest non-global variable also called total.\n",
    "        nonlocal total\n",
    "\n",
    "        for i in _list:\n",
    "            total += i\n",
    "\n",
    "    do_the_sum(_list)\n",
    "\n",
    "    return total\n",
    "\n",
    "sum_list_items([1, 2, 3])"
   ]
  }
 ],
 "metadata": {
  "kernelspec": {
   "display_name": "Python 3.9.14 ('.venv': poetry)",
   "language": "python",
   "name": "python3"
  },
  "language_info": {
   "codemirror_mode": {
    "name": "ipython",
    "version": 3
   },
   "file_extension": ".py",
   "mimetype": "text/x-python",
   "name": "python",
   "nbconvert_exporter": "python",
   "pygments_lexer": "ipython3",
   "version": "3.9.14"
  },
  "orig_nbformat": 4,
  "vscode": {
   "interpreter": {
    "hash": "c1c6eaedbd5b3fcd114378d998a879d4f50715202363f6507059361ed549ecef"
   }
  }
 },
 "nbformat": 4,
 "nbformat_minor": 2
}
