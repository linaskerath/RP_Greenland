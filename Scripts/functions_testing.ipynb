{
 "cells": [
  {
   "attachments": {},
   "cell_type": "markdown",
   "metadata": {},
   "source": [
    "# Functions testing"
   ]
  },
  {
   "attachments": {},
   "cell_type": "markdown",
   "metadata": {},
   "source": [
    "## Research Project 2022"
   ]
  },
  {
   "cell_type": "code",
   "execution_count": null,
   "metadata": {},
   "outputs": [],
   "source": [
    "import xarray \n",
    "import pandas as pd\n",
    "import numpy as np\n",
    "from sklearn.metrics import mean_squared_error\n"
   ]
  },
  {
   "cell_type": "code",
   "execution_count": null,
   "metadata": {},
   "outputs": [],
   "source": [
    "def write_to_tif(data):\n",
    "    \"\"\"\n",
    "    Function to convert data to tif file.\n",
    "    Arguments:\n",
    "        data:\n",
    "    Returns:\n",
    "        tif file\n",
    "    \"\"\"\n",
    "    #if type data\n",
    "    return"
   ]
  },
  {
   "cell_type": "code",
   "execution_count": null,
   "metadata": {},
   "outputs": [],
   "source": [
    "def read_and_prep_parquet(path, purpose):\n",
    "    \"\"\"\n",
    "    Function to read parquet and prepare as train or test data.\n",
    "    Arguments:\n",
    "        path: path to file.\n",
    "        purpose: {'train', 'test', 'validate', 'predict'} purpose of file.\n",
    "    Returns: train/test dataset and label array (specify output datatype!)\n",
    "    \"\"\"\n",
    "    valid = {'train', 'test', 'validate', 'predict'}\n",
    "    if purpose not in valid:\n",
    "        raise ValueError(\"Purpose must be one of %r.\" % valid)\n",
    "\n",
    "    df = pd.read_parquet(path)\n",
    "    if purpose in ['train', 'test', 'validate']:\n",
    "        df = df.loc[df['opt_value'] != -1] # remove mask\n",
    "        df = df.fillna(-1) # fill values to be able to train\n",
    "        X = df[['x', 'y', 'mw_value', 'col', 'row', 'v1', 'v2', 'v3', 'v4', 'v6', 'v7', 'v8', 'v9', 'mean', 'elevation_data']] # v5 is duplicated\n",
    "        y = df[['opt_value']]\n",
    "        return X, y\n",
    "    else:\n",
    "        df = df.fillna(-1) # fill values to be able to train\n",
    "        X = df[['x', 'y', 'mw_value', 'col', 'row', 'v1', 'v2', 'v3', 'v4', 'v6', 'v7', 'v8', 'v9', 'mean', 'elevation_data']] # v5 is duplicated\n",
    "        return X"
   ]
  },
  {
   "cell_type": "code",
   "execution_count": null,
   "metadata": {},
   "outputs": [],
   "source": [
    "def get_rmse(y_real, y_predicted):\n",
    "    return np.sqrt(mean_squared_error(y_real, y_predicted))\n"
   ]
  },
  {
   "cell_type": "code",
   "execution_count": 2,
   "metadata": {},
   "outputs": [],
   "source": [
    "import xarray\n",
    "path_elevation =  r\"../Data/elevation_data/gimpdem_1km_compressed.tif\"\n",
    "data_elevation = xarray.open_dataarray(path_elevation)"
   ]
  },
  {
   "cell_type": "code",
   "execution_count": 19,
   "metadata": {},
   "outputs": [
    {
     "name": "stdout",
     "output_type": "stream",
     "text": [
      "BOUNDS:\n",
      "    BoundingBox(left=-637000.0, bottom=-3349000.0, right=850000.0, top=-662000.0)\n",
      "METADATA:\n",
      "    {'driver': 'GTiff', 'dtype': 'int16', 'nodata': None, 'width': 1487, 'height': 2687, 'count': 1, 'crs': CRS.from_epsg(3413), 'transform': Affine(1000.0, 0.0, -637000.0,\n",
      "       0.0, -1000.0, -662000.0)}\n",
      "MORE CRS INFO:\n",
      "    PROJCS[\"WGS 84 / NSIDC Sea Ice Polar Stereographic North\",GEOGCS[\"WGS 84\",DATUM[\"WGS_1984\",SPHEROID[\"WGS 84\",6378137,298.257223563,AUTHORITY[\"EPSG\",\"7030\"]],AUTHORITY[\"EPSG\",\"6326\"]],PRIMEM[\"Greenwich\",0,AUTHORITY[\"EPSG\",\"8901\"]],UNIT[\"degree\",0.0174532925199433,AUTHORITY[\"EPSG\",\"9122\"]],AUTHORITY[\"EPSG\",\"4326\"]],PROJECTION[\"Polar_Stereographic\"],PARAMETER[\"latitude_of_origin\",70],PARAMETER[\"central_meridian\",-45],PARAMETER[\"false_easting\",0],PARAMETER[\"false_northing\",0],UNIT[\"metre\",1,AUTHORITY[\"EPSG\",\"9001\"]],AXIS[\"Easting\",SOUTH],AXIS[\"Northing\",SOUTH],AUTHORITY[\"EPSG\",\"3413\"]]\n",
      "RESOLUTION:\n",
      "    (1000.0, -1000.0)\n"
     ]
    }
   ],
   "source": [
    "import rasterio\n",
    "\n",
    "def information(path_to_file):\n",
    "    with rasterio.open(path_elevation) as src:\n",
    "        print('BOUNDS:')\n",
    "        print(f'    {src.bounds}')\n",
    "        print('METADATA:')\n",
    "        print(f'    {src.meta}')\n",
    "        #print(src.crs)\n",
    "\n",
    "    data = xarray.open_dataarray(path_elevation)\n",
    "    print('MORE CRS INFO:')\n",
    "    print(f'    {data.spatial_ref.crs_wkt}')\n",
    "    print('RESOLUTION:')\n",
    "    print(f'    {data.rio.resolution()}')\n",
    "\n",
    "    return\n",
    "\n",
    "\n",
    "# ----band data:----\n",
    "# raster = rasterio.open(optical_path) #,masked=True)\n",
    "#band_arr = raster.read(band_id) "
   ]
  },
  {
   "attachments": {},
   "cell_type": "markdown",
   "metadata": {},
   "source": [
    "## Old functions "
   ]
  },
  {
   "cell_type": "code",
   "execution_count": null,
   "metadata": {},
   "outputs": [],
   "source": [
    "def cross_validation(df, columns, train_func, n_splits=5, hyperparameters=None):\n",
    "    \"\"\"\n",
    "    Cross-validation with TimeSeriesSplit.\n",
    "\n",
    "    Args:\n",
    "        df (pandas.DataFrame): Full train/ test dataframe.\n",
    "\n",
    "        columns (list of strings): List of columns to be used in training.\n",
    "\n",
    "        train_func (function): Custom defined function for training and evaluating model.\n",
    "                                E.g.: model_decisionTree()\n",
    "\n",
    "        n_splits (int): Number of cv splits.\n",
    "\n",
    "        hyperparameters (dict, optional): Dictionary with hyperparameters for model.\n",
    "\n",
    "    Returns:\n",
    "        list: Two list with <n_splits> RMSE scores for train and test data.\n",
    "    \"\"\"\n",
    "\n",
    "    df.sort_values(by=[\"date\"], inplace=True)  # sort df by time\n",
    "    X = df[columns]\n",
    "    y = df[[\"opt_value\"]]\n",
    "\n",
    "    rmse_train_list = []\n",
    "    rmse_test_list = []\n",
    "    tscv = TimeSeriesSplit(n_splits=n_splits)\n",
    "\n",
    "    for train_index, test_index in tqdm(tscv.split(X)):\n",
    "        X_train = X.iloc[train_index]\n",
    "        y_train = y.iloc[train_index]\n",
    "        X_test = X.iloc[test_index]\n",
    "        y_test = y.iloc[test_index]\n",
    "\n",
    "        y_predicted_train, y_predicted_test = train_func(\n",
    "            X_train, y_train, X_test, y_test, hyperparameters\n",
    "        )\n",
    "\n",
    "        rmse_train = get_rmse(y_train, y_predicted_train)\n",
    "        rmse_test = get_rmse(y_test, y_predicted_test)\n",
    "\n",
    "        rmse_train_list.append(rmse_train)\n",
    "        rmse_test_list.append(rmse_test)\n",
    "\n",
    "    return rmse_train_list, rmse_test_list\n",
    "\n",
    "\n",
    "def get_rmse(y_real, y_predicted):\n",
    "    \"\"\"\n",
    "    Calculates RMSE score.\n",
    "\n",
    "    Args:\n",
    "        y_real (): real target values.\n",
    "\n",
    "        y_predicted (): model predicted target values.\n",
    "\n",
    "    Returns:\n",
    "        float: RMSE score.\n",
    "    \"\"\"\n",
    "\n",
    "    return np.sqrt(mean_squared_error(y_real, y_predicted))\n",
    "\n",
    "\n",
    "def model_decisionTree(X_train, y_train, X_test, y_test, hyperparameters=None):\n",
    "    \"\"\"\n",
    "    Trains model and predicts target values.\n",
    "\n",
    "    Args:\n",
    "        X_train (pandas.DataFrame): Dataframe with train data.\n",
    "\n",
    "        y_train (pandas.DataFrame): Dataframe with train labels, one column.\n",
    "\n",
    "        X_test (pandas.DataFrame): Dataframe with test data.\n",
    "\n",
    "        y_test (pandas.DataFrame): Dataframe with test labels, one column.\n",
    "\n",
    "        hyperparameters (dict, optional): Dictionary with model parameters.\n",
    "\n",
    "    Returns:\n",
    "        list: Two lists with predicted values for train and test set.\n",
    "    \"\"\"\n",
    "\n",
    "    if hyperparameters:\n",
    "        regressor = DecisionTreeRegressor(**hyperparameters)\n",
    "    else:\n",
    "        regressor = DecisionTreeRegressor(random_state=0)\n",
    "\n",
    "    regressor.fit(X_train, y_train)\n",
    "    y_predicted_train = regressor.predict(X_train)\n",
    "    y_predicted_test = regressor.predict(X_test)\n",
    "\n",
    "    return y_predicted_train, y_predicted_test\n"
   ]
  },
  {
   "attachments": {},
   "cell_type": "markdown",
   "metadata": {},
   "source": [
    "### Benchmark functions"
   ]
  },
  {
   "cell_type": "code",
   "execution_count": 4,
   "metadata": {},
   "outputs": [],
   "source": [
    "def model_meanBenchmark(y_train, y_test):\n",
    "    \"\"\"\n",
    "    Creates predictions for mean benchmark.\n",
    "\n",
    "    Args:\n",
    "        y_train (pandas.DataFrame): Dataframe with train labels, one column.\n",
    "\n",
    "        y_test (pandas.DataFrame): Dataframe with test labels, one column.\n",
    "\n",
    "    Returns:\n",
    "        list: Lists with predicted values for test set.\n",
    "    \"\"\"\n",
    "\n",
    "    y_predicted = np.full((1, len(y_test)), y_train.mean())[0]\n",
    "\n",
    "    return y_predicted"
   ]
  },
  {
   "cell_type": "code",
   "execution_count": 5,
   "metadata": {},
   "outputs": [],
   "source": [
    "def model_mwBenchmark(X_test):\n",
    "    \"\"\"\n",
    "    Creates predictions for microwave benchmark by comparing the mw and opt datasets directly.\n",
    "\n",
    "    Args:\n",
    "        X_test (pandas.DataFrame): Dataframe with test data.\n",
    "\n",
    "    Returns:\n",
    "        list: Lists with predicted values for test set.\n",
    "    \"\"\"\n",
    "\n",
    "    y_predicted = X_test['mw_value']\n",
    "\n",
    "    return y_predicted"
   ]
  },
  {
   "attachments": {},
   "cell_type": "markdown",
   "metadata": {},
   "source": [
    "## Thesis 2023"
   ]
  },
  {
   "cell_type": "code",
   "execution_count": 6,
   "metadata": {},
   "outputs": [],
   "source": [
    "import pandas as pd\n",
    "from sklearn.model_selection import TimeSeriesSplit\n",
    "from sklearn.tree import DecisionTreeRegressor\n",
    "\n",
    "import numpy as np\n",
    "from sklearn.metrics import mean_squared_error\n",
    "\n",
    "from tqdm import tqdm\n",
    "\n",
    "pd.options.mode.chained_assignment = None\n",
    "from sklearn.cluster import KMeans\n",
    "from sklearn.metrics import mean_squared_error, r2_score\n",
    "\n",
    "import pickle\n",
    "import matplotlib.pyplot as plt # to plot kmeans splits"
   ]
  },
  {
   "attachments": {},
   "cell_type": "markdown",
   "metadata": {},
   "source": [
    "### Data processing functions"
   ]
  },
  {
   "cell_type": "code",
   "execution_count": 2,
   "metadata": {},
   "outputs": [],
   "source": [
    "def import_data(date_from:str, date_to:str, df_path:str):\n",
    "    \"\"\"\n",
    "    Imports data and merges into one dataframe.\n",
    "\n",
    "    Args:\n",
    "        date_from (format: 'yyyy-mm-dd'): Period starting date (included).\n",
    "\n",
    "        date_to (format: 'yyyy-mm-dd'): Period end date (included).\n",
    "\n",
    "        df_path: Path to folder with daily data files.\n",
    "\n",
    "    Returns:\n",
    "        pandas.DataFrame: Dataframe with all merged data.\n",
    "    \"\"\"\n",
    "\n",
    "    date_range = pd.date_range(date_from, date_to) # both ends included\n",
    "    date_range = [str(day.date()) for day in date_range]\n",
    "    df_list = []\n",
    "\n",
    "    for melt_date in tqdm(date_range):\n",
    "        try: # bc some days are empty\n",
    "            file = pd.read_parquet(df_path + 'melt_'+ melt_date + '_extended.parquet.gzip', index= False) \n",
    "            df_list.append(file) # list of df\n",
    "        except:\n",
    "            continue\n",
    "        \n",
    "    df = pd.concat(df_list, axis=0) # concat af df to one\n",
    "    del df_list\n",
    "    return df"
   ]
  },
  {
   "cell_type": "code",
   "execution_count": 3,
   "metadata": {},
   "outputs": [],
   "source": [
    "def remove_data(df, removeMaskedClouds = True, removeNoMelt = True):\n",
    "    # remove -1 from mw:\n",
    "    df = df[df['mw_value'] != -1]\n",
    "    \n",
    "    if removeMaskedClouds == True:\n",
    "        # remove nan/-1 from opt:\n",
    "        df = df[df['opt_value'] != -1]\n",
    "\n",
    "    if removeNoMelt == True:\n",
    "        # open file\n",
    "        # join with file\n",
    "        melt = pd.read_parquet(r\"../Data/split_indexes/noMelt_indexes.parquet\", index= False)\n",
    "        df = df.merge(melt, how = 'left', on = [\"y\",'x'])\n",
    "        df = df[df['melt'] == 1]\n",
    "    return df"
   ]
  },
  {
   "attachments": {},
   "cell_type": "markdown",
   "metadata": {},
   "source": [
    "### Test"
   ]
  },
  {
   "cell_type": "code",
   "execution_count": 4,
   "metadata": {},
   "outputs": [],
   "source": [
    "df_path = r\"../Data/combined/dataframe_extended/\"\n",
    "\n",
    "date_from = '2019-07-01'\n",
    "date_to = '2019-07-04'"
   ]
  },
  {
   "cell_type": "code",
   "execution_count": 5,
   "metadata": {},
   "outputs": [
    {
     "name": "stderr",
     "output_type": "stream",
     "text": [
      "100%|██████████| 4/4 [00:06<00:00,  1.66s/it]\n"
     ]
    }
   ],
   "source": [
    "data = import_data(date_from, date_to, df_path)\n",
    "data=data[['x', 'y','mw_value', 'opt_value', 'date', 'mean_3']]\n",
    "data = remove_data(data, removeMaskedClouds = True, removeNoMelt = True)"
   ]
  },
  {
   "cell_type": "code",
   "execution_count": 12,
   "metadata": {},
   "outputs": [],
   "source": [
    "class trainedModel:\n",
    "\n",
    "    def __init__(self, model, hyperparameters):  \n",
    "        self.model = model\n",
    "        self.hyperparameters = hyperparameters # list of dictionaries with hyperparameters\n",
    "\n",
    "    # def __cv_split_outer_loop(self, df):\n",
    "    #     cv_split = pd.read_parquet(r\"../Data/split_indexes/cv_split.parquet\", index= False)\n",
    "    #     df = df.merge(cv_split, how = 'left',  on = ['x', 'y'])\n",
    "    #     return df\n",
    "\n",
    "    # def __cv_split_inner_loop(self, df):\n",
    "    #     kmeans = KMeans(n_clusters=5, random_state=0, n_init=\"auto\").fit(df[['x','y']])\n",
    "    #     df['inner_area'] = kmeans.labels_\n",
    "    #     return df\n",
    "    \n",
    "    def __kmeans_split(self, df, loop, plot = False):\n",
    "        # loop = 'inner' or 'outer'\n",
    "        kmeans = KMeans(n_clusters=5, random_state=0, n_init=\"auto\").fit(df[['x','y']])\n",
    "        if loop == 'inner':\n",
    "            df['inner_area'] = kmeans.labels_\n",
    "        elif loop == 'outer':\n",
    "            df['outer_area'] = kmeans.labels_\n",
    "\n",
    "        if plot == True:\n",
    "            print(df[loop+'_area'].value_counts())\n",
    "            plt.scatter(df['x'], df['y'], c=df[loop+'_area'], edgecolor='none', s = 0.05)\n",
    "            plt.show()\n",
    "        return df\n",
    "    \n",
    "    def __train_test_split(self, df, columns, split_index):\n",
    "        inner_train = df[df['inner_area'] != split_index]\n",
    "        inner_test  = df[df['inner_area'] == split_index]\n",
    "        train_X = inner_train[columns]\n",
    "        train_y = inner_train[[\"opt_value\"]]\n",
    "        test_X = inner_test[columns]\n",
    "        test_y = inner_test[[\"opt_value\"]] \n",
    "        return train_X, train_y, test_X, test_y\n",
    "\n",
    "    def __inner_loop_tune_hyperparameters(self, df, columns):\n",
    "        all_inner_loops_hyperparameter_scores= []\n",
    "        for inner_split in df['inner_area'].unique():\n",
    "            inner_train_X, inner_train_y, inner_test_X, inner_test_y = self.__train_test_split(df, columns, inner_split)                \n",
    "            hyperparameter_scores = []\n",
    "            if isinstance(self.hyperparameters, list):\n",
    "                for hyperparams in self.hyperparameters:\n",
    "                    regressor = self.model(random_state=0, **hyperparams).fit(inner_train_X, inner_train_y)\n",
    "                    y_predicted_test = regressor.predict(inner_test_X)\n",
    "                    hyperparameter_scores.append(mean_squared_error(inner_test_y, y_predicted_test, squared=False))\n",
    "            else:\n",
    "                print('hyperparameters must be a list')\n",
    "            all_inner_loops_hyperparameter_scores.append(hyperparameter_scores)\n",
    "        mean_hyperparameters = np.mean(all_inner_loops_hyperparameter_scores, axis=0)\n",
    "        best_inner_hyperparameters = self.hyperparameters[np.argmax(mean_hyperparameters)]\n",
    "        return best_inner_hyperparameters\n",
    "    \n",
    "    def spatial_cv(self, df, columns):\n",
    "        rmse_list_train = []\n",
    "        rmse_list_test = []\n",
    "        r2_list_train = []\n",
    "        r2_list_test = []\n",
    "        self.best_hyperparameters = []\n",
    "        predictions_train = []\n",
    "        predictions_test = []\n",
    "        real_values_train = []\n",
    "        real_values_test = []\n",
    "        \n",
    "        df = self.__kmeans_split(df, 'outer') #, plot = True #df = self.__cv_split_outer_loop(df)\n",
    "        for outer_split in df['outer_area'].unique():\n",
    "            #if outer_split == 1: # remove\n",
    "            train = df[df['outer_area'] != outer_split]\n",
    "            train = self.__kmeans_split(train, 'inner') #train = self.__cv_split_inner_loop(train)\n",
    "            best_hyperparam= self.__inner_loop_tune_hyperparameters(train, columns)\n",
    "            self.best_hyperparameters.append(best_hyperparam)\n",
    "            \n",
    "            train_X, train_y, test_X, test_y = self.__train_test_split(train, columns, outer_split)\n",
    "            print(f'length train_X: {len(train_X)}, length train_y: {len(train_y)}, length test_X: {len(test_X)}, length test_y: {len(test_y)}')\n",
    "            regressor = self.model(random_state=0, **best_hyperparam).fit(train_X, train_y)\n",
    "            train_y_predicted = regressor.predict(train_X)\n",
    "            test_y_predicted  = regressor.predict(test_X )\n",
    "            predictions_train.append(train_y_predicted)\n",
    "            predictions_test.append(test_y_predicted)\n",
    "            real_values_train.append(train_y)\n",
    "            real_values_test.append(test_y)\n",
    "\n",
    "            rmse_list_train.append(mean_squared_error(train_y, train_y_predicted))\n",
    "            rmse_list_test.append(mean_squared_error(test_y, test_y_predicted))\n",
    "            r2_list_train.append(r2_score(train_y, train_y_predicted))\n",
    "            r2_list_test.append(r2_score(test_y, test_y_predicted))\n",
    "\n",
    "            # else: # tb removed\n",
    "            #     continue\n",
    "        # results:\n",
    "        self.rmse_train = np.mean(rmse_list_train)\n",
    "        self.rmse_std_train = np.std(rmse_list_train)\n",
    "        self.rmse_test = np.mean(rmse_list_test)\n",
    "        self.rmse_std_test = np.std(rmse_list_test)\n",
    "        self.r2_train = np.mean(r2_list_train)\n",
    "        self.r2_std_train = np.std(r2_list_train)\n",
    "        self.r2_test = np.mean(r2_list_test)\n",
    "        self.r2_std_test = np.std(r2_list_test)\n",
    "        \n",
    "        self.outer_loop_results = {'rmse_list_train': rmse_list_train,\n",
    "                                   'rmse_list_test' : rmse_list_test,\n",
    "                                   'r2_list_train'  : r2_list_train,\n",
    "                                   'r2_list_test'   : r2_list_test}\n",
    "        \n",
    "        self.outer_loop_predictions = {'train_y_predicted': predictions_train,\n",
    "                                       'test_y_predicted' : predictions_test}\n",
    "        self.outer_loop_real_values = {'train_y': real_values_train,\n",
    "                                        'test_y' : real_values_test}\n",
    "        return\n",
    "\n",
    "    def get_results(self):\n",
    "        results = pd.DataFrame({'Metric': ['RMSE', 'RMSE_std', 'R2', 'R2_std'],\n",
    "                                'Train': [self.rmse_train, self.rmse_std_train ,self.r2_train, self.r2_std_train],\n",
    "                                'Test': [self.rmse_test, self.rmse_std_test, self.r2_test, self.r2_std_test]})\n",
    "        print(results)\n",
    "        return \n",
    "    \n",
    "    def get_attributes(self):\n",
    "        for attribute, value in self.__dict__.items():\n",
    "            print(attribute, '=', value)\n",
    "\n",
    "    def save_model(self, filename):\n",
    "        with open(filename, 'wb') as file:\n",
    "            pickle.dump(self, file, pickle.HIGHEST_PROTOCOL)\n",
    "        return"
   ]
  },
  {
   "cell_type": "code",
   "execution_count": 13,
   "metadata": {},
   "outputs": [],
   "source": [
    "hyp = [{'max_depth':7, 'criterion': 'squared_error'}, {'max_depth':4, 'criterion': 'squared_error'}]\n",
    "dt = trainedModel(model = DecisionTreeRegressor, hyperparameters = hyp )"
   ]
  },
  {
   "cell_type": "code",
   "execution_count": 14,
   "metadata": {},
   "outputs": [
    {
     "name": "stdout",
     "output_type": "stream",
     "text": [
      "2    1005514\n",
      "0     902264\n",
      "4     593832\n",
      "1     554145\n",
      "3     409458\n",
      "Name: outer_area, dtype: int64\n"
     ]
    },
    {
     "data": {
      "image/png": "[encoded data removed]",
      "text/plain": [
       "<Figure size 640x480 with 1 Axes>"
      ]
     },
     "metadata": {},
     "output_type": "display_data"
    },
    {
     "name": "stdout",
     "output_type": "stream",
     "text": [
      "length train_X: 2111739, length train_y: 2111739, length test_X: 347960, length test_y: 347960\n",
      "length train_X: 2159733, length train_y: 2159733, length test_X: 403216, length test_y: 403216\n",
      "length train_X: 2514439, length train_y: 2514439, length test_X: 541316, length test_y: 541316\n",
      "length train_X: 2389462, length train_y: 2389462, length test_X: 481919, length test_y: 481919\n",
      "length train_X: 2590000, length train_y: 2590000, length test_X: 321068, length test_y: 321068\n"
     ]
    }
   ],
   "source": [
    "columns = ['x', 'y','mw_value', 'mean_3']\n",
    "dt.spatial_cv(data, columns)"
   ]
  },
  {
   "cell_type": "code",
   "execution_count": 15,
   "metadata": {},
   "outputs": [
    {
     "name": "stdout",
     "output_type": "stream",
     "text": [
      "model = <class 'sklearn.tree._classes.DecisionTreeRegressor'>\n",
      "hyperparameters = [{'max_depth': 7, 'criterion': 'squared_error'}, {'max_depth': 4, 'criterion': 'squared_error'}]\n",
      "best_hyperparameters = [{'max_depth': 7, 'criterion': 'squared_error'}, {'max_depth': 4, 'criterion': 'squared_error'}, {'max_depth': 7, 'criterion': 'squared_error'}, {'max_depth': 7, 'criterion': 'squared_error'}, {'max_depth': 7, 'criterion': 'squared_error'}]\n",
      "rmse_train = 0.067023010758099\n",
      "rmse_std_train = 0.00637549230282518\n",
      "rmse_test = 0.09727095113642321\n",
      "rmse_std_test = 0.03518824307277278\n",
      "r2_train = 0.601139292735412\n",
      "r2_std_train = 0.07008275109140152\n",
      "r2_test = -0.6378093908110802\n",
      "r2_std_test = 1.5755597463821835\n",
      "outer_loop_results = {'rmse_list_train': [0.05719315681506576, 0.07729814799348818, 0.06704292989909487, 0.06611164841065172, 0.06746917067219445], 'rmse_list_test': [0.07428144953056068, 0.16151704455224708, 0.10500138024508325, 0.08451117209591623, 0.06104370925830881], 'r2_list_train': [0.6736144465824934, 0.46749622096039545, 0.6235847011425352, 0.6107197317394728, 0.6302813632521629], 'r2_list_test': [0.0938807504399386, -3.7850013086112835, 0.238705922647112, 0.22975621276961533, 0.03361146869921616]}\n",
      "outer_loop_predictions = {'train_y_predicted': [array([0.16362709, 0.4676641 , 0.4676641 , ..., 0.00362671, 0.00362671,\n",
      "       0.00362671]), array([0.37245387, 0.37245387, 0.37245387, ..., 0.22968651, 0.22968651,\n",
      "       0.22968651]), array([0.09813224, 0.09813224, 0.09813224, ..., 0.00362671, 0.00362671,\n",
      "       0.00362671]), array([0.24732003, 0.24732003, 0.24732003, ..., 0.00336486, 0.0039771 ,\n",
      "       0.0039771 ]), array([0.62890683, 0.62890683, 0.62890683, ..., 1.4169045 , 1.4169045 ,\n",
      "       1.4169045 ])], 'test_y_predicted': [array([0.34616909, 0.34616909, 0.34616909, ..., 0.24116361, 0.24116361,\n",
      "       0.24116361]), array([0.93411269, 0.93411269, 0.93411269, ..., 0.29045079, 0.29045079,\n",
      "       0.29045079]), array([0.23754189, 0.23754189, 0.23754189, ..., 1.39140127, 1.39140127,\n",
      "       1.39140127]), array([1.08896095, 1.08896095, 1.08896095, ..., 0.18859023, 0.18859023,\n",
      "       0.18859023]), array([0.29084525, 0.29084525, 0.37156662, ..., 0.21756466, 0.21756466,\n",
      "       0.21756466])]}\n",
      "outer_loop_real_values = {'train_y': [         opt_value\n",
      "20261     0.443058\n",
      "20501     0.586056\n",
      "20502     0.613324\n",
      "20503     0.558280\n",
      "20504     0.557686\n",
      "...            ...\n",
      "4172470   0.004917\n",
      "4172534   0.004048\n",
      "4172535   0.002953\n",
      "4172614   0.000119\n",
      "4172615   0.004234\n",
      "\n",
      "[2111739 rows x 1 columns],          opt_value\n",
      "0         0.016349\n",
      "1         0.000484\n",
      "2         0.000385\n",
      "3         0.188975\n",
      "4         0.236826\n",
      "...            ...\n",
      "4020545   0.939491\n",
      "4020546   0.892015\n",
      "4021059   1.008890\n",
      "4021060   0.994504\n",
      "4021061   0.938852\n",
      "\n",
      "[2159733 rows x 1 columns],          opt_value\n",
      "0         0.016349\n",
      "1         0.000484\n",
      "2         0.000385\n",
      "3         0.188975\n",
      "4         0.236826\n",
      "...            ...\n",
      "4172470   0.004917\n",
      "4172534   0.004048\n",
      "4172535   0.002953\n",
      "4172614   0.000119\n",
      "4172615   0.004234\n",
      "\n",
      "[2514439 rows x 1 columns],          opt_value\n",
      "0         0.016349\n",
      "1         0.000484\n",
      "2         0.000385\n",
      "3         0.188975\n",
      "4         0.236826\n",
      "...            ...\n",
      "4172470   0.004917\n",
      "4172534   0.004048\n",
      "4172535   0.002953\n",
      "4172614   0.000119\n",
      "4172615   0.004234\n",
      "\n",
      "[2389462 rows x 1 columns],          opt_value\n",
      "0         0.016349\n",
      "1         0.000484\n",
      "2         0.000385\n",
      "3         0.188975\n",
      "4         0.236826\n",
      "...            ...\n",
      "3858920   1.526419\n",
      "3858921   1.744906\n",
      "3858922   1.942123\n",
      "3858923   1.685207\n",
      "3859422   1.595677\n",
      "\n",
      "[2590000 rows x 1 columns]], 'test_y': [         opt_value\n",
      "388751    0.002016\n",
      "388752    0.007128\n",
      "388753    0.001408\n",
      "389073    0.001167\n",
      "389074    0.007996\n",
      "...            ...\n",
      "3869070   0.476998\n",
      "3869071   1.730814\n",
      "3869680   0.869880\n",
      "3869681   1.147488\n",
      "3870291   0.870534\n",
      "\n",
      "[347960 rows x 1 columns],          opt_value\n",
      "633143    0.001395\n",
      "633180    0.398256\n",
      "633223    0.000134\n",
      "633224    0.000670\n",
      "633263    0.002456\n",
      "...            ...\n",
      "4172470   0.004917\n",
      "4172534   0.004048\n",
      "4172535   0.002953\n",
      "4172614   0.000119\n",
      "4172615   0.004234\n",
      "\n",
      "[403216 rows x 1 columns],          opt_value\n",
      "435831    0.205974\n",
      "435832    0.193986\n",
      "435833    0.191758\n",
      "436220    0.207379\n",
      "436221    0.216973\n",
      "...            ...\n",
      "3877920   2.000372\n",
      "3877921   2.005731\n",
      "3877922   1.725369\n",
      "3877923   1.791083\n",
      "3877924   1.967093\n",
      "\n",
      "[541316 rows x 1 columns],          opt_value\n",
      "210148    1.540581\n",
      "210941    0.838657\n",
      "210942    1.444272\n",
      "211730    1.371930\n",
      "211731    1.048772\n",
      "...            ...\n",
      "3537876   0.206704\n",
      "3537877   0.169385\n",
      "3538397   0.197490\n",
      "3538398   0.196876\n",
      "3538901   0.198833\n",
      "\n",
      "[481919 rows x 1 columns],          opt_value\n",
      "465098    0.063057\n",
      "465305    0.043774\n",
      "467575    0.000118\n",
      "467754    0.000383\n",
      "467755    0.000193\n",
      "...            ...\n",
      "3906132   0.167935\n",
      "3906133   0.157149\n",
      "3906134   0.166649\n",
      "3906653   0.162955\n",
      "3906654   0.163337\n",
      "\n",
      "[321068 rows x 1 columns]]}\n"
     ]
    }
   ],
   "source": [
    "dt.get_attributes()"
   ]
  },
  {
   "cell_type": "code",
   "execution_count": 19,
   "metadata": {},
   "outputs": [],
   "source": [
    "def save_object(obj, filename):\n",
    "    filename = r'../Models/' + filename + '.pkl'\n",
    "    with open(filename, 'wb') as outp:  # Overwrites any existing file.\n",
    "        pickle.dump(obj, outp, pickle.HIGHEST_PROTOCOL)"
   ]
  },
  {
   "cell_type": "code",
   "execution_count": null,
   "metadata": {},
   "outputs": [],
   "source": [
    "def load_object(filename):\n",
    "    with open(filename, 'rb') as inp:\n",
    "        obj = pickle.load(inp)\n",
    "    return obj"
   ]
  },
  {
   "cell_type": "code",
   "execution_count": 20,
   "metadata": {},
   "outputs": [],
   "source": [
    "save_object(dt, 'dt.pkl')"
   ]
  },
  {
   "cell_type": "code",
   "execution_count": null,
   "metadata": {},
   "outputs": [],
   "source": []
  },
  {
   "cell_type": "code",
   "execution_count": null,
   "metadata": {},
   "outputs": [],
   "source": []
  },
  {
   "cell_type": "code",
   "execution_count": 25,
   "metadata": {},
   "outputs": [],
   "source": [
    "from functions_training_pipeline import trainedModel"
   ]
  },
  {
   "cell_type": "code",
   "execution_count": null,
   "metadata": {},
   "outputs": [],
   "source": []
  },
  {
   "cell_type": "code",
   "execution_count": null,
   "metadata": {},
   "outputs": [],
   "source": []
  },
  {
   "attachments": {},
   "cell_type": "markdown",
   "metadata": {},
   "source": [
    "### Older testing"
   ]
  },
  {
   "cell_type": "code",
   "execution_count": 1,
   "metadata": {},
   "outputs": [
    {
     "ename": "NameError",
     "evalue": "name 'import_data' is not defined",
     "output_type": "error",
     "traceback": [
      "\u001b[0;31m---------------------------------------------------------------------------\u001b[0m",
      "\u001b[0;31mNameError\u001b[0m                                 Traceback (most recent call last)",
      "\u001b[1;32m/mnt/c/Users/linas/OneDrive/Documents/ITU/Semester3/RP_Greenland/RP_Greenland/Scripts/functions_testing.ipynb Cell 23\u001b[0m in \u001b[0;36m1\n\u001b[0;32m----> <a href='vscode-notebook-cell://wsl%2Bubuntu-20.04/mnt/c/Users/linas/OneDrive/Documents/ITU/Semester3/RP_Greenland/RP_Greenland/Scripts/functions_testing.ipynb#X31sdnNjb2RlLXJlbW90ZQ%3D%3D?line=0'>1</a>\u001b[0m df \u001b[39m=\u001b[39m import_data(date_from, date_to, df_path)\n\u001b[1;32m      <a href='vscode-notebook-cell://wsl%2Bubuntu-20.04/mnt/c/Users/linas/OneDrive/Documents/ITU/Semester3/RP_Greenland/RP_Greenland/Scripts/functions_testing.ipynb#X31sdnNjb2RlLXJlbW90ZQ%3D%3D?line=1'>2</a>\u001b[0m df\u001b[39m=\u001b[39mdf[[\u001b[39m'\u001b[39m\u001b[39mmw_value\u001b[39m\u001b[39m'\u001b[39m, \u001b[39m'\u001b[39m\u001b[39mopt_value\u001b[39m\u001b[39m'\u001b[39m, \u001b[39m'\u001b[39m\u001b[39mdate\u001b[39m\u001b[39m'\u001b[39m, \u001b[39m'\u001b[39m\u001b[39mmean\u001b[39m\u001b[39m'\u001b[39m]]\n\u001b[1;32m      <a href='vscode-notebook-cell://wsl%2Bubuntu-20.04/mnt/c/Users/linas/OneDrive/Documents/ITU/Semester3/RP_Greenland/RP_Greenland/Scripts/functions_testing.ipynb#X31sdnNjb2RlLXJlbW90ZQ%3D%3D?line=3'>4</a>\u001b[0m a, b \u001b[39m=\u001b[39m cross_validation(df, [\u001b[39m'\u001b[39m\u001b[39mmw_value\u001b[39m\u001b[39m'\u001b[39m, \u001b[39m'\u001b[39m\u001b[39mmean\u001b[39m\u001b[39m'\u001b[39m], model_decisionTree, n_splits \u001b[39m=\u001b[39m \u001b[39m5\u001b[39m, hyperparameters \u001b[39m=\u001b[39m \u001b[39mNone\u001b[39;00m)\n",
      "\u001b[0;31mNameError\u001b[0m: name 'import_data' is not defined"
     ]
    }
   ],
   "source": [
    "\n",
    "\n",
    "a, b = cross_validation(df, ['mw_value', 'mean'], model_decisionTree, n_splits = 5, hyperparameters = None)\n"
   ]
  },
  {
   "cell_type": "code",
   "execution_count": 25,
   "metadata": {},
   "outputs": [
    {
     "name": "stderr",
     "output_type": "stream",
     "text": [
      "100%|██████████| 2/2 [00:01<00:00,  1.74it/s]\n"
     ]
    },
    {
     "data": {
      "text/plain": [
       "x                     0\n",
       "y                     0\n",
       "mw_value              0\n",
       "opt_value             0\n",
       "col                   0\n",
       "row                   0\n",
       "v1                14044\n",
       "v2                 6648\n",
       "v3                14036\n",
       "v4                 7576\n",
       "v5                    0\n",
       "v6                 7576\n",
       "v7                14036\n",
       "v8                 6648\n",
       "v9                14044\n",
       "date                  0\n",
       "mean                  0\n",
       "elevation_data        0\n",
       "dtype: int64"
      ]
     },
     "execution_count": 25,
     "metadata": {},
     "output_type": "execute_result"
    }
   ],
   "source": [
    "df = import_data(date_from, date_to, df_path)\n",
    "df.isna().sum()"
   ]
  },
  {
   "cell_type": "code",
   "execution_count": 27,
   "metadata": {},
   "outputs": [],
   "source": [
    "df = df[df['mw_value'] != -1]"
   ]
  },
  {
   "cell_type": "code",
   "execution_count": null,
   "metadata": {},
   "outputs": [],
   "source": [
    "def convert_to_tif(data, path_file_metadata, path_out):\n",
    "    \"\"\"\n",
    "    Function to convert data to tif file.\n",
    "    Arguments:\n",
    "        data: new file\n",
    "        path_file_metadata: tif file with metadata matching expected output tif file\n",
    "        path_out: output tif file destination and name path\n",
    "    Returns:\n",
    "        .tif file\n",
    "    \"\"\"\n",
    "    with rasterio.open(path_file_metadata) as src:\n",
    "        kwargs1 = src.meta.copy()\n",
    "\n",
    "    with rasterio.open(path_out, \"w\", **kwargs1) as dst:\n",
    "        dst.write_band(1, data)  # numpy array or xarray\n",
    "    return"
   ]
  },
  {
   "cell_type": "code",
   "execution_count": null,
   "metadata": {},
   "outputs": [],
   "source": [
    "def save_prediction_tif(X_pred, y_predicted, path_out):\n",
    "    \"\"\"\n",
    "    Function to write predictions to .tif.\n",
    "    Arguments:\n",
    "        X_pred: data to be predicted on.\n",
    "        y_predicted: predicted labels in array, or pandas series.\n",
    "        path_out: path to save .tif file with file name.\n",
    "    Returns: No return, writes data to path.\n",
    "    \"\"\"\n",
    "    # join prediction and coordinates (row, col)\n",
    "    X_pred[\"prediction\"] = y_predicted\n",
    "\n",
    "    # original matrix shape:\n",
    "    nan_matrix = np.full((2663, 1462), np.nan)\n",
    "\n",
    "    for row in tqdm(X_pred.iterrows()):  # fix progress bar?\n",
    "        row_index = int(row[1][\"row\"])\n",
    "        col_index = int(row[1][\"col\"])\n",
    "        pred_val = row[1][\"prediction\"]\n",
    "        nan_matrix[row_index][col_index] = pred_val\n",
    "\n",
    "    # file to take reference metadata from is interpolated transformed file\n",
    "    path_metadata_reference = r\"../Data/microwave-rs/mw_interpolated/2019-07-01_mw.tif\"\n",
    "\n",
    "    convert_to_tif(nan_matrix, path_metadata_reference, path_out)\n",
    "\n",
    "    return\n"
   ]
  }
 ],
 "metadata": {
  "kernelspec": {
   "display_name": "Python 3.9.14 ('.venv': poetry)",
   "language": "python",
   "name": "python3"
  },
  "language_info": {
   "codemirror_mode": {
    "name": "ipython",
    "version": 3
   },
   "file_extension": ".py",
   "mimetype": "text/x-python",
   "name": "python",
   "nbconvert_exporter": "python",
   "pygments_lexer": "ipython3",
   "version": "3.9.14"
  },
  "orig_nbformat": 4,
  "vscode": {
   "interpreter": {
    "hash": "c1c6eaedbd5b3fcd114378d998a879d4f50715202363f6507059361ed549ecef"
   }
  }
 },
 "nbformat": 4,
 "nbformat_minor": 2
}
