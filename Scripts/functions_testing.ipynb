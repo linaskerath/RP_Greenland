{
 "cells": [
  {
   "attachments": {},
   "cell_type": "markdown",
   "metadata": {},
   "source": [
    "# Functions testing"
   ]
  },
  {
   "attachments": {},
   "cell_type": "markdown",
   "metadata": {},
   "source": [
    "### saving functions, to be updated"
   ]
  },
  {
   "cell_type": "code",
   "execution_count": null,
   "metadata": {},
   "outputs": [],
   "source": [
    "# def save_prediction_tif(X_pred, y_predicted, path_out):\n",
    "#     \"\"\"\n",
    "#     Function to write predictions to .tif.\n",
    "#     Arguments:\n",
    "#         X_pred: data to be predicted on.\n",
    "#         y_predicted: predicted labels in array, or pandas series.\n",
    "#         path_out: path to save .tif file with file name.\n",
    "#     Returns: No return, writes data to path.\n",
    "#     \"\"\"\n",
    "#     # join prediction and coordinates (row, col)\n",
    "#     X_pred[\"prediction\"] = y_predicted\n",
    "\n",
    "#     # original matrix shape:\n",
    "#     nan_matrix = np.full((2663, 1462), np.nan)\n",
    "\n",
    "#     for row in tqdm(X_pred.iterrows()):  # fix progress bar?\n",
    "#         row_index = int(row[1][\"row\"])\n",
    "#         col_index = int(row[1][\"col\"])\n",
    "#         pred_val = row[1][\"prediction\"]\n",
    "#         nan_matrix[row_index][col_index] = pred_val\n",
    "\n",
    "#     # file to take reference metadata from is interpolated transformed file\n",
    "#     path_metadata_reference = r\"../Data/microwave-rs/mw_interpolated/2019-07-01_mw.tif\"\n",
    "\n",
    "#     convert_to_tif(nan_matrix, path_metadata_reference, path_out)\n",
    "\n",
    "#     return\n",
    "\n",
    "\n",
    "# def convert_to_tif(data, path_file_metadata, path_out):\n",
    "#     \"\"\"\n",
    "#     Function to convert data to tif file.\n",
    "#     Arguments:\n",
    "#         data: new file\n",
    "#         path_file_metadata: tif file with metadata matching expected output tif file\n",
    "#         path_out: output tif file destination and name path\n",
    "#     Returns:\n",
    "#         .tif file\n",
    "#     \"\"\"\n",
    "#     with rasterio.open(path_file_metadata) as src:\n",
    "#         kwargs1 = src.meta.copy()\n",
    "\n",
    "#     with rasterio.open(path_out, \"w\", **kwargs1) as dst:\n",
    "#         dst.write_band(1, data)  # numpy array or xarray\n",
    "#     return"
   ]
  },
  {
   "attachments": {},
   "cell_type": "markdown",
   "metadata": {},
   "source": [
    "## Thesis 2023"
   ]
  },
  {
   "cell_type": "code",
   "execution_count": 1,
   "metadata": {},
   "outputs": [],
   "source": [
    "import functions_training_pipeline as f\n",
    "from functions_training_pipeline import Model"
   ]
  },
  {
   "cell_type": "code",
   "execution_count": 2,
   "metadata": {},
   "outputs": [],
   "source": [
    "import pandas as pd\n",
    "# import matplotlib.pyplot as plt\n",
    "pd.options.mode.chained_assignment = None"
   ]
  },
  {
   "attachments": {},
   "cell_type": "markdown",
   "metadata": {},
   "source": [
    "## Test"
   ]
  },
  {
   "attachments": {},
   "cell_type": "markdown",
   "metadata": {},
   "source": [
    "**Test:**\n",
    "- ~~test~~\n",
    "- ~~different dates~~\n",
    "- ~~differnt columns~~\n",
    "- ~~different models~~\n",
    "- ~~with and wo normalization~~\n",
    "- test removal for prediction"
   ]
  },
  {
   "cell_type": "code",
   "execution_count": 75,
   "metadata": {},
   "outputs": [],
   "source": [
    "df_path = r\"../Data/combined/dataframe_extended/\""
   ]
  },
  {
   "cell_type": "code",
   "execution_count": 3,
   "metadata": {},
   "outputs": [],
   "source": [
    "# path to my hard drive (Nina)\n",
    "df_path = r\"D:/MasterThesis/dataframe_extended/\""
   ]
  },
  {
   "attachments": {},
   "cell_type": "markdown",
   "metadata": {},
   "source": [
    "all columns = 'x', 'y', 'mw_value', 'opt_value', 'date',\n",
    "       'col', 'row', 'mean_3', 'mean_9',\n",
    "       'sum_5', 'mw_value_yesterday', 'mw_value_7_day_average',\n",
    "       'hours_of_daylight', 'elevation_data', 'slope_data', 'aspect_data',\n",
    "       'distance_to_margin'\n",
    "\n",
    "required columns = 'x', 'y', 'mw_value', 'opt_value', 'date'."
   ]
  },
  {
   "attachments": {},
   "cell_type": "markdown",
   "metadata": {},
   "source": [
    "#### V1 (random forest)"
   ]
  },
  {
   "cell_type": "code",
   "execution_count": 53,
   "metadata": {},
   "outputs": [
    {
     "name": "stderr",
     "output_type": "stream",
     "text": [
      "  0%|          | 0/2 [00:00<?, ?it/s]"
     ]
    },
    {
     "name": "stdout",
     "output_type": "stream",
     "text": [
      "2017-05-01\n"
     ]
    },
    {
     "name": "stderr",
     "output_type": "stream",
     "text": [
      " 50%|█████     | 1/2 [00:00<00:00,  1.01it/s]"
     ]
    },
    {
     "name": "stdout",
     "output_type": "stream",
     "text": [
      "2017-05-02\n"
     ]
    },
    {
     "name": "stderr",
     "output_type": "stream",
     "text": [
      "100%|██████████| 2/2 [00:01<00:00,  1.27it/s]\n"
     ]
    },
    {
     "name": "stdout",
     "output_type": "stream",
     "text": [
      "Not applicable for feature'mw_value'.\n",
      "Not applicable for feature'date'.\n",
      "Not applicable for feature'mw_value_yesterday'.\n"
     ]
    }
   ],
   "source": [
    "from sklearn.ensemble import RandomForestRegressor\n",
    "\n",
    "date_from = '2017-05-01'\n",
    "date_to = '2017-05-02'\n",
    "\n",
    "data = f.import_data(date_from, date_to, df_path)\n",
    "data = f.remove_data(data, removeMaskedClouds = True, removeNoMelt = True) \n",
    "data = f.data_normalization(data, data.columns)\n",
    "\n",
    "columns = ['x', 'y', 'mw_value',  'col', 'row'] # 'opt_value', 'date',"
   ]
  },
  {
   "cell_type": "code",
   "execution_count": 12,
   "metadata": {},
   "outputs": [],
   "source": [
    "rf = f.Model(model = RandomForestRegressor, name = 'RF_test_2023_04_17')\n",
    "rf.date_tested = '2023-04-17' # optional\n",
    "rf.columns = columns # optional\n",
    "hyperparameters_for_grid = {'n_estimators': [10], 'max_depth':[4]}\n",
    "rf.hyperparameters = rf.create_hyperparameter_grid(hyperparameters_for_grid)"
   ]
  },
  {
   "cell_type": "code",
   "execution_count": 13,
   "metadata": {},
   "outputs": [
    {
     "data": {
      "text/plain": [
       "[{'max_depth': 4, 'n_estimators': 10}]"
      ]
     },
     "execution_count": 13,
     "metadata": {},
     "output_type": "execute_result"
    }
   ],
   "source": [
    "rf.hyperparameters"
   ]
  },
  {
   "cell_type": "code",
   "execution_count": 14,
   "metadata": {},
   "outputs": [],
   "source": [
    "rf.spatial_cv(data, columns)"
   ]
  },
  {
   "cell_type": "code",
   "execution_count": 17,
   "metadata": {},
   "outputs": [],
   "source": [
    "f.save_object(rf)"
   ]
  },
  {
   "cell_type": "code",
   "execution_count": 30,
   "metadata": {},
   "outputs": [],
   "source": [
    "rf_test = f.load_object(\"RF_test_2023_04_17\")"
   ]
  },
  {
   "cell_type": "code",
   "execution_count": 57,
   "metadata": {},
   "outputs": [
    {
     "data": {
      "text/plain": [
       "array([0.25233576, 0.25233576, 0.25233576, ..., 0.2452713 , 0.2452713 ,\n",
       "       0.2452713 ])"
      ]
     },
     "execution_count": 57,
     "metadata": {},
     "output_type": "execute_result"
    }
   ],
   "source": [
    "rf_test.final_model.predict(data[rf_test.columns])"
   ]
  },
  {
   "cell_type": "code",
   "execution_count": 31,
   "metadata": {},
   "outputs": [
    {
     "data": {
      "text/plain": [
       "[{'max_depth': 4, 'n_estimators': 10},\n",
       " {'max_depth': 4, 'n_estimators': 10},\n",
       " {'max_depth': 4, 'n_estimators': 10},\n",
       " {'max_depth': 4, 'n_estimators': 10},\n",
       " {'max_depth': 4, 'n_estimators': 10}]"
      ]
     },
     "execution_count": 31,
     "metadata": {},
     "output_type": "execute_result"
    }
   ],
   "source": [
    "rf_test.best_hyperparameter_list"
   ]
  },
  {
   "attachments": {},
   "cell_type": "markdown",
   "metadata": {},
   "source": [
    "#### V2 (xgboost)"
   ]
  },
  {
   "cell_type": "code",
   "execution_count": 19,
   "metadata": {},
   "outputs": [
    {
     "name": "stderr",
     "output_type": "stream",
     "text": [
      "  0%|          | 0/5 [00:00<?, ?it/s]"
     ]
    },
    {
     "name": "stdout",
     "output_type": "stream",
     "text": [
      "2018-10-07\n"
     ]
    },
    {
     "name": "stderr",
     "output_type": "stream",
     "text": [
      " 20%|██        | 1/5 [00:00<00:03,  1.19it/s]"
     ]
    },
    {
     "name": "stdout",
     "output_type": "stream",
     "text": [
      "file\n",
      "2018-10-08\n"
     ]
    },
    {
     "name": "stderr",
     "output_type": "stream",
     "text": [
      " 40%|████      | 2/5 [00:01<00:02,  1.18it/s]"
     ]
    },
    {
     "name": "stdout",
     "output_type": "stream",
     "text": [
      "file\n",
      "2018-10-09\n"
     ]
    },
    {
     "name": "stderr",
     "output_type": "stream",
     "text": [
      " 60%|██████    | 3/5 [00:02<00:01,  1.25it/s]"
     ]
    },
    {
     "name": "stdout",
     "output_type": "stream",
     "text": [
      "file\n",
      "2018-10-10\n"
     ]
    },
    {
     "name": "stderr",
     "output_type": "stream",
     "text": [
      " 80%|████████  | 4/5 [00:03<00:00,  1.34it/s]"
     ]
    },
    {
     "name": "stdout",
     "output_type": "stream",
     "text": [
      "file\n",
      "2018-10-11\n"
     ]
    },
    {
     "name": "stderr",
     "output_type": "stream",
     "text": [
      "100%|██████████| 5/5 [00:03<00:00,  1.31it/s]"
     ]
    },
    {
     "name": "stdout",
     "output_type": "stream",
     "text": [
      "file\n"
     ]
    },
    {
     "name": "stderr",
     "output_type": "stream",
     "text": [
      "\n"
     ]
    },
    {
     "name": "stdout",
     "output_type": "stream",
     "text": [
      "Not applicable for feature'mw_value'.\n",
      "Not applicable for feature'date'.\n",
      "Not applicable for feature'mw_value_yesterday'.\n"
     ]
    }
   ],
   "source": [
    "from sklearn.ensemble import GradientBoostingRegressor\n",
    "\n",
    "date_from = '2018-10-07'\n",
    "date_to = '2018-10-11'\n",
    "\n",
    "data = f.import_data(date_from, date_to, df_path)\n",
    "data = f.remove_data(data, removeMaskedClouds = True, removeNoMelt = True) \n",
    "data = f.data_normalization(data, data.columns)\n",
    "\n",
    "columns = ['x', 'y', 'mw_value',  'mean_3', 'mean_9'] # 'opt_value', 'date', "
   ]
  },
  {
   "cell_type": "code",
   "execution_count": null,
   "metadata": {},
   "outputs": [],
   "source": [
    "xgb = f.Model(model = GradientBoostingRegressor, name = 'XGB_test_2023_04_17')\n",
    "xgb.date_tested = '2023-04-17' # optional\n",
    "xgb.columns = columns # optional\n",
    "hyperparameters_for_grid = {'min_samples_split':[3,5], 'learning_rate':[0.1, 0.5]}\n",
    "xgb.hyperparameters = rf.create_hyperparameter_grid(hyperparameters_for_grid)"
   ]
  },
  {
   "cell_type": "code",
   "execution_count": null,
   "metadata": {},
   "outputs": [],
   "source": [
    "xgb.spatial_cv(data, columns)"
   ]
  },
  {
   "cell_type": "code",
   "execution_count": null,
   "metadata": {},
   "outputs": [],
   "source": [
    "f.save_object(xgb)"
   ]
  },
  {
   "cell_type": "code",
   "execution_count": 58,
   "metadata": {},
   "outputs": [],
   "source": [
    "xgb_test = f.load_object(\"XGB_test_2023_04_17\")"
   ]
  },
  {
   "cell_type": "code",
   "execution_count": 59,
   "metadata": {},
   "outputs": [
    {
     "data": {
      "text/plain": [
       "array([0.11850426, 0.11850426, 0.11850426, ..., 0.12333049, 0.22347761,\n",
       "       0.27816202])"
      ]
     },
     "execution_count": 59,
     "metadata": {},
     "output_type": "execute_result"
    }
   ],
   "source": [
    "xgb_test.final_model.predict(data[xgb_test.columns])"
   ]
  },
  {
   "attachments": {},
   "cell_type": "markdown",
   "metadata": {},
   "source": [
    "#### V3 (linear)"
   ]
  },
  {
   "cell_type": "code",
   "execution_count": 46,
   "metadata": {},
   "outputs": [
    {
     "name": "stderr",
     "output_type": "stream",
     "text": [
      "100%|██████████| 3/3 [00:01<00:00,  1.53it/s]\n"
     ]
    },
    {
     "name": "stdout",
     "output_type": "stream",
     "text": [
      "Not applicable for feature'mw_value'.\n",
      "Not applicable for feature'date'.\n",
      "Not applicable for feature'mw_value_yesterday'.\n"
     ]
    }
   ],
   "source": [
    "from sklearn.linear_model import LinearRegression\n",
    "\n",
    "date_from = '2018-06-13'\n",
    "date_to = '2018-06-15'\n",
    "\n",
    "data = f.import_data(date_from, date_to, df_path)\n",
    "data = f.remove_data(data, removeMaskedClouds = True, removeNoMelt = True) \n",
    "data = f.data_normalization(data, data.columns)\n",
    "\n",
    "columns = ['x', 'y', 'mw_value', 'sum_5', 'mw_value_yesterday'] # 'opt_value', 'date', "
   ]
  },
  {
   "cell_type": "code",
   "execution_count": 47,
   "metadata": {},
   "outputs": [],
   "source": [
    "lr = f.Model(model = LinearRegression, name = 'LR_test_2023_04_17')\n",
    "lr.date_tested = '2023-04-17' # optional\n",
    "lr.columns = columns # optional\n",
    "hyperparameters_for_grid = {'fit_intercept': [True]}\n",
    "lr.hyperparameters = lr.create_hyperparameter_grid(hyperparameters_for_grid)"
   ]
  },
  {
   "cell_type": "code",
   "execution_count": 16,
   "metadata": {},
   "outputs": [
    {
     "data": {
      "text/plain": [
       "[{'fit_intercept': True}]"
      ]
     },
     "execution_count": 16,
     "metadata": {},
     "output_type": "execute_result"
    }
   ],
   "source": [
    "lr.hyperparameters"
   ]
  },
  {
   "cell_type": "code",
   "execution_count": 48,
   "metadata": {},
   "outputs": [],
   "source": [
    "lr.spatial_cv(data, columns)"
   ]
  },
  {
   "cell_type": "code",
   "execution_count": 49,
   "metadata": {},
   "outputs": [],
   "source": [
    "f.save_object(lr)"
   ]
  },
  {
   "cell_type": "code",
   "execution_count": 25,
   "metadata": {},
   "outputs": [],
   "source": [
    "lr = f.load_object(\"LR_test_2023_04_17\")"
   ]
  },
  {
   "cell_type": "code",
   "execution_count": 26,
   "metadata": {},
   "outputs": [],
   "source": [
    "columns = ['x', 'y', 'mw_value', 'sum_5', 'mw_value_yesterday'] # 'opt_value', 'date', "
   ]
  },
  {
   "cell_type": "code",
   "execution_count": 27,
   "metadata": {},
   "outputs": [
    {
     "data": {
      "text/plain": [
       "array([0.29517136, 0.29513615, 0.29587465, ..., 0.3125172 , 0.31247682,\n",
       "       0.31244977])"
      ]
     },
     "execution_count": 27,
     "metadata": {},
     "output_type": "execute_result"
    }
   ],
   "source": [
    "lr.final_model.predict(data[lr.columns])"
   ]
  },
  {
   "attachments": {},
   "cell_type": "markdown",
   "metadata": {},
   "source": [
    "#### V4 (ridge)"
   ]
  },
  {
   "cell_type": "code",
   "execution_count": 19,
   "metadata": {},
   "outputs": [
    {
     "name": "stderr",
     "output_type": "stream",
     "text": [
      "100%|██████████| 9/9 [00:04<00:00,  2.02it/s]\n"
     ]
    },
    {
     "name": "stdout",
     "output_type": "stream",
     "text": [
      "Not applicable for feature'mw_value'.\n",
      "Not applicable for feature'date'.\n",
      "Not applicable for feature'mw_value_yesterday'.\n"
     ]
    }
   ],
   "source": [
    "from sklearn.linear_model import Ridge\n",
    "\n",
    "date_from = '2019-05-02'\n",
    "date_to = '2019-05-10'\n",
    "\n",
    "data = f.import_data(date_from, date_to, df_path)\n",
    "data = f.remove_data(data, removeMaskedClouds = True, removeNoMelt = True) \n",
    "data = f.data_normalization(data, data.columns)\n",
    "\n",
    "columns = ['x', 'y', 'mw_value', 'mw_value_7_day_average', 'hours_of_daylight'] # 'opt_value', 'date', "
   ]
  },
  {
   "cell_type": "code",
   "execution_count": 43,
   "metadata": {},
   "outputs": [],
   "source": [
    "rid = f.Model(model = Ridge, name = 'RID_test_2023_04_17')\n",
    "rid.date_tested = '2023-04-17' # optional\n",
    "rid.columns = columns # optional\n",
    "hyperparameters_for_grid = {'fit_intercept': [True]}\n",
    "rid.hyperparameters = rid.create_hyperparameter_grid(hyperparameters_for_grid)"
   ]
  },
  {
   "cell_type": "code",
   "execution_count": 44,
   "metadata": {},
   "outputs": [
    {
     "name": "stdout",
     "output_type": "stream",
     "text": [
      "CPU times: user 27.8 s, sys: 38.9 s, total: 1min 6s\n",
      "Wall time: 12.3 s\n"
     ]
    }
   ],
   "source": [
    "%%time\n",
    "rr.spatial_cv(data, columns)"
   ]
  },
  {
   "cell_type": "code",
   "execution_count": 45,
   "metadata": {},
   "outputs": [],
   "source": [
    "f.save_object(rid)"
   ]
  },
  {
   "attachments": {},
   "cell_type": "markdown",
   "metadata": {},
   "source": [
    "#### V5 (lasso)"
   ]
  },
  {
   "cell_type": "code",
   "execution_count": 50,
   "metadata": {},
   "outputs": [
    {
     "name": "stderr",
     "output_type": "stream",
     "text": [
      "100%|██████████| 217/217 [00:02<00:00, 81.83it/s] \n"
     ]
    },
    {
     "name": "stdout",
     "output_type": "stream",
     "text": [
      "Not applicable for feature'mw_value'.\n",
      "Not applicable for feature'date'.\n",
      "Not applicable for feature'mw_value_yesterday'.\n"
     ]
    }
   ],
   "source": [
    "from sklearn.linear_model import Lasso\n",
    "\n",
    "date_from = '2017-09-29'\n",
    "date_to = '2018-05-03'\n",
    "\n",
    "data = f.import_data(date_from, date_to, df_path)\n",
    "data = f.remove_data(data, removeMaskedClouds = True, removeNoMelt = True) \n",
    "data = f.data_normalization(data, data.columns)\n",
    "\n",
    "columns = ['x', 'y', 'mw_value', 'elevation_data', \"slope_data\"] # 'opt_value', 'date', "
   ]
  },
  {
   "cell_type": "code",
   "execution_count": 51,
   "metadata": {},
   "outputs": [],
   "source": [
    "las = f.Model(model = Lasso, name = 'LAS_test_2023_04_17')\n",
    "las.date_tested = '2023-04-17' # optional\n",
    "las.columns = columns # optional\n",
    "hyperparameters_for_grid = {'fit_intercept': [True], 'alpha': [0.1]}\n",
    "las.hyperparameters = las.create_hyperparameter_grid(hyperparameters_for_grid)"
   ]
  },
  {
   "cell_type": "code",
   "execution_count": 52,
   "metadata": {},
   "outputs": [],
   "source": [
    "las.spatial_cv(data, columns)"
   ]
  },
  {
   "cell_type": "code",
   "execution_count": 53,
   "metadata": {},
   "outputs": [],
   "source": [
    "f.save_object(las)"
   ]
  },
  {
   "cell_type": "code",
   "execution_count": 54,
   "metadata": {},
   "outputs": [
    {
     "data": {
      "text/plain": [
       "array([0.22977035, 0.22977035, 0.22977035, ..., 0.22977035, 0.22977035,\n",
       "       0.22977035])"
      ]
     },
     "execution_count": 54,
     "metadata": {},
     "output_type": "execute_result"
    }
   ],
   "source": [
    "las.final_model.predict(data[las.columns])"
   ]
  },
  {
   "attachments": {},
   "cell_type": "markdown",
   "metadata": {},
   "source": [
    "#### V6 (elasticnet)"
   ]
  },
  {
   "cell_type": "code",
   "execution_count": 76,
   "metadata": {},
   "outputs": [
    {
     "name": "stderr",
     "output_type": "stream",
     "text": [
      "100%|██████████| 3/3 [00:00<00:00,  3.84it/s]\n"
     ]
    }
   ],
   "source": [
    "from sklearn.linear_model import ElasticNet\n",
    "\n",
    "date_from = '2019-06-10'\n",
    "date_to = '2019-06-12'\n",
    "\n",
    "data = f.import_data(date_from, date_to, df_path)\n",
    "data = f.remove_data(data, removeMaskedClouds = True, removeNoMelt = True) \n",
    "#data = f.data_normalization(data, data.columns)\n",
    "\n",
    "columns = ['x', 'y', 'mw_value', 'aspect_data', \"distance_to_margin\"] # 'opt_value', 'date', "
   ]
  },
  {
   "cell_type": "code",
   "execution_count": 77,
   "metadata": {},
   "outputs": [],
   "source": [
    "elnet = f.Model(model = ElasticNet, name = 'ELNET_test_2023_04_17')\n",
    "elnet.date_tested = '2023-04-17' # optional\n",
    "elnet.columns = columns # optional\n",
    "hyperparameters_for_grid = {'fit_intercept': [True], 'alpha': [0.1]}\n",
    "elnet.hyperparameters = elnet.create_hyperparameter_grid(hyperparameters_for_grid)"
   ]
  },
  {
   "cell_type": "code",
   "execution_count": 78,
   "metadata": {},
   "outputs": [],
   "source": [
    "elnet.spatial_cv(data, columns)"
   ]
  },
  {
   "cell_type": "code",
   "execution_count": 79,
   "metadata": {},
   "outputs": [],
   "source": [
    "f.save_object(elnet)"
   ]
  },
  {
   "cell_type": "code",
   "execution_count": 80,
   "metadata": {},
   "outputs": [
    {
     "data": {
      "text/plain": [
       "array([0.53528759, 0.53648661, 0.53424031, ..., 0.92250891, 0.9256646 ,\n",
       "       0.92413931])"
      ]
     },
     "execution_count": 80,
     "metadata": {},
     "output_type": "execute_result"
    }
   ],
   "source": [
    "elnet.final_model.predict(data[elnet.columns])"
   ]
  },
  {
   "attachments": {},
   "cell_type": "markdown",
   "metadata": {},
   "source": [
    "#### V7 (decision tree)"
   ]
  },
  {
   "cell_type": "code",
   "execution_count": 69,
   "metadata": {},
   "outputs": [
    {
     "name": "stderr",
     "output_type": "stream",
     "text": [
      "100%|██████████| 2/2 [00:01<00:00,  1.50it/s]\n"
     ]
    },
    {
     "name": "stdout",
     "output_type": "stream",
     "text": [
      "Not applicable for feature'mw_value'.\n",
      "Not applicable for feature'date'.\n",
      "Not applicable for feature'mw_value_yesterday'.\n"
     ]
    }
   ],
   "source": [
    "from sklearn.tree import DecisionTreeRegressor\n",
    "\n",
    "date_from = '2019-07-08'\n",
    "date_to = '2019-07-09'\n",
    "\n",
    "data = f.import_data(date_from, date_to, df_path)\n",
    "data = f.remove_data(data, removeMaskedClouds = True, removeNoMelt = True) \n",
    "data = f.data_normalization(data, data.columns)\n",
    "\n",
    "columns = ['x', 'y', 'mw_value', 'sum_5', 'hours_of_daylight', \"slope_data\"] # 'opt_value', 'date', "
   ]
  },
  {
   "cell_type": "code",
   "execution_count": 70,
   "metadata": {},
   "outputs": [],
   "source": [
    "dtr = f.Model(model = DecisionTreeRegressor, name = 'DTR_test_2023_04_17')\n",
    "dtr.date_tested = '2023-04-17' # optional\n",
    "dtr.columns = columns # optional\n",
    "hyperparameters_for_grid = {'max_depth': [10], 'splitter': [\"best\"]}\n",
    "dtr.hyperparameters = dtr.create_hyperparameter_grid(hyperparameters_for_grid)"
   ]
  },
  {
   "cell_type": "code",
   "execution_count": 71,
   "metadata": {},
   "outputs": [],
   "source": [
    "dtr.spatial_cv(data, columns)"
   ]
  },
  {
   "cell_type": "code",
   "execution_count": 72,
   "metadata": {},
   "outputs": [],
   "source": [
    "f.save_object(dtr)"
   ]
  },
  {
   "cell_type": "code",
   "execution_count": 73,
   "metadata": {},
   "outputs": [
    {
     "data": {
      "text/plain": [
       "array([0.47092273, 0.15005733, 0.02539315, ..., 0.00303064, 0.00303064,\n",
       "       0.66024074])"
      ]
     },
     "execution_count": 73,
     "metadata": {},
     "output_type": "execute_result"
    }
   ],
   "source": [
    "dtr.final_model.predict(data[dtr.columns])"
   ]
  },
  {
   "attachments": {},
   "cell_type": "markdown",
   "metadata": {},
   "source": [
    "#### Test/compare saved models:\n"
   ]
  },
  {
   "cell_type": "code",
   "execution_count": null,
   "metadata": {},
   "outputs": [],
   "source": [
    "dt_test = f.load_object()"
   ]
  },
  {
   "cell_type": "code",
   "execution_count": null,
   "metadata": {},
   "outputs": [],
   "source": [
    "dt2.final_model.predict([[55500,700000,1,0.5]])"
   ]
  },
  {
   "cell_type": "code",
   "execution_count": null,
   "metadata": {},
   "outputs": [],
   "source": [
    "# function to get mean and std feature importnace from cv, and plot it? "
   ]
  },
  {
   "cell_type": "code",
   "execution_count": null,
   "metadata": {},
   "outputs": [],
   "source": [
    "# function for model comparison, both plot and table"
   ]
  },
  {
   "cell_type": "code",
   "execution_count": null,
   "metadata": {},
   "outputs": [],
   "source": [
    "# plot feature importance:\n",
    "# can get std for tree but also from cv\n"
   ]
  }
 ],
 "metadata": {
  "kernelspec": {
   "display_name": "Python 3.9.14 ('.venv': poetry)",
   "language": "python",
   "name": "python3"
  },
  "language_info": {
   "codemirror_mode": {
    "name": "ipython",
    "version": 3
   },
   "file_extension": ".py",
   "mimetype": "text/x-python",
   "name": "python",
   "nbconvert_exporter": "python",
   "pygments_lexer": "ipython3",
   "version": "3.11.3"
  },
  "orig_nbformat": 4,
  "vscode": {
   "interpreter": {
    "hash": "c1c6eaedbd5b3fcd114378d998a879d4f50715202363f6507059361ed549ecef"
   }
  }
 },
 "nbformat": 4,
 "nbformat_minor": 2
}
