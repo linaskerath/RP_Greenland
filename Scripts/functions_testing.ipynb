{
 "cells": [
  {
   "attachments": {},
   "cell_type": "markdown",
   "metadata": {},
   "source": [
    "# Functions testing"
   ]
  },
  {
   "attachments": {},
   "cell_type": "markdown",
   "metadata": {},
   "source": [
    "### saving functions, to be updated"
   ]
  },
  {
   "cell_type": "code",
   "execution_count": null,
   "metadata": {},
   "outputs": [],
   "source": [
    "# def save_prediction_tif(X_pred, y_predicted, path_out):\n",
    "#     \"\"\"\n",
    "#     Function to write predictions to .tif.\n",
    "#     Arguments:\n",
    "#         X_pred: data to be predicted on.\n",
    "#         y_predicted: predicted labels in array, or pandas series.\n",
    "#         path_out: path to save .tif file with file name.\n",
    "#     Returns: No return, writes data to path.\n",
    "#     \"\"\"\n",
    "#     # join prediction and coordinates (row, col)\n",
    "#     X_pred[\"prediction\"] = y_predicted\n",
    "\n",
    "#     # original matrix shape:\n",
    "#     nan_matrix = np.full((2663, 1462), np.nan)\n",
    "\n",
    "#     for row in tqdm(X_pred.iterrows()):  # fix progress bar?\n",
    "#         row_index = int(row[1][\"row\"])\n",
    "#         col_index = int(row[1][\"col\"])\n",
    "#         pred_val = row[1][\"prediction\"]\n",
    "#         nan_matrix[row_index][col_index] = pred_val\n",
    "\n",
    "#     # file to take reference metadata from is interpolated transformed file\n",
    "#     path_metadata_reference = r\"../Data/microwave-rs/mw_interpolated/2019-07-01_mw.tif\"\n",
    "\n",
    "#     convert_to_tif(nan_matrix, path_metadata_reference, path_out)\n",
    "\n",
    "#     return\n",
    "\n",
    "\n",
    "# def convert_to_tif(data, path_file_metadata, path_out):\n",
    "#     \"\"\"\n",
    "#     Function to convert data to tif file.\n",
    "#     Arguments:\n",
    "#         data: new file\n",
    "#         path_file_metadata: tif file with metadata matching expected output tif file\n",
    "#         path_out: output tif file destination and name path\n",
    "#     Returns:\n",
    "#         .tif file\n",
    "#     \"\"\"\n",
    "#     with rasterio.open(path_file_metadata) as src:\n",
    "#         kwargs1 = src.meta.copy()\n",
    "\n",
    "#     with rasterio.open(path_out, \"w\", **kwargs1) as dst:\n",
    "#         dst.write_band(1, data)  # numpy array or xarray\n",
    "#     return"
   ]
  },
  {
   "attachments": {},
   "cell_type": "markdown",
   "metadata": {},
   "source": [
    "## Thesis 2023"
   ]
  },
  {
   "cell_type": "code",
   "execution_count": 3,
   "metadata": {},
   "outputs": [],
   "source": [
    "import functions_training_pipeline as f\n",
    "from functions_training_pipeline import Model"
   ]
  },
  {
   "cell_type": "code",
   "execution_count": 16,
   "metadata": {},
   "outputs": [],
   "source": [
    "import pandas as pd\n",
    "# import matplotlib.pyplot as plt\n",
    "pd.options.mode.chained_assignment = None"
   ]
  },
  {
   "attachments": {},
   "cell_type": "markdown",
   "metadata": {},
   "source": [
    "## Test"
   ]
  },
  {
   "cell_type": "code",
   "execution_count": 3,
   "metadata": {},
   "outputs": [
    {
     "name": "stderr",
     "output_type": "stream",
     "text": [
      "100%|██████████| 4/4 [00:04<00:00,  1.06s/it]\n"
     ]
    }
   ],
   "source": [
    "df_path = r\"../Data/combined/dataframe_extended/\"\n",
    "date_from = '2019-07-01'\n",
    "date_to = '2019-07-04'\n",
    "\n",
    "data = f.import_data(date_from, date_to, df_path)\n",
    "data=data[['x', 'y','mw_value', 'opt_value', 'date', 'mean_3']]\n",
    "data = f.remove_data(data, removeMaskedClouds = True, removeNoMelt = True)"
   ]
  },
  {
   "cell_type": "code",
   "execution_count": 17,
   "metadata": {},
   "outputs": [
    {
     "name": "stdout",
     "output_type": "stream",
     "text": [
      "model = <class 'sklearn.tree._classes.DecisionTreeRegressor'>\n",
      "hyperparameters = [{'max_depth': 4, 'min_samples_leaf': 2}, {'max_depth': 4, 'min_samples_leaf': 5}, {'max_depth': 7, 'min_samples_leaf': 2}, {'max_depth': 7, 'min_samples_leaf': 5}]\n",
      "name = DT_test\n"
     ]
    }
   ],
   "source": [
    "dt3 = f.Model(model = DecisionTreeRegressor, name = 'DT_test')\n",
    "# hyperparameter_grid = [{'max_depth': 5, 'min_samples_leaf': 5, 'min_samples_split': 5}]\n",
    "hyperparameters_for_grid = {'max_depth':[4, 7], 'min_samples_leaf':[2, 5]}\n",
    "dt3.hyperparameters = dt2.create_hyperparameter_grid(hyperparameters_for_grid)\n",
    "dt3.get_attributes()"
   ]
  },
  {
   "cell_type": "code",
   "execution_count": null,
   "metadata": {},
   "outputs": [],
   "source": [
    "columns = ['x', 'y','mw_value', 'mean_3']\n",
    "dt3.spatial_cv(data, columns)"
   ]
  },
  {
   "cell_type": "code",
   "execution_count": 93,
   "metadata": {},
   "outputs": [
    {
     "name": "stderr",
     "output_type": "stream",
     "text": [
      "/mnt/c/Users/linas/OneDrive/Documents/ITU/Semester3/RP_Greenland/RP_Greenland/.venv/lib/python3.9/site-packages/sklearn/base.py:439: UserWarning: X does not have valid feature names, but DecisionTreeRegressor was fitted with feature names\n",
      "  warnings.warn(\n"
     ]
    },
    {
     "data": {
      "text/plain": [
       "array([0.37878306])"
      ]
     },
     "execution_count": 93,
     "metadata": {},
     "output_type": "execute_result"
    }
   ],
   "source": [
    "dt2.final_model.predict([[55500,700000,1,0.5]])"
   ]
  },
  {
   "cell_type": "code",
   "execution_count": 9,
   "metadata": {},
   "outputs": [
    {
     "ename": "NameError",
     "evalue": "name 'dt3' is not defined",
     "output_type": "error",
     "traceback": [
      "\u001b[0;31m---------------------------------------------------------------------------\u001b[0m",
      "\u001b[0;31mNameError\u001b[0m                                 Traceback (most recent call last)",
      "\u001b[1;32m/mnt/c/Users/linas/OneDrive/Documents/ITU/Semester3/RP_Greenland/RP_Greenland/Scripts/functions_testing.ipynb Cell 12\u001b[0m in \u001b[0;36m1\n\u001b[0;32m----> <a href='vscode-notebook-cell://wsl%2Bubuntu-20.04/mnt/c/Users/linas/OneDrive/Documents/ITU/Semester3/RP_Greenland/RP_Greenland/Scripts/functions_testing.ipynb#Y133sdnNjb2RlLXJlbW90ZQ%3D%3D?line=0'>1</a>\u001b[0m f\u001b[39m.\u001b[39msave_object(dt3)\n",
      "\u001b[0;31mNameError\u001b[0m: name 'dt3' is not defined"
     ]
    }
   ],
   "source": [
    "f.save_object(dt3)"
   ]
  },
  {
   "cell_type": "code",
   "execution_count": 5,
   "metadata": {},
   "outputs": [],
   "source": [
    "dt_test = f.load_object()"
   ]
  },
  {
   "cell_type": "code",
   "execution_count": null,
   "metadata": {},
   "outputs": [],
   "source": []
  },
  {
   "cell_type": "code",
   "execution_count": null,
   "metadata": {},
   "outputs": [],
   "source": []
  },
  {
   "cell_type": "code",
   "execution_count": null,
   "metadata": {},
   "outputs": [],
   "source": [
    "# function to get mean and std feature importnace from cv, and plot it? "
   ]
  },
  {
   "cell_type": "code",
   "execution_count": null,
   "metadata": {},
   "outputs": [],
   "source": [
    "# function for model comparison, both plot and table"
   ]
  },
  {
   "cell_type": "code",
   "execution_count": null,
   "metadata": {},
   "outputs": [],
   "source": []
  }
 ],
 "metadata": {
  "kernelspec": {
   "display_name": "Python 3.9.14 ('.venv': poetry)",
   "language": "python",
   "name": "python3"
  },
  "language_info": {
   "codemirror_mode": {
    "name": "ipython",
    "version": 3
   },
   "file_extension": ".py",
   "mimetype": "text/x-python",
   "name": "python",
   "nbconvert_exporter": "python",
   "pygments_lexer": "ipython3",
   "version": "3.9.14"
  },
  "orig_nbformat": 4,
  "vscode": {
   "interpreter": {
    "hash": "c1c6eaedbd5b3fcd114378d998a879d4f50715202363f6507059361ed549ecef"
   }
  }
 },
 "nbformat": 4,
 "nbformat_minor": 2
}
