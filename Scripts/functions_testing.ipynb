{
 "cells": [
  {
   "cell_type": "markdown",
   "metadata": {},
   "source": [
    "Function file to import functions from"
   ]
  },
  {
   "cell_type": "code",
   "execution_count": null,
   "metadata": {},
   "outputs": [],
   "source": [
    "import xarray \n",
    "import pandas as pd\n",
    "import numpy as np\n",
    "from sklearn.metrics import mean_squared_error\n"
   ]
  },
  {
   "cell_type": "code",
   "execution_count": null,
   "metadata": {},
   "outputs": [],
   "source": [
    "def write_to_tif(data):\n",
    "    \"\"\"\n",
    "    Function to convert data to tif file.\n",
    "    Arguments:\n",
    "        data:\n",
    "    Returns:\n",
    "        tif file\n",
    "    \"\"\"\n",
    "    #if type data\n",
    "    return"
   ]
  },
  {
   "cell_type": "code",
   "execution_count": null,
   "metadata": {},
   "outputs": [],
   "source": [
    "def read_and_prep_parquet(path, purpose):\n",
    "    \"\"\"\n",
    "    Function to read parquet and prepare as train or test data.\n",
    "    Arguments:\n",
    "        path: path to file.\n",
    "        purpose: {'train', 'test', 'validate', 'predict'} purpose of file.\n",
    "    Returns: train/test dataset and label array (specify output datatype!)\n",
    "    \"\"\"\n",
    "    valid = {'train', 'test', 'validate', 'predict'}\n",
    "    if purpose not in valid:\n",
    "        raise ValueError(\"Purpose must be one of %r.\" % valid)\n",
    "\n",
    "    df = pd.read_parquet(path)\n",
    "    if purpose in ['train', 'test', 'validate']:\n",
    "        df = df.loc[df['opt_value'] != -1] # remove mask\n",
    "        df = df.fillna(-1) # fill values to be able to train\n",
    "        X = df[['x', 'y', 'mw_value', 'col', 'row', 'v1', 'v2', 'v3', 'v4', 'v6', 'v7', 'v8', 'v9', 'mean']] # v5 is duplicated\n",
    "        y = df[['opt_value']]\n",
    "        return X, y\n",
    "    else:\n",
    "        df = df.fillna(-1) # fill values to be able to train\n",
    "        X = df[['x', 'y', 'mw_value', 'col', 'row', 'v1', 'v2', 'v3', 'v4', 'v6', 'v7', 'v8', 'v9', 'mean']] # v5 is duplicated\n",
    "        return X"
   ]
  },
  {
   "cell_type": "code",
   "execution_count": null,
   "metadata": {},
   "outputs": [],
   "source": [
    "def get_rmse(y_real, y_predicted):\n",
    "    return np.sqrt(mean_squared_error(y_real, y_predicted))\n"
   ]
  }
 ],
 "metadata": {
  "kernelspec": {
   "display_name": "Python 3.9.14 ('.venv': poetry)",
   "language": "python",
   "name": "python3"
  },
  "language_info": {
   "name": "python",
   "version": "3.9.14"
  },
  "orig_nbformat": 4,
  "vscode": {
   "interpreter": {
    "hash": "c1c6eaedbd5b3fcd114378d998a879d4f50715202363f6507059361ed549ecef"
   }
  }
 },
 "nbformat": 4,
 "nbformat_minor": 2
}
